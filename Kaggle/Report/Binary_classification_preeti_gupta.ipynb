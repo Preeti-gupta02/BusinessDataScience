{
  "nbformat": 4,
  "nbformat_minor": 0,
  "metadata": {
    "accelerator": "GPU",
    "colab": {
      "name": "Binary_classification_preeti_gupta.ipynb",
      "provenance": [],
      "collapsed_sections": []
    },
    "kernelspec": {
      "display_name": "Python 3",
      "name": "python3"
    },
    "language_info": {
      "name": "python"
    }
  },
  "cells": [
    {
      "cell_type": "code",
      "metadata": {
        "id": "C5MJtamFn_A_"
      },
      "source": [
        "import pandas as pd\n",
        "import numpy as np"
      ],
      "execution_count": 64,
      "outputs": []
    },
    {
      "cell_type": "code",
      "metadata": {
        "id": "mVFGow1Ko5Ck"
      },
      "source": [
        "train_final = pd.read_csv('train_final.csv')  \n",
        "test_final = pd.read_csv('test_final.csv')  \n",
        "test_label_file = pd.read_csv('predictions.csv') \n",
        "test_final['Y'] = test_label_file['Y']\n",
        "\n"
      ],
      "execution_count": 65,
      "outputs": []
    },
    {
      "cell_type": "markdown",
      "metadata": {
        "id": "DWiDbJrfbedi"
      },
      "source": [
        "I used pseudo labeling to further enhance the score of the model. I tried two type of pseudo labeling\n",
        "\n",
        "1. one where I used the entire test predictions by converting predictions above or equal to 0.5 as 1 and the ones below 0.5 as 0.\n",
        "2. Confident predictions only : Second type of pseudo labeling took into account the confidence of the model predictions. I used only the predictions where the model was very confident . for this I used only the prediction rows where the model was\n",
        "Either 70% or more sure that the data point belongs to category 1\n",
        "Or 30% or lesser sure that the data point belongs to category 0 (this can be interpreted as 70% or more confident that the data point belongs to class 0)\n",
        "\n",
        "Keeping the confident predictions only further enhanced the AUC value.\n"
      ]
    },
    {
      "cell_type": "code",
      "metadata": {
        "colab": {
          "base_uri": "https://localhost:8080/"
        },
        "id": "hgWwJmmNbi5Y",
        "outputId": "d9c8a5ff-13b9-4d9d-cd41-9968c6eabdf0"
      },
      "source": [
        "indexNames = test_final[(test_final['Y']>0.3) & (test_final['Y']<0.7)].index\n",
        "#test_final.drop(indexNames, inplace=True)\n",
        "test_label = test_final['Y']\n",
        "test_label[test_label>=0.5] = int(1)\n",
        "test_label[test_label<0.5] = int(0)\n",
        "test_final['Y'] = test_label\n",
        "# Delete these row indexes from dataFrame\n",
        "indexNames.shape"
      ],
      "execution_count": 66,
      "outputs": [
        {
          "output_type": "stream",
          "name": "stderr",
          "text": [
            "/usr/local/lib/python3.7/dist-packages/ipykernel_launcher.py:4: SettingWithCopyWarning: \n",
            "A value is trying to be set on a copy of a slice from a DataFrame\n",
            "\n",
            "See the caveats in the documentation: https://pandas.pydata.org/pandas-docs/stable/user_guide/indexing.html#returning-a-view-versus-a-copy\n",
            "  after removing the cwd from sys.path.\n",
            "/usr/local/lib/python3.7/dist-packages/ipykernel_launcher.py:5: SettingWithCopyWarning: \n",
            "A value is trying to be set on a copy of a slice from a DataFrame\n",
            "\n",
            "See the caveats in the documentation: https://pandas.pydata.org/pandas-docs/stable/user_guide/indexing.html#returning-a-view-versus-a-copy\n",
            "  \"\"\"\n"
          ]
        },
        {
          "output_type": "execute_result",
          "data": {
            "text/plain": [
              "(110,)"
            ]
          },
          "metadata": {},
          "execution_count": 66
        }
      ]
    },
    {
      "cell_type": "code",
      "metadata": {
        "colab": {
          "base_uri": "https://localhost:8080/"
        },
        "id": "Dz86Hrgj43jy",
        "outputId": "a9b9b0a2-3071-4a63-d659-6ce84df500c5"
      },
      "source": [
        "indexNames.shape"
      ],
      "execution_count": null,
      "outputs": [
        {
          "output_type": "execute_result",
          "data": {
            "text/plain": [
              "(110,)"
            ]
          },
          "metadata": {},
          "execution_count": 6
        }
      ]
    },
    {
      "cell_type": "markdown",
      "metadata": {
        "id": "_sx4IQ4GbAsG"
      },
      "source": [
        "EDA : Feature f13 and f19 have alinear relationship, they have same value for most of the points. This gave me intuituion that probably only one of them is actually the correct feture and the other one is probably a polluted verion of the correct feature.\n",
        "\n",
        "*This made me experiment with the model by training only with one of the two features at a time (this did not improve the AUC value, so the intuition might be wrong.) *"
      ]
    },
    {
      "cell_type": "code",
      "metadata": {
        "colab": {
          "base_uri": "https://localhost:8080/",
          "height": 282
        },
        "id": "m_downE2bIpU",
        "outputId": "cdb74b70-c6b1-48b0-9569-dd02d2ba96d8"
      },
      "source": [
        "# EDA\n",
        "import matplotlib.pyplot as plt\n",
        "plt.scatter(train_final['f19'], train_final['f13'])"
      ],
      "execution_count": 67,
      "outputs": [
        {
          "output_type": "execute_result",
          "data": {
            "text/plain": [
              "<matplotlib.collections.PathCollection at 0x7f1826aa2b10>"
            ]
          },
          "metadata": {},
          "execution_count": 67
        },
        {
          "output_type": "display_data",
          "data": {
            "image/png": "[encoded data removed]",
            "text/plain": [
              "<Figure size 432x288 with 1 Axes>"
            ]
          },
          "metadata": {
            "needs_background": "light"
          }
        }
      ]
    },
    {
      "cell_type": "code",
      "metadata": {
        "colab": {
          "base_uri": "https://localhost:8080/",
          "height": 1000
        },
        "id": "H75hKC-3bUg9",
        "outputId": "a266afd7-7408-404e-f824-ccba60449120"
      },
      "source": [
        "import matplotlib.pyplot as plt\n",
        "\n",
        "def describe_df(df, key):\n",
        "\n",
        "  print(df[key].describe())\n",
        "  print(df[key].value_counts())\n",
        "  plt.hist(df[key])\n",
        "  plt.show()\n",
        "\n",
        "  \n",
        "for key in train_final.columns:\n",
        "  describe_df(train_final, key)\n",
        "for key in test_final.columns:\n",
        "  describe_df(test_final, key)  "
      ],
      "execution_count": 68,
      "outputs": [
        {
          "output_type": "stream",
          "name": "stdout",
          "text": [
            "count    16383.000000\n",
            "mean      8192.000000\n",
            "std       4729.509065\n",
            "min          1.000000\n",
            "25%       4096.500000\n",
            "50%       8192.000000\n",
            "75%      12287.500000\n",
            "max      16383.000000\n",
            "Name: Id, dtype: float64\n",
            "2047     1\n",
            "10912    1\n",
            "693      1\n",
            "2740     1\n",
            "12979    1\n",
            "        ..\n",
            "15693    1\n",
            "13644    1\n",
            "3403     1\n",
            "1354     1\n",
            "2049     1\n",
            "Name: Id, Length: 16383, dtype: int64\n"
          ]
        },
        {
          "output_type": "display_data",
          "data": {
            "image/png": "[encoded data removed]",
            "text/plain": [
              "<Figure size 432x288 with 1 Axes>"
            ]
          },
          "metadata": {
            "needs_background": "light"
          }
        },
        {
          "output_type": "stream",
          "name": "stdout",
          "text": [
            "count    16383.000000\n",
            "mean         0.942135\n",
            "std          0.233495\n",
            "min          0.000000\n",
            "25%          1.000000\n",
            "50%          1.000000\n",
            "75%          1.000000\n",
            "max          1.000000\n",
            "Name: Y, dtype: float64\n",
            "1    15435\n",
            "0      948\n",
            "Name: Y, dtype: int64\n"
          ]
        },
        {
          "output_type": "display_data",
          "data": {
            "image/png": "[encoded data removed]",
            "text/plain": [
              "<Figure size 432x288 with 1 Axes>"
            ]
          },
          "metadata": {
            "needs_background": "light"
          }
        },
        {
          "output_type": "stream",
          "name": "stdout",
          "text": [
            "count     16383.000000\n",
            "mean      43007.775865\n",
            "std       33611.182771\n",
            "min          -1.000000\n",
            "25%       20311.000000\n",
            "50%       35527.000000\n",
            "75%       74240.500000\n",
            "max      312152.000000\n",
            "Name: f1, dtype: float64\n",
            "4674      431\n",
            "79091     240\n",
            "75077     205\n",
            "25992     199\n",
            "3852      184\n",
            "         ... \n",
            "103510      1\n",
            "74832       1\n",
            "27721       1\n",
            "1092        1\n",
            "6155        1\n",
            "Name: f1, Length: 5170, dtype: int64\n"
          ]
        },
        {
          "output_type": "display_data",
          "data": {
            "image/png": "[encoded data removed]",
            "text/plain": [
              "<Figure size 432x288 with 1 Axes>"
            ]
          },
          "metadata": {
            "needs_background": "light"
          }
        },
        {
          "output_type": "stream",
          "name": "stdout",
          "text": [
            "count    16383.000000\n",
            "mean         1.044375\n",
            "std          0.264806\n",
            "min          1.000000\n",
            "25%          1.000000\n",
            "50%          1.000000\n",
            "75%          1.000000\n",
            "max          7.000000\n",
            "Name: f2, dtype: float64\n",
            "1    15807\n",
            "2      479\n",
            "3       60\n",
            "4       24\n",
            "5       10\n",
            "6        2\n",
            "7        1\n",
            "Name: f2, dtype: int64\n"
          ]
        },
        {
          "output_type": "display_data",
          "data": {
            "image/png": "[encoded data removed]",
            "text/plain": [
              "<Figure size 432x288 with 1 Axes>"
            ]
          },
          "metadata": {
            "needs_background": "light"
          }
        },
        {
          "output_type": "stream",
          "name": "stdout",
          "text": [
            "count    16383.000000\n",
            "mean        11.770938\n",
            "std        353.187115\n",
            "min          1.770000\n",
            "25%          1.770000\n",
            "50%          1.770000\n",
            "75%          3.540000\n",
            "max      43910.160000\n",
            "Name: f3, dtype: float64\n",
            "1.77       10031\n",
            "3.54        2466\n",
            "5.31        1053\n",
            "7.08         596\n",
            "8.85         411\n",
            "           ...  \n",
            "1007.13        1\n",
            "297.36         1\n",
            "228.33         1\n",
            "283.20         1\n",
            "479.67         1\n",
            "Name: f3, Length: 168, dtype: int64\n"
          ]
        },
        {
          "output_type": "display_data",
          "data": {
            "image/png": "[encoded data removed]",
            "text/plain": [
              "<Figure size 432x288 with 1 Axes>"
            ]
          },
          "metadata": {
            "needs_background": "light"
          }
        },
        {
          "output_type": "stream",
          "name": "stdout",
          "text": [
            "count     16383.000000\n",
            "mean     118323.581456\n",
            "std        4518.059755\n",
            "min       23779.000000\n",
            "25%      118096.000000\n",
            "50%      118300.000000\n",
            "75%      118386.000000\n",
            "max      286791.000000\n",
            "Name: f4, dtype: float64\n",
            "118300    2213\n",
            "118343    2002\n",
            "118327    1329\n",
            "118225    1282\n",
            "118386     895\n",
            "          ... \n",
            "121602       1\n",
            "123999       1\n",
            "286791       1\n",
            "185842       1\n",
            "143009       1\n",
            "Name: f4, Length: 162, dtype: int64\n"
          ]
        },
        {
          "output_type": "display_data",
          "data": {
            "image/png": "[encoded data removed]",
            "text/plain": [
              "<Figure size 432x288 with 1 Axes>"
            ]
          },
          "metadata": {
            "needs_background": "light"
          }
        },
        {
          "output_type": "stream",
          "name": "stdout",
          "text": [
            "count    16383.000000\n",
            "mean         1.044436\n",
            "std          0.265601\n",
            "min          1.000000\n",
            "25%          1.000000\n",
            "50%          1.000000\n",
            "75%          1.000000\n",
            "max          9.000000\n",
            "Name: f5, dtype: float64\n",
            "1    15795\n",
            "2      499\n",
            "3       60\n",
            "4       16\n",
            "5        9\n",
            "7        2\n",
            "6        1\n",
            "9        1\n",
            "Name: f5, dtype: int64\n"
          ]
        },
        {
          "output_type": "display_data",
          "data": {
            "image/png": "[encoded data removed]",
            "text/plain": [
              "<Figure size 432x288 with 1 Axes>"
            ]
          },
          "metadata": {
            "needs_background": "light"
          }
        },
        {
          "output_type": "stream",
          "name": "stdout",
          "text": [
            "count    16383.000000\n",
            "mean         0.050052\n",
            "std          0.293892\n",
            "min          0.000000\n",
            "25%          0.000000\n",
            "50%          0.000000\n",
            "75%          0.000000\n",
            "max         10.000000\n",
            "Name: f6, dtype: float64\n",
            "0     15745\n",
            "1       522\n",
            "2        80\n",
            "3        24\n",
            "5         6\n",
            "4         3\n",
            "6         1\n",
            "10        1\n",
            "8         1\n",
            "Name: f6, dtype: int64\n"
          ]
        },
        {
          "output_type": "display_data",
          "data": {
            "image/png": "[encoded data removed]",
            "text/plain": [
              "<Figure size 432x288 with 1 Axes>"
            ]
          },
          "metadata": {
            "needs_background": "light"
          }
        },
        {
          "output_type": "stream",
          "name": "stdout",
          "text": [
            "count     16383.000000\n",
            "mean     117089.674113\n",
            "std       10261.292970\n",
            "min        4292.000000\n",
            "25%      117961.000000\n",
            "50%      117961.000000\n",
            "75%      117961.000000\n",
            "max      311178.000000\n",
            "Name: f7, dtype: float64\n",
            "117961    10756\n",
            "117902      368\n",
            "91261       358\n",
            "118315      254\n",
            "119062      195\n",
            "          ...  \n",
            "209434        1\n",
            "143008        1\n",
            "192441        1\n",
            "119615        1\n",
            "127616        1\n",
            "Name: f7, Length: 118, dtype: int64\n"
          ]
        },
        {
          "output_type": "display_data",
          "data": {
            "image/png": "[encoded data removed]",
            "text/plain": [
              "<Figure size 432x288 with 1 Axes>"
            ]
          },
          "metadata": {
            "needs_background": "light"
          }
        },
        {
          "output_type": "stream",
          "name": "stdout",
          "text": [
            "count     16383.000000\n",
            "mean     169730.178600\n",
            "std       69396.677853\n",
            "min        4673.000000\n",
            "25%      117906.000000\n",
            "50%      128130.000000\n",
            "75%      234498.500000\n",
            "max      311867.000000\n",
            "Name: f8, dtype: float64\n",
            "117906    3509\n",
            "240983     618\n",
            "279443     332\n",
            "117913     329\n",
            "117886     287\n",
            "          ... \n",
            "308168       1\n",
            "123850       1\n",
            "155386       1\n",
            "188138       1\n",
            "235305       1\n",
            "Name: f8, Length: 1851, dtype: int64\n"
          ]
        },
        {
          "output_type": "display_data",
          "data": {
            "image/png": "[encoded data removed]",
            "text/plain": [
              "<Figure size 432x288 with 1 Axes>"
            ]
          },
          "metadata": {
            "needs_background": "light"
          }
        },
        {
          "output_type": "stream",
          "name": "stdout",
          "text": [
            "count    16383.000000\n",
            "mean         1.041812\n",
            "std          0.258226\n",
            "min          1.000000\n",
            "25%          1.000000\n",
            "50%          1.000000\n",
            "75%          1.000000\n",
            "max         11.000000\n",
            "Name: f9, dtype: float64\n",
            "1     15839\n",
            "2       441\n",
            "3        80\n",
            "4        16\n",
            "5         5\n",
            "7         1\n",
            "11        1\n",
            "Name: f9, dtype: int64\n"
          ]
        },
        {
          "output_type": "display_data",
          "data": {
            "image/png": "[encoded data removed]",
            "text/plain": [
              "<Figure size 432x288 with 1 Axes>"
            ]
          },
          "metadata": {
            "needs_background": "light"
          }
        },
        {
          "output_type": "stream",
          "name": "stdout",
          "text": [
            "count    16383.000000\n",
            "mean         4.976317\n",
            "std         65.629620\n",
            "min          0.000000\n",
            "25%          0.000000\n",
            "50%          0.000000\n",
            "75%          1.000000\n",
            "max       5036.000000\n",
            "Name: f10, dtype: float64\n",
            "0      9965\n",
            "1      2479\n",
            "2      1089\n",
            "3       625\n",
            "4       381\n",
            "       ... \n",
            "412       1\n",
            "420       1\n",
            "500       1\n",
            "524       1\n",
            "363       1\n",
            "Name: f10, Length: 182, dtype: int64\n"
          ]
        },
        {
          "output_type": "display_data",
          "data": {
            "image/png": "[encoded data removed]",
            "text/plain": [
              "<Figure size 432x288 with 1 Axes>"
            ]
          },
          "metadata": {
            "needs_background": "light"
          }
        },
        {
          "output_type": "stream",
          "name": "stdout",
          "text": [
            "count    16383.000000\n",
            "mean         1.042483\n",
            "std          0.254664\n",
            "min          1.000000\n",
            "25%          1.000000\n",
            "50%          1.000000\n",
            "75%          1.000000\n",
            "max          8.000000\n",
            "Name: f11, dtype: float64\n",
            "1    15816\n",
            "2      483\n",
            "3       54\n",
            "4       21\n",
            "5        5\n",
            "6        3\n",
            "8        1\n",
            "Name: f11, dtype: int64\n"
          ]
        },
        {
          "output_type": "display_data",
          "data": {
            "image/png": "[encoded data removed]",
            "text/plain": [
              "<Figure size 432x288 with 1 Axes>"
            ]
          },
          "metadata": {
            "needs_background": "light"
          }
        },
        {
          "output_type": "stream",
          "name": "stdout",
          "text": [
            "count    16383.000000\n",
            "mean         6.378380\n",
            "std        108.216528\n",
            "min          1.000000\n",
            "25%          1.000000\n",
            "50%          1.000000\n",
            "75%          2.000000\n",
            "max      10076.000000\n",
            "Name: f12, dtype: float64\n",
            "1      10038\n",
            "2       2496\n",
            "3       1095\n",
            "4        654\n",
            "5        390\n",
            "       ...  \n",
            "92         1\n",
            "116        1\n",
            "124        1\n",
            "156        1\n",
            "179        1\n",
            "Name: f12, Length: 157, dtype: int64\n"
          ]
        },
        {
          "output_type": "display_data",
          "data": {
            "image/png": "[encoded data removed]",
            "text/plain": [
              "<Figure size 432x288 with 1 Axes>"
            ]
          },
          "metadata": {
            "needs_background": "light"
          }
        },
        {
          "output_type": "stream",
          "name": "stdout",
          "text": [
            "count     16383.000000\n",
            "mean     119774.307941\n",
            "std        5609.093416\n",
            "min      117880.000000\n",
            "25%      118232.000000\n",
            "50%      118565.000000\n",
            "75%      119348.000000\n",
            "max      270691.000000\n",
            "Name: f13, dtype: float64\n",
            "118322    2364\n",
            "117908    1791\n",
            "118786     912\n",
            "117880     636\n",
            "118570     524\n",
            "          ... \n",
            "132585       1\n",
            "153895       1\n",
            "270691       1\n",
            "119817       1\n",
            "157301       1\n",
            "Name: f13, Length: 322, dtype: int64\n"
          ]
        },
        {
          "output_type": "display_data",
          "data": {
            "image/png": "[encoded data removed]",
            "text/plain": [
              "<Figure size 432x288 with 1 Axes>"
            ]
          },
          "metadata": {
            "needs_background": "light"
          }
        },
        {
          "output_type": "stream",
          "name": "stdout",
          "text": [
            "count    16383.000000\n",
            "mean         0.293940\n",
            "std          1.728999\n",
            "min         -7.446045\n",
            "25%         -0.704562\n",
            "50%          1.000000\n",
            "75%          1.000000\n",
            "max          7.398682\n",
            "Name: f14, dtype: float64\n",
            " 1.000000    4741\n",
            " 0.000000     295\n",
            "-2.247706       1\n",
            "-0.029884       1\n",
            "-0.050286       1\n",
            "             ... \n",
            "-0.311908       1\n",
            " 3.383083       1\n",
            " 0.364152       1\n",
            "-1.061774       1\n",
            "-1.597424       1\n",
            "Name: f14, Length: 11349, dtype: int64\n"
          ]
        },
        {
          "output_type": "display_data",
          "data": {
            "image/png": "[encoded data removed]",
            "text/plain": [
              "<Figure size 432x288 with 1 Axes>"
            ]
          },
          "metadata": {
            "needs_background": "light"
          }
        },
        {
          "output_type": "stream",
          "name": "stdout",
          "text": [
            "count     16383.000000\n",
            "mean      25894.316914\n",
            "std       36086.993946\n",
            "min          25.000000\n",
            "25%        4554.000000\n",
            "50%       13234.000000\n",
            "75%       38902.000000\n",
            "max      311696.000000\n",
            "Name: f15, dtype: float64\n",
            "770      75\n",
            "2270     47\n",
            "2594     45\n",
            "1350     36\n",
            "7807     36\n",
            "         ..\n",
            "71169     1\n",
            "28057     1\n",
            "5665      1\n",
            "17979     1\n",
            "2049      1\n",
            "Name: f15, Length: 3555, dtype: int64\n"
          ]
        },
        {
          "output_type": "display_data",
          "data": {
            "image/png": "[encoded data removed]",
            "text/plain": [
              "<Figure size 432x288 with 1 Axes>"
            ]
          },
          "metadata": {
            "needs_background": "light"
          }
        },
        {
          "output_type": "stream",
          "name": "stdout",
          "text": [
            "count     16383.000000\n",
            "mean     119045.099005\n",
            "std       18321.987129\n",
            "min        4674.000000\n",
            "25%      118395.000000\n",
            "50%      118929.000000\n",
            "75%      120539.000000\n",
            "max      286792.000000\n",
            "Name: f16, dtype: float64\n",
            "117878    583\n",
            "117941    415\n",
            "118514    316\n",
            "117945    313\n",
            "119598    280\n",
            "         ... \n",
            "128350      1\n",
            "129578      1\n",
            "121574      1\n",
            "122070      1\n",
            "126574      1\n",
            "Name: f16, Length: 432, dtype: int64\n"
          ]
        },
        {
          "output_type": "display_data",
          "data": {
            "image/png": "[encoded data removed]",
            "text/plain": [
              "<Figure size 432x288 with 1 Axes>"
            ]
          },
          "metadata": {
            "needs_background": "light"
          }
        },
        {
          "output_type": "stream",
          "name": "stdout",
          "text": [
            "count     16383.000000\n",
            "mean     184622.040835\n",
            "std      100590.811845\n",
            "min        3130.000000\n",
            "25%      118398.000000\n",
            "50%      119095.000000\n",
            "75%      290919.000000\n",
            "max      308574.000000\n",
            "Name: f17, dtype: float64\n",
            "290919    5561\n",
            "118424    1373\n",
            "19721     1328\n",
            "117887    1163\n",
            "292795     644\n",
            "          ... \n",
            "132725       2\n",
            "149353       1\n",
            "123611       1\n",
            "159679       1\n",
            "143398       1\n",
            "Name: f17, Length: 67, dtype: int64\n"
          ]
        },
        {
          "output_type": "display_data",
          "data": {
            "image/png": "[encoded data removed]",
            "text/plain": [
              "<Figure size 432x288 with 1 Axes>"
            ]
          },
          "metadata": {
            "needs_background": "light"
          }
        },
        {
          "output_type": "stream",
          "name": "stdout",
          "text": [
            "count    16383.000000\n",
            "mean         1.047305\n",
            "std          0.306239\n",
            "min          1.000000\n",
            "25%          1.000000\n",
            "50%          1.000000\n",
            "75%          1.000000\n",
            "max         18.000000\n",
            "Name: f18, dtype: float64\n",
            "1     15778\n",
            "2       505\n",
            "3        68\n",
            "4        20\n",
            "5         5\n",
            "6         3\n",
            "7         2\n",
            "11        1\n",
            "18        1\n",
            "Name: f18, dtype: int64\n"
          ]
        },
        {
          "output_type": "display_data",
          "data": {
            "image/png": "[encoded data removed]",
            "text/plain": [
              "<Figure size 432x288 with 1 Axes>"
            ]
          },
          "metadata": {
            "needs_background": "light"
          }
        },
        {
          "output_type": "stream",
          "name": "stdout",
          "text": [
            "count     16383.000000\n",
            "mean     125959.667765\n",
            "std       31091.344158\n",
            "min      117879.000000\n",
            "25%      118274.000000\n",
            "50%      118568.000000\n",
            "75%      120006.000000\n",
            "max      311867.000000\n",
            "Name: f19, dtype: float64\n",
            "118321    2364\n",
            "117905    1791\n",
            "118784     912\n",
            "117879     636\n",
            "118568     524\n",
            "          ... \n",
            "130060       1\n",
            "159677       1\n",
            "208126       1\n",
            "123609       1\n",
            "157359       1\n",
            "Name: f19, Length: 322, dtype: int64\n"
          ]
        },
        {
          "output_type": "display_data",
          "data": {
            "image/png": "[encoded data removed]",
            "text/plain": [
              "<Figure size 432x288 with 1 Axes>"
            ]
          },
          "metadata": {
            "needs_background": "light"
          }
        },
        {
          "output_type": "stream",
          "name": "stdout",
          "text": [
            "count    16383.000000\n",
            "mean         1.044558\n",
            "std          0.262576\n",
            "min          1.000000\n",
            "25%          1.000000\n",
            "50%          1.000000\n",
            "75%          1.000000\n",
            "max          8.000000\n",
            "Name: f20, dtype: float64\n",
            "1    15801\n",
            "2      477\n",
            "3       78\n",
            "4       16\n",
            "5        9\n",
            "7        1\n",
            "8        1\n",
            "Name: f20, dtype: int64\n"
          ]
        },
        {
          "output_type": "display_data",
          "data": {
            "image/png": "[encoded data removed]",
            "text/plain": [
              "<Figure size 432x288 with 1 Axes>"
            ]
          },
          "metadata": {
            "needs_background": "light"
          }
        },
        {
          "output_type": "stream",
          "name": "stdout",
          "text": [
            "count    16383.000000\n",
            "mean         1.045718\n",
            "std          0.266874\n",
            "min          1.000000\n",
            "25%          1.000000\n",
            "50%          1.000000\n",
            "75%          1.000000\n",
            "max          8.000000\n",
            "Name: f21, dtype: float64\n",
            "1    15775\n",
            "2      516\n",
            "3       65\n",
            "4       14\n",
            "5        8\n",
            "7        2\n",
            "6        2\n",
            "8        1\n",
            "Name: f21, dtype: int64\n"
          ]
        },
        {
          "output_type": "display_data",
          "data": {
            "image/png": "[encoded data removed]",
            "text/plain": [
              "<Figure size 432x288 with 1 Axes>"
            ]
          },
          "metadata": {
            "needs_background": "light"
          }
        },
        {
          "output_type": "stream",
          "name": "stdout",
          "text": [
            "count    16383.000000\n",
            "mean         1.041934\n",
            "std          0.246597\n",
            "min          1.000000\n",
            "25%          1.000000\n",
            "50%          1.000000\n",
            "75%          1.000000\n",
            "max          7.000000\n",
            "Name: f22, dtype: float64\n",
            "1    15816\n",
            "2      483\n",
            "3       57\n",
            "4       21\n",
            "5        4\n",
            "7        1\n",
            "6        1\n",
            "Name: f22, dtype: int64\n"
          ]
        },
        {
          "output_type": "display_data",
          "data": {
            "image/png": "[encoded data removed]",
            "text/plain": [
              "<Figure size 432x288 with 1 Axes>"
            ]
          },
          "metadata": {
            "needs_background": "light"
          }
        },
        {
          "output_type": "stream",
          "name": "stdout",
          "text": [
            "count    1.638300e+04\n",
            "mean     3.271890e+04\n",
            "std      3.184929e+06\n",
            "min      1.000000e+00\n",
            "25%      1.000000e+00\n",
            "50%      2.000000e+00\n",
            "75%      9.000000e+00\n",
            "max      4.042886e+08\n",
            "Name: f23, dtype: float64\n",
            "1        6394\n",
            "2        2225\n",
            "3        1195\n",
            "4         818\n",
            "5         558\n",
            "         ... \n",
            "2973        1\n",
            "11161       1\n",
            "892         1\n",
            "868         1\n",
            "1975        1\n",
            "Name: f23, Length: 906, dtype: int64\n"
          ]
        },
        {
          "output_type": "display_data",
          "data": {
            "image/png": "[encoded data removed]",
            "text/plain": [
              "<Figure size 432x288 with 1 Axes>"
            ]
          },
          "metadata": {
            "needs_background": "light"
          }
        },
        {
          "output_type": "stream",
          "name": "stdout",
          "text": [
            "count    16383.000000\n",
            "mean         1.043948\n",
            "std          0.259640\n",
            "min          1.000000\n",
            "25%          1.000000\n",
            "50%          1.000000\n",
            "75%          1.000000\n",
            "max          8.000000\n",
            "Name: f24, dtype: float64\n",
            "1    15798\n",
            "2      497\n",
            "3       59\n",
            "4       16\n",
            "5       10\n",
            "6        2\n",
            "8        1\n",
            "Name: f24, dtype: int64\n"
          ]
        },
        {
          "output_type": "display_data",
          "data": {
            "image/png": "[encoded data removed]",
            "text/plain": [
              "<Figure size 432x288 with 1 Axes>"
            ]
          },
          "metadata": {
            "needs_background": "light"
          }
        },
        {
          "output_type": "stream",
          "name": "stdout",
          "text": [
            "count    16385.000000\n",
            "mean     24576.000000\n",
            "std       4730.086416\n",
            "min      16384.000000\n",
            "25%      20480.000000\n",
            "50%      24576.000000\n",
            "75%      28672.000000\n",
            "max      32768.000000\n",
            "Name: Id, dtype: float64\n",
            "18423    1\n",
            "20478    1\n",
            "19132    1\n",
            "29371    1\n",
            "31418    1\n",
            "        ..\n",
            "30020    1\n",
            "19779    1\n",
            "17730    1\n",
            "23873    1\n",
            "32768    1\n",
            "Name: Id, Length: 16385, dtype: int64\n"
          ]
        },
        {
          "output_type": "display_data",
          "data": {
            "image/png": "[encoded data removed]",
            "text/plain": [
              "<Figure size 432x288 with 1 Axes>"
            ]
          },
          "metadata": {
            "needs_background": "light"
          }
        },
        {
          "output_type": "stream",
          "name": "stdout",
          "text": [
            "count     16385.000000\n",
            "mean      42838.465487\n",
            "std       34729.227527\n",
            "min          -1.000000\n",
            "25%       20298.000000\n",
            "50%       35016.000000\n",
            "75%       74105.000000\n",
            "max      312152.000000\n",
            "Name: f1, dtype: float64\n",
            "4674      408\n",
            "79091     244\n",
            "3852      220\n",
            "25992     210\n",
            "75077     204\n",
            "         ... \n",
            "113571      1\n",
            "3703        1\n",
            "40549       1\n",
            "43769       1\n",
            "94194       1\n",
            "Name: f1, Length: 5141, dtype: int64\n"
          ]
        },
        {
          "output_type": "display_data",
          "data": {
            "image/png": "[encoded data removed]",
            "text/plain": [
              "<Figure size 432x288 with 1 Axes>"
            ]
          },
          "metadata": {
            "needs_background": "light"
          }
        },
        {
          "output_type": "stream",
          "name": "stdout",
          "text": [
            "count    16385.000000\n",
            "mean         1.040647\n",
            "std          0.266649\n",
            "min          1.000000\n",
            "25%          1.000000\n",
            "50%          1.000000\n",
            "75%          1.000000\n",
            "max         17.000000\n",
            "Name: f2, dtype: float64\n",
            "1     15839\n",
            "2       467\n",
            "3        58\n",
            "4        16\n",
            "5         2\n",
            "7         1\n",
            "6         1\n",
            "17        1\n",
            "Name: f2, dtype: int64\n"
          ]
        },
        {
          "output_type": "display_data",
          "data": {
            "image/png": "[encoded data removed]",
            "text/plain": [
              "<Figure size 432x288 with 1 Axes>"
            ]
          },
          "metadata": {
            "needs_background": "light"
          }
        },
        {
          "output_type": "stream",
          "name": "stdout",
          "text": [
            "count    16385.000000\n",
            "mean        10.995173\n",
            "std        164.062524\n",
            "min          1.770000\n",
            "25%          1.770000\n",
            "50%          1.770000\n",
            "75%          3.540000\n",
            "max      14444.970000\n",
            "Name: f3, dtype: float64\n",
            "1.77       9988\n",
            "3.54       2440\n",
            "5.31       1094\n",
            "7.08        636\n",
            "8.85        399\n",
            "           ... \n",
            "486.75        1\n",
            "354.00        1\n",
            "1821.33       1\n",
            "185.85        1\n",
            "214.17        1\n",
            "Name: f3, Length: 169, dtype: int64\n"
          ]
        },
        {
          "output_type": "display_data",
          "data": {
            "image/png": "[encoded data removed]",
            "text/plain": [
              "<Figure size 432x288 with 1 Axes>"
            ]
          },
          "metadata": {
            "needs_background": "light"
          }
        },
        {
          "output_type": "stream",
          "name": "stdout",
          "text": [
            "count     16385.000000\n",
            "mean     118280.067623\n",
            "std        4585.040697\n",
            "min       23779.000000\n",
            "25%      118102.000000\n",
            "50%      118300.000000\n",
            "75%      118386.000000\n",
            "max      176316.000000\n",
            "Name: f4, dtype: float64\n",
            "118300    2210\n",
            "118343    1943\n",
            "118327    1312\n",
            "118225    1265\n",
            "118386     901\n",
            "          ... \n",
            "176316       1\n",
            "140550       1\n",
            "118775       1\n",
            "124157       1\n",
            "120355       1\n",
            "Name: f4, Length: 170, dtype: int64\n"
          ]
        },
        {
          "output_type": "display_data",
          "data": {
            "image/png": "[encoded data removed]",
            "text/plain": [
              "<Figure size 432x288 with 1 Axes>"
            ]
          },
          "metadata": {
            "needs_background": "light"
          }
        },
        {
          "output_type": "stream",
          "name": "stdout",
          "text": [
            "count    16385.000000\n",
            "mean         1.046445\n",
            "std          0.287650\n",
            "min          1.000000\n",
            "25%          1.000000\n",
            "50%          1.000000\n",
            "75%          1.000000\n",
            "max         12.000000\n",
            "Name: f5, dtype: float64\n",
            "1     15798\n",
            "2       476\n",
            "3        81\n",
            "4        14\n",
            "5         9\n",
            "6         4\n",
            "12        1\n",
            "9         1\n",
            "7         1\n",
            "Name: f5, dtype: int64\n"
          ]
        },
        {
          "output_type": "display_data",
          "data": {
            "image/png": "[encoded data removed]",
            "text/plain": [
              "<Figure size 432x288 with 1 Axes>"
            ]
          },
          "metadata": {
            "needs_background": "light"
          }
        },
        {
          "output_type": "stream",
          "name": "stdout",
          "text": [
            "count    16385.000000\n",
            "mean         0.045468\n",
            "std          0.326552\n",
            "min          0.000000\n",
            "25%          0.000000\n",
            "50%          0.000000\n",
            "75%          0.000000\n",
            "max         24.000000\n",
            "Name: f6, dtype: float64\n",
            "0     15800\n",
            "1       499\n",
            "2        59\n",
            "3        13\n",
            "4         8\n",
            "8         2\n",
            "6         2\n",
            "24        1\n",
            "5         1\n",
            "Name: f6, dtype: int64\n"
          ]
        },
        {
          "output_type": "display_data",
          "data": {
            "image/png": "[encoded data removed]",
            "text/plain": [
              "<Figure size 432x288 with 1 Axes>"
            ]
          },
          "metadata": {
            "needs_background": "light"
          }
        },
        {
          "output_type": "stream",
          "name": "stdout",
          "text": [
            "count     16385.000000\n",
            "mean     116815.536649\n",
            "std       11455.865265\n",
            "min        4292.000000\n",
            "25%      117961.000000\n",
            "50%      117961.000000\n",
            "75%      117961.000000\n",
            "max      247952.000000\n",
            "Name: f7, dtype: float64\n",
            "117961    10650\n",
            "117902      374\n",
            "91261       363\n",
            "118315      244\n",
            "118212      214\n",
            "          ...  \n",
            "121411        1\n",
            "120354        1\n",
            "216705        1\n",
            "203209        1\n",
            "118774        1\n",
            "Name: f7, Length: 125, dtype: int64\n"
          ]
        },
        {
          "output_type": "display_data",
          "data": {
            "image/png": "[encoded data removed]",
            "text/plain": [
              "<Figure size 432x288 with 1 Axes>"
            ]
          },
          "metadata": {
            "needs_background": "light"
          }
        },
        {
          "output_type": "stream",
          "name": "stdout",
          "text": [
            "count     16385.000000\n",
            "mean     170629.642600\n",
            "std       69622.222738\n",
            "min        4673.000000\n",
            "25%      117913.000000\n",
            "50%      129238.000000\n",
            "75%      236007.000000\n",
            "max      311867.000000\n",
            "Name: f8, dtype: float64\n",
            "117906    3387\n",
            "240983     626\n",
            "117913     341\n",
            "279443     333\n",
            "117886     243\n",
            "          ... \n",
            "223110       1\n",
            "169944       1\n",
            "122849       1\n",
            "157686       1\n",
            "247799       1\n",
            "Name: f8, Length: 1909, dtype: int64\n"
          ]
        },
        {
          "output_type": "display_data",
          "data": {
            "image/png": "[encoded data removed]",
            "text/plain": [
              "<Figure size 432x288 with 1 Axes>"
            ]
          },
          "metadata": {
            "needs_background": "light"
          }
        },
        {
          "output_type": "stream",
          "name": "stdout",
          "text": [
            "count    16385.000000\n",
            "mean         1.044248\n",
            "std          0.268018\n",
            "min          1.000000\n",
            "25%          1.000000\n",
            "50%          1.000000\n",
            "75%          1.000000\n",
            "max         10.000000\n",
            "Name: f9, dtype: float64\n",
            "1     15801\n",
            "2       490\n",
            "3        68\n",
            "4        19\n",
            "6         2\n",
            "5         2\n",
            "10        1\n",
            "9         1\n",
            "8         1\n",
            "Name: f9, dtype: int64\n"
          ]
        },
        {
          "output_type": "display_data",
          "data": {
            "image/png": "[encoded data removed]",
            "text/plain": [
              "<Figure size 432x288 with 1 Axes>"
            ]
          },
          "metadata": {
            "needs_background": "light"
          }
        },
        {
          "output_type": "stream",
          "name": "stdout",
          "text": [
            "count    16385.000000\n",
            "mean         6.279158\n",
            "std        118.584873\n",
            "min          0.000000\n",
            "25%          0.000000\n",
            "50%          0.000000\n",
            "75%          1.000000\n",
            "max      10002.000000\n",
            "Name: f10, dtype: float64\n",
            "0       9807\n",
            "1       2589\n",
            "2       1164\n",
            "3        609\n",
            "4        391\n",
            "        ... \n",
            "232        1\n",
            "520        1\n",
            "680        1\n",
            "1304       1\n",
            "847        1\n",
            "Name: f10, Length: 199, dtype: int64\n"
          ]
        },
        {
          "output_type": "display_data",
          "data": {
            "image/png": "[encoded data removed]",
            "text/plain": [
              "<Figure size 432x288 with 1 Axes>"
            ]
          },
          "metadata": {
            "needs_background": "light"
          }
        },
        {
          "output_type": "stream",
          "name": "stdout",
          "text": [
            "count    16385.000000\n",
            "mean         1.044614\n",
            "std          0.257977\n",
            "min          1.000000\n",
            "25%          1.000000\n",
            "50%          1.000000\n",
            "75%          1.000000\n",
            "max          8.000000\n",
            "Name: f11, dtype: float64\n",
            "1    15788\n",
            "2      496\n",
            "3       84\n",
            "4        8\n",
            "5        6\n",
            "8        2\n",
            "6        1\n",
            "Name: f11, dtype: int64\n"
          ]
        },
        {
          "output_type": "display_data",
          "data": {
            "image/png": "[encoded data removed]",
            "text/plain": [
              "<Figure size 432x288 with 1 Axes>"
            ]
          },
          "metadata": {
            "needs_background": "light"
          }
        },
        {
          "output_type": "stream",
          "name": "stdout",
          "text": [
            "count     16385.000000\n",
            "mean         50.585780\n",
            "std        5257.538072\n",
            "min           1.000000\n",
            "25%           1.000000\n",
            "50%           1.000000\n",
            "75%           2.000000\n",
            "max      672095.000000\n",
            "Name: f12, dtype: float64\n",
            "1       10044\n",
            "2        2476\n",
            "3        1073\n",
            "4         604\n",
            "5         394\n",
            "        ...  \n",
            "584         1\n",
            "3177        1\n",
            "169         1\n",
            "185         1\n",
            "695         1\n",
            "Name: f12, Length: 179, dtype: int64\n"
          ]
        },
        {
          "output_type": "display_data",
          "data": {
            "image/png": "[encoded data removed]",
            "text/plain": [
              "<Figure size 432x288 with 1 Axes>"
            ]
          },
          "metadata": {
            "needs_background": "light"
          }
        },
        {
          "output_type": "stream",
          "name": "stdout",
          "text": [
            "count     16385.000000\n",
            "mean     119804.611718\n",
            "std        5954.584576\n",
            "min      117880.000000\n",
            "25%      118232.000000\n",
            "50%      118570.000000\n",
            "75%      119348.000000\n",
            "max      268610.000000\n",
            "Name: f13, dtype: float64\n",
            "118322    2285\n",
            "117908    1792\n",
            "118786     859\n",
            "117880     620\n",
            "118570     519\n",
            "          ... \n",
            "131338       1\n",
            "268610       1\n",
            "240105       1\n",
            "153249       1\n",
            "126420       1\n",
            "Name: f13, Length: 313, dtype: int64\n"
          ]
        },
        {
          "output_type": "display_data",
          "data": {
            "image/png": "[encoded data removed]",
            "text/plain": [
              "<Figure size 432x288 with 1 Axes>"
            ]
          },
          "metadata": {
            "needs_background": "light"
          }
        },
        {
          "output_type": "stream",
          "name": "stdout",
          "text": [
            "count    16385.000000\n",
            "mean         0.285666\n",
            "std          1.731892\n",
            "min         -7.755142\n",
            "25%         -0.722395\n",
            "50%          1.000000\n",
            "75%          1.000000\n",
            "max          8.561341\n",
            "Name: f14, dtype: float64\n",
            " 1.000000    4662\n",
            " 0.000000     302\n",
            "-0.207779       1\n",
            " 1.115449       1\n",
            "-0.933231       1\n",
            "             ... \n",
            "-2.547335       1\n",
            " 1.757669       1\n",
            " 1.401651       1\n",
            "-4.056637       1\n",
            " 0.683680       1\n",
            "Name: f14, Length: 11423, dtype: int64\n"
          ]
        },
        {
          "output_type": "display_data",
          "data": {
            "image/png": "[encoded data removed]",
            "text/plain": [
              "<Figure size 432x288 with 1 Axes>"
            ]
          },
          "metadata": {
            "needs_background": "light"
          }
        },
        {
          "output_type": "stream",
          "name": "stdout",
          "text": [
            "count     16385.000000\n",
            "mean      26084.716448\n",
            "std       35770.039723\n",
            "min          25.000000\n",
            "25%        4571.000000\n",
            "50%       13822.000000\n",
            "75%       44038.000000\n",
            "max      311696.000000\n",
            "Name: f15, dtype: float64\n",
            "770       77\n",
            "2270      52\n",
            "16850     40\n",
            "2594      37\n",
            "1350      35\n",
            "          ..\n",
            "84129      1\n",
            "118962     1\n",
            "51393      1\n",
            "20690      1\n",
            "2049       1\n",
            "Name: f15, Length: 3586, dtype: int64\n"
          ]
        },
        {
          "output_type": "display_data",
          "data": {
            "image/png": "[encoded data removed]",
            "text/plain": [
              "<Figure size 432x288 with 1 Axes>"
            ]
          },
          "metadata": {
            "needs_background": "light"
          }
        },
        {
          "output_type": "stream",
          "name": "stdout",
          "text": [
            "count     16385.000000\n",
            "mean     118780.460604\n",
            "std       19579.945823\n",
            "min        4674.000000\n",
            "25%      118391.000000\n",
            "50%      118911.000000\n",
            "75%      120526.000000\n",
            "max      277693.000000\n",
            "Name: f16, dtype: float64\n",
            "117878    552\n",
            "117941    348\n",
            "117945    346\n",
            "117920    320\n",
            "118514    285\n",
            "         ... \n",
            "126574      1\n",
            "122722      1\n",
            "121030      1\n",
            "204054      1\n",
            "272283      1\n",
            "Name: f16, Length: 422, dtype: int64\n"
          ]
        },
        {
          "output_type": "display_data",
          "data": {
            "image/png": "[encoded data removed]",
            "text/plain": [
              "<Figure size 432x288 with 1 Axes>"
            ]
          },
          "metadata": {
            "needs_background": "light"
          }
        },
        {
          "output_type": "stream",
          "name": "stdout",
          "text": [
            "count     16385.000000\n",
            "mean     182778.345560\n",
            "std      100380.090423\n",
            "min        3130.000000\n",
            "25%      118363.000000\n",
            "50%      118960.000000\n",
            "75%      290919.000000\n",
            "max      308574.000000\n",
            "Name: f17, dtype: float64\n",
            "290919    5418\n",
            "118424    1317\n",
            "19721     1308\n",
            "117887    1237\n",
            "292795     674\n",
            "          ... \n",
            "123689       1\n",
            "254395       1\n",
            "127957       1\n",
            "149353       1\n",
            "136398       1\n",
            "Name: f17, Length: 65, dtype: int64\n"
          ]
        },
        {
          "output_type": "display_data",
          "data": {
            "image/png": "[encoded data removed]",
            "text/plain": [
              "<Figure size 432x288 with 1 Axes>"
            ]
          },
          "metadata": {
            "needs_background": "light"
          }
        },
        {
          "output_type": "stream",
          "name": "stdout",
          "text": [
            "count    16385.000000\n",
            "mean         1.049252\n",
            "std          0.282900\n",
            "min          1.000000\n",
            "25%          1.000000\n",
            "50%          1.000000\n",
            "75%          1.000000\n",
            "max         11.000000\n",
            "Name: f18, dtype: float64\n",
            "1     15745\n",
            "2       529\n",
            "3        78\n",
            "4        20\n",
            "5         9\n",
            "6         2\n",
            "11        1\n",
            "7         1\n",
            "Name: f18, dtype: int64\n"
          ]
        },
        {
          "output_type": "display_data",
          "data": {
            "image/png": "[encoded data removed]",
            "text/plain": [
              "<Figure size 432x288 with 1 Axes>"
            ]
          },
          "metadata": {
            "needs_background": "light"
          }
        },
        {
          "output_type": "stream",
          "name": "stdout",
          "text": [
            "count     16385.000000\n",
            "mean     125873.078120\n",
            "std       30983.284017\n",
            "min      117879.000000\n",
            "25%      118274.000000\n",
            "50%      118568.000000\n",
            "75%      120006.000000\n",
            "max      311867.000000\n",
            "Name: f19, dtype: float64\n",
            "118321    2285\n",
            "117905    1792\n",
            "118784     859\n",
            "117879     620\n",
            "118568     519\n",
            "          ... \n",
            "279482       1\n",
            "126418       1\n",
            "239003       1\n",
            "127955       1\n",
            "153248       1\n",
            "Name: f19, Length: 313, dtype: int64\n"
          ]
        },
        {
          "output_type": "display_data",
          "data": {
            "image/png": "[encoded data removed]",
            "text/plain": [
              "<Figure size 432x288 with 1 Axes>"
            ]
          },
          "metadata": {
            "needs_background": "light"
          }
        },
        {
          "output_type": "stream",
          "name": "stdout",
          "text": [
            "count    16385.000000\n",
            "mean         1.046872\n",
            "std          0.264012\n",
            "min          1.000000\n",
            "25%          1.000000\n",
            "50%          1.000000\n",
            "75%          1.000000\n",
            "max          8.000000\n",
            "Name: f20, dtype: float64\n",
            "1    15758\n",
            "2      528\n",
            "3       70\n",
            "4       22\n",
            "6        3\n",
            "5        3\n",
            "8        1\n",
            "Name: f20, dtype: int64\n"
          ]
        },
        {
          "output_type": "display_data",
          "data": {
            "image/png": "[encoded data removed]",
            "text/plain": [
              "<Figure size 432x288 with 1 Axes>"
            ]
          },
          "metadata": {
            "needs_background": "light"
          }
        },
        {
          "output_type": "stream",
          "name": "stdout",
          "text": [
            "count    16385.000000\n",
            "mean         1.041379\n",
            "std          0.263542\n",
            "min          1.000000\n",
            "25%          1.000000\n",
            "50%          1.000000\n",
            "75%          1.000000\n",
            "max         12.000000\n",
            "Name: f21, dtype: float64\n",
            "1     15844\n",
            "2       457\n",
            "3        53\n",
            "4        19\n",
            "5         9\n",
            "12        1\n",
            "7         1\n",
            "6         1\n",
            "Name: f21, dtype: int64\n"
          ]
        },
        {
          "output_type": "display_data",
          "data": {
            "image/png": "[encoded data removed]",
            "text/plain": [
              "<Figure size 432x288 with 1 Axes>"
            ]
          },
          "metadata": {
            "needs_background": "light"
          }
        },
        {
          "output_type": "stream",
          "name": "stdout",
          "text": [
            "count    16385.000000\n",
            "mean         1.040525\n",
            "std          0.233735\n",
            "min          1.000000\n",
            "25%          1.000000\n",
            "50%          1.000000\n",
            "75%          1.000000\n",
            "max          5.000000\n",
            "Name: f22, dtype: float64\n",
            "1    15822\n",
            "2      484\n",
            "3       63\n",
            "4       10\n",
            "5        6\n",
            "Name: f22, dtype: int64\n"
          ]
        },
        {
          "output_type": "display_data",
          "data": {
            "image/png": "[encoded data removed]",
            "text/plain": [
              "<Figure size 432x288 with 1 Axes>"
            ]
          },
          "metadata": {
            "needs_background": "light"
          }
        },
        {
          "output_type": "stream",
          "name": "stdout",
          "text": [
            "count    1.638500e+04\n",
            "mean     1.185108e+04\n",
            "std      7.010728e+05\n",
            "min      1.000000e+00\n",
            "25%      1.000000e+00\n",
            "50%      2.000000e+00\n",
            "75%      9.000000e+00\n",
            "max      6.092627e+07\n",
            "Name: f23, dtype: float64\n",
            "1         6295\n",
            "2         2237\n",
            "3         1200\n",
            "4          848\n",
            "5          536\n",
            "          ... \n",
            "169          1\n",
            "10220        1\n",
            "208813       1\n",
            "1912         1\n",
            "1271         1\n",
            "Name: f23, Length: 866, dtype: int64\n"
          ]
        },
        {
          "output_type": "display_data",
          "data": {
            "image/png": "[encoded data removed]",
            "text/plain": [
              "<Figure size 432x288 with 1 Axes>"
            ]
          },
          "metadata": {
            "needs_background": "light"
          }
        },
        {
          "output_type": "stream",
          "name": "stdout",
          "text": [
            "count    16385.000000\n",
            "mean         1.042417\n",
            "std          0.274831\n",
            "min          1.000000\n",
            "25%          1.000000\n",
            "50%          1.000000\n",
            "75%          1.000000\n",
            "max         16.000000\n",
            "Name: f24, dtype: float64\n",
            "1     15821\n",
            "2       490\n",
            "3        45\n",
            "4        16\n",
            "5         8\n",
            "6         4\n",
            "16        1\n",
            "Name: f24, dtype: int64\n"
          ]
        },
        {
          "output_type": "display_data",
          "data": {
            "image/png": "[encoded data removed]",
            "text/plain": [
              "<Figure size 432x288 with 1 Axes>"
            ]
          },
          "metadata": {
            "needs_background": "light"
          }
        },
        {
          "output_type": "stream",
          "name": "stdout",
          "text": [
            "count    16385.000000\n",
            "mean         0.980836\n",
            "std          0.137105\n",
            "min          0.000000\n",
            "25%          1.000000\n",
            "50%          1.000000\n",
            "75%          1.000000\n",
            "max          1.000000\n",
            "Name: Y, dtype: float64\n",
            "1.0    16071\n",
            "0.0      314\n",
            "Name: Y, dtype: int64\n"
          ]
        },
        {
          "output_type": "display_data",
          "data": {
            "image/png": "[encoded data removed]",
            "text/plain": [
              "<Figure size 432x288 with 1 Axes>"
            ]
          },
          "metadata": {
            "needs_background": "light"
          }
        }
      ]
    },
    {
      "cell_type": "markdown",
      "metadata": {
        "id": "YFxbj4zBa6nd"
      },
      "source": [
        ""
      ]
    },
    {
      "cell_type": "code",
      "metadata": {
        "id": "_qXTsb6X4cxp"
      },
      "source": [
        "train_final['f3'] = train_final['f3'].apply(np.ceil) \n",
        "test_final['f3'] = test_final['f3'].apply(np.ceil) \n",
        "train_final['f3']  = train_final['f3'].astype(int)\n",
        "test_final['f3']  = test_final['f3'].astype(int)"
      ],
      "execution_count": 69,
      "outputs": []
    },
    {
      "cell_type": "code",
      "metadata": {
        "colab": {
          "base_uri": "https://localhost:8080/",
          "height": 422
        },
        "id": "tW6MFqqxWhBy",
        "outputId": "bacd9922-f453-4658-93b2-05ee8c97f2ef"
      },
      "source": [
        "train_final"
      ],
      "execution_count": null,
      "outputs": [
        {
          "output_type": "execute_result",
          "data": {
            "text/html": [
              "<div>\n",
              "<style scoped>\n",
              "    .dataframe tbody tr th:only-of-type {\n",
              "        vertical-align: middle;\n",
              "    }\n",
              "\n",
              "    .dataframe tbody tr th {\n",
              "        vertical-align: top;\n",
              "    }\n",
              "\n",
              "    .dataframe thead th {\n",
              "        text-align: right;\n",
              "    }\n",
              "</style>\n",
              "<table border=\"1\" class=\"dataframe\">\n",
              "  <thead>\n",
              "    <tr style=\"text-align: right;\">\n",
              "      <th></th>\n",
              "      <th>Id</th>\n",
              "      <th>Y</th>\n",
              "      <th>f1</th>\n",
              "      <th>f2</th>\n",
              "      <th>f3</th>\n",
              "      <th>f4</th>\n",
              "      <th>f5</th>\n",
              "      <th>f6</th>\n",
              "      <th>f7</th>\n",
              "      <th>f8</th>\n",
              "      <th>f9</th>\n",
              "      <th>f10</th>\n",
              "      <th>f11</th>\n",
              "      <th>f12</th>\n",
              "      <th>f13</th>\n",
              "      <th>f14</th>\n",
              "      <th>f15</th>\n",
              "      <th>f16</th>\n",
              "      <th>f17</th>\n",
              "      <th>f18</th>\n",
              "      <th>f19</th>\n",
              "      <th>f20</th>\n",
              "      <th>f21</th>\n",
              "      <th>f22</th>\n",
              "      <th>f23</th>\n",
              "      <th>f24</th>\n",
              "    </tr>\n",
              "  </thead>\n",
              "  <tbody>\n",
              "    <tr>\n",
              "      <th>0</th>\n",
              "      <td>1</td>\n",
              "      <td>1</td>\n",
              "      <td>25884</td>\n",
              "      <td>1</td>\n",
              "      <td>33.63</td>\n",
              "      <td>118596</td>\n",
              "      <td>1</td>\n",
              "      <td>0</td>\n",
              "      <td>118595</td>\n",
              "      <td>125738</td>\n",
              "      <td>1</td>\n",
              "      <td>3</td>\n",
              "      <td>1</td>\n",
              "      <td>2</td>\n",
              "      <td>121374</td>\n",
              "      <td>-2.266430</td>\n",
              "      <td>1945</td>\n",
              "      <td>118450</td>\n",
              "      <td>119184</td>\n",
              "      <td>1</td>\n",
              "      <td>121372</td>\n",
              "      <td>1</td>\n",
              "      <td>1</td>\n",
              "      <td>1</td>\n",
              "      <td>2</td>\n",
              "      <td>1</td>\n",
              "    </tr>\n",
              "    <tr>\n",
              "      <th>1</th>\n",
              "      <td>2</td>\n",
              "      <td>1</td>\n",
              "      <td>34346</td>\n",
              "      <td>1</td>\n",
              "      <td>10.62</td>\n",
              "      <td>118041</td>\n",
              "      <td>1</td>\n",
              "      <td>0</td>\n",
              "      <td>117902</td>\n",
              "      <td>130913</td>\n",
              "      <td>1</td>\n",
              "      <td>1</td>\n",
              "      <td>1</td>\n",
              "      <td>23</td>\n",
              "      <td>118943</td>\n",
              "      <td>-0.305612</td>\n",
              "      <td>15385</td>\n",
              "      <td>117945</td>\n",
              "      <td>292795</td>\n",
              "      <td>1</td>\n",
              "      <td>259173</td>\n",
              "      <td>1</td>\n",
              "      <td>1</td>\n",
              "      <td>1</td>\n",
              "      <td>1</td>\n",
              "      <td>1</td>\n",
              "    </tr>\n",
              "    <tr>\n",
              "      <th>2</th>\n",
              "      <td>3</td>\n",
              "      <td>1</td>\n",
              "      <td>34923</td>\n",
              "      <td>1</td>\n",
              "      <td>1.77</td>\n",
              "      <td>118327</td>\n",
              "      <td>1</td>\n",
              "      <td>0</td>\n",
              "      <td>117961</td>\n",
              "      <td>124402</td>\n",
              "      <td>1</td>\n",
              "      <td>2</td>\n",
              "      <td>1</td>\n",
              "      <td>1</td>\n",
              "      <td>118786</td>\n",
              "      <td>2.015561</td>\n",
              "      <td>7547</td>\n",
              "      <td>118933</td>\n",
              "      <td>290919</td>\n",
              "      <td>1</td>\n",
              "      <td>118784</td>\n",
              "      <td>1</td>\n",
              "      <td>1</td>\n",
              "      <td>1</td>\n",
              "      <td>1</td>\n",
              "      <td>1</td>\n",
              "    </tr>\n",
              "    <tr>\n",
              "      <th>3</th>\n",
              "      <td>4</td>\n",
              "      <td>1</td>\n",
              "      <td>80926</td>\n",
              "      <td>1</td>\n",
              "      <td>30.09</td>\n",
              "      <td>118300</td>\n",
              "      <td>1</td>\n",
              "      <td>0</td>\n",
              "      <td>117961</td>\n",
              "      <td>301218</td>\n",
              "      <td>1</td>\n",
              "      <td>0</td>\n",
              "      <td>1</td>\n",
              "      <td>1</td>\n",
              "      <td>118332</td>\n",
              "      <td>-3.172501</td>\n",
              "      <td>4933</td>\n",
              "      <td>118458</td>\n",
              "      <td>118331</td>\n",
              "      <td>1</td>\n",
              "      <td>307024</td>\n",
              "      <td>1</td>\n",
              "      <td>1</td>\n",
              "      <td>1</td>\n",
              "      <td>2</td>\n",
              "      <td>1</td>\n",
              "    </tr>\n",
              "    <tr>\n",
              "      <th>4</th>\n",
              "      <td>5</td>\n",
              "      <td>1</td>\n",
              "      <td>4674</td>\n",
              "      <td>1</td>\n",
              "      <td>1.77</td>\n",
              "      <td>119921</td>\n",
              "      <td>1</td>\n",
              "      <td>0</td>\n",
              "      <td>119920</td>\n",
              "      <td>302830</td>\n",
              "      <td>1</td>\n",
              "      <td>0</td>\n",
              "      <td>1</td>\n",
              "      <td>2</td>\n",
              "      <td>128231</td>\n",
              "      <td>0.573767</td>\n",
              "      <td>13836</td>\n",
              "      <td>142145</td>\n",
              "      <td>4673</td>\n",
              "      <td>1</td>\n",
              "      <td>128230</td>\n",
              "      <td>1</td>\n",
              "      <td>1</td>\n",
              "      <td>1</td>\n",
              "      <td>620</td>\n",
              "      <td>1</td>\n",
              "    </tr>\n",
              "    <tr>\n",
              "      <th>...</th>\n",
              "      <td>...</td>\n",
              "      <td>...</td>\n",
              "      <td>...</td>\n",
              "      <td>...</td>\n",
              "      <td>...</td>\n",
              "      <td>...</td>\n",
              "      <td>...</td>\n",
              "      <td>...</td>\n",
              "      <td>...</td>\n",
              "      <td>...</td>\n",
              "      <td>...</td>\n",
              "      <td>...</td>\n",
              "      <td>...</td>\n",
              "      <td>...</td>\n",
              "      <td>...</td>\n",
              "      <td>...</td>\n",
              "      <td>...</td>\n",
              "      <td>...</td>\n",
              "      <td>...</td>\n",
              "      <td>...</td>\n",
              "      <td>...</td>\n",
              "      <td>...</td>\n",
              "      <td>...</td>\n",
              "      <td>...</td>\n",
              "      <td>...</td>\n",
              "      <td>...</td>\n",
              "    </tr>\n",
              "    <tr>\n",
              "      <th>16378</th>\n",
              "      <td>16379</td>\n",
              "      <td>1</td>\n",
              "      <td>33328</td>\n",
              "      <td>1</td>\n",
              "      <td>1.77</td>\n",
              "      <td>118343</td>\n",
              "      <td>1</td>\n",
              "      <td>0</td>\n",
              "      <td>117961</td>\n",
              "      <td>117906</td>\n",
              "      <td>1</td>\n",
              "      <td>0</td>\n",
              "      <td>1</td>\n",
              "      <td>1</td>\n",
              "      <td>118322</td>\n",
              "      <td>1.000000</td>\n",
              "      <td>4533</td>\n",
              "      <td>118700</td>\n",
              "      <td>290919</td>\n",
              "      <td>1</td>\n",
              "      <td>118321</td>\n",
              "      <td>1</td>\n",
              "      <td>1</td>\n",
              "      <td>1</td>\n",
              "      <td>1</td>\n",
              "      <td>1</td>\n",
              "    </tr>\n",
              "    <tr>\n",
              "      <th>16379</th>\n",
              "      <td>16380</td>\n",
              "      <td>1</td>\n",
              "      <td>19944</td>\n",
              "      <td>1</td>\n",
              "      <td>1.77</td>\n",
              "      <td>118225</td>\n",
              "      <td>1</td>\n",
              "      <td>0</td>\n",
              "      <td>117961</td>\n",
              "      <td>132097</td>\n",
              "      <td>1</td>\n",
              "      <td>0</td>\n",
              "      <td>1</td>\n",
              "      <td>20</td>\n",
              "      <td>132098</td>\n",
              "      <td>1.000000</td>\n",
              "      <td>4663</td>\n",
              "      <td>120323</td>\n",
              "      <td>119095</td>\n",
              "      <td>3</td>\n",
              "      <td>132096</td>\n",
              "      <td>1</td>\n",
              "      <td>1</td>\n",
              "      <td>1</td>\n",
              "      <td>8</td>\n",
              "      <td>1</td>\n",
              "    </tr>\n",
              "    <tr>\n",
              "      <th>16380</th>\n",
              "      <td>16381</td>\n",
              "      <td>1</td>\n",
              "      <td>28359</td>\n",
              "      <td>1</td>\n",
              "      <td>3.54</td>\n",
              "      <td>118327</td>\n",
              "      <td>1</td>\n",
              "      <td>0</td>\n",
              "      <td>117961</td>\n",
              "      <td>174445</td>\n",
              "      <td>1</td>\n",
              "      <td>2</td>\n",
              "      <td>1</td>\n",
              "      <td>2</td>\n",
              "      <td>132694</td>\n",
              "      <td>1.806069</td>\n",
              "      <td>7822</td>\n",
              "      <td>118492</td>\n",
              "      <td>270488</td>\n",
              "      <td>1</td>\n",
              "      <td>132692</td>\n",
              "      <td>1</td>\n",
              "      <td>2</td>\n",
              "      <td>1</td>\n",
              "      <td>1</td>\n",
              "      <td>1</td>\n",
              "    </tr>\n",
              "    <tr>\n",
              "      <th>16381</th>\n",
              "      <td>16382</td>\n",
              "      <td>1</td>\n",
              "      <td>7542</td>\n",
              "      <td>1</td>\n",
              "      <td>3.54</td>\n",
              "      <td>118343</td>\n",
              "      <td>1</td>\n",
              "      <td>0</td>\n",
              "      <td>117961</td>\n",
              "      <td>117906</td>\n",
              "      <td>1</td>\n",
              "      <td>0</td>\n",
              "      <td>1</td>\n",
              "      <td>1</td>\n",
              "      <td>118786</td>\n",
              "      <td>-1.245079</td>\n",
              "      <td>6257</td>\n",
              "      <td>120722</td>\n",
              "      <td>290919</td>\n",
              "      <td>1</td>\n",
              "      <td>118784</td>\n",
              "      <td>1</td>\n",
              "      <td>1</td>\n",
              "      <td>1</td>\n",
              "      <td>12</td>\n",
              "      <td>1</td>\n",
              "    </tr>\n",
              "    <tr>\n",
              "      <th>16382</th>\n",
              "      <td>16383</td>\n",
              "      <td>1</td>\n",
              "      <td>13877</td>\n",
              "      <td>1</td>\n",
              "      <td>1.77</td>\n",
              "      <td>118220</td>\n",
              "      <td>1</td>\n",
              "      <td>0</td>\n",
              "      <td>118219</td>\n",
              "      <td>117879</td>\n",
              "      <td>1</td>\n",
              "      <td>0</td>\n",
              "      <td>1</td>\n",
              "      <td>2</td>\n",
              "      <td>117880</td>\n",
              "      <td>3.626300</td>\n",
              "      <td>13262</td>\n",
              "      <td>118221</td>\n",
              "      <td>19721</td>\n",
              "      <td>1</td>\n",
              "      <td>117879</td>\n",
              "      <td>1</td>\n",
              "      <td>1</td>\n",
              "      <td>1</td>\n",
              "      <td>2</td>\n",
              "      <td>1</td>\n",
              "    </tr>\n",
              "  </tbody>\n",
              "</table>\n",
              "<p>16383 rows × 26 columns</p>\n",
              "</div>"
            ],
            "text/plain": [
              "          Id  Y     f1  f2     f3      f4  ...     f19  f20  f21  f22  f23  f24\n",
              "0          1  1  25884   1  33.63  118596  ...  121372    1    1    1    2    1\n",
              "1          2  1  34346   1  10.62  118041  ...  259173    1    1    1    1    1\n",
              "2          3  1  34923   1   1.77  118327  ...  118784    1    1    1    1    1\n",
              "3          4  1  80926   1  30.09  118300  ...  307024    1    1    1    2    1\n",
              "4          5  1   4674   1   1.77  119921  ...  128230    1    1    1  620    1\n",
              "...      ... ..    ...  ..    ...     ...  ...     ...  ...  ...  ...  ...  ...\n",
              "16378  16379  1  33328   1   1.77  118343  ...  118321    1    1    1    1    1\n",
              "16379  16380  1  19944   1   1.77  118225  ...  132096    1    1    1    8    1\n",
              "16380  16381  1  28359   1   3.54  118327  ...  132692    1    2    1    1    1\n",
              "16381  16382  1   7542   1   3.54  118343  ...  118784    1    1    1   12    1\n",
              "16382  16383  1  13877   1   1.77  118220  ...  117879    1    1    1    2    1\n",
              "\n",
              "[16383 rows x 26 columns]"
            ]
          },
          "metadata": {},
          "execution_count": 44
        }
      ]
    },
    {
      "cell_type": "code",
      "metadata": {
        "colab": {
          "base_uri": "https://localhost:8080/",
          "height": 276
        },
        "id": "avSNAKAlbvpe",
        "outputId": "007aa640-3a57-4f24-89aa-1404901abb0b"
      },
      "source": [
        "boxplot = test_final.boxplot(column=['f23'])"
      ],
      "execution_count": 70,
      "outputs": [
        {
          "output_type": "display_data",
          "data": {
            "image/png": "[encoded data removed]",
            "text/plain": [
              "<Figure size 432x288 with 1 Axes>"
            ]
          },
          "metadata": {
            "needs_background": "light"
          }
        }
      ]
    },
    {
      "cell_type": "code",
      "metadata": {
        "colab": {
          "base_uri": "https://localhost:8080/"
        },
        "id": "ZR6ay4uwbyex",
        "outputId": "5e992201-701e-4d74-be1c-ed6dfde2992a"
      },
      "source": [
        "test_final[test_final['f23']<= 9].count()/ test_final[\"f23\"].count()"
      ],
      "execution_count": 71,
      "outputs": [
        {
          "output_type": "execute_result",
          "data": {
            "text/plain": [
              "Id     0.75624\n",
              "f1     0.75624\n",
              "f2     0.75624\n",
              "f3     0.75624\n",
              "f4     0.75624\n",
              "f5     0.75624\n",
              "f6     0.75624\n",
              "f7     0.75624\n",
              "f8     0.75624\n",
              "f9     0.75624\n",
              "f10    0.75624\n",
              "f11    0.75624\n",
              "f12    0.75624\n",
              "f13    0.75624\n",
              "f14    0.75624\n",
              "f15    0.75624\n",
              "f16    0.75624\n",
              "f17    0.75624\n",
              "f18    0.75624\n",
              "f19    0.75624\n",
              "f20    0.75624\n",
              "f21    0.75624\n",
              "f22    0.75624\n",
              "f23    0.75624\n",
              "f24    0.75624\n",
              "Y      0.75624\n",
              "dtype: float64"
            ]
          },
          "metadata": {},
          "execution_count": 71
        }
      ]
    },
    {
      "cell_type": "code",
      "metadata": {
        "colab": {
          "base_uri": "https://localhost:8080/"
        },
        "id": "SlwrrHueb0aX",
        "outputId": "a9de5faa-4e2c-4917-f9e1-276341408735"
      },
      "source": [
        "test_final['f23'].max()"
      ],
      "execution_count": 72,
      "outputs": [
        {
          "output_type": "execute_result",
          "data": {
            "text/plain": [
              "60926272"
            ]
          },
          "metadata": {},
          "execution_count": 72
        }
      ]
    },
    {
      "cell_type": "markdown",
      "metadata": {
        "id": "4UlUBYRCb2zl"
      },
      "source": [
        "75% of the data points of the feature f23 belongs to values [1, 2, 3, 4, 5, 6, 7, 8, 9] . Rest there were sprase  values as large as 60926272. So it might be useful to convert all the values above 9 to a new a category say 10. "
      ]
    },
    {
      "cell_type": "code",
      "metadata": {
        "colab": {
          "base_uri": "https://localhost:8080/"
        },
        "id": "J0Aq2vxwztyj",
        "outputId": "f1f0ffb0-9f60-4215-b166-2b17f19dc359"
      },
      "source": [
        "# F1 \n",
        "train_final['f1'] = np.log(train_final['f1'] + 1 + abs(min(train_final['f1'])))\n",
        "test_final['f1'] = np.log(test_final['f1'] + 1 + abs(min(test_final['f1'])))\n",
        "test_final['Y']  = test_final['Y'].astype(int)\n",
        "# F15 \n",
        " \n",
        "train_final['f15'] = np.log(train_final['f15'] + 1 + abs(min(train_final['f15'])))\n",
        "test_final['f15'] = np.log(test_final['f15'] + 1 + abs(min(test_final['f15'])))\n",
        "#f23\n",
        "train_final.loc[train_final.f23 > 9.0, \"f23\"] = 10\n",
        "train_final['f23'].describe()\n",
        "#f23\n",
        "test_final.loc[test_final.f23 > 9.0, \"f23\"] = 10\n",
        "test_final['f23'].describe()\n",
        "\n",
        "\n"
      ],
      "execution_count": 73,
      "outputs": [
        {
          "output_type": "execute_result",
          "data": {
            "text/plain": [
              "count    16385.000000\n",
              "mean         4.249558\n",
              "std          3.706655\n",
              "min          1.000000\n",
              "25%          1.000000\n",
              "50%          2.000000\n",
              "75%          9.000000\n",
              "max         10.000000\n",
              "Name: f23, dtype: float64"
            ]
          },
          "metadata": {},
          "execution_count": 73
        }
      ]
    },
    {
      "cell_type": "code",
      "metadata": {
        "id": "he2qjREeLqTQ",
        "colab": {
          "base_uri": "https://localhost:8080/",
          "height": 422
        },
        "outputId": "40c8ef78-8243-4724-e39d-fdc5f9660285"
      },
      "source": [
        "train_final"
      ],
      "execution_count": 75,
      "outputs": [
        {
          "output_type": "execute_result",
          "data": {
            "text/html": [
              "<div>\n",
              "<style scoped>\n",
              "    .dataframe tbody tr th:only-of-type {\n",
              "        vertical-align: middle;\n",
              "    }\n",
              "\n",
              "    .dataframe tbody tr th {\n",
              "        vertical-align: top;\n",
              "    }\n",
              "\n",
              "    .dataframe thead th {\n",
              "        text-align: right;\n",
              "    }\n",
              "</style>\n",
              "<table border=\"1\" class=\"dataframe\">\n",
              "  <thead>\n",
              "    <tr style=\"text-align: right;\">\n",
              "      <th></th>\n",
              "      <th>Id</th>\n",
              "      <th>Y</th>\n",
              "      <th>f1</th>\n",
              "      <th>f2</th>\n",
              "      <th>f3</th>\n",
              "      <th>f4</th>\n",
              "      <th>f5</th>\n",
              "      <th>f6</th>\n",
              "      <th>f7</th>\n",
              "      <th>f8</th>\n",
              "      <th>f9</th>\n",
              "      <th>f10</th>\n",
              "      <th>f11</th>\n",
              "      <th>f12</th>\n",
              "      <th>f13</th>\n",
              "      <th>f14</th>\n",
              "      <th>f15</th>\n",
              "      <th>f16</th>\n",
              "      <th>f17</th>\n",
              "      <th>f18</th>\n",
              "      <th>f19</th>\n",
              "      <th>f20</th>\n",
              "      <th>f21</th>\n",
              "      <th>f22</th>\n",
              "      <th>f23</th>\n",
              "      <th>f24</th>\n",
              "    </tr>\n",
              "  </thead>\n",
              "  <tbody>\n",
              "    <tr>\n",
              "      <th>0</th>\n",
              "      <td>1</td>\n",
              "      <td>1</td>\n",
              "      <td>10.161458</td>\n",
              "      <td>1</td>\n",
              "      <td>34</td>\n",
              "      <td>118596</td>\n",
              "      <td>1</td>\n",
              "      <td>0</td>\n",
              "      <td>118595</td>\n",
              "      <td>125738</td>\n",
              "      <td>1</td>\n",
              "      <td>3</td>\n",
              "      <td>1</td>\n",
              "      <td>2</td>\n",
              "      <td>121374</td>\n",
              "      <td>-2.266430</td>\n",
              "      <td>7.586296</td>\n",
              "      <td>118450</td>\n",
              "      <td>119184</td>\n",
              "      <td>1</td>\n",
              "      <td>121372</td>\n",
              "      <td>1</td>\n",
              "      <td>1</td>\n",
              "      <td>1</td>\n",
              "      <td>2</td>\n",
              "      <td>1</td>\n",
              "    </tr>\n",
              "    <tr>\n",
              "      <th>1</th>\n",
              "      <td>2</td>\n",
              "      <td>1</td>\n",
              "      <td>10.444299</td>\n",
              "      <td>1</td>\n",
              "      <td>11</td>\n",
              "      <td>118041</td>\n",
              "      <td>1</td>\n",
              "      <td>0</td>\n",
              "      <td>117902</td>\n",
              "      <td>130913</td>\n",
              "      <td>1</td>\n",
              "      <td>1</td>\n",
              "      <td>1</td>\n",
              "      <td>23</td>\n",
              "      <td>118943</td>\n",
              "      <td>-0.305612</td>\n",
              "      <td>9.642837</td>\n",
              "      <td>117945</td>\n",
              "      <td>292795</td>\n",
              "      <td>1</td>\n",
              "      <td>259173</td>\n",
              "      <td>1</td>\n",
              "      <td>1</td>\n",
              "      <td>1</td>\n",
              "      <td>1</td>\n",
              "      <td>1</td>\n",
              "    </tr>\n",
              "    <tr>\n",
              "      <th>2</th>\n",
              "      <td>3</td>\n",
              "      <td>1</td>\n",
              "      <td>10.460958</td>\n",
              "      <td>1</td>\n",
              "      <td>2</td>\n",
              "      <td>118327</td>\n",
              "      <td>1</td>\n",
              "      <td>0</td>\n",
              "      <td>117961</td>\n",
              "      <td>124402</td>\n",
              "      <td>1</td>\n",
              "      <td>2</td>\n",
              "      <td>1</td>\n",
              "      <td>1</td>\n",
              "      <td>118786</td>\n",
              "      <td>2.015561</td>\n",
              "      <td>8.932345</td>\n",
              "      <td>118933</td>\n",
              "      <td>290919</td>\n",
              "      <td>1</td>\n",
              "      <td>118784</td>\n",
              "      <td>1</td>\n",
              "      <td>1</td>\n",
              "      <td>1</td>\n",
              "      <td>1</td>\n",
              "      <td>1</td>\n",
              "    </tr>\n",
              "    <tr>\n",
              "      <th>3</th>\n",
              "      <td>4</td>\n",
              "      <td>1</td>\n",
              "      <td>11.301315</td>\n",
              "      <td>1</td>\n",
              "      <td>31</td>\n",
              "      <td>118300</td>\n",
              "      <td>1</td>\n",
              "      <td>0</td>\n",
              "      <td>117961</td>\n",
              "      <td>301218</td>\n",
              "      <td>1</td>\n",
              "      <td>0</td>\n",
              "      <td>1</td>\n",
              "      <td>1</td>\n",
              "      <td>118332</td>\n",
              "      <td>-3.172501</td>\n",
              "      <td>8.508959</td>\n",
              "      <td>118458</td>\n",
              "      <td>118331</td>\n",
              "      <td>1</td>\n",
              "      <td>307024</td>\n",
              "      <td>1</td>\n",
              "      <td>1</td>\n",
              "      <td>1</td>\n",
              "      <td>2</td>\n",
              "      <td>1</td>\n",
              "    </tr>\n",
              "    <tr>\n",
              "      <th>4</th>\n",
              "      <td>5</td>\n",
              "      <td>1</td>\n",
              "      <td>8.450198</td>\n",
              "      <td>1</td>\n",
              "      <td>2</td>\n",
              "      <td>119921</td>\n",
              "      <td>1</td>\n",
              "      <td>0</td>\n",
              "      <td>119920</td>\n",
              "      <td>302830</td>\n",
              "      <td>1</td>\n",
              "      <td>0</td>\n",
              "      <td>1</td>\n",
              "      <td>2</td>\n",
              "      <td>128231</td>\n",
              "      <td>0.573767</td>\n",
              "      <td>9.536907</td>\n",
              "      <td>142145</td>\n",
              "      <td>4673</td>\n",
              "      <td>1</td>\n",
              "      <td>128230</td>\n",
              "      <td>1</td>\n",
              "      <td>1</td>\n",
              "      <td>1</td>\n",
              "      <td>10</td>\n",
              "      <td>1</td>\n",
              "    </tr>\n",
              "    <tr>\n",
              "      <th>...</th>\n",
              "      <td>...</td>\n",
              "      <td>...</td>\n",
              "      <td>...</td>\n",
              "      <td>...</td>\n",
              "      <td>...</td>\n",
              "      <td>...</td>\n",
              "      <td>...</td>\n",
              "      <td>...</td>\n",
              "      <td>...</td>\n",
              "      <td>...</td>\n",
              "      <td>...</td>\n",
              "      <td>...</td>\n",
              "      <td>...</td>\n",
              "      <td>...</td>\n",
              "      <td>...</td>\n",
              "      <td>...</td>\n",
              "      <td>...</td>\n",
              "      <td>...</td>\n",
              "      <td>...</td>\n",
              "      <td>...</td>\n",
              "      <td>...</td>\n",
              "      <td>...</td>\n",
              "      <td>...</td>\n",
              "      <td>...</td>\n",
              "      <td>...</td>\n",
              "      <td>...</td>\n",
              "    </tr>\n",
              "    <tr>\n",
              "      <th>16378</th>\n",
              "      <td>16379</td>\n",
              "      <td>1</td>\n",
              "      <td>10.414213</td>\n",
              "      <td>1</td>\n",
              "      <td>2</td>\n",
              "      <td>118343</td>\n",
              "      <td>1</td>\n",
              "      <td>0</td>\n",
              "      <td>117961</td>\n",
              "      <td>117906</td>\n",
              "      <td>1</td>\n",
              "      <td>0</td>\n",
              "      <td>1</td>\n",
              "      <td>1</td>\n",
              "      <td>118322</td>\n",
              "      <td>1.000000</td>\n",
              "      <td>8.424859</td>\n",
              "      <td>118700</td>\n",
              "      <td>290919</td>\n",
              "      <td>1</td>\n",
              "      <td>118321</td>\n",
              "      <td>1</td>\n",
              "      <td>1</td>\n",
              "      <td>1</td>\n",
              "      <td>1</td>\n",
              "      <td>1</td>\n",
              "    </tr>\n",
              "    <tr>\n",
              "      <th>16379</th>\n",
              "      <td>16380</td>\n",
              "      <td>1</td>\n",
              "      <td>9.900784</td>\n",
              "      <td>1</td>\n",
              "      <td>2</td>\n",
              "      <td>118225</td>\n",
              "      <td>1</td>\n",
              "      <td>0</td>\n",
              "      <td>117961</td>\n",
              "      <td>132097</td>\n",
              "      <td>1</td>\n",
              "      <td>0</td>\n",
              "      <td>1</td>\n",
              "      <td>20</td>\n",
              "      <td>132098</td>\n",
              "      <td>1.000000</td>\n",
              "      <td>8.452975</td>\n",
              "      <td>120323</td>\n",
              "      <td>119095</td>\n",
              "      <td>3</td>\n",
              "      <td>132096</td>\n",
              "      <td>1</td>\n",
              "      <td>1</td>\n",
              "      <td>1</td>\n",
              "      <td>8</td>\n",
              "      <td>1</td>\n",
              "    </tr>\n",
              "    <tr>\n",
              "      <th>16380</th>\n",
              "      <td>16381</td>\n",
              "      <td>1</td>\n",
              "      <td>10.252770</td>\n",
              "      <td>1</td>\n",
              "      <td>4</td>\n",
              "      <td>118327</td>\n",
              "      <td>1</td>\n",
              "      <td>0</td>\n",
              "      <td>117961</td>\n",
              "      <td>174445</td>\n",
              "      <td>1</td>\n",
              "      <td>2</td>\n",
              "      <td>1</td>\n",
              "      <td>2</td>\n",
              "      <td>132694</td>\n",
              "      <td>1.806069</td>\n",
              "      <td>8.968014</td>\n",
              "      <td>118492</td>\n",
              "      <td>270488</td>\n",
              "      <td>1</td>\n",
              "      <td>132692</td>\n",
              "      <td>1</td>\n",
              "      <td>2</td>\n",
              "      <td>1</td>\n",
              "      <td>1</td>\n",
              "      <td>1</td>\n",
              "    </tr>\n",
              "    <tr>\n",
              "      <th>16381</th>\n",
              "      <td>16382</td>\n",
              "      <td>1</td>\n",
              "      <td>8.928508</td>\n",
              "      <td>1</td>\n",
              "      <td>4</td>\n",
              "      <td>118343</td>\n",
              "      <td>1</td>\n",
              "      <td>0</td>\n",
              "      <td>117961</td>\n",
              "      <td>117906</td>\n",
              "      <td>1</td>\n",
              "      <td>0</td>\n",
              "      <td>1</td>\n",
              "      <td>1</td>\n",
              "      <td>118786</td>\n",
              "      <td>-1.245079</td>\n",
              "      <td>8.745603</td>\n",
              "      <td>120722</td>\n",
              "      <td>290919</td>\n",
              "      <td>1</td>\n",
              "      <td>118784</td>\n",
              "      <td>1</td>\n",
              "      <td>1</td>\n",
              "      <td>1</td>\n",
              "      <td>10</td>\n",
              "      <td>1</td>\n",
              "    </tr>\n",
              "    <tr>\n",
              "      <th>16382</th>\n",
              "      <td>16383</td>\n",
              "      <td>1</td>\n",
              "      <td>9.538132</td>\n",
              "      <td>1</td>\n",
              "      <td>2</td>\n",
              "      <td>118220</td>\n",
              "      <td>1</td>\n",
              "      <td>0</td>\n",
              "      <td>118219</td>\n",
              "      <td>117879</td>\n",
              "      <td>1</td>\n",
              "      <td>0</td>\n",
              "      <td>1</td>\n",
              "      <td>2</td>\n",
              "      <td>117880</td>\n",
              "      <td>3.626300</td>\n",
              "      <td>9.494617</td>\n",
              "      <td>118221</td>\n",
              "      <td>19721</td>\n",
              "      <td>1</td>\n",
              "      <td>117879</td>\n",
              "      <td>1</td>\n",
              "      <td>1</td>\n",
              "      <td>1</td>\n",
              "      <td>2</td>\n",
              "      <td>1</td>\n",
              "    </tr>\n",
              "  </tbody>\n",
              "</table>\n",
              "<p>16383 rows × 26 columns</p>\n",
              "</div>"
            ],
            "text/plain": [
              "          Id  Y         f1  f2  f3      f4  ...     f19  f20  f21  f22  f23  f24\n",
              "0          1  1  10.161458   1  34  118596  ...  121372    1    1    1    2    1\n",
              "1          2  1  10.444299   1  11  118041  ...  259173    1    1    1    1    1\n",
              "2          3  1  10.460958   1   2  118327  ...  118784    1    1    1    1    1\n",
              "3          4  1  11.301315   1  31  118300  ...  307024    1    1    1    2    1\n",
              "4          5  1   8.450198   1   2  119921  ...  128230    1    1    1   10    1\n",
              "...      ... ..        ...  ..  ..     ...  ...     ...  ...  ...  ...  ...  ...\n",
              "16378  16379  1  10.414213   1   2  118343  ...  118321    1    1    1    1    1\n",
              "16379  16380  1   9.900784   1   2  118225  ...  132096    1    1    1    8    1\n",
              "16380  16381  1  10.252770   1   4  118327  ...  132692    1    2    1    1    1\n",
              "16381  16382  1   8.928508   1   4  118343  ...  118784    1    1    1   10    1\n",
              "16382  16383  1   9.538132   1   2  118220  ...  117879    1    1    1    2    1\n",
              "\n",
              "[16383 rows x 26 columns]"
            ]
          },
          "metadata": {},
          "execution_count": 75
        }
      ]
    },
    {
      "cell_type": "code",
      "metadata": {
        "colab": {
          "base_uri": "https://localhost:8080/"
        },
        "id": "Cv44bfvQCKDq",
        "outputId": "6df4466a-f19b-43f4-b5a4-811cc8879d75"
      },
      "source": [
        "abs(min(test_final['f1']))"
      ],
      "execution_count": null,
      "outputs": [
        {
          "output_type": "execute_result",
          "data": {
            "text/plain": [
              "0.0"
            ]
          },
          "metadata": {},
          "execution_count": 9
        }
      ]
    },
    {
      "cell_type": "code",
      "metadata": {
        "colab": {
          "base_uri": "https://localhost:8080/",
          "height": 268
        },
        "id": "tIQlivVmIQ8L",
        "outputId": "2bfe0260-9694-45f6-b561-51e820c3d805"
      },
      "source": [
        "boxplot = test_final.boxplot(column=['f12'])"
      ],
      "execution_count": null,
      "outputs": [
        {
          "output_type": "display_data",
          "data": {
            "image/png": "[encoded data removed]",
            "text/plain": [
              "<Figure size 432x288 with 1 Axes>"
            ]
          },
          "metadata": {
            "needs_background": "light"
          }
        }
      ]
    },
    {
      "cell_type": "code",
      "metadata": {
        "id": "mr5W-WG7_QzV"
      },
      "source": [
        "result = pd.concat([train_final, test_final])"
      ],
      "execution_count": 76,
      "outputs": []
    },
    {
      "cell_type": "code",
      "metadata": {
        "colab": {
          "base_uri": "https://localhost:8080/",
          "height": 422
        },
        "id": "L-d8_bcfWW0x",
        "outputId": "f65e6e52-149e-4ec0-add7-faba908699fe"
      },
      "source": [
        "result"
      ],
      "execution_count": 77,
      "outputs": [
        {
          "output_type": "execute_result",
          "data": {
            "text/html": [
              "<div>\n",
              "<style scoped>\n",
              "    .dataframe tbody tr th:only-of-type {\n",
              "        vertical-align: middle;\n",
              "    }\n",
              "\n",
              "    .dataframe tbody tr th {\n",
              "        vertical-align: top;\n",
              "    }\n",
              "\n",
              "    .dataframe thead th {\n",
              "        text-align: right;\n",
              "    }\n",
              "</style>\n",
              "<table border=\"1\" class=\"dataframe\">\n",
              "  <thead>\n",
              "    <tr style=\"text-align: right;\">\n",
              "      <th></th>\n",
              "      <th>Id</th>\n",
              "      <th>Y</th>\n",
              "      <th>f1</th>\n",
              "      <th>f2</th>\n",
              "      <th>f3</th>\n",
              "      <th>f4</th>\n",
              "      <th>f5</th>\n",
              "      <th>f6</th>\n",
              "      <th>f7</th>\n",
              "      <th>f8</th>\n",
              "      <th>f9</th>\n",
              "      <th>f10</th>\n",
              "      <th>f11</th>\n",
              "      <th>f12</th>\n",
              "      <th>f13</th>\n",
              "      <th>f14</th>\n",
              "      <th>f15</th>\n",
              "      <th>f16</th>\n",
              "      <th>f17</th>\n",
              "      <th>f18</th>\n",
              "      <th>f19</th>\n",
              "      <th>f20</th>\n",
              "      <th>f21</th>\n",
              "      <th>f22</th>\n",
              "      <th>f23</th>\n",
              "      <th>f24</th>\n",
              "    </tr>\n",
              "  </thead>\n",
              "  <tbody>\n",
              "    <tr>\n",
              "      <th>0</th>\n",
              "      <td>1</td>\n",
              "      <td>1</td>\n",
              "      <td>10.161458</td>\n",
              "      <td>1</td>\n",
              "      <td>34</td>\n",
              "      <td>118596</td>\n",
              "      <td>1</td>\n",
              "      <td>0</td>\n",
              "      <td>118595</td>\n",
              "      <td>125738</td>\n",
              "      <td>1</td>\n",
              "      <td>3</td>\n",
              "      <td>1</td>\n",
              "      <td>2</td>\n",
              "      <td>121374</td>\n",
              "      <td>-2.266430</td>\n",
              "      <td>7.586296</td>\n",
              "      <td>118450</td>\n",
              "      <td>119184</td>\n",
              "      <td>1</td>\n",
              "      <td>121372</td>\n",
              "      <td>1</td>\n",
              "      <td>1</td>\n",
              "      <td>1</td>\n",
              "      <td>2</td>\n",
              "      <td>1</td>\n",
              "    </tr>\n",
              "    <tr>\n",
              "      <th>1</th>\n",
              "      <td>2</td>\n",
              "      <td>1</td>\n",
              "      <td>10.444299</td>\n",
              "      <td>1</td>\n",
              "      <td>11</td>\n",
              "      <td>118041</td>\n",
              "      <td>1</td>\n",
              "      <td>0</td>\n",
              "      <td>117902</td>\n",
              "      <td>130913</td>\n",
              "      <td>1</td>\n",
              "      <td>1</td>\n",
              "      <td>1</td>\n",
              "      <td>23</td>\n",
              "      <td>118943</td>\n",
              "      <td>-0.305612</td>\n",
              "      <td>9.642837</td>\n",
              "      <td>117945</td>\n",
              "      <td>292795</td>\n",
              "      <td>1</td>\n",
              "      <td>259173</td>\n",
              "      <td>1</td>\n",
              "      <td>1</td>\n",
              "      <td>1</td>\n",
              "      <td>1</td>\n",
              "      <td>1</td>\n",
              "    </tr>\n",
              "    <tr>\n",
              "      <th>2</th>\n",
              "      <td>3</td>\n",
              "      <td>1</td>\n",
              "      <td>10.460958</td>\n",
              "      <td>1</td>\n",
              "      <td>2</td>\n",
              "      <td>118327</td>\n",
              "      <td>1</td>\n",
              "      <td>0</td>\n",
              "      <td>117961</td>\n",
              "      <td>124402</td>\n",
              "      <td>1</td>\n",
              "      <td>2</td>\n",
              "      <td>1</td>\n",
              "      <td>1</td>\n",
              "      <td>118786</td>\n",
              "      <td>2.015561</td>\n",
              "      <td>8.932345</td>\n",
              "      <td>118933</td>\n",
              "      <td>290919</td>\n",
              "      <td>1</td>\n",
              "      <td>118784</td>\n",
              "      <td>1</td>\n",
              "      <td>1</td>\n",
              "      <td>1</td>\n",
              "      <td>1</td>\n",
              "      <td>1</td>\n",
              "    </tr>\n",
              "    <tr>\n",
              "      <th>3</th>\n",
              "      <td>4</td>\n",
              "      <td>1</td>\n",
              "      <td>11.301315</td>\n",
              "      <td>1</td>\n",
              "      <td>31</td>\n",
              "      <td>118300</td>\n",
              "      <td>1</td>\n",
              "      <td>0</td>\n",
              "      <td>117961</td>\n",
              "      <td>301218</td>\n",
              "      <td>1</td>\n",
              "      <td>0</td>\n",
              "      <td>1</td>\n",
              "      <td>1</td>\n",
              "      <td>118332</td>\n",
              "      <td>-3.172501</td>\n",
              "      <td>8.508959</td>\n",
              "      <td>118458</td>\n",
              "      <td>118331</td>\n",
              "      <td>1</td>\n",
              "      <td>307024</td>\n",
              "      <td>1</td>\n",
              "      <td>1</td>\n",
              "      <td>1</td>\n",
              "      <td>2</td>\n",
              "      <td>1</td>\n",
              "    </tr>\n",
              "    <tr>\n",
              "      <th>4</th>\n",
              "      <td>5</td>\n",
              "      <td>1</td>\n",
              "      <td>8.450198</td>\n",
              "      <td>1</td>\n",
              "      <td>2</td>\n",
              "      <td>119921</td>\n",
              "      <td>1</td>\n",
              "      <td>0</td>\n",
              "      <td>119920</td>\n",
              "      <td>302830</td>\n",
              "      <td>1</td>\n",
              "      <td>0</td>\n",
              "      <td>1</td>\n",
              "      <td>2</td>\n",
              "      <td>128231</td>\n",
              "      <td>0.573767</td>\n",
              "      <td>9.536907</td>\n",
              "      <td>142145</td>\n",
              "      <td>4673</td>\n",
              "      <td>1</td>\n",
              "      <td>128230</td>\n",
              "      <td>1</td>\n",
              "      <td>1</td>\n",
              "      <td>1</td>\n",
              "      <td>10</td>\n",
              "      <td>1</td>\n",
              "    </tr>\n",
              "    <tr>\n",
              "      <th>...</th>\n",
              "      <td>...</td>\n",
              "      <td>...</td>\n",
              "      <td>...</td>\n",
              "      <td>...</td>\n",
              "      <td>...</td>\n",
              "      <td>...</td>\n",
              "      <td>...</td>\n",
              "      <td>...</td>\n",
              "      <td>...</td>\n",
              "      <td>...</td>\n",
              "      <td>...</td>\n",
              "      <td>...</td>\n",
              "      <td>...</td>\n",
              "      <td>...</td>\n",
              "      <td>...</td>\n",
              "      <td>...</td>\n",
              "      <td>...</td>\n",
              "      <td>...</td>\n",
              "      <td>...</td>\n",
              "      <td>...</td>\n",
              "      <td>...</td>\n",
              "      <td>...</td>\n",
              "      <td>...</td>\n",
              "      <td>...</td>\n",
              "      <td>...</td>\n",
              "      <td>...</td>\n",
              "    </tr>\n",
              "    <tr>\n",
              "      <th>16380</th>\n",
              "      <td>32764</td>\n",
              "      <td>1</td>\n",
              "      <td>6.880384</td>\n",
              "      <td>1</td>\n",
              "      <td>2</td>\n",
              "      <td>118300</td>\n",
              "      <td>1</td>\n",
              "      <td>0</td>\n",
              "      <td>117961</td>\n",
              "      <td>310997</td>\n",
              "      <td>1</td>\n",
              "      <td>0</td>\n",
              "      <td>1</td>\n",
              "      <td>1</td>\n",
              "      <td>120346</td>\n",
              "      <td>1.000000</td>\n",
              "      <td>8.494948</td>\n",
              "      <td>123055</td>\n",
              "      <td>118424</td>\n",
              "      <td>1</td>\n",
              "      <td>120344</td>\n",
              "      <td>1</td>\n",
              "      <td>1</td>\n",
              "      <td>1</td>\n",
              "      <td>10</td>\n",
              "      <td>1</td>\n",
              "    </tr>\n",
              "    <tr>\n",
              "      <th>16381</th>\n",
              "      <td>32765</td>\n",
              "      <td>1</td>\n",
              "      <td>11.569344</td>\n",
              "      <td>1</td>\n",
              "      <td>2</td>\n",
              "      <td>118327</td>\n",
              "      <td>1</td>\n",
              "      <td>0</td>\n",
              "      <td>117961</td>\n",
              "      <td>117906</td>\n",
              "      <td>1</td>\n",
              "      <td>0</td>\n",
              "      <td>1</td>\n",
              "      <td>1</td>\n",
              "      <td>118322</td>\n",
              "      <td>0.580688</td>\n",
              "      <td>10.388472</td>\n",
              "      <td>118320</td>\n",
              "      <td>290919</td>\n",
              "      <td>1</td>\n",
              "      <td>118321</td>\n",
              "      <td>1</td>\n",
              "      <td>1</td>\n",
              "      <td>1</td>\n",
              "      <td>4</td>\n",
              "      <td>1</td>\n",
              "    </tr>\n",
              "    <tr>\n",
              "      <th>16382</th>\n",
              "      <td>32766</td>\n",
              "      <td>1</td>\n",
              "      <td>10.671232</td>\n",
              "      <td>1</td>\n",
              "      <td>4</td>\n",
              "      <td>117962</td>\n",
              "      <td>1</td>\n",
              "      <td>0</td>\n",
              "      <td>117961</td>\n",
              "      <td>118368</td>\n",
              "      <td>1</td>\n",
              "      <td>0</td>\n",
              "      <td>1</td>\n",
              "      <td>1</td>\n",
              "      <td>118486</td>\n",
              "      <td>1.000000</td>\n",
              "      <td>7.620705</td>\n",
              "      <td>117904</td>\n",
              "      <td>117887</td>\n",
              "      <td>1</td>\n",
              "      <td>118368</td>\n",
              "      <td>1</td>\n",
              "      <td>1</td>\n",
              "      <td>1</td>\n",
              "      <td>1</td>\n",
              "      <td>1</td>\n",
              "    </tr>\n",
              "    <tr>\n",
              "      <th>16383</th>\n",
              "      <td>32767</td>\n",
              "      <td>1</td>\n",
              "      <td>10.348878</td>\n",
              "      <td>1</td>\n",
              "      <td>2</td>\n",
              "      <td>118386</td>\n",
              "      <td>1</td>\n",
              "      <td>0</td>\n",
              "      <td>117961</td>\n",
              "      <td>117906</td>\n",
              "      <td>1</td>\n",
              "      <td>1</td>\n",
              "      <td>1</td>\n",
              "      <td>1</td>\n",
              "      <td>118322</td>\n",
              "      <td>-2.374507</td>\n",
              "      <td>7.150701</td>\n",
              "      <td>118910</td>\n",
              "      <td>290919</td>\n",
              "      <td>1</td>\n",
              "      <td>118321</td>\n",
              "      <td>1</td>\n",
              "      <td>1</td>\n",
              "      <td>1</td>\n",
              "      <td>2</td>\n",
              "      <td>2</td>\n",
              "    </tr>\n",
              "    <tr>\n",
              "      <th>16384</th>\n",
              "      <td>32768</td>\n",
              "      <td>1</td>\n",
              "      <td>10.636913</td>\n",
              "      <td>1</td>\n",
              "      <td>4</td>\n",
              "      <td>118052</td>\n",
              "      <td>1</td>\n",
              "      <td>0</td>\n",
              "      <td>117961</td>\n",
              "      <td>172635</td>\n",
              "      <td>1</td>\n",
              "      <td>4</td>\n",
              "      <td>1</td>\n",
              "      <td>1</td>\n",
              "      <td>117908</td>\n",
              "      <td>2.714601</td>\n",
              "      <td>9.538204</td>\n",
              "      <td>118821</td>\n",
              "      <td>290919</td>\n",
              "      <td>1</td>\n",
              "      <td>117905</td>\n",
              "      <td>1</td>\n",
              "      <td>1</td>\n",
              "      <td>1</td>\n",
              "      <td>1</td>\n",
              "      <td>1</td>\n",
              "    </tr>\n",
              "  </tbody>\n",
              "</table>\n",
              "<p>32768 rows × 26 columns</p>\n",
              "</div>"
            ],
            "text/plain": [
              "          Id  Y         f1  f2  f3      f4  ...     f19  f20  f21  f22  f23  f24\n",
              "0          1  1  10.161458   1  34  118596  ...  121372    1    1    1    2    1\n",
              "1          2  1  10.444299   1  11  118041  ...  259173    1    1    1    1    1\n",
              "2          3  1  10.460958   1   2  118327  ...  118784    1    1    1    1    1\n",
              "3          4  1  11.301315   1  31  118300  ...  307024    1    1    1    2    1\n",
              "4          5  1   8.450198   1   2  119921  ...  128230    1    1    1   10    1\n",
              "...      ... ..        ...  ..  ..     ...  ...     ...  ...  ...  ...  ...  ...\n",
              "16380  32764  1   6.880384   1   2  118300  ...  120344    1    1    1   10    1\n",
              "16381  32765  1  11.569344   1   2  118327  ...  118321    1    1    1    4    1\n",
              "16382  32766  1  10.671232   1   4  117962  ...  118368    1    1    1    1    1\n",
              "16383  32767  1  10.348878   1   2  118386  ...  118321    1    1    1    2    2\n",
              "16384  32768  1  10.636913   1   4  118052  ...  117905    1    1    1    1    1\n",
              "\n",
              "[32768 rows x 26 columns]"
            ]
          },
          "metadata": {},
          "execution_count": 77
        }
      ]
    },
    {
      "cell_type": "code",
      "metadata": {
        "colab": {
          "base_uri": "https://localhost:8080/",
          "height": 662
        },
        "id": "NKEuxek_LwST",
        "outputId": "bdf0d131-2115-4c39-9193-831a98e6c579"
      },
      "source": [
        "### f4 binninng \n",
        "\n",
        "  #categorical\n",
        "\n",
        "def binning_max_ones_zero_diff(df, key):\n",
        "  print(df[key].value_counts())\n",
        "  print(df[key].describe())\n",
        "  df[key].hist()\n",
        "  only_zero_train = train_final[train_final['Y']== 0]\n",
        "  only_ones_train = train_final[train_final['Y']== 1]\n",
        "  \n",
        "  if key =='f17':\n",
        "    bins = np.sort(np.unique(np.concatenate( ([0],[50000], [200000],np.array(only_ones_train[key].describe()[3:]),np.array(only_zero_train[key].describe()[3:]) ))))\n",
        "  else:\n",
        "    bins = np.sort(np.unique(np.concatenate( ([0],np.array(only_ones_train[key].describe()[3:]),np.array(only_zero_train[key].describe()[3:]) ))))\n",
        "\n",
        "  labels_len = bins.size\n",
        "  #categorical\n",
        "  #test_final['f3'].hist()\n",
        "  boxplot = df.boxplot(column=[key])\n",
        "  # First quartile (Q1)\n",
        "  Q0 = np.percentile(df[key], 0, interpolation = 'midpoint')\n",
        "\n",
        "  # First quartile (Q1)\n",
        "  Q1 = np.percentile(df[key], 25, interpolation = 'midpoint')\n",
        "  print(\"Q1. {}\".format(Q1))\n",
        "\n",
        "\n",
        "  # Third quartile (Q3)\n",
        "  Q3 = np.percentile(df[key], 75, interpolation = 'midpoint')\n",
        "  print(\"Q3. {}\".format(Q3))\n",
        "  labels = []\n",
        "  for len in range(labels_len-1):\n",
        "    labels.append(key + 'cat'+ str(len))\n",
        "\n",
        "  #labels = [key + 'small', key + 'medium', key + 'big']\n",
        "  #bins = [0, Q1, Q3,only_zero_train[key] df[key].max()]\n",
        "  df[key + 'bins'] = pd.cut(df[key], bins=bins, labels=labels, include_lowest=True)\n",
        "  df[key + 'bins'] = df[key + 'bins'].astype('category')\n",
        "  df[key + 'bins_cat']= df[key + 'bins'].cat.codes\n",
        "  #np.unique(df[key + 'bins_cat'])\n",
        "  \n",
        "#keys = ['f3', 'f4', 'f17', 'f10']\n",
        "keys = ['f17']\n",
        "\n",
        "for key in keys:\n",
        "  \n",
        "  binning_max_ones_zero_diff(result, key)\n",
        "  result\n",
        "\n",
        "  result.drop(columns=[key, key + 'bins'], inplace= True)\n",
        "  '''x = pd.get_dummies(result[key + \"bins\"])\n",
        "  result\n",
        "\n",
        "  result.drop(columns=[key + \"bins\"], inplace=  True)\n",
        "  result = pd.concat([result, x], axis=1)'''"
      ],
      "execution_count": 78,
      "outputs": [
        {
          "output_type": "stream",
          "name": "stdout",
          "text": [
            "290919    10979\n",
            "118424     2690\n",
            "19721      2636\n",
            "117887     2400\n",
            "292795     1318\n",
            "          ...  \n",
            "127957        3\n",
            "136398        3\n",
            "132725        2\n",
            "161100        2\n",
            "149353        2\n",
            "Name: f17, Length: 67, dtype: int64\n",
            "count     32768.000000\n",
            "mean     183700.136932\n",
            "std      100488.195184\n",
            "min        3130.000000\n",
            "25%      118363.000000\n",
            "50%      119006.000000\n",
            "75%      290919.000000\n",
            "max      308574.000000\n",
            "Name: f17, dtype: float64\n",
            "Q1. 118363.0\n",
            "Q3. 290919.0\n"
          ]
        },
        {
          "output_type": "display_data",
          "data": {
            "image/png": "[encoded data removed]",
            "text/plain": [
              "<Figure size 432x288 with 1 Axes>"
            ]
          },
          "metadata": {
            "needs_background": "light"
          }
        }
      ]
    },
    {
      "cell_type": "code",
      "metadata": {
        "id": "G89WmKAz-_Y8"
      },
      "source": [
        "col_name = 'f12'\n",
        "q1 = result[col_name].quantile(0.25)\n",
        "q3 = result[col_name].quantile(0.75)\n",
        "iqr = q3-q1 #Interquartile range\n",
        "fence_low_f12  = q1-1.5*iqr\n",
        "fence_high_f12 = q3+1.5*iqr\n",
        "median_f12 = result[col_name].median()\n",
        "#df_in.loc[(df_in[col_name] < fence_low), col_name] = np.nan\n",
        "result.loc[(result[col_name] > fence_high_f12), col_name] = np.nan\n",
        "\n",
        "result.fillna(median_f12,inplace=True)\n",
        "#df_in.loc[(df_in[col_name] < fence_low) | (df_in[col_name] > fence_high)]['Id']"
      ],
      "execution_count": 79,
      "outputs": []
    },
    {
      "cell_type": "code",
      "metadata": {
        "colab": {
          "base_uri": "https://localhost:8080/",
          "height": 105
        },
        "id": "F7LlEQ3-0UT_",
        "outputId": "e4061c1a-3d7d-4f32-9b23-90ec9f888934"
      },
      "source": [
        "'''col_name = 'f12'\n",
        "q1 = train_final[col_name].quantile(0.25)\n",
        "q3 = train_final[col_name].quantile(0.75)\n",
        "iqr = q3-q1 #Interquartile range\n",
        "fence_low_f12  = q1-1.5*iqr\n",
        "fence_high_f12 = q3+1.5*iqr\n",
        "median = train_final[col_name].median()\n",
        "#df_in.loc[(df_in[col_name] < fence_low), col_name] = np.nan\n",
        "train_final.loc[(train_final[col_name] > fence_high), col_name] = np.nan\n",
        "\n",
        "train_final.fillna(median,inplace=True)\n",
        "#df_in.loc[(df_in[col_name] < fence_low) | (df_in[col_name] > fence_high)]['Id']'''"
      ],
      "execution_count": null,
      "outputs": [
        {
          "output_type": "execute_result",
          "data": {
            "application/vnd.google.colaboratory.intrinsic+json": {
              "type": "string"
            },
            "text/plain": [
              "\"col_name = 'f12'\\nq1 = train_final[col_name].quantile(0.25)\\nq3 = train_final[col_name].quantile(0.75)\\niqr = q3-q1 #Interquartile range\\nfence_low_f12  = q1-1.5*iqr\\nfence_high_f12 = q3+1.5*iqr\\nmedian = train_final[col_name].median()\\n#df_in.loc[(df_in[col_name] < fence_low), col_name] = np.nan\\ntrain_final.loc[(train_final[col_name] > fence_high), col_name] = np.nan\\n\\ntrain_final.fillna(median,inplace=True)\\n#df_in.loc[(df_in[col_name] < fence_low) | (df_in[col_name] > fence_high)]['Id']\""
            ]
          },
          "metadata": {},
          "execution_count": 14
        }
      ]
    },
    {
      "cell_type": "code",
      "metadata": {
        "colab": {
          "base_uri": "https://localhost:8080/",
          "height": 105
        },
        "id": "pbatzHL56HyR",
        "outputId": "042ec807-566b-4976-f9bf-4a6b7c41ac44"
      },
      "source": [
        "'''col_name = 'f12'\n",
        "q1 = test_final[col_name].quantile(0.25)\n",
        "q3 = test_final[col_name].quantile(0.75)\n",
        "iqr = q3-q1 #Interquartile range\n",
        "fence_low  = q1-1.5*iqr\n",
        "fence_high = q3+1.5*iqr\n",
        "median = test_final[col_name].median()\n",
        "#df_in.loc[(df_in[col_name] < fence_low), col_name] = np.nan\n",
        "test_final.loc[(test_final[col_name] > fence_high), col_name] = np.nan\n",
        "\n",
        "test_final.fillna(median,inplace=True)\n",
        "#df_in.loc[(df_in[col_name] < fence_low) | (df_in[col_name] > fence_high)]['Id']'''"
      ],
      "execution_count": null,
      "outputs": [
        {
          "output_type": "execute_result",
          "data": {
            "application/vnd.google.colaboratory.intrinsic+json": {
              "type": "string"
            },
            "text/plain": [
              "\"col_name = 'f12'\\nq1 = test_final[col_name].quantile(0.25)\\nq3 = test_final[col_name].quantile(0.75)\\niqr = q3-q1 #Interquartile range\\nfence_low  = q1-1.5*iqr\\nfence_high = q3+1.5*iqr\\nmedian = test_final[col_name].median()\\n#df_in.loc[(df_in[col_name] < fence_low), col_name] = np.nan\\ntest_final.loc[(test_final[col_name] > fence_high), col_name] = np.nan\\n\\ntest_final.fillna(median,inplace=True)\\n#df_in.loc[(df_in[col_name] < fence_low) | (df_in[col_name] > fence_high)]['Id']\""
            ]
          },
          "metadata": {},
          "execution_count": 15
        }
      ]
    },
    {
      "cell_type": "code",
      "metadata": {
        "colab": {
          "base_uri": "https://localhost:8080/",
          "height": 268
        },
        "id": "A0Cp-td387H9",
        "outputId": "6ffa0c7d-0942-444f-f0e7-455c7b397ba7"
      },
      "source": [
        "boxplot = test_final.boxplot(column=['f12'])"
      ],
      "execution_count": null,
      "outputs": [
        {
          "output_type": "display_data",
          "data": {
            "image/png": "[encoded data removed]",
            "text/plain": [
              "<Figure size 432x288 with 1 Axes>"
            ]
          },
          "metadata": {
            "needs_background": "light"
          }
        }
      ]
    },
    {
      "cell_type": "code",
      "metadata": {
        "colab": {
          "base_uri": "https://localhost:8080/",
          "height": 265
        },
        "id": "M63spnu688va",
        "outputId": "62a5a1e9-8af7-4ef5-a2c4-7b69295ae5f3"
      },
      "source": [
        "boxplot = train_final.boxplot(column=['f12'])"
      ],
      "execution_count": null,
      "outputs": [
        {
          "output_type": "display_data",
          "data": {
            "image/png": "[encoded data removed]",
            "text/plain": [
              "<Figure size 432x288 with 1 Axes>"
            ]
          },
          "metadata": {
            "needs_background": "light"
          }
        }
      ]
    },
    {
      "cell_type": "code",
      "metadata": {
        "id": "mE2h0GrW0ozZ"
      },
      "source": [
        " \n",
        "col_name = 'f10'\n",
        "q1 = result[col_name].quantile(0.25)\n",
        "q3 = result[col_name].quantile(0.75)\n",
        "iqr = q3-q1 #Interquartile range\n",
        "fence_low_f10  = q1-1.5*iqr\n",
        "fence_high_f10 = q3+1.5*iqr\n",
        "median_f10 = result[col_name].median()\n",
        "#df_in.loc[(df_in[col_name] < fence_low), col_name] = np.nan\n",
        "result.loc[(result[col_name] > fence_high_f10), col_name] = np.nan\n",
        "\n",
        "result.fillna(median_f10,inplace=True)\n",
        "#df_in.loc[(df_in[col_name] < fence_low) | (df_in[col_name] > fence_high)]['Id']"
      ],
      "execution_count": 80,
      "outputs": []
    },
    {
      "cell_type": "code",
      "metadata": {
        "colab": {
          "base_uri": "https://localhost:8080/",
          "height": 442
        },
        "id": "nxMGpg88A_PW",
        "outputId": "a7d54857-4598-4d6a-e9ad-8ac9afbf2511"
      },
      "source": [
        "result"
      ],
      "execution_count": null,
      "outputs": [
        {
          "output_type": "execute_result",
          "data": {
            "text/html": [
              "<div>\n",
              "<style scoped>\n",
              "    .dataframe tbody tr th:only-of-type {\n",
              "        vertical-align: middle;\n",
              "    }\n",
              "\n",
              "    .dataframe tbody tr th {\n",
              "        vertical-align: top;\n",
              "    }\n",
              "\n",
              "    .dataframe thead th {\n",
              "        text-align: right;\n",
              "    }\n",
              "</style>\n",
              "<table border=\"1\" class=\"dataframe\">\n",
              "  <thead>\n",
              "    <tr style=\"text-align: right;\">\n",
              "      <th></th>\n",
              "      <th>Id</th>\n",
              "      <th>Y</th>\n",
              "      <th>f1</th>\n",
              "      <th>f2</th>\n",
              "      <th>f3</th>\n",
              "      <th>f4</th>\n",
              "      <th>f5</th>\n",
              "      <th>f6</th>\n",
              "      <th>f7</th>\n",
              "      <th>f8</th>\n",
              "      <th>f9</th>\n",
              "      <th>f10</th>\n",
              "      <th>f11</th>\n",
              "      <th>f12</th>\n",
              "      <th>f13</th>\n",
              "      <th>f14</th>\n",
              "      <th>f15</th>\n",
              "      <th>f16</th>\n",
              "      <th>f18</th>\n",
              "      <th>f19</th>\n",
              "      <th>f20</th>\n",
              "      <th>f21</th>\n",
              "      <th>f22</th>\n",
              "      <th>f23</th>\n",
              "      <th>f24</th>\n",
              "      <th>f17bins_cat</th>\n",
              "    </tr>\n",
              "  </thead>\n",
              "  <tbody>\n",
              "    <tr>\n",
              "      <th>0</th>\n",
              "      <td>1</td>\n",
              "      <td>1</td>\n",
              "      <td>10.161458</td>\n",
              "      <td>1</td>\n",
              "      <td>34</td>\n",
              "      <td>118596</td>\n",
              "      <td>1</td>\n",
              "      <td>0</td>\n",
              "      <td>118595</td>\n",
              "      <td>125738</td>\n",
              "      <td>1</td>\n",
              "      <td>0.0</td>\n",
              "      <td>1</td>\n",
              "      <td>2.0</td>\n",
              "      <td>121374</td>\n",
              "      <td>-2.266430</td>\n",
              "      <td>7.586296</td>\n",
              "      <td>118450</td>\n",
              "      <td>1</td>\n",
              "      <td>121372</td>\n",
              "      <td>1</td>\n",
              "      <td>1</td>\n",
              "      <td>1</td>\n",
              "      <td>2</td>\n",
              "      <td>1</td>\n",
              "      <td>5</td>\n",
              "    </tr>\n",
              "    <tr>\n",
              "      <th>1</th>\n",
              "      <td>2</td>\n",
              "      <td>1</td>\n",
              "      <td>10.444299</td>\n",
              "      <td>1</td>\n",
              "      <td>11</td>\n",
              "      <td>118041</td>\n",
              "      <td>1</td>\n",
              "      <td>0</td>\n",
              "      <td>117902</td>\n",
              "      <td>130913</td>\n",
              "      <td>1</td>\n",
              "      <td>1.0</td>\n",
              "      <td>1</td>\n",
              "      <td>1.0</td>\n",
              "      <td>118943</td>\n",
              "      <td>-0.305612</td>\n",
              "      <td>9.642837</td>\n",
              "      <td>117945</td>\n",
              "      <td>1</td>\n",
              "      <td>259173</td>\n",
              "      <td>1</td>\n",
              "      <td>1</td>\n",
              "      <td>1</td>\n",
              "      <td>1</td>\n",
              "      <td>1</td>\n",
              "      <td>8</td>\n",
              "    </tr>\n",
              "    <tr>\n",
              "      <th>2</th>\n",
              "      <td>3</td>\n",
              "      <td>1</td>\n",
              "      <td>10.460958</td>\n",
              "      <td>1</td>\n",
              "      <td>2</td>\n",
              "      <td>118327</td>\n",
              "      <td>1</td>\n",
              "      <td>0</td>\n",
              "      <td>117961</td>\n",
              "      <td>124402</td>\n",
              "      <td>1</td>\n",
              "      <td>2.0</td>\n",
              "      <td>1</td>\n",
              "      <td>1.0</td>\n",
              "      <td>118786</td>\n",
              "      <td>2.015561</td>\n",
              "      <td>8.932345</td>\n",
              "      <td>118933</td>\n",
              "      <td>1</td>\n",
              "      <td>118784</td>\n",
              "      <td>1</td>\n",
              "      <td>1</td>\n",
              "      <td>1</td>\n",
              "      <td>1</td>\n",
              "      <td>1</td>\n",
              "      <td>7</td>\n",
              "    </tr>\n",
              "    <tr>\n",
              "      <th>3</th>\n",
              "      <td>4</td>\n",
              "      <td>1</td>\n",
              "      <td>11.301315</td>\n",
              "      <td>1</td>\n",
              "      <td>31</td>\n",
              "      <td>118300</td>\n",
              "      <td>1</td>\n",
              "      <td>0</td>\n",
              "      <td>117961</td>\n",
              "      <td>301218</td>\n",
              "      <td>1</td>\n",
              "      <td>0.0</td>\n",
              "      <td>1</td>\n",
              "      <td>1.0</td>\n",
              "      <td>118332</td>\n",
              "      <td>-3.172501</td>\n",
              "      <td>8.508959</td>\n",
              "      <td>118458</td>\n",
              "      <td>1</td>\n",
              "      <td>307024</td>\n",
              "      <td>1</td>\n",
              "      <td>1</td>\n",
              "      <td>1</td>\n",
              "      <td>2</td>\n",
              "      <td>1</td>\n",
              "      <td>3</td>\n",
              "    </tr>\n",
              "    <tr>\n",
              "      <th>4</th>\n",
              "      <td>5</td>\n",
              "      <td>1</td>\n",
              "      <td>8.450198</td>\n",
              "      <td>1</td>\n",
              "      <td>2</td>\n",
              "      <td>119921</td>\n",
              "      <td>1</td>\n",
              "      <td>0</td>\n",
              "      <td>119920</td>\n",
              "      <td>302830</td>\n",
              "      <td>1</td>\n",
              "      <td>0.0</td>\n",
              "      <td>1</td>\n",
              "      <td>2.0</td>\n",
              "      <td>128231</td>\n",
              "      <td>0.573767</td>\n",
              "      <td>9.536907</td>\n",
              "      <td>142145</td>\n",
              "      <td>1</td>\n",
              "      <td>128230</td>\n",
              "      <td>1</td>\n",
              "      <td>1</td>\n",
              "      <td>1</td>\n",
              "      <td>10</td>\n",
              "      <td>1</td>\n",
              "      <td>1</td>\n",
              "    </tr>\n",
              "    <tr>\n",
              "      <th>...</th>\n",
              "      <td>...</td>\n",
              "      <td>...</td>\n",
              "      <td>...</td>\n",
              "      <td>...</td>\n",
              "      <td>...</td>\n",
              "      <td>...</td>\n",
              "      <td>...</td>\n",
              "      <td>...</td>\n",
              "      <td>...</td>\n",
              "      <td>...</td>\n",
              "      <td>...</td>\n",
              "      <td>...</td>\n",
              "      <td>...</td>\n",
              "      <td>...</td>\n",
              "      <td>...</td>\n",
              "      <td>...</td>\n",
              "      <td>...</td>\n",
              "      <td>...</td>\n",
              "      <td>...</td>\n",
              "      <td>...</td>\n",
              "      <td>...</td>\n",
              "      <td>...</td>\n",
              "      <td>...</td>\n",
              "      <td>...</td>\n",
              "      <td>...</td>\n",
              "      <td>...</td>\n",
              "    </tr>\n",
              "    <tr>\n",
              "      <th>16380</th>\n",
              "      <td>32764</td>\n",
              "      <td>1</td>\n",
              "      <td>6.880384</td>\n",
              "      <td>1</td>\n",
              "      <td>2</td>\n",
              "      <td>118300</td>\n",
              "      <td>1</td>\n",
              "      <td>0</td>\n",
              "      <td>117961</td>\n",
              "      <td>310997</td>\n",
              "      <td>1</td>\n",
              "      <td>0.0</td>\n",
              "      <td>1</td>\n",
              "      <td>1.0</td>\n",
              "      <td>120346</td>\n",
              "      <td>1.000000</td>\n",
              "      <td>8.494948</td>\n",
              "      <td>123055</td>\n",
              "      <td>1</td>\n",
              "      <td>120344</td>\n",
              "      <td>1</td>\n",
              "      <td>1</td>\n",
              "      <td>1</td>\n",
              "      <td>10</td>\n",
              "      <td>1</td>\n",
              "      <td>4</td>\n",
              "    </tr>\n",
              "    <tr>\n",
              "      <th>16381</th>\n",
              "      <td>32765</td>\n",
              "      <td>1</td>\n",
              "      <td>11.569344</td>\n",
              "      <td>1</td>\n",
              "      <td>2</td>\n",
              "      <td>118327</td>\n",
              "      <td>1</td>\n",
              "      <td>0</td>\n",
              "      <td>117961</td>\n",
              "      <td>117906</td>\n",
              "      <td>1</td>\n",
              "      <td>0.0</td>\n",
              "      <td>1</td>\n",
              "      <td>1.0</td>\n",
              "      <td>118322</td>\n",
              "      <td>0.580688</td>\n",
              "      <td>10.388472</td>\n",
              "      <td>118320</td>\n",
              "      <td>1</td>\n",
              "      <td>118321</td>\n",
              "      <td>1</td>\n",
              "      <td>1</td>\n",
              "      <td>1</td>\n",
              "      <td>4</td>\n",
              "      <td>1</td>\n",
              "      <td>7</td>\n",
              "    </tr>\n",
              "    <tr>\n",
              "      <th>16382</th>\n",
              "      <td>32766</td>\n",
              "      <td>1</td>\n",
              "      <td>10.671232</td>\n",
              "      <td>1</td>\n",
              "      <td>4</td>\n",
              "      <td>117962</td>\n",
              "      <td>1</td>\n",
              "      <td>0</td>\n",
              "      <td>117961</td>\n",
              "      <td>118368</td>\n",
              "      <td>1</td>\n",
              "      <td>0.0</td>\n",
              "      <td>1</td>\n",
              "      <td>1.0</td>\n",
              "      <td>118486</td>\n",
              "      <td>1.000000</td>\n",
              "      <td>7.620705</td>\n",
              "      <td>117904</td>\n",
              "      <td>1</td>\n",
              "      <td>118368</td>\n",
              "      <td>1</td>\n",
              "      <td>1</td>\n",
              "      <td>1</td>\n",
              "      <td>1</td>\n",
              "      <td>1</td>\n",
              "      <td>2</td>\n",
              "    </tr>\n",
              "    <tr>\n",
              "      <th>16383</th>\n",
              "      <td>32767</td>\n",
              "      <td>1</td>\n",
              "      <td>10.348878</td>\n",
              "      <td>1</td>\n",
              "      <td>2</td>\n",
              "      <td>118386</td>\n",
              "      <td>1</td>\n",
              "      <td>0</td>\n",
              "      <td>117961</td>\n",
              "      <td>117906</td>\n",
              "      <td>1</td>\n",
              "      <td>1.0</td>\n",
              "      <td>1</td>\n",
              "      <td>1.0</td>\n",
              "      <td>118322</td>\n",
              "      <td>-2.374507</td>\n",
              "      <td>7.150701</td>\n",
              "      <td>118910</td>\n",
              "      <td>1</td>\n",
              "      <td>118321</td>\n",
              "      <td>1</td>\n",
              "      <td>1</td>\n",
              "      <td>1</td>\n",
              "      <td>2</td>\n",
              "      <td>2</td>\n",
              "      <td>7</td>\n",
              "    </tr>\n",
              "    <tr>\n",
              "      <th>16384</th>\n",
              "      <td>32768</td>\n",
              "      <td>1</td>\n",
              "      <td>10.636913</td>\n",
              "      <td>1</td>\n",
              "      <td>4</td>\n",
              "      <td>118052</td>\n",
              "      <td>1</td>\n",
              "      <td>0</td>\n",
              "      <td>117961</td>\n",
              "      <td>172635</td>\n",
              "      <td>1</td>\n",
              "      <td>0.0</td>\n",
              "      <td>1</td>\n",
              "      <td>1.0</td>\n",
              "      <td>117908</td>\n",
              "      <td>2.714601</td>\n",
              "      <td>9.538204</td>\n",
              "      <td>118821</td>\n",
              "      <td>1</td>\n",
              "      <td>117905</td>\n",
              "      <td>1</td>\n",
              "      <td>1</td>\n",
              "      <td>1</td>\n",
              "      <td>1</td>\n",
              "      <td>1</td>\n",
              "      <td>7</td>\n",
              "    </tr>\n",
              "  </tbody>\n",
              "</table>\n",
              "<p>32658 rows × 26 columns</p>\n",
              "</div>"
            ],
            "text/plain": [
              "          Id  Y         f1  f2  f3  ...  f21  f22  f23  f24  f17bins_cat\n",
              "0          1  1  10.161458   1  34  ...    1    1    2    1            5\n",
              "1          2  1  10.444299   1  11  ...    1    1    1    1            8\n",
              "2          3  1  10.460958   1   2  ...    1    1    1    1            7\n",
              "3          4  1  11.301315   1  31  ...    1    1    2    1            3\n",
              "4          5  1   8.450198   1   2  ...    1    1   10    1            1\n",
              "...      ... ..        ...  ..  ..  ...  ...  ...  ...  ...          ...\n",
              "16380  32764  1   6.880384   1   2  ...    1    1   10    1            4\n",
              "16381  32765  1  11.569344   1   2  ...    1    1    4    1            7\n",
              "16382  32766  1  10.671232   1   4  ...    1    1    1    1            2\n",
              "16383  32767  1  10.348878   1   2  ...    1    1    2    2            7\n",
              "16384  32768  1  10.636913   1   4  ...    1    1    1    1            7\n",
              "\n",
              "[32658 rows x 26 columns]"
            ]
          },
          "metadata": {},
          "execution_count": 19
        }
      ]
    },
    {
      "cell_type": "code",
      "metadata": {
        "colab": {
          "base_uri": "https://localhost:8080/",
          "height": 105
        },
        "id": "0mBvQqGx_GGD",
        "outputId": "b0fd08be-c5d1-4905-9896-d9f700fbf047"
      },
      "source": [
        " \n",
        "'''col_name = 'f10'\n",
        "q1 = train_final[col_name].quantile(0.25)\n",
        "q3 = train_final[col_name].quantile(0.75)\n",
        "iqr = q3-q1 #Interquartile range\n",
        "fence_low_f10  = q1-1.5*iqr\n",
        "fence_high_f10 = q3+1.5*iqr\n",
        "median = train_final[col_name].median()\n",
        "#df_in.loc[(df_in[col_name] < fence_low), col_name] = np.nan\n",
        "train_final.loc[(train_final[col_name] > fence_high), col_name] = np.nan\n",
        "\n",
        "train_final.fillna(median,inplace=True)\n",
        "#df_in.loc[(df_in[col_name] < fence_low) | (df_in[col_name] > fence_high)]['Id']'''"
      ],
      "execution_count": null,
      "outputs": [
        {
          "output_type": "execute_result",
          "data": {
            "application/vnd.google.colaboratory.intrinsic+json": {
              "type": "string"
            },
            "text/plain": [
              "\"col_name = 'f10'\\nq1 = train_final[col_name].quantile(0.25)\\nq3 = train_final[col_name].quantile(0.75)\\niqr = q3-q1 #Interquartile range\\nfence_low_f10  = q1-1.5*iqr\\nfence_high_f10 = q3+1.5*iqr\\nmedian = train_final[col_name].median()\\n#df_in.loc[(df_in[col_name] < fence_low), col_name] = np.nan\\ntrain_final.loc[(train_final[col_name] > fence_high), col_name] = np.nan\\n\\ntrain_final.fillna(median,inplace=True)\\n#df_in.loc[(df_in[col_name] < fence_low) | (df_in[col_name] > fence_high)]['Id']\""
            ]
          },
          "metadata": {},
          "execution_count": 20
        }
      ]
    },
    {
      "cell_type": "code",
      "metadata": {
        "colab": {
          "base_uri": "https://localhost:8080/",
          "height": 105
        },
        "id": "P9Dm7P4t6ZoM",
        "outputId": "4d11e47d-c8ae-4e4a-c610-1449a9f79c19"
      },
      "source": [
        " \n",
        "'''col_name = 'f10'\n",
        "q1 = test_final[col_name].quantile(0.25)\n",
        "q3 = test_final[col_name].quantile(0.75)\n",
        "iqr = q3-q1 #Interquartile range\n",
        "fence_low  = q1-1.5*iqr\n",
        "fence_high = q3+1.5*iqr\n",
        "median = test_final[col_name].median()\n",
        "#df_in.loc[(df_in[col_name] < fence_low), col_name] = np.nan\n",
        "test_final.loc[(test_final[col_name] > fence_high), col_name] = np.nan\n",
        "\n",
        "test_final.fillna(median,inplace=True)\n",
        "#df_in.loc[(df_in[col_name] < fence_low) | (df_in[col_name] > fence_high)]['Id']'''"
      ],
      "execution_count": null,
      "outputs": [
        {
          "output_type": "execute_result",
          "data": {
            "application/vnd.google.colaboratory.intrinsic+json": {
              "type": "string"
            },
            "text/plain": [
              "\"col_name = 'f10'\\nq1 = test_final[col_name].quantile(0.25)\\nq3 = test_final[col_name].quantile(0.75)\\niqr = q3-q1 #Interquartile range\\nfence_low  = q1-1.5*iqr\\nfence_high = q3+1.5*iqr\\nmedian = test_final[col_name].median()\\n#df_in.loc[(df_in[col_name] < fence_low), col_name] = np.nan\\ntest_final.loc[(test_final[col_name] > fence_high), col_name] = np.nan\\n\\ntest_final.fillna(median,inplace=True)\\n#df_in.loc[(df_in[col_name] < fence_low) | (df_in[col_name] > fence_high)]['Id']\""
            ]
          },
          "metadata": {},
          "execution_count": 21
        }
      ]
    },
    {
      "cell_type": "code",
      "metadata": {
        "colab": {
          "base_uri": "https://localhost:8080/",
          "height": 265
        },
        "id": "DXs4fha09D6Y",
        "outputId": "731d49b5-2505-4ae3-9ca5-036704e80735"
      },
      "source": [
        "boxplot = train_final.boxplot(column=['f10'])"
      ],
      "execution_count": null,
      "outputs": [
        {
          "output_type": "display_data",
          "data": {
            "image/png": "[encoded data removed]",
            "text/plain": [
              "<Figure size 432x288 with 1 Axes>"
            ]
          },
          "metadata": {
            "needs_background": "light"
          }
        }
      ]
    },
    {
      "cell_type": "code",
      "metadata": {
        "id": "uqpFv0tbLtY8",
        "colab": {
          "base_uri": "https://localhost:8080/",
          "height": 35
        },
        "outputId": "f15c5f90-4838-44d4-d0ec-72df777b66a3"
      },
      "source": [
        "import itertools\n",
        "Y = result['Y']\n",
        "result.drop(columns= ['Id','Y'], inplace = True)\n",
        "\n",
        "'''for col_a, col_b in itertools.combinations(result.columns, 2):\n",
        "    result[col_a + 'x' + col_b] = result[col_a] * result[col_b]'''"
      ],
      "execution_count": 81,
      "outputs": [
        {
          "output_type": "execute_result",
          "data": {
            "application/vnd.google.colaboratory.intrinsic+json": {
              "type": "string"
            },
            "text/plain": [
              "\"for col_a, col_b in itertools.combinations(result.columns, 2):\\n    result[col_a + 'x' + col_b] = result[col_a] * result[col_b]\""
            ]
          },
          "metadata": {},
          "execution_count": 81
        }
      ]
    },
    {
      "cell_type": "code",
      "metadata": {
        "id": "Za2JYknYCg8C"
      },
      "source": [
        "X = result"
      ],
      "execution_count": 82,
      "outputs": []
    },
    {
      "cell_type": "code",
      "metadata": {
        "colab": {
          "base_uri": "https://localhost:8080/",
          "height": 122
        },
        "id": "fc72zdVNHz8a",
        "outputId": "d309fe0b-9abe-408b-e116-3e58b5c81e90"
      },
      "source": [
        "\n",
        "...\n",
        "# create an xgboost regression model\n",
        "from xgboost import XGBRegressor\n",
        "'''X_train, X_test, y_train, y_test = train_test_split( X, Y, test_size=0.25)\n",
        "cv_params = {'max_depth': [1,2,3,4,5,6], 'min_child_weight': [1,2,3,4], 'n_estimators': [100, 500, 1000]}    # parameters to be tries in the grid search\n",
        "fix_params = {'learning_rate': 0.2, 'objective': 'binary:logistic'}   #other parameters, fixed for the moment \n",
        "csv = GridSearchCV(XGBRegressor(**fix_params), cv_params, scoring = 'f1', verbose = 1, cv = 5)\n",
        "\n",
        "csv.fit(X_train, y_train)\n",
        "y_pred = csv.predict(X_test)\n",
        "roc_score = roc_auc_score(y_test, y_pred)'''\n",
        "\n",
        "\n",
        "\n",
        "\n"
      ],
      "execution_count": null,
      "outputs": [
        {
          "output_type": "execute_result",
          "data": {
            "application/vnd.google.colaboratory.intrinsic+json": {
              "type": "string"
            },
            "text/plain": [
              "\"X_train, X_test, y_train, y_test = train_test_split( X, Y, test_size=0.25)\\ncv_params = {'max_depth': [1,2,3,4,5,6], 'min_child_weight': [1,2,3,4], 'n_estimators': [100, 500, 1000]}    # parameters to be tries in the grid search\\nfix_params = {'learning_rate': 0.2, 'objective': 'binary:logistic'}   #other parameters, fixed for the moment \\ncsv = GridSearchCV(XGBRegressor(**fix_params), cv_params, scoring = 'f1', verbose = 1, cv = 5)\\n\\ncsv.fit(X_train, y_train)\\ny_pred = csv.predict(X_test)\\nroc_score = roc_auc_score(y_test, y_pred)\""
            ]
          },
          "metadata": {},
          "execution_count": 25
        }
      ]
    },
    {
      "cell_type": "code",
      "metadata": {
        "colab": {
          "base_uri": "https://localhost:8080/",
          "height": 265
        },
        "id": "PIc4gO-Q2Q5P",
        "outputId": "b8ba31d3-582b-40bf-c567-5ad5a0e6d3fa"
      },
      "source": [
        "boxplot = X.boxplot(column=['f10'])\n"
      ],
      "execution_count": 83,
      "outputs": [
        {
          "output_type": "display_data",
          "data": {
            "image/png": "[encoded data removed]",
            "text/plain": [
              "<Figure size 432x288 with 1 Axes>"
            ]
          },
          "metadata": {
            "needs_background": "light"
          }
        }
      ]
    },
    {
      "cell_type": "code",
      "metadata": {
        "colab": {
          "base_uri": "https://localhost:8080/",
          "height": 1000
        },
        "id": "_Z0FD-cm4C0l",
        "outputId": "239163ad-6ab8-4991-df3d-bbca0eaf9cb1"
      },
      "source": [
        "# Create a Stratified K-Fold;\n",
        "from sklearn.model_selection import cross_val_score, GridSearchCV, KFold, RandomizedSearchCV, train_test_split\n",
        "from sklearn.model_selection import StratifiedKFold\n",
        "import xgboost as xgb\n",
        "from sklearn.metrics import auc, accuracy_score, confusion_matrix, mean_squared_error\n",
        "from sklearn.metrics import roc_auc_score\n",
        "\n",
        "#n_estimators=1000\n",
        "import pickle\n",
        "\n",
        "test_final = pd.read_csv('test_final.csv')\n",
        "test_final['f3']  = test_final['f3'].astype(int)\n",
        "# F1 \n",
        "test_final['f1'] = np.log(test_final['f1'] + 1 + abs(min(test_final['f1'])))\n",
        "# F15 \n",
        " \n",
        "test_final['f15'] = np.log(test_final['f15'] + 1 + abs(min(test_final['f15'])))\n",
        "\n",
        "#f23\n",
        "test_final.loc[test_final.f23 > 9.0, \"f23\"] = 10\n",
        "test_final['f23'].describe()\n",
        "\n",
        "\n",
        "col_name = 'f10'\n",
        "median_f10 = test_final[col_name].median()\n",
        "#df_in.loc[(df_in[col_name] < fence_low), col_name] = np.nan\n",
        "test_final.loc[(test_final[col_name] > fence_high_f10), col_name] = np.nan\n",
        "\n",
        "test_final.fillna(median_f10,inplace=True)\n",
        "col_name = 'f12'\n",
        "median_f12 = test_final[col_name].median()\n",
        "#df_in.loc[(df_in[col_name] < fence_low), col_name] = np.nan\n",
        "test_final.loc[(test_final[col_name] > fence_high_f12), col_name] = np.nan\n",
        "\n",
        "test_final.fillna(median_f12,inplace=True)\n",
        "key = 'f17'\n",
        "binning_max_ones_zero_diff(test_final, key)\n",
        "test_final.drop(columns=[key, key + 'bins'], inplace= True)\n",
        "\n",
        "\n",
        "#df\n",
        "\n",
        "test_cat = test_final\n",
        "test_data_id_dropped_cat = test_cat.drop(columns = ['Id'])\n",
        "sample = pd.read_csv('sample-submission.csv')\n",
        "pred = pd.DataFrame()\n",
        "\n",
        "\n",
        "\n",
        "n_estimators_list = [1000]\n",
        "scale_pos_weight_list = [1]\n",
        "\n",
        "for estimator in n_estimators_list:\n",
        "  for scal_pos in scale_pos_weight_list:\n",
        "    print(estimator)\n",
        "    print(scal_pos)\n",
        "    kfold = StratifiedKFold(n_splits=10,\n",
        "    random_state=None).split(X, Y)\n",
        "    roc_scores_mean = []\n",
        "    scores = []\n",
        "    roc_scores = []\n",
        "\n",
        "    \n",
        "    for k, (train, test) in enumerate(kfold):\n",
        "      print(k)     \n",
        "      xgb_model = xgb.XGBClassifier(n_estimators=estimator, scale_pos_weight=scal_pos)\n",
        "\n",
        "\n",
        "      xgb_model.fit(X.iloc[train], Y.iloc[train])\n",
        "      file_name = \"model\" +str(k) + str(estimator) + \"_\" + str(scal_pos)+ \".pkl\"\n",
        "\n",
        "      # save\n",
        "      pickle.dump(xgb_model, open(file_name, \"wb\"))\n",
        "      y_pred = xgb_model.predict_proba(test_data_id_dropped_cat)\n",
        "      y_pred_one_minus = 1- y_pred\n",
        "      #print(y_pred_one_minus.shape)\n",
        "      #pred[\"pred\" + str(i)] = y_pred[:, 1]\n",
        "      pred[\"pred\" + str(k)] = y_pred_one_minus[:, 0]\n",
        "\n",
        "\n",
        "\n",
        "      roc_score = roc_auc_score(Y.iloc[test], xgb_model.predict_proba(X.iloc[test])[:, 1])\n",
        "      #roc_score = roc_auc_score(y_train.iloc[test], np.mean(xgb_model.predict_proba(X_train.iloc[test])[:, 1], )\n",
        "\n",
        "      roc_scores.append(roc_score)\n",
        "\n",
        "      #print('Fold: %s,, Acc: %.3f' % (k+1, score))\n",
        "      print('Fold: %s,, roc: %.3f' % (k+1, roc_score))\n",
        "    print(\"mean {}\".format(np.mean(roc_scores)))\n",
        "pred['Y'] = pred.mean(axis=1)\n",
        "pred['Id'] = test_final['Id']\n",
        "pred.drop(columns=[\"pred0\", \"pred1\", \"pred2\", \"pred3\",\"pred4\",\"pred5\",\"pred6\",\"pred7\", \"pred8\", \"pred9\"], inplace=True)\n",
        "pred.to_csv(\"predictions_final.csv\")\n",
        "#pred.to_csv(\"predictions.csv\")\n",
        "\n",
        "'''Fold: 1,, roc: 0.911\n",
        "1\n",
        "Fold: 2,, roc: 0.820\n",
        "2\n",
        "Fold: 3,, roc: 0.900\n",
        "3\n",
        "Fold: 4,, roc: 0.889\n",
        "4\n",
        "Fold: 5,, roc: 0.870\n",
        "5\n",
        "Fold: 6,, roc: 0.848\n",
        "6\n",
        "Fold: 7,, roc: 0.894\n",
        "7\n",
        "Fold: 8,, roc: 0.905\n",
        "8\n",
        "Fold: 9,, roc: 0.999\n",
        "9\n",
        "Fold: 10,, roc: 1.000\n",
        "mean 0.9037391934508884\n",
        "\n",
        "mean 0.9062186713472851\n",
        "\n",
        "mean 0.9077905247182263\n",
        "\n",
        "mean 0.9072127041644993\n",
        "\n",
        "0.04 :: mean 0.9044749858202863\n",
        "16 :: mean 0.9030367353105108\n",
        "\n",
        "'''\n",
        "  "
      ],
      "execution_count": 84,
      "outputs": [
        {
          "output_type": "stream",
          "name": "stdout",
          "text": [
            "290919    5418\n",
            "118424    1317\n",
            "19721     1308\n",
            "117887    1237\n",
            "292795     674\n",
            "          ... \n",
            "123689       1\n",
            "254395       1\n",
            "127957       1\n",
            "149353       1\n",
            "136398       1\n",
            "Name: f17, Length: 65, dtype: int64\n",
            "count     16385.000000\n",
            "mean     182778.345560\n",
            "std      100380.090423\n",
            "min        3130.000000\n",
            "25%      118363.000000\n",
            "50%      118960.000000\n",
            "75%      290919.000000\n",
            "max      308574.000000\n",
            "Name: f17, dtype: float64\n",
            "Q1. 118363.0\n",
            "Q3. 290919.0\n",
            "1000\n",
            "1\n",
            "0\n",
            "Fold: 1,, roc: 0.915\n",
            "1\n",
            "Fold: 2,, roc: 0.835\n",
            "2\n",
            "Fold: 3,, roc: 0.904\n",
            "3\n",
            "Fold: 4,, roc: 0.887\n",
            "4\n",
            "Fold: 5,, roc: 0.865\n",
            "5\n",
            "Fold: 6,, roc: 0.843\n",
            "6\n",
            "Fold: 7,, roc: 0.892\n",
            "7\n",
            "Fold: 8,, roc: 0.923\n",
            "8\n",
            "Fold: 9,, roc: 1.000\n",
            "9\n",
            "Fold: 10,, roc: 1.000\n",
            "mean 0.9063024084499449\n"
          ]
        },
        {
          "output_type": "execute_result",
          "data": {
            "application/vnd.google.colaboratory.intrinsic+json": {
              "type": "string"
            },
            "text/plain": [
              "'Fold: 1,, roc: 0.911\\n1\\nFold: 2,, roc: 0.820\\n2\\nFold: 3,, roc: 0.900\\n3\\nFold: 4,, roc: 0.889\\n4\\nFold: 5,, roc: 0.870\\n5\\nFold: 6,, roc: 0.848\\n6\\nFold: 7,, roc: 0.894\\n7\\nFold: 8,, roc: 0.905\\n8\\nFold: 9,, roc: 0.999\\n9\\nFold: 10,, roc: 1.000\\nmean 0.9037391934508884\\n\\nmean 0.9062186713472851\\n\\nmean 0.9077905247182263\\n\\nmean 0.9072127041644993\\n\\n0.04 :: mean 0.9044749858202863\\n16 :: mean 0.9030367353105108\\n\\n'"
            ]
          },
          "metadata": {},
          "execution_count": 84
        },
        {
          "output_type": "display_data",
          "data": {
            "image/png": "[encoded data removed]",
            "text/plain": [
              "<Figure size 432x288 with 1 Axes>"
            ]
          },
          "metadata": {
            "needs_background": "light"
          }
        }
      ]
    },
    {
      "cell_type": "code",
      "metadata": {
        "colab": {
          "base_uri": "https://localhost:8080/",
          "height": 442
        },
        "id": "2ApgoVkCNIy7",
        "outputId": "b73ee4be-3123-4573-fc0d-7111eb4c598e"
      },
      "source": [
        "test_final"
      ],
      "execution_count": null,
      "outputs": [
        {
          "output_type": "execute_result",
          "data": {
            "text/html": [
              "<div>\n",
              "<style scoped>\n",
              "    .dataframe tbody tr th:only-of-type {\n",
              "        vertical-align: middle;\n",
              "    }\n",
              "\n",
              "    .dataframe tbody tr th {\n",
              "        vertical-align: top;\n",
              "    }\n",
              "\n",
              "    .dataframe thead th {\n",
              "        text-align: right;\n",
              "    }\n",
              "</style>\n",
              "<table border=\"1\" class=\"dataframe\">\n",
              "  <thead>\n",
              "    <tr style=\"text-align: right;\">\n",
              "      <th></th>\n",
              "      <th>Id</th>\n",
              "      <th>f1</th>\n",
              "      <th>f2</th>\n",
              "      <th>f3</th>\n",
              "      <th>f4</th>\n",
              "      <th>f5</th>\n",
              "      <th>f6</th>\n",
              "      <th>f7</th>\n",
              "      <th>f8</th>\n",
              "      <th>f9</th>\n",
              "      <th>f10</th>\n",
              "      <th>f11</th>\n",
              "      <th>f12</th>\n",
              "      <th>f13</th>\n",
              "      <th>f14</th>\n",
              "      <th>f15</th>\n",
              "      <th>f16</th>\n",
              "      <th>f17</th>\n",
              "      <th>f18</th>\n",
              "      <th>f19</th>\n",
              "      <th>f20</th>\n",
              "      <th>f21</th>\n",
              "      <th>f22</th>\n",
              "      <th>f23</th>\n",
              "      <th>f24</th>\n",
              "      <th>f17bins</th>\n",
              "      <th>f17bins_cat</th>\n",
              "    </tr>\n",
              "  </thead>\n",
              "  <tbody>\n",
              "    <tr>\n",
              "      <th>0</th>\n",
              "      <td>16384</td>\n",
              "      <td>10.538343</td>\n",
              "      <td>1</td>\n",
              "      <td>1</td>\n",
              "      <td>118603</td>\n",
              "      <td>1</td>\n",
              "      <td>0</td>\n",
              "      <td>118602</td>\n",
              "      <td>118097</td>\n",
              "      <td>1</td>\n",
              "      <td>0.0</td>\n",
              "      <td>1</td>\n",
              "      <td>1.0</td>\n",
              "      <td>117888</td>\n",
              "      <td>2.453740</td>\n",
              "      <td>9.540148</td>\n",
              "      <td>117941</td>\n",
              "      <td>117887</td>\n",
              "      <td>1</td>\n",
              "      <td>117885</td>\n",
              "      <td>1</td>\n",
              "      <td>1</td>\n",
              "      <td>1</td>\n",
              "      <td>1</td>\n",
              "      <td>1</td>\n",
              "      <td>f17cat2</td>\n",
              "      <td>2</td>\n",
              "    </tr>\n",
              "    <tr>\n",
              "      <th>1</th>\n",
              "      <td>16385</td>\n",
              "      <td>12.651178</td>\n",
              "      <td>1</td>\n",
              "      <td>3</td>\n",
              "      <td>118052</td>\n",
              "      <td>1</td>\n",
              "      <td>0</td>\n",
              "      <td>117961</td>\n",
              "      <td>290919</td>\n",
              "      <td>1</td>\n",
              "      <td>0.0</td>\n",
              "      <td>1</td>\n",
              "      <td>1.0</td>\n",
              "      <td>118322</td>\n",
              "      <td>-0.012317</td>\n",
              "      <td>9.593151</td>\n",
              "      <td>118992</td>\n",
              "      <td>290919</td>\n",
              "      <td>1</td>\n",
              "      <td>118321</td>\n",
              "      <td>1</td>\n",
              "      <td>1</td>\n",
              "      <td>1</td>\n",
              "      <td>7</td>\n",
              "      <td>1</td>\n",
              "      <td>f17cat7</td>\n",
              "      <td>7</td>\n",
              "    </tr>\n",
              "    <tr>\n",
              "      <th>2</th>\n",
              "      <td>16386</td>\n",
              "      <td>10.122061</td>\n",
              "      <td>1</td>\n",
              "      <td>23</td>\n",
              "      <td>118300</td>\n",
              "      <td>1</td>\n",
              "      <td>0</td>\n",
              "      <td>117961</td>\n",
              "      <td>302830</td>\n",
              "      <td>1</td>\n",
              "      <td>0.0</td>\n",
              "      <td>1</td>\n",
              "      <td>1.0</td>\n",
              "      <td>128231</td>\n",
              "      <td>1.000000</td>\n",
              "      <td>6.679599</td>\n",
              "      <td>119181</td>\n",
              "      <td>4673</td>\n",
              "      <td>1</td>\n",
              "      <td>128230</td>\n",
              "      <td>1</td>\n",
              "      <td>1</td>\n",
              "      <td>1</td>\n",
              "      <td>10</td>\n",
              "      <td>1</td>\n",
              "      <td>f17cat1</td>\n",
              "      <td>1</td>\n",
              "    </tr>\n",
              "    <tr>\n",
              "      <th>3</th>\n",
              "      <td>16387</td>\n",
              "      <td>8.450198</td>\n",
              "      <td>1</td>\n",
              "      <td>1</td>\n",
              "      <td>119091</td>\n",
              "      <td>1</td>\n",
              "      <td>0</td>\n",
              "      <td>119062</td>\n",
              "      <td>118036</td>\n",
              "      <td>1</td>\n",
              "      <td>0.0</td>\n",
              "      <td>1</td>\n",
              "      <td>1.0</td>\n",
              "      <td>117908</td>\n",
              "      <td>1.000000</td>\n",
              "      <td>9.727824</td>\n",
              "      <td>143531</td>\n",
              "      <td>290919</td>\n",
              "      <td>1</td>\n",
              "      <td>117905</td>\n",
              "      <td>1</td>\n",
              "      <td>1</td>\n",
              "      <td>1</td>\n",
              "      <td>10</td>\n",
              "      <td>1</td>\n",
              "      <td>f17cat7</td>\n",
              "      <td>7</td>\n",
              "    </tr>\n",
              "    <tr>\n",
              "      <th>4</th>\n",
              "      <td>16388</td>\n",
              "      <td>11.137897</td>\n",
              "      <td>1</td>\n",
              "      <td>3</td>\n",
              "      <td>118300</td>\n",
              "      <td>1</td>\n",
              "      <td>0</td>\n",
              "      <td>117961</td>\n",
              "      <td>171056</td>\n",
              "      <td>1</td>\n",
              "      <td>0.0</td>\n",
              "      <td>1</td>\n",
              "      <td>1.0</td>\n",
              "      <td>118639</td>\n",
              "      <td>-0.503250</td>\n",
              "      <td>8.511376</td>\n",
              "      <td>118360</td>\n",
              "      <td>118638</td>\n",
              "      <td>1</td>\n",
              "      <td>118636</td>\n",
              "      <td>1</td>\n",
              "      <td>1</td>\n",
              "      <td>1</td>\n",
              "      <td>1</td>\n",
              "      <td>1</td>\n",
              "      <td>f17cat4</td>\n",
              "      <td>4</td>\n",
              "    </tr>\n",
              "    <tr>\n",
              "      <th>...</th>\n",
              "      <td>...</td>\n",
              "      <td>...</td>\n",
              "      <td>...</td>\n",
              "      <td>...</td>\n",
              "      <td>...</td>\n",
              "      <td>...</td>\n",
              "      <td>...</td>\n",
              "      <td>...</td>\n",
              "      <td>...</td>\n",
              "      <td>...</td>\n",
              "      <td>...</td>\n",
              "      <td>...</td>\n",
              "      <td>...</td>\n",
              "      <td>...</td>\n",
              "      <td>...</td>\n",
              "      <td>...</td>\n",
              "      <td>...</td>\n",
              "      <td>...</td>\n",
              "      <td>...</td>\n",
              "      <td>...</td>\n",
              "      <td>...</td>\n",
              "      <td>...</td>\n",
              "      <td>...</td>\n",
              "      <td>...</td>\n",
              "      <td>...</td>\n",
              "      <td>...</td>\n",
              "      <td>...</td>\n",
              "    </tr>\n",
              "    <tr>\n",
              "      <th>16380</th>\n",
              "      <td>32764</td>\n",
              "      <td>6.880384</td>\n",
              "      <td>1</td>\n",
              "      <td>1</td>\n",
              "      <td>118300</td>\n",
              "      <td>1</td>\n",
              "      <td>0</td>\n",
              "      <td>117961</td>\n",
              "      <td>310997</td>\n",
              "      <td>1</td>\n",
              "      <td>0.0</td>\n",
              "      <td>1</td>\n",
              "      <td>1.0</td>\n",
              "      <td>120346</td>\n",
              "      <td>1.000000</td>\n",
              "      <td>8.494948</td>\n",
              "      <td>123055</td>\n",
              "      <td>118424</td>\n",
              "      <td>1</td>\n",
              "      <td>120344</td>\n",
              "      <td>1</td>\n",
              "      <td>1</td>\n",
              "      <td>1</td>\n",
              "      <td>10</td>\n",
              "      <td>1</td>\n",
              "      <td>f17cat4</td>\n",
              "      <td>4</td>\n",
              "    </tr>\n",
              "    <tr>\n",
              "      <th>16381</th>\n",
              "      <td>32765</td>\n",
              "      <td>11.569344</td>\n",
              "      <td>1</td>\n",
              "      <td>1</td>\n",
              "      <td>118327</td>\n",
              "      <td>1</td>\n",
              "      <td>0</td>\n",
              "      <td>117961</td>\n",
              "      <td>117906</td>\n",
              "      <td>1</td>\n",
              "      <td>0.0</td>\n",
              "      <td>1</td>\n",
              "      <td>1.0</td>\n",
              "      <td>118322</td>\n",
              "      <td>0.580688</td>\n",
              "      <td>10.388472</td>\n",
              "      <td>118320</td>\n",
              "      <td>290919</td>\n",
              "      <td>1</td>\n",
              "      <td>118321</td>\n",
              "      <td>1</td>\n",
              "      <td>1</td>\n",
              "      <td>1</td>\n",
              "      <td>4</td>\n",
              "      <td>1</td>\n",
              "      <td>f17cat7</td>\n",
              "      <td>7</td>\n",
              "    </tr>\n",
              "    <tr>\n",
              "      <th>16382</th>\n",
              "      <td>32766</td>\n",
              "      <td>10.671232</td>\n",
              "      <td>1</td>\n",
              "      <td>3</td>\n",
              "      <td>117962</td>\n",
              "      <td>1</td>\n",
              "      <td>0</td>\n",
              "      <td>117961</td>\n",
              "      <td>118368</td>\n",
              "      <td>1</td>\n",
              "      <td>0.0</td>\n",
              "      <td>1</td>\n",
              "      <td>1.0</td>\n",
              "      <td>118486</td>\n",
              "      <td>1.000000</td>\n",
              "      <td>7.620705</td>\n",
              "      <td>117904</td>\n",
              "      <td>117887</td>\n",
              "      <td>1</td>\n",
              "      <td>118368</td>\n",
              "      <td>1</td>\n",
              "      <td>1</td>\n",
              "      <td>1</td>\n",
              "      <td>1</td>\n",
              "      <td>1</td>\n",
              "      <td>f17cat2</td>\n",
              "      <td>2</td>\n",
              "    </tr>\n",
              "    <tr>\n",
              "      <th>16383</th>\n",
              "      <td>32767</td>\n",
              "      <td>10.348878</td>\n",
              "      <td>1</td>\n",
              "      <td>1</td>\n",
              "      <td>118386</td>\n",
              "      <td>1</td>\n",
              "      <td>0</td>\n",
              "      <td>117961</td>\n",
              "      <td>117906</td>\n",
              "      <td>1</td>\n",
              "      <td>1.0</td>\n",
              "      <td>1</td>\n",
              "      <td>1.0</td>\n",
              "      <td>118322</td>\n",
              "      <td>-2.374507</td>\n",
              "      <td>7.150701</td>\n",
              "      <td>118910</td>\n",
              "      <td>290919</td>\n",
              "      <td>1</td>\n",
              "      <td>118321</td>\n",
              "      <td>1</td>\n",
              "      <td>1</td>\n",
              "      <td>1</td>\n",
              "      <td>2</td>\n",
              "      <td>2</td>\n",
              "      <td>f17cat7</td>\n",
              "      <td>7</td>\n",
              "    </tr>\n",
              "    <tr>\n",
              "      <th>16384</th>\n",
              "      <td>32768</td>\n",
              "      <td>10.636913</td>\n",
              "      <td>1</td>\n",
              "      <td>3</td>\n",
              "      <td>118052</td>\n",
              "      <td>1</td>\n",
              "      <td>0</td>\n",
              "      <td>117961</td>\n",
              "      <td>172635</td>\n",
              "      <td>1</td>\n",
              "      <td>0.0</td>\n",
              "      <td>1</td>\n",
              "      <td>1.0</td>\n",
              "      <td>117908</td>\n",
              "      <td>2.714601</td>\n",
              "      <td>9.538204</td>\n",
              "      <td>118821</td>\n",
              "      <td>290919</td>\n",
              "      <td>1</td>\n",
              "      <td>117905</td>\n",
              "      <td>1</td>\n",
              "      <td>1</td>\n",
              "      <td>1</td>\n",
              "      <td>1</td>\n",
              "      <td>1</td>\n",
              "      <td>f17cat7</td>\n",
              "      <td>7</td>\n",
              "    </tr>\n",
              "  </tbody>\n",
              "</table>\n",
              "<p>16385 rows × 27 columns</p>\n",
              "</div>"
            ],
            "text/plain": [
              "          Id         f1  f2  f3      f4  ...  f22  f23  f24  f17bins  f17bins_cat\n",
              "0      16384  10.538343   1   1  118603  ...    1    1    1  f17cat2            2\n",
              "1      16385  12.651178   1   3  118052  ...    1    7    1  f17cat7            7\n",
              "2      16386  10.122061   1  23  118300  ...    1   10    1  f17cat1            1\n",
              "3      16387   8.450198   1   1  119091  ...    1   10    1  f17cat7            7\n",
              "4      16388  11.137897   1   3  118300  ...    1    1    1  f17cat4            4\n",
              "...      ...        ...  ..  ..     ...  ...  ...  ...  ...      ...          ...\n",
              "16380  32764   6.880384   1   1  118300  ...    1   10    1  f17cat4            4\n",
              "16381  32765  11.569344   1   1  118327  ...    1    4    1  f17cat7            7\n",
              "16382  32766  10.671232   1   3  117962  ...    1    1    1  f17cat2            2\n",
              "16383  32767  10.348878   1   1  118386  ...    1    2    2  f17cat7            7\n",
              "16384  32768  10.636913   1   3  118052  ...    1    1    1  f17cat7            7\n",
              "\n",
              "[16385 rows x 27 columns]"
            ]
          },
          "metadata": {},
          "execution_count": 41
        }
      ]
    },
    {
      "cell_type": "code",
      "metadata": {
        "colab": {
          "base_uri": "https://localhost:8080/",
          "height": 442
        },
        "id": "9BvIyQDUNMAE",
        "outputId": "1ba6ed05-9d92-4a2c-c3ae-75182315ba75"
      },
      "source": [
        "X"
      ],
      "execution_count": null,
      "outputs": [
        {
          "output_type": "execute_result",
          "data": {
            "text/html": [
              "<div>\n",
              "<style scoped>\n",
              "    .dataframe tbody tr th:only-of-type {\n",
              "        vertical-align: middle;\n",
              "    }\n",
              "\n",
              "    .dataframe tbody tr th {\n",
              "        vertical-align: top;\n",
              "    }\n",
              "\n",
              "    .dataframe thead th {\n",
              "        text-align: right;\n",
              "    }\n",
              "</style>\n",
              "<table border=\"1\" class=\"dataframe\">\n",
              "  <thead>\n",
              "    <tr style=\"text-align: right;\">\n",
              "      <th></th>\n",
              "      <th>f1</th>\n",
              "      <th>f2</th>\n",
              "      <th>f3</th>\n",
              "      <th>f4</th>\n",
              "      <th>f5</th>\n",
              "      <th>f6</th>\n",
              "      <th>f7</th>\n",
              "      <th>f8</th>\n",
              "      <th>f9</th>\n",
              "      <th>f10</th>\n",
              "      <th>f11</th>\n",
              "      <th>f12</th>\n",
              "      <th>f13</th>\n",
              "      <th>f14</th>\n",
              "      <th>f15</th>\n",
              "      <th>f16</th>\n",
              "      <th>f18</th>\n",
              "      <th>f19</th>\n",
              "      <th>f20</th>\n",
              "      <th>f21</th>\n",
              "      <th>f22</th>\n",
              "      <th>f23</th>\n",
              "      <th>f24</th>\n",
              "      <th>f17bins_cat</th>\n",
              "    </tr>\n",
              "  </thead>\n",
              "  <tbody>\n",
              "    <tr>\n",
              "      <th>0</th>\n",
              "      <td>10.161458</td>\n",
              "      <td>1</td>\n",
              "      <td>34</td>\n",
              "      <td>118596</td>\n",
              "      <td>1</td>\n",
              "      <td>0</td>\n",
              "      <td>118595</td>\n",
              "      <td>125738</td>\n",
              "      <td>1</td>\n",
              "      <td>0.0</td>\n",
              "      <td>1</td>\n",
              "      <td>2.0</td>\n",
              "      <td>121374</td>\n",
              "      <td>-2.266430</td>\n",
              "      <td>7.586296</td>\n",
              "      <td>118450</td>\n",
              "      <td>1</td>\n",
              "      <td>121372</td>\n",
              "      <td>1</td>\n",
              "      <td>1</td>\n",
              "      <td>1</td>\n",
              "      <td>2</td>\n",
              "      <td>1</td>\n",
              "      <td>5</td>\n",
              "    </tr>\n",
              "    <tr>\n",
              "      <th>1</th>\n",
              "      <td>10.444299</td>\n",
              "      <td>1</td>\n",
              "      <td>11</td>\n",
              "      <td>118041</td>\n",
              "      <td>1</td>\n",
              "      <td>0</td>\n",
              "      <td>117902</td>\n",
              "      <td>130913</td>\n",
              "      <td>1</td>\n",
              "      <td>1.0</td>\n",
              "      <td>1</td>\n",
              "      <td>1.0</td>\n",
              "      <td>118943</td>\n",
              "      <td>-0.305612</td>\n",
              "      <td>9.642837</td>\n",
              "      <td>117945</td>\n",
              "      <td>1</td>\n",
              "      <td>259173</td>\n",
              "      <td>1</td>\n",
              "      <td>1</td>\n",
              "      <td>1</td>\n",
              "      <td>1</td>\n",
              "      <td>1</td>\n",
              "      <td>8</td>\n",
              "    </tr>\n",
              "    <tr>\n",
              "      <th>2</th>\n",
              "      <td>10.460958</td>\n",
              "      <td>1</td>\n",
              "      <td>2</td>\n",
              "      <td>118327</td>\n",
              "      <td>1</td>\n",
              "      <td>0</td>\n",
              "      <td>117961</td>\n",
              "      <td>124402</td>\n",
              "      <td>1</td>\n",
              "      <td>2.0</td>\n",
              "      <td>1</td>\n",
              "      <td>1.0</td>\n",
              "      <td>118786</td>\n",
              "      <td>2.015561</td>\n",
              "      <td>8.932345</td>\n",
              "      <td>118933</td>\n",
              "      <td>1</td>\n",
              "      <td>118784</td>\n",
              "      <td>1</td>\n",
              "      <td>1</td>\n",
              "      <td>1</td>\n",
              "      <td>1</td>\n",
              "      <td>1</td>\n",
              "      <td>7</td>\n",
              "    </tr>\n",
              "    <tr>\n",
              "      <th>3</th>\n",
              "      <td>11.301315</td>\n",
              "      <td>1</td>\n",
              "      <td>31</td>\n",
              "      <td>118300</td>\n",
              "      <td>1</td>\n",
              "      <td>0</td>\n",
              "      <td>117961</td>\n",
              "      <td>301218</td>\n",
              "      <td>1</td>\n",
              "      <td>0.0</td>\n",
              "      <td>1</td>\n",
              "      <td>1.0</td>\n",
              "      <td>118332</td>\n",
              "      <td>-3.172501</td>\n",
              "      <td>8.508959</td>\n",
              "      <td>118458</td>\n",
              "      <td>1</td>\n",
              "      <td>307024</td>\n",
              "      <td>1</td>\n",
              "      <td>1</td>\n",
              "      <td>1</td>\n",
              "      <td>2</td>\n",
              "      <td>1</td>\n",
              "      <td>3</td>\n",
              "    </tr>\n",
              "    <tr>\n",
              "      <th>4</th>\n",
              "      <td>8.450198</td>\n",
              "      <td>1</td>\n",
              "      <td>2</td>\n",
              "      <td>119921</td>\n",
              "      <td>1</td>\n",
              "      <td>0</td>\n",
              "      <td>119920</td>\n",
              "      <td>302830</td>\n",
              "      <td>1</td>\n",
              "      <td>0.0</td>\n",
              "      <td>1</td>\n",
              "      <td>2.0</td>\n",
              "      <td>128231</td>\n",
              "      <td>0.573767</td>\n",
              "      <td>9.536907</td>\n",
              "      <td>142145</td>\n",
              "      <td>1</td>\n",
              "      <td>128230</td>\n",
              "      <td>1</td>\n",
              "      <td>1</td>\n",
              "      <td>1</td>\n",
              "      <td>10</td>\n",
              "      <td>1</td>\n",
              "      <td>1</td>\n",
              "    </tr>\n",
              "    <tr>\n",
              "      <th>...</th>\n",
              "      <td>...</td>\n",
              "      <td>...</td>\n",
              "      <td>...</td>\n",
              "      <td>...</td>\n",
              "      <td>...</td>\n",
              "      <td>...</td>\n",
              "      <td>...</td>\n",
              "      <td>...</td>\n",
              "      <td>...</td>\n",
              "      <td>...</td>\n",
              "      <td>...</td>\n",
              "      <td>...</td>\n",
              "      <td>...</td>\n",
              "      <td>...</td>\n",
              "      <td>...</td>\n",
              "      <td>...</td>\n",
              "      <td>...</td>\n",
              "      <td>...</td>\n",
              "      <td>...</td>\n",
              "      <td>...</td>\n",
              "      <td>...</td>\n",
              "      <td>...</td>\n",
              "      <td>...</td>\n",
              "      <td>...</td>\n",
              "    </tr>\n",
              "    <tr>\n",
              "      <th>16380</th>\n",
              "      <td>6.880384</td>\n",
              "      <td>1</td>\n",
              "      <td>2</td>\n",
              "      <td>118300</td>\n",
              "      <td>1</td>\n",
              "      <td>0</td>\n",
              "      <td>117961</td>\n",
              "      <td>310997</td>\n",
              "      <td>1</td>\n",
              "      <td>0.0</td>\n",
              "      <td>1</td>\n",
              "      <td>1.0</td>\n",
              "      <td>120346</td>\n",
              "      <td>1.000000</td>\n",
              "      <td>8.494948</td>\n",
              "      <td>123055</td>\n",
              "      <td>1</td>\n",
              "      <td>120344</td>\n",
              "      <td>1</td>\n",
              "      <td>1</td>\n",
              "      <td>1</td>\n",
              "      <td>10</td>\n",
              "      <td>1</td>\n",
              "      <td>4</td>\n",
              "    </tr>\n",
              "    <tr>\n",
              "      <th>16381</th>\n",
              "      <td>11.569344</td>\n",
              "      <td>1</td>\n",
              "      <td>2</td>\n",
              "      <td>118327</td>\n",
              "      <td>1</td>\n",
              "      <td>0</td>\n",
              "      <td>117961</td>\n",
              "      <td>117906</td>\n",
              "      <td>1</td>\n",
              "      <td>0.0</td>\n",
              "      <td>1</td>\n",
              "      <td>1.0</td>\n",
              "      <td>118322</td>\n",
              "      <td>0.580688</td>\n",
              "      <td>10.388472</td>\n",
              "      <td>118320</td>\n",
              "      <td>1</td>\n",
              "      <td>118321</td>\n",
              "      <td>1</td>\n",
              "      <td>1</td>\n",
              "      <td>1</td>\n",
              "      <td>4</td>\n",
              "      <td>1</td>\n",
              "      <td>7</td>\n",
              "    </tr>\n",
              "    <tr>\n",
              "      <th>16382</th>\n",
              "      <td>10.671232</td>\n",
              "      <td>1</td>\n",
              "      <td>4</td>\n",
              "      <td>117962</td>\n",
              "      <td>1</td>\n",
              "      <td>0</td>\n",
              "      <td>117961</td>\n",
              "      <td>118368</td>\n",
              "      <td>1</td>\n",
              "      <td>0.0</td>\n",
              "      <td>1</td>\n",
              "      <td>1.0</td>\n",
              "      <td>118486</td>\n",
              "      <td>1.000000</td>\n",
              "      <td>7.620705</td>\n",
              "      <td>117904</td>\n",
              "      <td>1</td>\n",
              "      <td>118368</td>\n",
              "      <td>1</td>\n",
              "      <td>1</td>\n",
              "      <td>1</td>\n",
              "      <td>1</td>\n",
              "      <td>1</td>\n",
              "      <td>2</td>\n",
              "    </tr>\n",
              "    <tr>\n",
              "      <th>16383</th>\n",
              "      <td>10.348878</td>\n",
              "      <td>1</td>\n",
              "      <td>2</td>\n",
              "      <td>118386</td>\n",
              "      <td>1</td>\n",
              "      <td>0</td>\n",
              "      <td>117961</td>\n",
              "      <td>117906</td>\n",
              "      <td>1</td>\n",
              "      <td>1.0</td>\n",
              "      <td>1</td>\n",
              "      <td>1.0</td>\n",
              "      <td>118322</td>\n",
              "      <td>-2.374507</td>\n",
              "      <td>7.150701</td>\n",
              "      <td>118910</td>\n",
              "      <td>1</td>\n",
              "      <td>118321</td>\n",
              "      <td>1</td>\n",
              "      <td>1</td>\n",
              "      <td>1</td>\n",
              "      <td>2</td>\n",
              "      <td>2</td>\n",
              "      <td>7</td>\n",
              "    </tr>\n",
              "    <tr>\n",
              "      <th>16384</th>\n",
              "      <td>10.636913</td>\n",
              "      <td>1</td>\n",
              "      <td>4</td>\n",
              "      <td>118052</td>\n",
              "      <td>1</td>\n",
              "      <td>0</td>\n",
              "      <td>117961</td>\n",
              "      <td>172635</td>\n",
              "      <td>1</td>\n",
              "      <td>0.0</td>\n",
              "      <td>1</td>\n",
              "      <td>1.0</td>\n",
              "      <td>117908</td>\n",
              "      <td>2.714601</td>\n",
              "      <td>9.538204</td>\n",
              "      <td>118821</td>\n",
              "      <td>1</td>\n",
              "      <td>117905</td>\n",
              "      <td>1</td>\n",
              "      <td>1</td>\n",
              "      <td>1</td>\n",
              "      <td>1</td>\n",
              "      <td>1</td>\n",
              "      <td>7</td>\n",
              "    </tr>\n",
              "  </tbody>\n",
              "</table>\n",
              "<p>32658 rows × 24 columns</p>\n",
              "</div>"
            ],
            "text/plain": [
              "              f1  f2  f3      f4  f5  f6  ...  f20  f21  f22  f23  f24  f17bins_cat\n",
              "0      10.161458   1  34  118596   1   0  ...    1    1    1    2    1            5\n",
              "1      10.444299   1  11  118041   1   0  ...    1    1    1    1    1            8\n",
              "2      10.460958   1   2  118327   1   0  ...    1    1    1    1    1            7\n",
              "3      11.301315   1  31  118300   1   0  ...    1    1    1    2    1            3\n",
              "4       8.450198   1   2  119921   1   0  ...    1    1    1   10    1            1\n",
              "...          ...  ..  ..     ...  ..  ..  ...  ...  ...  ...  ...  ...          ...\n",
              "16380   6.880384   1   2  118300   1   0  ...    1    1    1   10    1            4\n",
              "16381  11.569344   1   2  118327   1   0  ...    1    1    1    4    1            7\n",
              "16382  10.671232   1   4  117962   1   0  ...    1    1    1    1    1            2\n",
              "16383  10.348878   1   2  118386   1   0  ...    1    1    1    2    2            7\n",
              "16384  10.636913   1   4  118052   1   0  ...    1    1    1    1    1            7\n",
              "\n",
              "[32658 rows x 24 columns]"
            ]
          },
          "metadata": {},
          "execution_count": 42
        }
      ]
    },
    {
      "cell_type": "markdown",
      "metadata": {
        "id": "z9qgi53mO_Q_"
      },
      "source": [
        ""
      ]
    },
    {
      "cell_type": "code",
      "metadata": {
        "id": "RZG9osFfO9RH"
      },
      "source": [
        "n_estimators_list = [100, 200, 500, 700, 800, 1000, 1500, 2000, 3000, 4000]\n",
        "scale_pos_weight_list = [0.04, 0.05, 0.06, 16]\n",
        "\n",
        "for estimator in n_estimators_list:\n",
        "  for scal_pos in scale_pos_weight_list:\n",
        "    print(str(estimator))\n",
        "    print(str(scal_pos))\n",
        "\n",
        " "
      ],
      "execution_count": null,
      "outputs": []
    },
    {
      "cell_type": "code",
      "metadata": {
        "id": "H5fvN-ppjs2u",
        "colab": {
          "base_uri": "https://localhost:8080/",
          "height": 295
        },
        "outputId": "98dd85ad-5995-4f9e-e8e1-a4da23087603"
      },
      "source": [
        "# plot feature importance\n",
        "from xgboost import plot_importance\n",
        "import matplotlib.pyplot as plt\n",
        "plot_importance(xgb_model)\n",
        "plt.show()"
      ],
      "execution_count": null,
      "outputs": [
        {
          "output_type": "display_data",
          "data": {
            "image/png": "[encoded data removed]",
            "text/plain": [
              "<Figure size 432x288 with 1 Axes>"
            ]
          },
          "metadata": {
            "needs_background": "light"
          }
        }
      ]
    }
  ]
}