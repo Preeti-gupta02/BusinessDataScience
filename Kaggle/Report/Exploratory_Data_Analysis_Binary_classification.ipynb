{
  "nbformat": 4,
  "nbformat_minor": 0,
  "metadata": {
    "colab": {
      "name": "Exploratory_Data_Analysis_Binary_classification.ipynb",
      "provenance": [],
      "collapsed_sections": []
    },
    "kernelspec": {
      "name": "python3",
      "display_name": "Python 3"
    },
    "language_info": {
      "name": "python"
    },
    "accelerator": "GPU"
  },
  "cells": [
    {
      "cell_type": "code",
      "metadata": {
        "id": "C5MJtamFn_A_"
      },
      "source": [
        "import pandas as pd\n",
        "import numpy as np"
      ],
      "execution_count": null,
      "outputs": []
    },
    {
      "cell_type": "code",
      "metadata": {
        "id": "mVFGow1Ko5Ck"
      },
      "source": [
        "train_final = pd.read_csv('train_final.csv')  "
      ],
      "execution_count": null,
      "outputs": []
    },
    {
      "cell_type": "code",
      "metadata": {
        "id": "7FCuysoZG28q"
      },
      "source": [
        "test_final = pd.read_csv('test_final.csv')  "
      ],
      "execution_count": null,
      "outputs": []
    },
    {
      "cell_type": "code",
      "metadata": {
        "colab": {
          "base_uri": "https://localhost:8080/",
          "height": 422
        },
        "id": "nPpafqnlG4Hr",
        "outputId": "3bba24fc-6c48-45ce-ef0a-2330dd1fee45"
      },
      "source": [
        "frames = [train_final.drop(columns = ['Y']), test_final]\n",
        "result = pd.concat(frames)\n",
        "result"
      ],
      "execution_count": null,
      "outputs": [
        {
          "output_type": "execute_result",
          "data": {
            "text/html": [
              "<div>\n",
              "<style scoped>\n",
              "    .dataframe tbody tr th:only-of-type {\n",
              "        vertical-align: middle;\n",
              "    }\n",
              "\n",
              "    .dataframe tbody tr th {\n",
              "        vertical-align: top;\n",
              "    }\n",
              "\n",
              "    .dataframe thead th {\n",
              "        text-align: right;\n",
              "    }\n",
              "</style>\n",
              "<table border=\"1\" class=\"dataframe\">\n",
              "  <thead>\n",
              "    <tr style=\"text-align: right;\">\n",
              "      <th></th>\n",
              "      <th>Id</th>\n",
              "      <th>f1</th>\n",
              "      <th>f2</th>\n",
              "      <th>f3</th>\n",
              "      <th>f4</th>\n",
              "      <th>f5</th>\n",
              "      <th>f6</th>\n",
              "      <th>f7</th>\n",
              "      <th>f8</th>\n",
              "      <th>f9</th>\n",
              "      <th>f10</th>\n",
              "      <th>f11</th>\n",
              "      <th>f12</th>\n",
              "      <th>f13</th>\n",
              "      <th>f14</th>\n",
              "      <th>f15</th>\n",
              "      <th>f16</th>\n",
              "      <th>f17</th>\n",
              "      <th>f18</th>\n",
              "      <th>f19</th>\n",
              "      <th>f20</th>\n",
              "      <th>f21</th>\n",
              "      <th>f22</th>\n",
              "      <th>f23</th>\n",
              "      <th>f24</th>\n",
              "    </tr>\n",
              "  </thead>\n",
              "  <tbody>\n",
              "    <tr>\n",
              "      <th>0</th>\n",
              "      <td>1</td>\n",
              "      <td>25884</td>\n",
              "      <td>1</td>\n",
              "      <td>33.63</td>\n",
              "      <td>118596</td>\n",
              "      <td>1</td>\n",
              "      <td>0</td>\n",
              "      <td>118595</td>\n",
              "      <td>125738</td>\n",
              "      <td>1</td>\n",
              "      <td>3</td>\n",
              "      <td>1</td>\n",
              "      <td>2</td>\n",
              "      <td>121374</td>\n",
              "      <td>-2.266430</td>\n",
              "      <td>1945</td>\n",
              "      <td>118450</td>\n",
              "      <td>119184</td>\n",
              "      <td>1</td>\n",
              "      <td>121372</td>\n",
              "      <td>1</td>\n",
              "      <td>1</td>\n",
              "      <td>1</td>\n",
              "      <td>2</td>\n",
              "      <td>1</td>\n",
              "    </tr>\n",
              "    <tr>\n",
              "      <th>1</th>\n",
              "      <td>2</td>\n",
              "      <td>34346</td>\n",
              "      <td>1</td>\n",
              "      <td>10.62</td>\n",
              "      <td>118041</td>\n",
              "      <td>1</td>\n",
              "      <td>0</td>\n",
              "      <td>117902</td>\n",
              "      <td>130913</td>\n",
              "      <td>1</td>\n",
              "      <td>1</td>\n",
              "      <td>1</td>\n",
              "      <td>23</td>\n",
              "      <td>118943</td>\n",
              "      <td>-0.305612</td>\n",
              "      <td>15385</td>\n",
              "      <td>117945</td>\n",
              "      <td>292795</td>\n",
              "      <td>1</td>\n",
              "      <td>259173</td>\n",
              "      <td>1</td>\n",
              "      <td>1</td>\n",
              "      <td>1</td>\n",
              "      <td>1</td>\n",
              "      <td>1</td>\n",
              "    </tr>\n",
              "    <tr>\n",
              "      <th>2</th>\n",
              "      <td>3</td>\n",
              "      <td>34923</td>\n",
              "      <td>1</td>\n",
              "      <td>1.77</td>\n",
              "      <td>118327</td>\n",
              "      <td>1</td>\n",
              "      <td>0</td>\n",
              "      <td>117961</td>\n",
              "      <td>124402</td>\n",
              "      <td>1</td>\n",
              "      <td>2</td>\n",
              "      <td>1</td>\n",
              "      <td>1</td>\n",
              "      <td>118786</td>\n",
              "      <td>2.015561</td>\n",
              "      <td>7547</td>\n",
              "      <td>118933</td>\n",
              "      <td>290919</td>\n",
              "      <td>1</td>\n",
              "      <td>118784</td>\n",
              "      <td>1</td>\n",
              "      <td>1</td>\n",
              "      <td>1</td>\n",
              "      <td>1</td>\n",
              "      <td>1</td>\n",
              "    </tr>\n",
              "    <tr>\n",
              "      <th>3</th>\n",
              "      <td>4</td>\n",
              "      <td>80926</td>\n",
              "      <td>1</td>\n",
              "      <td>30.09</td>\n",
              "      <td>118300</td>\n",
              "      <td>1</td>\n",
              "      <td>0</td>\n",
              "      <td>117961</td>\n",
              "      <td>301218</td>\n",
              "      <td>1</td>\n",
              "      <td>0</td>\n",
              "      <td>1</td>\n",
              "      <td>1</td>\n",
              "      <td>118332</td>\n",
              "      <td>-3.172501</td>\n",
              "      <td>4933</td>\n",
              "      <td>118458</td>\n",
              "      <td>118331</td>\n",
              "      <td>1</td>\n",
              "      <td>307024</td>\n",
              "      <td>1</td>\n",
              "      <td>1</td>\n",
              "      <td>1</td>\n",
              "      <td>2</td>\n",
              "      <td>1</td>\n",
              "    </tr>\n",
              "    <tr>\n",
              "      <th>4</th>\n",
              "      <td>5</td>\n",
              "      <td>4674</td>\n",
              "      <td>1</td>\n",
              "      <td>1.77</td>\n",
              "      <td>119921</td>\n",
              "      <td>1</td>\n",
              "      <td>0</td>\n",
              "      <td>119920</td>\n",
              "      <td>302830</td>\n",
              "      <td>1</td>\n",
              "      <td>0</td>\n",
              "      <td>1</td>\n",
              "      <td>2</td>\n",
              "      <td>128231</td>\n",
              "      <td>0.573767</td>\n",
              "      <td>13836</td>\n",
              "      <td>142145</td>\n",
              "      <td>4673</td>\n",
              "      <td>1</td>\n",
              "      <td>128230</td>\n",
              "      <td>1</td>\n",
              "      <td>1</td>\n",
              "      <td>1</td>\n",
              "      <td>620</td>\n",
              "      <td>1</td>\n",
              "    </tr>\n",
              "    <tr>\n",
              "      <th>...</th>\n",
              "      <td>...</td>\n",
              "      <td>...</td>\n",
              "      <td>...</td>\n",
              "      <td>...</td>\n",
              "      <td>...</td>\n",
              "      <td>...</td>\n",
              "      <td>...</td>\n",
              "      <td>...</td>\n",
              "      <td>...</td>\n",
              "      <td>...</td>\n",
              "      <td>...</td>\n",
              "      <td>...</td>\n",
              "      <td>...</td>\n",
              "      <td>...</td>\n",
              "      <td>...</td>\n",
              "      <td>...</td>\n",
              "      <td>...</td>\n",
              "      <td>...</td>\n",
              "      <td>...</td>\n",
              "      <td>...</td>\n",
              "      <td>...</td>\n",
              "      <td>...</td>\n",
              "      <td>...</td>\n",
              "      <td>...</td>\n",
              "      <td>...</td>\n",
              "    </tr>\n",
              "    <tr>\n",
              "      <th>16380</th>\n",
              "      <td>32764</td>\n",
              "      <td>971</td>\n",
              "      <td>1</td>\n",
              "      <td>1.77</td>\n",
              "      <td>118300</td>\n",
              "      <td>1</td>\n",
              "      <td>0</td>\n",
              "      <td>117961</td>\n",
              "      <td>310997</td>\n",
              "      <td>1</td>\n",
              "      <td>0</td>\n",
              "      <td>1</td>\n",
              "      <td>1</td>\n",
              "      <td>120346</td>\n",
              "      <td>1.000000</td>\n",
              "      <td>4864</td>\n",
              "      <td>123055</td>\n",
              "      <td>118424</td>\n",
              "      <td>1</td>\n",
              "      <td>120344</td>\n",
              "      <td>1</td>\n",
              "      <td>1</td>\n",
              "      <td>1</td>\n",
              "      <td>44</td>\n",
              "      <td>1</td>\n",
              "    </tr>\n",
              "    <tr>\n",
              "      <th>16381</th>\n",
              "      <td>32765</td>\n",
              "      <td>105802</td>\n",
              "      <td>1</td>\n",
              "      <td>1.77</td>\n",
              "      <td>118327</td>\n",
              "      <td>1</td>\n",
              "      <td>0</td>\n",
              "      <td>117961</td>\n",
              "      <td>117906</td>\n",
              "      <td>1</td>\n",
              "      <td>0</td>\n",
              "      <td>1</td>\n",
              "      <td>1</td>\n",
              "      <td>118322</td>\n",
              "      <td>0.580688</td>\n",
              "      <td>32457</td>\n",
              "      <td>118320</td>\n",
              "      <td>290919</td>\n",
              "      <td>1</td>\n",
              "      <td>118321</td>\n",
              "      <td>1</td>\n",
              "      <td>1</td>\n",
              "      <td>1</td>\n",
              "      <td>4</td>\n",
              "      <td>1</td>\n",
              "    </tr>\n",
              "    <tr>\n",
              "      <th>16382</th>\n",
              "      <td>32766</td>\n",
              "      <td>43096</td>\n",
              "      <td>1</td>\n",
              "      <td>3.54</td>\n",
              "      <td>117962</td>\n",
              "      <td>1</td>\n",
              "      <td>0</td>\n",
              "      <td>117961</td>\n",
              "      <td>118368</td>\n",
              "      <td>1</td>\n",
              "      <td>0</td>\n",
              "      <td>1</td>\n",
              "      <td>1</td>\n",
              "      <td>118486</td>\n",
              "      <td>1.000000</td>\n",
              "      <td>2014</td>\n",
              "      <td>117904</td>\n",
              "      <td>117887</td>\n",
              "      <td>1</td>\n",
              "      <td>118368</td>\n",
              "      <td>1</td>\n",
              "      <td>1</td>\n",
              "      <td>1</td>\n",
              "      <td>1</td>\n",
              "      <td>1</td>\n",
              "    </tr>\n",
              "    <tr>\n",
              "      <th>16383</th>\n",
              "      <td>32767</td>\n",
              "      <td>31220</td>\n",
              "      <td>1</td>\n",
              "      <td>1.77</td>\n",
              "      <td>118386</td>\n",
              "      <td>1</td>\n",
              "      <td>0</td>\n",
              "      <td>117961</td>\n",
              "      <td>117906</td>\n",
              "      <td>1</td>\n",
              "      <td>1</td>\n",
              "      <td>1</td>\n",
              "      <td>1</td>\n",
              "      <td>118322</td>\n",
              "      <td>-2.374507</td>\n",
              "      <td>1249</td>\n",
              "      <td>118910</td>\n",
              "      <td>290919</td>\n",
              "      <td>1</td>\n",
              "      <td>118321</td>\n",
              "      <td>1</td>\n",
              "      <td>1</td>\n",
              "      <td>1</td>\n",
              "      <td>2</td>\n",
              "      <td>2</td>\n",
              "    </tr>\n",
              "    <tr>\n",
              "      <th>16384</th>\n",
              "      <td>32768</td>\n",
              "      <td>41642</td>\n",
              "      <td>1</td>\n",
              "      <td>3.54</td>\n",
              "      <td>118052</td>\n",
              "      <td>1</td>\n",
              "      <td>0</td>\n",
              "      <td>117961</td>\n",
              "      <td>172635</td>\n",
              "      <td>1</td>\n",
              "      <td>4</td>\n",
              "      <td>1</td>\n",
              "      <td>1</td>\n",
              "      <td>117908</td>\n",
              "      <td>2.714601</td>\n",
              "      <td>13854</td>\n",
              "      <td>118821</td>\n",
              "      <td>290919</td>\n",
              "      <td>1</td>\n",
              "      <td>117905</td>\n",
              "      <td>1</td>\n",
              "      <td>1</td>\n",
              "      <td>1</td>\n",
              "      <td>1</td>\n",
              "      <td>1</td>\n",
              "    </tr>\n",
              "  </tbody>\n",
              "</table>\n",
              "<p>32768 rows × 25 columns</p>\n",
              "</div>"
            ],
            "text/plain": [
              "          Id      f1  f2     f3      f4  f5  ...     f19  f20  f21  f22  f23  f24\n",
              "0          1   25884   1  33.63  118596   1  ...  121372    1    1    1    2    1\n",
              "1          2   34346   1  10.62  118041   1  ...  259173    1    1    1    1    1\n",
              "2          3   34923   1   1.77  118327   1  ...  118784    1    1    1    1    1\n",
              "3          4   80926   1  30.09  118300   1  ...  307024    1    1    1    2    1\n",
              "4          5    4674   1   1.77  119921   1  ...  128230    1    1    1  620    1\n",
              "...      ...     ...  ..    ...     ...  ..  ...     ...  ...  ...  ...  ...  ...\n",
              "16380  32764     971   1   1.77  118300   1  ...  120344    1    1    1   44    1\n",
              "16381  32765  105802   1   1.77  118327   1  ...  118321    1    1    1    4    1\n",
              "16382  32766   43096   1   3.54  117962   1  ...  118368    1    1    1    1    1\n",
              "16383  32767   31220   1   1.77  118386   1  ...  118321    1    1    1    2    2\n",
              "16384  32768   41642   1   3.54  118052   1  ...  117905    1    1    1    1    1\n",
              "\n",
              "[32768 rows x 25 columns]"
            ]
          },
          "metadata": {},
          "execution_count": 5
        }
      ]
    },
    {
      "cell_type": "code",
      "metadata": {
        "colab": {
          "base_uri": "https://localhost:8080/",
          "height": 294
        },
        "id": "40qzwRGqedBW",
        "outputId": "0fad5cd5-6159-4565-ce1b-17cd7d498282"
      },
      "source": [
        "import matplotlib.pyplot as plt\n",
        "import numpy as np\n",
        "\n",
        "# Some random data:\n",
        "fig = plt.figure(1)         # create a figure instance\n",
        "count = 1\n",
        "for key in train_final.columns:\n",
        "  if key == 'Id':\n",
        "    continue\n",
        "  '''count = count % 5\n",
        "  if count == 0 :\n",
        "    count = 1'''\n",
        "  ax = fig.add_subplot(5,5,count)   # and axes\n",
        "  ax.hist(train_final[key], bins = 10) \n",
        "  ax.title.set_text(key)\n",
        "  count = count + 1\n",
        "  #ax = fig.add_subplot(212)   # and axes\n",
        "  #ax.hist(train_final['f3'], bins = 10)                   # plot the histogram\n",
        "\n",
        "# plt.show()                # this would show the plot, but you can leave it out \n",
        "\n",
        "# Save the figure to the current path\n",
        "fig.savefig('plots.png') "
      ],
      "execution_count": null,
      "outputs": [
        {
          "output_type": "display_data",
          "data": {
            "image/png": "[encoded data removed]",
            "text/plain": [
              "<Figure size 432x288 with 25 Axes>"
            ]
          },
          "metadata": {
            "needs_background": "light"
          }
        }
      ]
    },
    {
      "cell_type": "code",
      "metadata": {
        "id": "sFoZJvPIjfMt"
      },
      "source": [
        "import seaborn as sns\n",
        "sns.pairplot(train_final[:1000])\n",
        "#plt.show()"
      ],
      "execution_count": null,
      "outputs": []
    },
    {
      "cell_type": "code",
      "metadata": {
        "id": "2-doh2E-kv7k"
      },
      "source": [
        "train_final[:, :5]"
      ],
      "execution_count": null,
      "outputs": []
    },
    {
      "cell_type": "code",
      "metadata": {
        "colab": {
          "base_uri": "https://localhost:8080/"
        },
        "id": "24gbCqP9iZb2",
        "outputId": "6004863e-d316-4cd2-e151-75802e7442f4"
      },
      "source": [
        "train_final['f4'].value_counts()"
      ],
      "execution_count": null,
      "outputs": [
        {
          "output_type": "execute_result",
          "data": {
            "text/plain": [
              "118300    2213\n",
              "118343    2002\n",
              "118327    1329\n",
              "118225    1282\n",
              "118386     895\n",
              "          ... \n",
              "121602       1\n",
              "123999       1\n",
              "286791       1\n",
              "185842       1\n",
              "143009       1\n",
              "Name: f4, Length: 162, dtype: int64"
            ]
          },
          "metadata": {},
          "execution_count": 138
        }
      ]
    },
    {
      "cell_type": "code",
      "metadata": {
        "colab": {
          "base_uri": "https://localhost:8080/"
        },
        "id": "tcSeYXJZhQwK",
        "outputId": "5af620c6-3265-4433-b741-efcceeed4389"
      },
      "source": [
        "\n",
        "train_final.columns"
      ],
      "execution_count": null,
      "outputs": [
        {
          "output_type": "execute_result",
          "data": {
            "text/plain": [
              "Index(['Id', 'Y', 'f1', 'f2', 'f3', 'f4', 'f5', 'f6', 'f7', 'f8', 'f9', 'f10',\n",
              "       'f11', 'f12', 'f13', 'f14', 'f15', 'f16', 'f17', 'f18', 'f19', 'f20',\n",
              "       'f21', 'f22', 'f23', 'f24'],\n",
              "      dtype='object')"
            ]
          },
          "metadata": {},
          "execution_count": 132
        }
      ]
    },
    {
      "cell_type": "code",
      "metadata": {
        "colab": {
          "base_uri": "https://localhost:8080/",
          "height": 1000
        },
        "id": "0H5UAUEnXQnu",
        "outputId": "be8d4a5b-9dd8-49bb-bad6-65a6ba32b73d"
      },
      "source": [
        "import matplotlib.pyplot as plt\n",
        "for key in train_final.columns:\n",
        "  print(key)\n",
        "  plt.hist(train_final[key])\n",
        "  plt.show()"
      ],
      "execution_count": null,
      "outputs": [
        {
          "output_type": "stream",
          "name": "stdout",
          "text": [
            "Id\n"
          ]
        },
        {
          "output_type": "display_data",
          "data": {
            "image/png": "[encoded data removed]",
            "text/plain": [
              "<Figure size 432x288 with 1 Axes>"
            ]
          },
          "metadata": {
            "needs_background": "light"
          }
        },
        {
          "output_type": "stream",
          "name": "stdout",
          "text": [
            "Y\n"
          ]
        },
        {
          "output_type": "display_data",
          "data": {
            "image/png": "[encoded data removed]",
            "text/plain": [
              "<Figure size 432x288 with 1 Axes>"
            ]
          },
          "metadata": {
            "needs_background": "light"
          }
        },
        {
          "output_type": "stream",
          "name": "stdout",
          "text": [
            "f1\n"
          ]
        },
        {
          "output_type": "display_data",
          "data": {
            "image/png": "[encoded data removed]",
            "text/plain": [
              "<Figure size 432x288 with 1 Axes>"
            ]
          },
          "metadata": {
            "needs_background": "light"
          }
        },
        {
          "output_type": "stream",
          "name": "stdout",
          "text": [
            "f2\n"
          ]
        },
        {
          "output_type": "display_data",
          "data": {
            "image/png": "[encoded data removed]",
            "text/plain": [
              "<Figure size 432x288 with 1 Axes>"
            ]
          },
          "metadata": {
            "needs_background": "light"
          }
        },
        {
          "output_type": "stream",
          "name": "stdout",
          "text": [
            "f3\n"
          ]
        },
        {
          "output_type": "display_data",
          "data": {
            "image/png": "[encoded data removed]",
            "text/plain": [
              "<Figure size 432x288 with 1 Axes>"
            ]
          },
          "metadata": {
            "needs_background": "light"
          }
        },
        {
          "output_type": "stream",
          "name": "stdout",
          "text": [
            "f4\n"
          ]
        },
        {
          "output_type": "display_data",
          "data": {
            "image/png": "[encoded data removed]",
            "text/plain": [
              "<Figure size 432x288 with 1 Axes>"
            ]
          },
          "metadata": {
            "needs_background": "light"
          }
        },
        {
          "output_type": "stream",
          "name": "stdout",
          "text": [
            "f5\n"
          ]
        },
        {
          "output_type": "display_data",
          "data": {
            "image/png": "[encoded data removed]",
            "text/plain": [
              "<Figure size 432x288 with 1 Axes>"
            ]
          },
          "metadata": {
            "needs_background": "light"
          }
        },
        {
          "output_type": "stream",
          "name": "stdout",
          "text": [
            "f6\n"
          ]
        },
        {
          "output_type": "display_data",
          "data": {
            "image/png": "[encoded data removed]",
            "text/plain": [
              "<Figure size 432x288 with 1 Axes>"
            ]
          },
          "metadata": {
            "needs_background": "light"
          }
        },
        {
          "output_type": "stream",
          "name": "stdout",
          "text": [
            "f7\n"
          ]
        },
        {
          "output_type": "display_data",
          "data": {
            "image/png": "[encoded data removed]",
            "text/plain": [
              "<Figure size 432x288 with 1 Axes>"
            ]
          },
          "metadata": {
            "needs_background": "light"
          }
        },
        {
          "output_type": "stream",
          "name": "stdout",
          "text": [
            "f8\n"
          ]
        },
        {
          "output_type": "display_data",
          "data": {
            "image/png": "[encoded data removed]",
            "text/plain": [
              "<Figure size 432x288 with 1 Axes>"
            ]
          },
          "metadata": {
            "needs_background": "light"
          }
        },
        {
          "output_type": "stream",
          "name": "stdout",
          "text": [
            "f9\n"
          ]
        },
        {
          "output_type": "display_data",
          "data": {
            "image/png": "[encoded data removed]",
            "text/plain": [
              "<Figure size 432x288 with 1 Axes>"
            ]
          },
          "metadata": {
            "needs_background": "light"
          }
        },
        {
          "output_type": "stream",
          "name": "stdout",
          "text": [
            "f10\n"
          ]
        },
        {
          "output_type": "display_data",
          "data": {
            "image/png": "[encoded data removed]",
            "text/plain": [
              "<Figure size 432x288 with 1 Axes>"
            ]
          },
          "metadata": {
            "needs_background": "light"
          }
        },
        {
          "output_type": "stream",
          "name": "stdout",
          "text": [
            "f11\n"
          ]
        },
        {
          "output_type": "display_data",
          "data": {
            "image/png": "[encoded data removed]",
            "text/plain": [
              "<Figure size 432x288 with 1 Axes>"
            ]
          },
          "metadata": {
            "needs_background": "light"
          }
        },
        {
          "output_type": "stream",
          "name": "stdout",
          "text": [
            "f12\n"
          ]
        },
        {
          "output_type": "display_data",
          "data": {
            "image/png": "[encoded data removed]",
            "text/plain": [
              "<Figure size 432x288 with 1 Axes>"
            ]
          },
          "metadata": {
            "needs_background": "light"
          }
        },
        {
          "output_type": "stream",
          "name": "stdout",
          "text": [
            "f13\n"
          ]
        },
        {
          "output_type": "display_data",
          "data": {
            "image/png": "[encoded data removed]",
            "text/plain": [
              "<Figure size 432x288 with 1 Axes>"
            ]
          },
          "metadata": {
            "needs_background": "light"
          }
        },
        {
          "output_type": "stream",
          "name": "stdout",
          "text": [
            "f14\n"
          ]
        },
        {
          "output_type": "display_data",
          "data": {
            "image/png": "[encoded data removed]",
            "text/plain": [
              "<Figure size 432x288 with 1 Axes>"
            ]
          },
          "metadata": {
            "needs_background": "light"
          }
        },
        {
          "output_type": "stream",
          "name": "stdout",
          "text": [
            "f15\n"
          ]
        },
        {
          "output_type": "display_data",
          "data": {
            "image/png": "[encoded data removed]",
            "text/plain": [
              "<Figure size 432x288 with 1 Axes>"
            ]
          },
          "metadata": {
            "needs_background": "light"
          }
        },
        {
          "output_type": "stream",
          "name": "stdout",
          "text": [
            "f16\n"
          ]
        },
        {
          "output_type": "display_data",
          "data": {
            "image/png": "[encoded data removed]",
            "text/plain": [
              "<Figure size 432x288 with 1 Axes>"
            ]
          },
          "metadata": {
            "needs_background": "light"
          }
        },
        {
          "output_type": "stream",
          "name": "stdout",
          "text": [
            "f17\n"
          ]
        },
        {
          "output_type": "display_data",
          "data": {
            "image/png": "[encoded data removed]",
            "text/plain": [
              "<Figure size 432x288 with 1 Axes>"
            ]
          },
          "metadata": {
            "needs_background": "light"
          }
        },
        {
          "output_type": "stream",
          "name": "stdout",
          "text": [
            "f18\n"
          ]
        },
        {
          "output_type": "display_data",
          "data": {
            "image/png": "[encoded data removed]",
            "text/plain": [
              "<Figure size 432x288 with 1 Axes>"
            ]
          },
          "metadata": {
            "needs_background": "light"
          }
        },
        {
          "output_type": "stream",
          "name": "stdout",
          "text": [
            "f19\n"
          ]
        },
        {
          "output_type": "display_data",
          "data": {
            "image/png": "[encoded data removed]",
            "text/plain": [
              "<Figure size 432x288 with 1 Axes>"
            ]
          },
          "metadata": {
            "needs_background": "light"
          }
        },
        {
          "output_type": "stream",
          "name": "stdout",
          "text": [
            "f20\n"
          ]
        },
        {
          "output_type": "display_data",
          "data": {
            "image/png": "[encoded data removed]",
            "text/plain": [
              "<Figure size 432x288 with 1 Axes>"
            ]
          },
          "metadata": {
            "needs_background": "light"
          }
        },
        {
          "output_type": "stream",
          "name": "stdout",
          "text": [
            "f21\n"
          ]
        },
        {
          "output_type": "display_data",
          "data": {
            "image/png": "[encoded data removed]",
            "text/plain": [
              "<Figure size 432x288 with 1 Axes>"
            ]
          },
          "metadata": {
            "needs_background": "light"
          }
        },
        {
          "output_type": "stream",
          "name": "stdout",
          "text": [
            "f22\n"
          ]
        },
        {
          "output_type": "display_data",
          "data": {
            "image/png": "[encoded data removed]",
            "text/plain": [
              "<Figure size 432x288 with 1 Axes>"
            ]
          },
          "metadata": {
            "needs_background": "light"
          }
        },
        {
          "output_type": "stream",
          "name": "stdout",
          "text": [
            "f23\n"
          ]
        },
        {
          "output_type": "display_data",
          "data": {
            "image/png": "[encoded data removed]",
            "text/plain": [
              "<Figure size 432x288 with 1 Axes>"
            ]
          },
          "metadata": {
            "needs_background": "light"
          }
        },
        {
          "output_type": "stream",
          "name": "stdout",
          "text": [
            "f24\n"
          ]
        },
        {
          "output_type": "display_data",
          "data": {
            "image/png": "[encoded data removed]",
            "text/plain": [
              "<Figure size 432x288 with 1 Axes>"
            ]
          },
          "metadata": {
            "needs_background": "light"
          }
        }
      ]
    },
    {
      "cell_type": "code",
      "metadata": {
        "id": "jIZq2XE9dM7i"
      },
      "source": [
        ""
      ],
      "execution_count": null,
      "outputs": []
    },
    {
      "cell_type": "code",
      "metadata": {
        "id": "o4TjQJvInZgC"
      },
      "source": [
        "import matplotlib.pyplot as plt\n",
        "for key in train_final.columns:\n",
        "  print(key)\n",
        "  plt.hist(train_final[key])\n",
        "  plt.show()\n",
        "  if key != 'Y':\n",
        "    plt.hist(test_final[key])\n",
        "    plt.show()\n",
        "\n",
        "  # f8 log , f14, log, f15 log, \n",
        "  plt.show()\n",
        "result['f8'] = np.log(result['f8'])\n",
        "#result['f14'] = np.log(result['f14'])\n",
        "#result['f15'] = np.log(result['f15'])\n",
        "\n",
        "'''for feature f2 "
      ],
      "execution_count": null,
      "outputs": []
    },
    {
      "cell_type": "code",
      "metadata": {
        "colab": {
          "base_uri": "https://localhost:8080/"
        },
        "id": "DNBzzs89v_cP",
        "outputId": "0f44be83-eeb6-47d8-a6d0-728bd96664e2"
      },
      "source": [
        "train_final['f2'].value_counts()\n",
        "train_final[train_final['Y']== 0]\n",
        "test_final['f2'].value_counts()"
      ],
      "execution_count": null,
      "outputs": [
        {
          "output_type": "execute_result",
          "data": {
            "text/plain": [
              "1     15839\n",
              "2       467\n",
              "3        58\n",
              "4        16\n",
              "5         2\n",
              "7         1\n",
              "6         1\n",
              "17        1\n",
              "Name: f2, dtype: int64"
            ]
          },
          "metadata": {},
          "execution_count": 52
        }
      ]
    },
    {
      "cell_type": "code",
      "metadata": {
        "colab": {
          "base_uri": "https://localhost:8080/"
        },
        "id": "IMgcwGePwWBF",
        "outputId": "8b7ffea2-d9d4-42cf-9e26-e83391fd8646"
      },
      "source": [
        "only_zero_train = train_final[train_final['Y']== 0]\n",
        "only_ones_train = train_final[train_final['Y']== 1]\n",
        "\n",
        "for key in only_zero_train.columns:\n",
        "  if np.unique(only_zero_train[key]).shape[0]< 30:\n",
        "    print(only_zero_train[key].value_counts())\n",
        "    print(\"ones\")\n",
        "    print(only_ones_train[key].value_counts())\n",
        "    print(key)\n",
        "    print(\"========\")"
      ],
      "execution_count": null,
      "outputs": [
        {
          "output_type": "stream",
          "name": "stdout",
          "text": [
            "0    948\n",
            "Name: Y, dtype: int64\n",
            "ones\n",
            "1    15435\n",
            "Name: Y, dtype: int64\n",
            "Y\n",
            "========\n",
            "1    914\n",
            "2     29\n",
            "3      4\n",
            "7      1\n",
            "Name: f2, dtype: int64\n",
            "ones\n",
            "1    14893\n",
            "2      450\n",
            "3       56\n",
            "4       24\n",
            "5       10\n",
            "6        2\n",
            "Name: f2, dtype: int64\n",
            "f2\n",
            "========\n",
            "1    922\n",
            "2     21\n",
            "3      3\n",
            "9      1\n",
            "5      1\n",
            "Name: f5, dtype: int64\n",
            "ones\n",
            "1    14873\n",
            "2      478\n",
            "3       57\n",
            "4       16\n",
            "5        8\n",
            "7        2\n",
            "6        1\n",
            "Name: f5, dtype: int64\n",
            "f5\n",
            "========\n",
            "0    920\n",
            "1     26\n",
            "2      2\n",
            "Name: f6, dtype: int64\n",
            "ones\n",
            "0     14825\n",
            "1       496\n",
            "2        78\n",
            "3        24\n",
            "5         6\n",
            "4         3\n",
            "6         1\n",
            "10        1\n",
            "8         1\n",
            "Name: f6, dtype: int64\n",
            "f6\n",
            "========\n",
            "1    917\n",
            "2     23\n",
            "3      7\n",
            "4      1\n",
            "Name: f9, dtype: int64\n",
            "ones\n",
            "1     14922\n",
            "2       418\n",
            "3        73\n",
            "4        15\n",
            "5         5\n",
            "7         1\n",
            "11        1\n",
            "Name: f9, dtype: int64\n",
            "f9\n",
            "========\n",
            "1    918\n",
            "2     28\n",
            "3      2\n",
            "Name: f11, dtype: int64\n",
            "ones\n",
            "1    14898\n",
            "2      455\n",
            "3       52\n",
            "4       21\n",
            "5        5\n",
            "6        3\n",
            "8        1\n",
            "Name: f11, dtype: int64\n",
            "f11\n",
            "========\n",
            "1    913\n",
            "2     28\n",
            "3      6\n",
            "4      1\n",
            "Name: f18, dtype: int64\n",
            "ones\n",
            "1     14865\n",
            "2       477\n",
            "3        62\n",
            "4        19\n",
            "5         5\n",
            "6         3\n",
            "7         2\n",
            "11        1\n",
            "18        1\n",
            "Name: f18, dtype: int64\n",
            "f18\n",
            "========\n",
            "1    920\n",
            "2     25\n",
            "3      3\n",
            "Name: f20, dtype: int64\n",
            "ones\n",
            "1    14881\n",
            "2      452\n",
            "3       75\n",
            "4       16\n",
            "5        9\n",
            "7        1\n",
            "8        1\n",
            "Name: f20, dtype: int64\n",
            "f20\n",
            "========\n",
            "1    915\n",
            "2     27\n",
            "3      6\n",
            "Name: f21, dtype: int64\n",
            "ones\n",
            "1    14860\n",
            "2      489\n",
            "3       59\n",
            "4       14\n",
            "5        8\n",
            "7        2\n",
            "6        2\n",
            "8        1\n",
            "Name: f21, dtype: int64\n",
            "f21\n",
            "========\n",
            "1    916\n",
            "2     28\n",
            "4      2\n",
            "3      2\n",
            "Name: f22, dtype: int64\n",
            "ones\n",
            "1    14900\n",
            "2      455\n",
            "3       55\n",
            "4       19\n",
            "5        4\n",
            "7        1\n",
            "6        1\n",
            "Name: f22, dtype: int64\n",
            "f22\n",
            "========\n",
            "1    923\n",
            "2     25\n",
            "Name: f24, dtype: int64\n",
            "ones\n",
            "1    14875\n",
            "2      472\n",
            "3       59\n",
            "4       16\n",
            "5       10\n",
            "6        2\n",
            "8        1\n",
            "Name: f24, dtype: int64\n",
            "f24\n",
            "========\n"
          ]
        }
      ]
    },
    {
      "cell_type": "code",
      "metadata": {
        "colab": {
          "base_uri": "https://localhost:8080/",
          "height": 761
        },
        "id": "dhqxMWvQu2-d",
        "outputId": "d69cc8e6-59df-48f6-8b61-1ef19ec1544e"
      },
      "source": [
        "plt.hist(result['f8'])\n",
        "plt.show()\n",
        "result['f8_log'] = np.log(result['f8'])\n",
        "result['f8_log10'] = np.log10(result['f8'])\n",
        "\n",
        "plt.hist(result['f8_log'])\n",
        "plt.show()\n",
        "plt.hist(result['f8_log10'])\n",
        "plt.show()"
      ],
      "execution_count": null,
      "outputs": [
        {
          "output_type": "display_data",
          "data": {
            "image/png": "[encoded data removed]",
            "text/plain": [
              "<Figure size 432x288 with 1 Axes>"
            ]
          },
          "metadata": {
            "needs_background": "light"
          }
        },
        {
          "output_type": "display_data",
          "data": {
            "image/png": "[encoded data removed]",
            "text/plain": [
              "<Figure size 432x288 with 1 Axes>"
            ]
          },
          "metadata": {
            "needs_background": "light"
          }
        },
        {
          "output_type": "display_data",
          "data": {
            "image/png": "[encoded data removed]",
            "text/plain": [
              "<Figure size 432x288 with 1 Axes>"
            ]
          },
          "metadata": {
            "needs_background": "light"
          }
        }
      ]
    },
    {
      "cell_type": "code",
      "metadata": {
        "colab": {
          "base_uri": "https://localhost:8080/",
          "height": 265
        },
        "id": "Sxvf9QMxuooT",
        "outputId": "9b0c9b71-33f2-4280-9a39-bea64d0051fe"
      },
      "source": [
        "plt.hist(result['f8'])\n",
        "plt.show()\n"
      ],
      "execution_count": null,
      "outputs": [
        {
          "output_type": "display_data",
          "data": {
            "image/png": "[encoded data removed]",
            "text/plain": [
              "<Figure size 432x288 with 1 Axes>"
            ]
          },
          "metadata": {
            "needs_background": "light"
          }
        }
      ]
    },
    {
      "cell_type": "code",
      "metadata": {
        "id": "HCYjhG2rnYkU"
      },
      "source": [
        ""
      ],
      "execution_count": null,
      "outputs": []
    },
    {
      "cell_type": "code",
      "metadata": {
        "id": "pwbIYfbdU4mD"
      },
      "source": [
        "result['f3'].value_counts()"
      ],
      "execution_count": null,
      "outputs": []
    },
    {
      "cell_type": "code",
      "metadata": {
        "id": "uMK4ndg0U4zz"
      },
      "source": [
        "result['f3'] = np.log(result['f3'])"
      ],
      "execution_count": null,
      "outputs": []
    },
    {
      "cell_type": "code",
      "metadata": {
        "colab": {
          "base_uri": "https://localhost:8080/"
        },
        "id": "OotdwFTXVg5d",
        "outputId": "9133a1c7-4fdd-4bf9-ceb0-f16978df516d"
      },
      "source": [
        "result['f3']"
      ],
      "execution_count": null,
      "outputs": [
        {
          "output_type": "execute_result",
          "data": {
            "text/plain": [
              "0        33.63\n",
              "1        10.62\n",
              "2         1.77\n",
              "3        30.09\n",
              "4         1.77\n",
              "         ...  \n",
              "16380     1.77\n",
              "16381     1.77\n",
              "16382     3.54\n",
              "16383     1.77\n",
              "16384     3.54\n",
              "Name: f3, Length: 32768, dtype: float64"
            ]
          },
          "metadata": {},
          "execution_count": 284
        }
      ]
    },
    {
      "cell_type": "code",
      "metadata": {
        "colab": {
          "base_uri": "https://localhost:8080/"
        },
        "id": "yx6YZ4FRVeGX",
        "outputId": "ed33cb3a-595f-45aa-8f3a-111fc623250d"
      },
      "source": [
        "result['f3_log']"
      ],
      "execution_count": null,
      "outputs": [
        {
          "output_type": "execute_result",
          "data": {
            "text/plain": [
              "0        3.515419\n",
              "1        2.362739\n",
              "2        0.570980\n",
              "3        3.404193\n",
              "4        0.570980\n",
              "           ...   \n",
              "16380    0.570980\n",
              "16381    0.570980\n",
              "16382    1.264127\n",
              "16383    0.570980\n",
              "16384    1.264127\n",
              "Name: f3_log, Length: 32768, dtype: float64"
            ]
          },
          "metadata": {},
          "execution_count": 283
        }
      ]
    },
    {
      "cell_type": "code",
      "metadata": {
        "id": "r8NAEJmp2uUm"
      },
      "source": [
        "for key in train_final.columns:\n",
        "  #print(np.unique(train_final[key]))\n",
        "  print(train_final[key].value_counts())\n"
      ],
      "execution_count": null,
      "outputs": []
    },
    {
      "cell_type": "code",
      "metadata": {
        "colab": {
          "base_uri": "https://localhost:8080/"
        },
        "id": "aEYONsQq3e87",
        "outputId": "fe6405fd-a812-44bc-e4a9-5efc869570e1"
      },
      "source": [
        ""
      ],
      "execution_count": null,
      "outputs": [
        {
          "output_type": "execute_result",
          "data": {
            "text/plain": [
              "Id              int64\n",
              "f1              int64\n",
              "f3            float64\n",
              "f4              int64\n",
              "f7              int64\n",
              "f8              int64\n",
              "f10             int64\n",
              "f12             int64\n",
              "f13             int64\n",
              "f14           float64\n",
              "f15             int64\n",
              "f16             int64\n",
              "f17             int64\n",
              "f19             int64\n",
              "f23             int64\n",
              "f5_cat          int64\n",
              "f6_cat          int64\n",
              "f9_cat          int64\n",
              "f11_cat         int64\n",
              "f18_cat         int64\n",
              "f20_cat         int64\n",
              "f21_cat         int64\n",
              "f22_cat         int64\n",
              "f24_cat         int64\n",
              "f2_cat_cat      int64\n",
              "dtype: object"
            ]
          },
          "metadata": {},
          "execution_count": 6
        }
      ]
    },
    {
      "cell_type": "code",
      "metadata": {
        "id": "S6trlZTq5Nz3"
      },
      "source": [
        "import pandas as pd\n",
        "import numpy as np\n",
        "from sklearn.preprocessing import OneHotEncoder\n",
        "# creating instance of one-hot-encoder\n",
        "enc = OneHotEncoder(handle_unknown='ignore')\n",
        "# passing bridge-types-cat column (label encoded values of bridge_types)\n",
        "enc_df = pd.DataFrame(enc.fit_transform(result[['f2_cat']]).toarray())\n",
        "# merge with main df bridge_df on key values\n",
        "result_df = result.join(enc_df)\n",
        "result_df\n"
      ],
      "execution_count": null,
      "outputs": []
    },
    {
      "cell_type": "code",
      "metadata": {
        "colab": {
          "base_uri": "https://localhost:8080/"
        },
        "id": "VVjVdPv5HZJ_",
        "outputId": "30274b23-918a-409d-bc01-f03d727187fc"
      },
      "source": [
        "result['f2'] = result['f2'].astype('category')\n",
        "result['f2_cat'] = result['f2'].cat.codes\n",
        "np.unique(result['f2_cat'])"
      ],
      "execution_count": null,
      "outputs": [
        {
          "output_type": "execute_result",
          "data": {
            "text/plain": [
              "array([0, 1, 2, 3, 4, 5, 6, 7], dtype=int8)"
            ]
          },
          "metadata": {},
          "execution_count": 11
        }
      ]
    },
    {
      "cell_type": "code",
      "metadata": {
        "id": "a4NKI-TppCg3",
        "colab": {
          "base_uri": "https://localhost:8080/",
          "height": 52
        },
        "outputId": "b2be34dd-a1f4-45bc-d1ca-c8dd25751b0a"
      },
      "source": [
        "train_final\n",
        "\n",
        "## Don't standardize categorical variables,  only standardize non categorical\n",
        "# drop Id\n",
        "# Identify unique values and check how many distinct values are there.\n",
        "# cross validation.\n",
        "#y_train.value_counts()\n",
        "#y_train.value_counts()\n",
        "# Highly skewed data : \n",
        "# Read ROC\n",
        "# try \n",
        "# check submission file (format)\n",
        "## Johnathan tried single tree gave 0.77 , what is the class called scikitlearn.tree\n",
        "#prof recommends xgboost - xgboost xgboost , don't waste time on gradient boosting \n",
        "#when you submit half of them are used for private and half for public ,\n",
        "# (prof said ther is almost very less difference in private and public right now,(John is ranked 13 in both))\n",
        "#You can use public leaderboard to decide which one is better for hyperparameter tuning\n",
        "#Best result  when the final sfor the private leaderboard you can slecet, which two submission should be used for private leaderboard, (you usually select best 2 models (2 potions given )).\n",
        "# Prof says to one-hot encode the categorical data. \n",
        "# It is a probability of it belonging to class one. \n",
        "# Johny -> Features are highly skewed :  some are categorical and some are numeric, skewed around their mean. Long tail and less long tails , if you look at the data, 53 columns id , y \n",
        "# mostly ones (y), Johny -> skewness as expressed by skew method -1 to +1 for 24 features 80% of them are beyond the range 68, -28, . Is that consistent? misundertanding skew. \n",
        "## Binning\n",
        "#prof ; taking the logarithm , look at f3 , could be zip code lets say, took mean 0 mean and divide by variance, 3.54 (it was acutaully a categorical data and has been tempered by standardization, wither leave it alone or one-hot encode it.)\n",
        "# lets say 1, 2,3 you replace it with three columns saying is it one, is it 2 or is it 3. \n",
        "# try one-hot for categorial, 80 features is still fine, (if it takes a million values then it's probably not a categorical value)\n",
        "# one feature can have both categorical and continous :(this can happen if the data was missing in some places and it was filled with dummies)lets say continous value and then 1777(one part is it 1777) otherwise leave it alone for a continuos value, \n",
        "## onserve if with one-hot encode the example : \n",
        "# beforeyou do anything run a single xgboost model n data.: it might get you to .8 already. (I am not there because I have not one-hot encoded the data and )\n",
        "# Plot histogram check histogram on kaggle, (see if you can standardize let's say feature 8 seems like a categorical  CHECK HISTOGRAM).  very bad to start with satrt with a good model and then do variations in the model firts ,\n",
        "# Try to get 0.6 with xgboost first. \n",
        "#(Start with a powerful model first and then only do feature engineering, go to 0.8 first with  )\n",
        "\n",
        "## Friday office hour with Alex and then constatine office hours on the usual class timimg.\n",
        "# Use y_pred[:, 1] instead , to save the probabilities for class 1. or subtract the answers from 0.\n",
        "\n",
        "\n"
      ],
      "execution_count": null,
      "outputs": [
        {
          "output_type": "execute_result",
          "data": {
            "application/vnd.google.colaboratory.intrinsic+json": {
              "type": "string"
            },
            "text/plain": [
              "\"from sklearn.model_selection import train_test_split\\nX = train_final.drop(columns = ['Y', 'Id'])\\nY = train_final['Y']\\nX_train, X_test, y_train, y_test = train_test_split( X, Y, test_size=0.025)\""
            ]
          },
          "metadata": {},
          "execution_count": 69
        }
      ]
    },
    {
      "cell_type": "code",
      "metadata": {
        "id": "AmWKWUMSAV71"
      },
      "source": [
        ""
      ],
      "execution_count": null,
      "outputs": []
    },
    {
      "cell_type": "code",
      "metadata": {
        "colab": {
          "base_uri": "https://localhost:8080/",
          "height": 35
        },
        "id": "UmfnxEBI92tP",
        "outputId": "0171da2c-5ba4-4b3e-ac70-8012c8e17800"
      },
      "source": [
        "frames = [train_final.drop(columns = ['Y']), test_final]\n",
        "result = pd.concat(frames)\n",
        "## log of f3\n",
        "result['f3'] = np.log(result['f3'])\n",
        "result['f4'] = np.log(result['f4'])\n",
        "#result['f4']\n",
        "for key in result.columns:\n",
        "  #print(np.unique(train_final[key]))\n",
        "  \n",
        "  if np.unique(result[key]).shape[0]< 20:\n",
        "    '''print(key)\n",
        "    print(np.unique(result[key]).shape)\n",
        "    print(np.unique(result[key]))\n",
        "    print(result[key].value_counts())'''\n",
        "key = 'f5'\n",
        "result[key] = result[key].astype('category')\n",
        "result[key + '_cat'] = (result[key].cat.codes).astype(int)\n",
        "result[key] = result[key].astype(int)\n",
        "result.drop(columns=[key], inplace = True)\n",
        "np.unique(result[key + '_cat'])\n",
        "result.dtypes\n",
        "key = 'f2'\n",
        "result[key] = result[key].astype('category')\n",
        "result[key + '_cat'] = (result[key].cat.codes).astype(int)\n",
        "result[key] = result[key].astype(int)\n",
        "result.drop(columns=[key], inplace = True)\n",
        "np.unique(result[key + '_cat'])\n",
        "result.dtypes\n",
        "key = 'f6'\n",
        "result[key] = result[key].astype('category')\n",
        "result[key + '_cat'] = (result[key].cat.codes).astype(int)\n",
        "result[key] = result[key].astype(int)\n",
        "result.drop(columns=[key], inplace = True)\n",
        "np.unique(result[key + '_cat'])\n",
        "result.dtypes\n",
        "\n",
        "\n",
        "\n",
        "# One hot encoding the categorical data \n",
        "'''from sklearn.preprocessing import OneHotEncoder\n",
        "enc = OneHotEncoder(handle_unknown='ignore')\n",
        "\n",
        "enc_df = pd.DataFrame(enc.fit_transform(result[[key + '_cat']]).toarray())\n",
        "\n",
        "enc_df = enc_df.add_suffix(key)\n",
        "\n",
        "# merge with main df bridge_df on key values\n",
        "result = result.join(enc_df)\n",
        "result.drop(columns=[key + '_cat'], inplace = True)\n",
        "result.drop(columns=[str(4) + key], inplace = True)\n",
        "#result.drop(columns=[str(5) + key], inplace = True)\n",
        "result.drop(columns=[str(5) + key], inplace = True)\n",
        "result.drop(columns=[str(6) + key], inplace = True)\n",
        "result.drop(columns=[str(7) + key], inplace = True)'''\n",
        "'''from category_encoders import TargetEncoder\n",
        "enc = TargetEncoder(cols=['Name_of_col','Another_name'])\n",
        "training_set = enc.fit_transform(X_train, y_train)'''\n"
      ],
      "execution_count": null,
      "outputs": [
        {
          "output_type": "execute_result",
          "data": {
            "application/vnd.google.colaboratory.intrinsic+json": {
              "type": "string"
            },
            "text/plain": [
              "\"from category_encoders import TargetEncoder\\nenc = TargetEncoder(cols=['Name_of_col','Another_name'])\\ntraining_set = enc.fit_transform(X_train, y_train)\""
            ]
          },
          "metadata": {},
          "execution_count": 12
        }
      ]
    },
    {
      "cell_type": "code",
      "metadata": {
        "colab": {
          "base_uri": "https://localhost:8080/"
        },
        "id": "BTsddCE61wok",
        "outputId": "e99c7323-8322-4269-9665-6d3fa6614146"
      },
      "source": [
        "key = 'f2'\n",
        "result[key] = result[key].astype('category')\n",
        "result[key + '_cat'] = (result[key].cat.codes).astype(int)\n",
        "result[key] = result[key].astype(int)\n",
        "result.drop(columns=[key], inplace = True)\n",
        "np.unique(result[key + '_cat'])\n",
        "result.dtypes"
      ],
      "execution_count": null,
      "outputs": [
        {
          "output_type": "execute_result",
          "data": {
            "text/plain": [
              "Id          int64\n",
              "f1          int64\n",
              "f3        float64\n",
              "f4          int64\n",
              "f5          int64\n",
              "f6          int64\n",
              "f7          int64\n",
              "f8          int64\n",
              "f9          int64\n",
              "f10         int64\n",
              "f11         int64\n",
              "f12         int64\n",
              "f13         int64\n",
              "f14       float64\n",
              "f15         int64\n",
              "f16         int64\n",
              "f17         int64\n",
              "f18         int64\n",
              "f19         int64\n",
              "f20         int64\n",
              "f21         int64\n",
              "f22         int64\n",
              "f23         int64\n",
              "f24         int64\n",
              "f2_cat      int64\n",
              "dtype: object"
            ]
          },
          "metadata": {},
          "execution_count": 72
        }
      ]
    },
    {
      "cell_type": "code",
      "metadata": {
        "id": "roPHo-n9ijzC"
      },
      "source": [
        ""
      ],
      "execution_count": null,
      "outputs": []
    },
    {
      "cell_type": "code",
      "metadata": {
        "colab": {
          "base_uri": "https://localhost:8080/"
        },
        "id": "RMQ59oIzV6R8",
        "outputId": "820698fe-e8aa-4472-fe1d-e9d7b16e09bb"
      },
      "source": [
        "result['f4'].value_counts()\n",
        "result['f4'] = np.log(result['f4'])\n",
        "result['f4']"
      ],
      "execution_count": null,
      "outputs": [
        {
          "output_type": "execute_result",
          "data": {
            "text/plain": [
              "0        2.458176\n",
              "1        2.457774\n",
              "2        2.457981\n",
              "3        2.457962\n",
              "4        2.459126\n",
              "           ...   \n",
              "16380    2.457962\n",
              "16381    2.457981\n",
              "16382    2.457717\n",
              "16383    2.458024\n",
              "16384    2.457782\n",
              "Name: f4, Length: 32768, dtype: float64"
            ]
          },
          "metadata": {},
          "execution_count": 301
        }
      ]
    },
    {
      "cell_type": "code",
      "metadata": {
        "id": "k7H10GzDIeFg"
      },
      "source": [
        "train_final.shape\n",
        "result.shape\n",
        "train_cat = result[:16383]\n",
        "test_cat = result[16383:]\n",
        "\n",
        "from sklearn.model_selection import train_test_split\n",
        "X = train_cat.drop(columns = ['Id'])\n",
        "Y = train_final['Y']\n",
        "#X_train, X_test, y_train, y_test = train_test_split( X, Y, test_size=0.025)\n"
      ],
      "execution_count": null,
      "outputs": []
    },
    {
      "cell_type": "code",
      "metadata": {
        "colab": {
          "base_uri": "https://localhost:8080/"
        },
        "id": "BtrIpXE06p4I",
        "outputId": "66c5104b-5bb7-4535-b690-cd0d21b91780"
      },
      "source": [
        "#print(confusion_matrix(y_test, y_pred))\n",
        "roc_auc_score(y_test, y_pred)"
      ],
      "execution_count": null,
      "outputs": [
        {
          "output_type": "execute_result",
          "data": {
            "text/plain": [
              "0.9521038961038961"
            ]
          },
          "metadata": {},
          "execution_count": 94
        }
      ]
    },
    {
      "cell_type": "code",
      "metadata": {
        "colab": {
          "base_uri": "https://localhost:8080/",
          "height": 120
        },
        "id": "2Kmg8O3Z2w3s",
        "outputId": "d56c7d76-f885-4cc6-c92b-01af21e60993"
      },
      "source": [
        "from sklearn.model_selection import cross_val_score, GridSearchCV, KFold, RandomizedSearchCV, train_test_split\n",
        "\n",
        "import xgboost as xgb\n",
        "from sklearn.metrics import auc, accuracy_score, confusion_matrix, mean_squared_error\n",
        "from sklearn.metrics import roc_auc_score\n",
        "#objective=\"binary:logistic\", eval_metric = \"auc\"\n",
        "\n",
        "xgb_model = xgb.XGBClassifier(scale_pos_weight= 16, random_state=42)\n",
        "xgb_model.fit(X_train, y_train)\n",
        "\n",
        "y_pred = xgb_model.predict(X_test)\n",
        "\n",
        "print(confusion_matrix(y_test, y_pred))\n",
        "'''Compute confusion matrix to evaluate the accuracy of a classification.\n",
        "\n",
        "By definition a confusion matrix  is such that  is equal to the number of observations known to be in group  and predicted to be in group .\n",
        "Thus in binary classification, the count of true negatives is , false negatives is , true positives is  and false positives is .\n",
        "00 tru negative true negatives not identified negatives not getting identified, 10 false negative, 11 true positives, 01 false positive\n",
        "true negatives 0 , false negatives 27, true postive 383,  '''"
      ],
      "execution_count": null,
      "outputs": [
        {
          "output_type": "stream",
          "name": "stdout",
          "text": [
            "[[ 11  14]\n",
            " [  0 385]]\n"
          ]
        },
        {
          "output_type": "execute_result",
          "data": {
            "application/vnd.google.colaboratory.intrinsic+json": {
              "type": "string"
            },
            "text/plain": [
              "'Compute confusion matrix to evaluate the accuracy of a classification.\\n\\nBy definition a confusion matrix  is such that  is equal to the number of observations known to be in group  and predicted to be in group .\\nThus in binary classification, the count of true negatives is , false negatives is , true positives is  and false positives is .\\n00 tru negative true negatives not identified negatives not getting identified, 10 false negative, 11 true positives, 01 false positive\\ntrue negatives 0 , false negatives 27, true postive 383,  '"
            ]
          },
          "metadata": {},
          "execution_count": 14
        }
      ]
    },
    {
      "cell_type": "code",
      "metadata": {
        "id": "WTuB8QMhlmi9"
      },
      "source": [
        "'''xgb_model.fit(X_train[train], y_train[train])\n",
        "    score = xgb_model.score(X_train[test], y_train[test])\n",
        "    scores.append(score)\n",
        "    print('Fold: %s,, Acc: %.3f' % (k+1, score))'''"
      ],
      "execution_count": null,
      "outputs": []
    },
    {
      "cell_type": "code",
      "metadata": {
        "colab": {
          "base_uri": "https://localhost:8080/"
        },
        "id": "WWgVQW0CjJWn",
        "outputId": "caed561a-b2e2-4939-898d-9d776cee78fd"
      },
      "source": [
        "# Create a Stratified K-Fold;\n",
        "from sklearn.model_selection import cross_val_score, GridSearchCV, KFold, RandomizedSearchCV, train_test_split\n",
        "from sklearn.model_selection import StratifiedKFold\n",
        "import xgboost as xgb\n",
        "from sklearn.metrics import auc, accuracy_score, confusion_matrix, mean_squared_error\n",
        "from sklearn.metrics import roc_auc_score\n",
        "kfold = StratifiedKFold(n_splits=5,\n",
        "random_state=None).split(X_train, y_train)\n",
        "xgb_model = xgb.XGBClassifier(scale_pos_weight=16, random_state=42, n_estimators=5000)\n",
        "scores = []\n",
        "roc_scores = []\n",
        "roc_scores_test = []\n",
        "\n",
        "for k, (train, test) in enumerate(kfold):\n",
        "  xgb_model.fit(X.iloc[train], Y.iloc[train])\n",
        "  roc_score = roc_auc_score(Y.iloc[test], xgb_model.predict_proba(X.iloc[test])[:, 1])\n",
        "  #roc_score = roc_auc_score(y_train.iloc[test], np.mean(xgb_model.predict_proba(X_train.iloc[test])[:, 1], )\n",
        "\n",
        "  roc_scores.append(roc_score)\n",
        "\n",
        "  #print('Fold: %s,, Acc: %.3f' % (k+1, score))\n",
        "  print('Fold: %s,, roc: %.3f' % (k+1, roc_score))\n",
        "\n",
        "  #X_train[train]\n",
        "    \n",
        "print('avg accuracy.format{}'.format(np.mean(roc_scores)))\n",
        "\n",
        "#print('Test Accuracy: %.3f' % xgb_model.score(X_test, y_test))\n",
        "#y_pred = xgb_model.predict(X_test)\n",
        "#n_estimators=100 0.835728263195316\n",
        "# 200 format0.848972452033155\n",
        "# 300 format0.8560964397745776\n",
        "# 500 format0.8644954624904534\n",
        "# 600 format0.8667173962898345\n",
        "# 700 format format0.8669243044733721\n",
        "# 1000 format0.8704030349609189\n",
        "# 2000 format0.8736417530334334\n"
      ],
      "execution_count": null,
      "outputs": [
        {
          "output_type": "stream",
          "name": "stdout",
          "text": [
            "Fold: 1,, roc: 0.869\n",
            "Fold: 2,, roc: 0.849\n",
            "Fold: 3,, roc: 0.877\n",
            "Fold: 4,, roc: 0.855\n",
            "Fold: 5,, roc: 0.892\n",
            "avg accuracy.format0.8682206735428991\n"
          ]
        }
      ]
    },
    {
      "cell_type": "code",
      "metadata": {
        "id": "7Sngd0wXyzBJ"
      },
      "source": [
        "np.mean(xgb_model.predict_proba(X_train.iloc[test])[:, 1], "
      ],
      "execution_count": null,
      "outputs": []
    },
    {
      "cell_type": "code",
      "metadata": {
        "id": "0t_JZPjtPxAl"
      },
      "source": [
        ""
      ],
      "execution_count": null,
      "outputs": []
    },
    {
      "cell_type": "code",
      "metadata": {
        "colab": {
          "base_uri": "https://localhost:8080/"
        },
        "id": "TlVZ0QyPJS6g",
        "outputId": "5a428048-e701-407d-9e22-99d792e2181a"
      },
      "source": [
        "y_train.value_counts()"
      ],
      "execution_count": null,
      "outputs": [
        {
          "output_type": "execute_result",
          "data": {
            "text/plain": [
              "1    15058\n",
              "0      915\n",
              "Name: Y, dtype: int64"
            ]
          },
          "metadata": {},
          "execution_count": 220
        }
      ]
    },
    {
      "cell_type": "code",
      "metadata": {
        "colab": {
          "base_uri": "https://localhost:8080/"
        },
        "id": "DZd0HK_iJXuF",
        "outputId": "d91431bb-88fe-4d48-a3ae-8a8550b45f6f"
      },
      "source": [
        "15048/925"
      ],
      "execution_count": null,
      "outputs": [
        {
          "output_type": "execute_result",
          "data": {
            "text/plain": [
              "16.26810810810811"
            ]
          },
          "metadata": {},
          "execution_count": 128
        }
      ]
    },
    {
      "cell_type": "code",
      "metadata": {
        "colab": {
          "base_uri": "https://localhost:8080/"
        },
        "id": "HTOeNdLV41vJ",
        "outputId": "ef01822f-c199-4340-81d5-7bcab8bfd97c"
      },
      "source": [
        "roc_auc_score(y_test, xgb_model.predict_proba(X_test)[:, 1])"
      ],
      "execution_count": null,
      "outputs": [
        {
          "output_type": "execute_result",
          "data": {
            "text/plain": [
              "0.8085754451733833"
            ]
          },
          "metadata": {},
          "execution_count": 311
        }
      ]
    },
    {
      "cell_type": "code",
      "metadata": {
        "id": "271cu9ygIvWp"
      },
      "source": [
        "test_data_id_dropped_cat = test_cat.drop(columns = ['Id'])\n",
        "y_pred = xgb_model.predict_proba(test_data_id_dropped_cat)\n",
        "y_pred_one_minus = 1- y_pred\n",
        "sample = pd.read_csv('sample-submission.csv')\n",
        "sample['Y'] = y_pred_one_minus\n",
        "sample.to_csv(\"xgboost_f2_cat_93.csv\")\n"
      ],
      "execution_count": null,
      "outputs": []
    },
    {
      "cell_type": "code",
      "metadata": {
        "colab": {
          "base_uri": "https://localhost:8080/",
          "height": 367
        },
        "id": "ZkhNwE-prUQE",
        "outputId": "1f711294-afbb-4114-dbc3-2e5bee9c835d"
      },
      "source": [
        "import matplotlib.pyplot as plt\n",
        "plt.hist(y_pred[:,1])"
      ],
      "execution_count": null,
      "outputs": [
        {
          "output_type": "execute_result",
          "data": {
            "text/plain": [
              "(array([2.8900e+02, 6.0000e+00, 0.0000e+00, 0.0000e+00, 0.0000e+00,\n",
              "        0.0000e+00, 8.0000e+00, 4.5000e+01, 8.8100e+02, 1.5156e+04]),\n",
              " array([0.0072122 , 0.10637064, 0.20552908, 0.30468753, 0.40384597,\n",
              "        0.5030044 , 0.60216284, 0.70132124, 0.8004797 , 0.8996381 ,\n",
              "        0.9987966 ], dtype=float32),\n",
              " <a list of 10 Patch objects>)"
            ]
          },
          "metadata": {},
          "execution_count": 60
        },
        {
          "output_type": "display_data",
          "data": {
            "image/png": "[encoded data removed]",
            "text/plain": [
              "<Figure size 432x288 with 1 Axes>"
            ]
          },
          "metadata": {
            "needs_background": "light"
          }
        }
      ]
    },
    {
      "cell_type": "code",
      "metadata": {
        "colab": {
          "base_uri": "https://localhost:8080/"
        },
        "id": "aDMsmiV92LI6",
        "outputId": "f6bae8c5-753b-4307-9480-c89c9be93a92"
      },
      "source": [
        "train_final.columns\n",
        "for col in "
      ],
      "execution_count": null,
      "outputs": [
        {
          "output_type": "execute_result",
          "data": {
            "text/plain": [
              "Index(['Id', 'Y', 'f1', 'f2', 'f3', 'f4', 'f5', 'f6', 'f7', 'f8', 'f9', 'f10',\n",
              "       'f11', 'f12', 'f13', 'f14', 'f15', 'f16', 'f17', 'f18', 'f19', 'f20',\n",
              "       'f21', 'f22', 'f23', 'f24'],\n",
              "      dtype='object')"
            ]
          },
          "metadata": {},
          "execution_count": 28
        }
      ]
    },
    {
      "cell_type": "code",
      "metadata": {
        "colab": {
          "base_uri": "https://localhost:8080/",
          "height": 419
        },
        "id": "aXrm7qmM2O4v",
        "outputId": "bbbe354e-6760-447c-f94b-d257a41c2321"
      },
      "source": [
        "train_final\n",
        "# f2, f5, f6, f9, f10, f11, "
      ],
      "execution_count": null,
      "outputs": [
        {
          "output_type": "execute_result",
          "data": {
            "text/html": [
              "<div>\n",
              "<style scoped>\n",
              "    .dataframe tbody tr th:only-of-type {\n",
              "        vertical-align: middle;\n",
              "    }\n",
              "\n",
              "    .dataframe tbody tr th {\n",
              "        vertical-align: top;\n",
              "    }\n",
              "\n",
              "    .dataframe thead th {\n",
              "        text-align: right;\n",
              "    }\n",
              "</style>\n",
              "<table border=\"1\" class=\"dataframe\">\n",
              "  <thead>\n",
              "    <tr style=\"text-align: right;\">\n",
              "      <th></th>\n",
              "      <th>Id</th>\n",
              "      <th>Y</th>\n",
              "      <th>f1</th>\n",
              "      <th>f2</th>\n",
              "      <th>f3</th>\n",
              "      <th>f4</th>\n",
              "      <th>f5</th>\n",
              "      <th>f6</th>\n",
              "      <th>f7</th>\n",
              "      <th>f8</th>\n",
              "      <th>f9</th>\n",
              "      <th>f10</th>\n",
              "      <th>f11</th>\n",
              "      <th>f12</th>\n",
              "      <th>f13</th>\n",
              "      <th>f14</th>\n",
              "      <th>f15</th>\n",
              "      <th>f16</th>\n",
              "      <th>f17</th>\n",
              "      <th>f18</th>\n",
              "      <th>f19</th>\n",
              "      <th>f20</th>\n",
              "      <th>f21</th>\n",
              "      <th>f22</th>\n",
              "      <th>f23</th>\n",
              "      <th>f24</th>\n",
              "    </tr>\n",
              "  </thead>\n",
              "  <tbody>\n",
              "    <tr>\n",
              "      <th>0</th>\n",
              "      <td>1</td>\n",
              "      <td>1</td>\n",
              "      <td>25884</td>\n",
              "      <td>1</td>\n",
              "      <td>33.63</td>\n",
              "      <td>118596</td>\n",
              "      <td>1</td>\n",
              "      <td>0</td>\n",
              "      <td>118595</td>\n",
              "      <td>125738</td>\n",
              "      <td>1</td>\n",
              "      <td>3</td>\n",
              "      <td>1</td>\n",
              "      <td>2</td>\n",
              "      <td>121374</td>\n",
              "      <td>-2.266430</td>\n",
              "      <td>1945</td>\n",
              "      <td>118450</td>\n",
              "      <td>119184</td>\n",
              "      <td>1</td>\n",
              "      <td>121372</td>\n",
              "      <td>1</td>\n",
              "      <td>1</td>\n",
              "      <td>1</td>\n",
              "      <td>2</td>\n",
              "      <td>1</td>\n",
              "    </tr>\n",
              "    <tr>\n",
              "      <th>1</th>\n",
              "      <td>2</td>\n",
              "      <td>1</td>\n",
              "      <td>34346</td>\n",
              "      <td>1</td>\n",
              "      <td>10.62</td>\n",
              "      <td>118041</td>\n",
              "      <td>1</td>\n",
              "      <td>0</td>\n",
              "      <td>117902</td>\n",
              "      <td>130913</td>\n",
              "      <td>1</td>\n",
              "      <td>1</td>\n",
              "      <td>1</td>\n",
              "      <td>23</td>\n",
              "      <td>118943</td>\n",
              "      <td>-0.305612</td>\n",
              "      <td>15385</td>\n",
              "      <td>117945</td>\n",
              "      <td>292795</td>\n",
              "      <td>1</td>\n",
              "      <td>259173</td>\n",
              "      <td>1</td>\n",
              "      <td>1</td>\n",
              "      <td>1</td>\n",
              "      <td>1</td>\n",
              "      <td>1</td>\n",
              "    </tr>\n",
              "    <tr>\n",
              "      <th>2</th>\n",
              "      <td>3</td>\n",
              "      <td>1</td>\n",
              "      <td>34923</td>\n",
              "      <td>1</td>\n",
              "      <td>1.77</td>\n",
              "      <td>118327</td>\n",
              "      <td>1</td>\n",
              "      <td>0</td>\n",
              "      <td>117961</td>\n",
              "      <td>124402</td>\n",
              "      <td>1</td>\n",
              "      <td>2</td>\n",
              "      <td>1</td>\n",
              "      <td>1</td>\n",
              "      <td>118786</td>\n",
              "      <td>2.015561</td>\n",
              "      <td>7547</td>\n",
              "      <td>118933</td>\n",
              "      <td>290919</td>\n",
              "      <td>1</td>\n",
              "      <td>118784</td>\n",
              "      <td>1</td>\n",
              "      <td>1</td>\n",
              "      <td>1</td>\n",
              "      <td>1</td>\n",
              "      <td>1</td>\n",
              "    </tr>\n",
              "    <tr>\n",
              "      <th>3</th>\n",
              "      <td>4</td>\n",
              "      <td>1</td>\n",
              "      <td>80926</td>\n",
              "      <td>1</td>\n",
              "      <td>30.09</td>\n",
              "      <td>118300</td>\n",
              "      <td>1</td>\n",
              "      <td>0</td>\n",
              "      <td>117961</td>\n",
              "      <td>301218</td>\n",
              "      <td>1</td>\n",
              "      <td>0</td>\n",
              "      <td>1</td>\n",
              "      <td>1</td>\n",
              "      <td>118332</td>\n",
              "      <td>-3.172501</td>\n",
              "      <td>4933</td>\n",
              "      <td>118458</td>\n",
              "      <td>118331</td>\n",
              "      <td>1</td>\n",
              "      <td>307024</td>\n",
              "      <td>1</td>\n",
              "      <td>1</td>\n",
              "      <td>1</td>\n",
              "      <td>2</td>\n",
              "      <td>1</td>\n",
              "    </tr>\n",
              "    <tr>\n",
              "      <th>4</th>\n",
              "      <td>5</td>\n",
              "      <td>1</td>\n",
              "      <td>4674</td>\n",
              "      <td>1</td>\n",
              "      <td>1.77</td>\n",
              "      <td>119921</td>\n",
              "      <td>1</td>\n",
              "      <td>0</td>\n",
              "      <td>119920</td>\n",
              "      <td>302830</td>\n",
              "      <td>1</td>\n",
              "      <td>0</td>\n",
              "      <td>1</td>\n",
              "      <td>2</td>\n",
              "      <td>128231</td>\n",
              "      <td>0.573767</td>\n",
              "      <td>13836</td>\n",
              "      <td>142145</td>\n",
              "      <td>4673</td>\n",
              "      <td>1</td>\n",
              "      <td>128230</td>\n",
              "      <td>1</td>\n",
              "      <td>1</td>\n",
              "      <td>1</td>\n",
              "      <td>620</td>\n",
              "      <td>1</td>\n",
              "    </tr>\n",
              "    <tr>\n",
              "      <th>...</th>\n",
              "      <td>...</td>\n",
              "      <td>...</td>\n",
              "      <td>...</td>\n",
              "      <td>...</td>\n",
              "      <td>...</td>\n",
              "      <td>...</td>\n",
              "      <td>...</td>\n",
              "      <td>...</td>\n",
              "      <td>...</td>\n",
              "      <td>...</td>\n",
              "      <td>...</td>\n",
              "      <td>...</td>\n",
              "      <td>...</td>\n",
              "      <td>...</td>\n",
              "      <td>...</td>\n",
              "      <td>...</td>\n",
              "      <td>...</td>\n",
              "      <td>...</td>\n",
              "      <td>...</td>\n",
              "      <td>...</td>\n",
              "      <td>...</td>\n",
              "      <td>...</td>\n",
              "      <td>...</td>\n",
              "      <td>...</td>\n",
              "      <td>...</td>\n",
              "      <td>...</td>\n",
              "    </tr>\n",
              "    <tr>\n",
              "      <th>16378</th>\n",
              "      <td>16379</td>\n",
              "      <td>1</td>\n",
              "      <td>33328</td>\n",
              "      <td>1</td>\n",
              "      <td>1.77</td>\n",
              "      <td>118343</td>\n",
              "      <td>1</td>\n",
              "      <td>0</td>\n",
              "      <td>117961</td>\n",
              "      <td>117906</td>\n",
              "      <td>1</td>\n",
              "      <td>0</td>\n",
              "      <td>1</td>\n",
              "      <td>1</td>\n",
              "      <td>118322</td>\n",
              "      <td>1.000000</td>\n",
              "      <td>4533</td>\n",
              "      <td>118700</td>\n",
              "      <td>290919</td>\n",
              "      <td>1</td>\n",
              "      <td>118321</td>\n",
              "      <td>1</td>\n",
              "      <td>1</td>\n",
              "      <td>1</td>\n",
              "      <td>1</td>\n",
              "      <td>1</td>\n",
              "    </tr>\n",
              "    <tr>\n",
              "      <th>16379</th>\n",
              "      <td>16380</td>\n",
              "      <td>1</td>\n",
              "      <td>19944</td>\n",
              "      <td>1</td>\n",
              "      <td>1.77</td>\n",
              "      <td>118225</td>\n",
              "      <td>1</td>\n",
              "      <td>0</td>\n",
              "      <td>117961</td>\n",
              "      <td>132097</td>\n",
              "      <td>1</td>\n",
              "      <td>0</td>\n",
              "      <td>1</td>\n",
              "      <td>20</td>\n",
              "      <td>132098</td>\n",
              "      <td>1.000000</td>\n",
              "      <td>4663</td>\n",
              "      <td>120323</td>\n",
              "      <td>119095</td>\n",
              "      <td>3</td>\n",
              "      <td>132096</td>\n",
              "      <td>1</td>\n",
              "      <td>1</td>\n",
              "      <td>1</td>\n",
              "      <td>8</td>\n",
              "      <td>1</td>\n",
              "    </tr>\n",
              "    <tr>\n",
              "      <th>16380</th>\n",
              "      <td>16381</td>\n",
              "      <td>1</td>\n",
              "      <td>28359</td>\n",
              "      <td>1</td>\n",
              "      <td>3.54</td>\n",
              "      <td>118327</td>\n",
              "      <td>1</td>\n",
              "      <td>0</td>\n",
              "      <td>117961</td>\n",
              "      <td>174445</td>\n",
              "      <td>1</td>\n",
              "      <td>2</td>\n",
              "      <td>1</td>\n",
              "      <td>2</td>\n",
              "      <td>132694</td>\n",
              "      <td>1.806069</td>\n",
              "      <td>7822</td>\n",
              "      <td>118492</td>\n",
              "      <td>270488</td>\n",
              "      <td>1</td>\n",
              "      <td>132692</td>\n",
              "      <td>1</td>\n",
              "      <td>2</td>\n",
              "      <td>1</td>\n",
              "      <td>1</td>\n",
              "      <td>1</td>\n",
              "    </tr>\n",
              "    <tr>\n",
              "      <th>16381</th>\n",
              "      <td>16382</td>\n",
              "      <td>1</td>\n",
              "      <td>7542</td>\n",
              "      <td>1</td>\n",
              "      <td>3.54</td>\n",
              "      <td>118343</td>\n",
              "      <td>1</td>\n",
              "      <td>0</td>\n",
              "      <td>117961</td>\n",
              "      <td>117906</td>\n",
              "      <td>1</td>\n",
              "      <td>0</td>\n",
              "      <td>1</td>\n",
              "      <td>1</td>\n",
              "      <td>118786</td>\n",
              "      <td>-1.245079</td>\n",
              "      <td>6257</td>\n",
              "      <td>120722</td>\n",
              "      <td>290919</td>\n",
              "      <td>1</td>\n",
              "      <td>118784</td>\n",
              "      <td>1</td>\n",
              "      <td>1</td>\n",
              "      <td>1</td>\n",
              "      <td>12</td>\n",
              "      <td>1</td>\n",
              "    </tr>\n",
              "    <tr>\n",
              "      <th>16382</th>\n",
              "      <td>16383</td>\n",
              "      <td>1</td>\n",
              "      <td>13877</td>\n",
              "      <td>1</td>\n",
              "      <td>1.77</td>\n",
              "      <td>118220</td>\n",
              "      <td>1</td>\n",
              "      <td>0</td>\n",
              "      <td>118219</td>\n",
              "      <td>117879</td>\n",
              "      <td>1</td>\n",
              "      <td>0</td>\n",
              "      <td>1</td>\n",
              "      <td>2</td>\n",
              "      <td>117880</td>\n",
              "      <td>3.626300</td>\n",
              "      <td>13262</td>\n",
              "      <td>118221</td>\n",
              "      <td>19721</td>\n",
              "      <td>1</td>\n",
              "      <td>117879</td>\n",
              "      <td>1</td>\n",
              "      <td>1</td>\n",
              "      <td>1</td>\n",
              "      <td>2</td>\n",
              "      <td>1</td>\n",
              "    </tr>\n",
              "  </tbody>\n",
              "</table>\n",
              "<p>16383 rows × 26 columns</p>\n",
              "</div>"
            ],
            "text/plain": [
              "          Id  Y     f1  f2     f3      f4  ...     f19  f20  f21  f22  f23  f24\n",
              "0          1  1  25884   1  33.63  118596  ...  121372    1    1    1    2    1\n",
              "1          2  1  34346   1  10.62  118041  ...  259173    1    1    1    1    1\n",
              "2          3  1  34923   1   1.77  118327  ...  118784    1    1    1    1    1\n",
              "3          4  1  80926   1  30.09  118300  ...  307024    1    1    1    2    1\n",
              "4          5  1   4674   1   1.77  119921  ...  128230    1    1    1  620    1\n",
              "...      ... ..    ...  ..    ...     ...  ...     ...  ...  ...  ...  ...  ...\n",
              "16378  16379  1  33328   1   1.77  118343  ...  118321    1    1    1    1    1\n",
              "16379  16380  1  19944   1   1.77  118225  ...  132096    1    1    1    8    1\n",
              "16380  16381  1  28359   1   3.54  118327  ...  132692    1    2    1    1    1\n",
              "16381  16382  1   7542   1   3.54  118343  ...  118784    1    1    1   12    1\n",
              "16382  16383  1  13877   1   1.77  118220  ...  117879    1    1    1    2    1\n",
              "\n",
              "[16383 rows x 26 columns]"
            ]
          },
          "metadata": {},
          "execution_count": 29
        }
      ]
    },
    {
      "cell_type": "code",
      "metadata": {
        "colab": {
          "base_uri": "https://localhost:8080/",
          "height": 875
        },
        "id": "jJNP73-1t0fE",
        "outputId": "4b1ed189-13c8-4b03-a6d6-a43db201a0e0"
      },
      "source": [
        "corr_matrix = train_final.corr()\n",
        "corr_matrix\n",
        "#f6 "
      ],
      "execution_count": null,
      "outputs": [
        {
          "output_type": "execute_result",
          "data": {
            "text/html": [
              "<div>\n",
              "<style scoped>\n",
              "    .dataframe tbody tr th:only-of-type {\n",
              "        vertical-align: middle;\n",
              "    }\n",
              "\n",
              "    .dataframe tbody tr th {\n",
              "        vertical-align: top;\n",
              "    }\n",
              "\n",
              "    .dataframe thead th {\n",
              "        text-align: right;\n",
              "    }\n",
              "</style>\n",
              "<table border=\"1\" class=\"dataframe\">\n",
              "  <thead>\n",
              "    <tr style=\"text-align: right;\">\n",
              "      <th></th>\n",
              "      <th>Id</th>\n",
              "      <th>Y</th>\n",
              "      <th>f1</th>\n",
              "      <th>f2</th>\n",
              "      <th>f3</th>\n",
              "      <th>f4</th>\n",
              "      <th>f5</th>\n",
              "      <th>f6</th>\n",
              "      <th>f7</th>\n",
              "      <th>f8</th>\n",
              "      <th>f9</th>\n",
              "      <th>f10</th>\n",
              "      <th>f11</th>\n",
              "      <th>f12</th>\n",
              "      <th>f13</th>\n",
              "      <th>f14</th>\n",
              "      <th>f15</th>\n",
              "      <th>f16</th>\n",
              "      <th>f17</th>\n",
              "      <th>f18</th>\n",
              "      <th>f19</th>\n",
              "      <th>f20</th>\n",
              "      <th>f21</th>\n",
              "      <th>f22</th>\n",
              "      <th>f23</th>\n",
              "      <th>f24</th>\n",
              "    </tr>\n",
              "  </thead>\n",
              "  <tbody>\n",
              "    <tr>\n",
              "      <th>Id</th>\n",
              "      <td>1.000000</td>\n",
              "      <td>-0.009178</td>\n",
              "      <td>-0.013025</td>\n",
              "      <td>-0.003911</td>\n",
              "      <td>0.005126</td>\n",
              "      <td>-0.001688</td>\n",
              "      <td>-0.000059</td>\n",
              "      <td>-0.004092</td>\n",
              "      <td>-0.005665</td>\n",
              "      <td>-0.005902</td>\n",
              "      <td>0.002643</td>\n",
              "      <td>-0.010400</td>\n",
              "      <td>-0.003847</td>\n",
              "      <td>0.010560</td>\n",
              "      <td>0.012772</td>\n",
              "      <td>0.000435</td>\n",
              "      <td>-0.006564</td>\n",
              "      <td>-0.003856</td>\n",
              "      <td>-0.002918</td>\n",
              "      <td>0.000793</td>\n",
              "      <td>0.003276</td>\n",
              "      <td>0.006720</td>\n",
              "      <td>0.002348</td>\n",
              "      <td>0.004592</td>\n",
              "      <td>-0.007201</td>\n",
              "      <td>0.004073</td>\n",
              "    </tr>\n",
              "    <tr>\n",
              "      <th>Y</th>\n",
              "      <td>-0.009178</td>\n",
              "      <td>1.000000</td>\n",
              "      <td>-0.000444</td>\n",
              "      <td>-0.000920</td>\n",
              "      <td>0.002483</td>\n",
              "      <td>-0.000037</td>\n",
              "      <td>0.003077</td>\n",
              "      <td>0.015522</td>\n",
              "      <td>-0.006114</td>\n",
              "      <td>0.005902</td>\n",
              "      <td>-0.000367</td>\n",
              "      <td>0.003834</td>\n",
              "      <td>0.008494</td>\n",
              "      <td>0.005068</td>\n",
              "      <td>0.017812</td>\n",
              "      <td>0.031292</td>\n",
              "      <td>-0.003840</td>\n",
              "      <td>0.002596</td>\n",
              "      <td>-0.006608</td>\n",
              "      <td>0.001575</td>\n",
              "      <td>0.000933</td>\n",
              "      <td>0.011192</td>\n",
              "      <td>0.004252</td>\n",
              "      <td>0.001859</td>\n",
              "      <td>0.002507</td>\n",
              "      <td>0.016778</td>\n",
              "    </tr>\n",
              "    <tr>\n",
              "      <th>f1</th>\n",
              "      <td>-0.013025</td>\n",
              "      <td>-0.000444</td>\n",
              "      <td>1.000000</td>\n",
              "      <td>-0.003391</td>\n",
              "      <td>-0.004638</td>\n",
              "      <td>0.014199</td>\n",
              "      <td>-0.004121</td>\n",
              "      <td>-0.003148</td>\n",
              "      <td>0.001298</td>\n",
              "      <td>0.021653</td>\n",
              "      <td>-0.000203</td>\n",
              "      <td>-0.012698</td>\n",
              "      <td>0.006446</td>\n",
              "      <td>0.003792</td>\n",
              "      <td>0.008371</td>\n",
              "      <td>0.003478</td>\n",
              "      <td>0.004943</td>\n",
              "      <td>0.029470</td>\n",
              "      <td>0.031858</td>\n",
              "      <td>-0.000300</td>\n",
              "      <td>-0.001946</td>\n",
              "      <td>0.002467</td>\n",
              "      <td>-0.008155</td>\n",
              "      <td>-0.009366</td>\n",
              "      <td>0.006847</td>\n",
              "      <td>-0.002102</td>\n",
              "    </tr>\n",
              "    <tr>\n",
              "      <th>f2</th>\n",
              "      <td>-0.003911</td>\n",
              "      <td>-0.000920</td>\n",
              "      <td>-0.003391</td>\n",
              "      <td>1.000000</td>\n",
              "      <td>0.026442</td>\n",
              "      <td>0.006225</td>\n",
              "      <td>0.006678</td>\n",
              "      <td>0.002049</td>\n",
              "      <td>-0.012170</td>\n",
              "      <td>0.009720</td>\n",
              "      <td>-0.011067</td>\n",
              "      <td>-0.006072</td>\n",
              "      <td>-0.003517</td>\n",
              "      <td>0.005779</td>\n",
              "      <td>0.002434</td>\n",
              "      <td>-0.002164</td>\n",
              "      <td>-0.003320</td>\n",
              "      <td>-0.004262</td>\n",
              "      <td>0.010071</td>\n",
              "      <td>0.011750</td>\n",
              "      <td>-0.003790</td>\n",
              "      <td>0.006677</td>\n",
              "      <td>0.018798</td>\n",
              "      <td>-0.008867</td>\n",
              "      <td>-0.001677</td>\n",
              "      <td>0.011586</td>\n",
              "    </tr>\n",
              "    <tr>\n",
              "      <th>f3</th>\n",
              "      <td>0.005126</td>\n",
              "      <td>0.002483</td>\n",
              "      <td>-0.004638</td>\n",
              "      <td>0.026442</td>\n",
              "      <td>1.000000</td>\n",
              "      <td>0.000483</td>\n",
              "      <td>-0.002410</td>\n",
              "      <td>-0.000694</td>\n",
              "      <td>0.000510</td>\n",
              "      <td>-0.007852</td>\n",
              "      <td>-0.002839</td>\n",
              "      <td>-0.000573</td>\n",
              "      <td>-0.002480</td>\n",
              "      <td>-0.000812</td>\n",
              "      <td>-0.002071</td>\n",
              "      <td>0.003601</td>\n",
              "      <td>-0.002022</td>\n",
              "      <td>-0.000046</td>\n",
              "      <td>-0.008306</td>\n",
              "      <td>-0.001172</td>\n",
              "      <td>-0.002480</td>\n",
              "      <td>0.000133</td>\n",
              "      <td>0.003409</td>\n",
              "      <td>-0.000812</td>\n",
              "      <td>-0.000196</td>\n",
              "      <td>-0.002820</td>\n",
              "    </tr>\n",
              "    <tr>\n",
              "      <th>f4</th>\n",
              "      <td>-0.001688</td>\n",
              "      <td>-0.000037</td>\n",
              "      <td>0.014199</td>\n",
              "      <td>0.006225</td>\n",
              "      <td>0.000483</td>\n",
              "      <td>1.000000</td>\n",
              "      <td>0.009693</td>\n",
              "      <td>-0.006871</td>\n",
              "      <td>0.038115</td>\n",
              "      <td>0.017708</td>\n",
              "      <td>-0.008797</td>\n",
              "      <td>-0.002021</td>\n",
              "      <td>0.005120</td>\n",
              "      <td>0.004193</td>\n",
              "      <td>0.012451</td>\n",
              "      <td>0.005489</td>\n",
              "      <td>0.000530</td>\n",
              "      <td>0.005781</td>\n",
              "      <td>0.066988</td>\n",
              "      <td>-0.001787</td>\n",
              "      <td>0.007615</td>\n",
              "      <td>0.006043</td>\n",
              "      <td>-0.005255</td>\n",
              "      <td>0.008059</td>\n",
              "      <td>0.000067</td>\n",
              "      <td>-0.003628</td>\n",
              "    </tr>\n",
              "    <tr>\n",
              "      <th>f5</th>\n",
              "      <td>-0.000059</td>\n",
              "      <td>0.003077</td>\n",
              "      <td>-0.004121</td>\n",
              "      <td>0.006678</td>\n",
              "      <td>-0.002410</td>\n",
              "      <td>0.009693</td>\n",
              "      <td>1.000000</td>\n",
              "      <td>0.008260</td>\n",
              "      <td>0.005845</td>\n",
              "      <td>-0.009440</td>\n",
              "      <td>-0.003951</td>\n",
              "      <td>-0.001085</td>\n",
              "      <td>-0.009862</td>\n",
              "      <td>-0.000870</td>\n",
              "      <td>-0.011013</td>\n",
              "      <td>-0.013923</td>\n",
              "      <td>-0.002781</td>\n",
              "      <td>-0.001335</td>\n",
              "      <td>0.004467</td>\n",
              "      <td>0.000422</td>\n",
              "      <td>0.010716</td>\n",
              "      <td>-0.008261</td>\n",
              "      <td>-0.004549</td>\n",
              "      <td>-0.007948</td>\n",
              "      <td>-0.001700</td>\n",
              "      <td>-0.004421</td>\n",
              "    </tr>\n",
              "    <tr>\n",
              "      <th>f6</th>\n",
              "      <td>-0.004092</td>\n",
              "      <td>0.015522</td>\n",
              "      <td>-0.003148</td>\n",
              "      <td>0.002049</td>\n",
              "      <td>-0.000694</td>\n",
              "      <td>-0.006871</td>\n",
              "      <td>0.008260</td>\n",
              "      <td>1.000000</td>\n",
              "      <td>0.006861</td>\n",
              "      <td>0.001224</td>\n",
              "      <td>0.001379</td>\n",
              "      <td>0.013056</td>\n",
              "      <td>-0.008838</td>\n",
              "      <td>0.014473</td>\n",
              "      <td>-0.003947</td>\n",
              "      <td>0.007330</td>\n",
              "      <td>0.009897</td>\n",
              "      <td>0.007094</td>\n",
              "      <td>0.001291</td>\n",
              "      <td>0.015064</td>\n",
              "      <td>-0.005578</td>\n",
              "      <td>-0.002008</td>\n",
              "      <td>-0.002715</td>\n",
              "      <td>0.006413</td>\n",
              "      <td>-0.001689</td>\n",
              "      <td>-0.006430</td>\n",
              "    </tr>\n",
              "    <tr>\n",
              "      <th>f7</th>\n",
              "      <td>-0.005665</td>\n",
              "      <td>-0.006114</td>\n",
              "      <td>0.001298</td>\n",
              "      <td>-0.012170</td>\n",
              "      <td>0.000510</td>\n",
              "      <td>0.038115</td>\n",
              "      <td>0.005845</td>\n",
              "      <td>0.006861</td>\n",
              "      <td>1.000000</td>\n",
              "      <td>0.000741</td>\n",
              "      <td>0.002666</td>\n",
              "      <td>-0.011992</td>\n",
              "      <td>0.003479</td>\n",
              "      <td>-0.003130</td>\n",
              "      <td>-0.007024</td>\n",
              "      <td>0.004554</td>\n",
              "      <td>-0.012774</td>\n",
              "      <td>0.000034</td>\n",
              "      <td>0.019590</td>\n",
              "      <td>-0.005491</td>\n",
              "      <td>0.015218</td>\n",
              "      <td>0.017307</td>\n",
              "      <td>0.002906</td>\n",
              "      <td>-0.007056</td>\n",
              "      <td>0.001074</td>\n",
              "      <td>0.000610</td>\n",
              "    </tr>\n",
              "    <tr>\n",
              "      <th>f8</th>\n",
              "      <td>-0.005902</td>\n",
              "      <td>0.005902</td>\n",
              "      <td>0.021653</td>\n",
              "      <td>0.009720</td>\n",
              "      <td>-0.007852</td>\n",
              "      <td>0.017708</td>\n",
              "      <td>-0.009440</td>\n",
              "      <td>0.001224</td>\n",
              "      <td>0.000741</td>\n",
              "      <td>1.000000</td>\n",
              "      <td>-0.008102</td>\n",
              "      <td>-0.007583</td>\n",
              "      <td>-0.007601</td>\n",
              "      <td>-0.010722</td>\n",
              "      <td>0.091076</td>\n",
              "      <td>-0.004890</td>\n",
              "      <td>-0.019469</td>\n",
              "      <td>-0.008580</td>\n",
              "      <td>-0.184269</td>\n",
              "      <td>0.003078</td>\n",
              "      <td>0.166054</td>\n",
              "      <td>-0.000723</td>\n",
              "      <td>-0.015716</td>\n",
              "      <td>0.006589</td>\n",
              "      <td>-0.005096</td>\n",
              "      <td>-0.004944</td>\n",
              "    </tr>\n",
              "    <tr>\n",
              "      <th>f9</th>\n",
              "      <td>0.002643</td>\n",
              "      <td>-0.000367</td>\n",
              "      <td>-0.000203</td>\n",
              "      <td>-0.011067</td>\n",
              "      <td>-0.002839</td>\n",
              "      <td>-0.008797</td>\n",
              "      <td>-0.003951</td>\n",
              "      <td>0.001379</td>\n",
              "      <td>0.002666</td>\n",
              "      <td>-0.008102</td>\n",
              "      <td>1.000000</td>\n",
              "      <td>-0.001562</td>\n",
              "      <td>0.008261</td>\n",
              "      <td>-0.004022</td>\n",
              "      <td>0.000127</td>\n",
              "      <td>0.011748</td>\n",
              "      <td>0.002999</td>\n",
              "      <td>0.011958</td>\n",
              "      <td>-0.000545</td>\n",
              "      <td>-0.017294</td>\n",
              "      <td>-0.000429</td>\n",
              "      <td>0.005832</td>\n",
              "      <td>-0.009139</td>\n",
              "      <td>0.000264</td>\n",
              "      <td>-0.001326</td>\n",
              "      <td>-0.001005</td>\n",
              "    </tr>\n",
              "    <tr>\n",
              "      <th>f10</th>\n",
              "      <td>-0.010400</td>\n",
              "      <td>0.003834</td>\n",
              "      <td>-0.012698</td>\n",
              "      <td>-0.006072</td>\n",
              "      <td>-0.000573</td>\n",
              "      <td>-0.002021</td>\n",
              "      <td>-0.001085</td>\n",
              "      <td>0.013056</td>\n",
              "      <td>-0.011992</td>\n",
              "      <td>-0.007583</td>\n",
              "      <td>-0.001562</td>\n",
              "      <td>1.000000</td>\n",
              "      <td>-0.005119</td>\n",
              "      <td>-0.000463</td>\n",
              "      <td>-0.004797</td>\n",
              "      <td>-0.007054</td>\n",
              "      <td>0.001688</td>\n",
              "      <td>-0.006509</td>\n",
              "      <td>0.006255</td>\n",
              "      <td>-0.004871</td>\n",
              "      <td>-0.006443</td>\n",
              "      <td>-0.005890</td>\n",
              "      <td>-0.006236</td>\n",
              "      <td>-0.005660</td>\n",
              "      <td>-0.000736</td>\n",
              "      <td>0.012982</td>\n",
              "    </tr>\n",
              "    <tr>\n",
              "      <th>f11</th>\n",
              "      <td>-0.003847</td>\n",
              "      <td>0.008494</td>\n",
              "      <td>0.006446</td>\n",
              "      <td>-0.003517</td>\n",
              "      <td>-0.002480</td>\n",
              "      <td>0.005120</td>\n",
              "      <td>-0.009862</td>\n",
              "      <td>-0.008838</td>\n",
              "      <td>0.003479</td>\n",
              "      <td>-0.007601</td>\n",
              "      <td>0.008261</td>\n",
              "      <td>-0.005119</td>\n",
              "      <td>1.000000</td>\n",
              "      <td>-0.003706</td>\n",
              "      <td>-0.003308</td>\n",
              "      <td>0.004184</td>\n",
              "      <td>0.010386</td>\n",
              "      <td>0.002799</td>\n",
              "      <td>0.008112</td>\n",
              "      <td>-0.008551</td>\n",
              "      <td>0.001052</td>\n",
              "      <td>-0.001837</td>\n",
              "      <td>-0.001635</td>\n",
              "      <td>-0.006013</td>\n",
              "      <td>-0.001692</td>\n",
              "      <td>0.004997</td>\n",
              "    </tr>\n",
              "    <tr>\n",
              "      <th>f12</th>\n",
              "      <td>0.010560</td>\n",
              "      <td>0.005068</td>\n",
              "      <td>0.003792</td>\n",
              "      <td>0.005779</td>\n",
              "      <td>-0.000812</td>\n",
              "      <td>0.004193</td>\n",
              "      <td>-0.000870</td>\n",
              "      <td>0.014473</td>\n",
              "      <td>-0.003130</td>\n",
              "      <td>-0.010722</td>\n",
              "      <td>-0.004022</td>\n",
              "      <td>-0.000463</td>\n",
              "      <td>-0.003706</td>\n",
              "      <td>1.000000</td>\n",
              "      <td>-0.002168</td>\n",
              "      <td>-0.006136</td>\n",
              "      <td>0.015798</td>\n",
              "      <td>-0.001241</td>\n",
              "      <td>0.010549</td>\n",
              "      <td>-0.003646</td>\n",
              "      <td>-0.004741</td>\n",
              "      <td>0.002017</td>\n",
              "      <td>-0.005353</td>\n",
              "      <td>-0.005680</td>\n",
              "      <td>-0.000480</td>\n",
              "      <td>-0.000572</td>\n",
              "    </tr>\n",
              "    <tr>\n",
              "      <th>f13</th>\n",
              "      <td>0.012772</td>\n",
              "      <td>0.017812</td>\n",
              "      <td>0.008371</td>\n",
              "      <td>0.002434</td>\n",
              "      <td>-0.002071</td>\n",
              "      <td>0.012451</td>\n",
              "      <td>-0.011013</td>\n",
              "      <td>-0.003947</td>\n",
              "      <td>-0.007024</td>\n",
              "      <td>0.091076</td>\n",
              "      <td>0.000127</td>\n",
              "      <td>-0.004797</td>\n",
              "      <td>-0.003308</td>\n",
              "      <td>-0.002168</td>\n",
              "      <td>1.000000</td>\n",
              "      <td>-0.010609</td>\n",
              "      <td>-0.003131</td>\n",
              "      <td>0.010655</td>\n",
              "      <td>-0.153325</td>\n",
              "      <td>0.011311</td>\n",
              "      <td>0.149742</td>\n",
              "      <td>-0.003837</td>\n",
              "      <td>-0.005747</td>\n",
              "      <td>-0.000905</td>\n",
              "      <td>-0.002714</td>\n",
              "      <td>0.004196</td>\n",
              "    </tr>\n",
              "    <tr>\n",
              "      <th>f14</th>\n",
              "      <td>0.000435</td>\n",
              "      <td>0.031292</td>\n",
              "      <td>0.003478</td>\n",
              "      <td>-0.002164</td>\n",
              "      <td>0.003601</td>\n",
              "      <td>0.005489</td>\n",
              "      <td>-0.013923</td>\n",
              "      <td>0.007330</td>\n",
              "      <td>0.004554</td>\n",
              "      <td>-0.004890</td>\n",
              "      <td>0.011748</td>\n",
              "      <td>-0.007054</td>\n",
              "      <td>0.004184</td>\n",
              "      <td>-0.006136</td>\n",
              "      <td>-0.010609</td>\n",
              "      <td>1.000000</td>\n",
              "      <td>0.000191</td>\n",
              "      <td>0.006389</td>\n",
              "      <td>0.005140</td>\n",
              "      <td>-0.005906</td>\n",
              "      <td>0.014349</td>\n",
              "      <td>0.006008</td>\n",
              "      <td>0.013998</td>\n",
              "      <td>-0.007585</td>\n",
              "      <td>-0.009547</td>\n",
              "      <td>-0.001239</td>\n",
              "    </tr>\n",
              "    <tr>\n",
              "      <th>f15</th>\n",
              "      <td>-0.006564</td>\n",
              "      <td>-0.003840</td>\n",
              "      <td>0.004943</td>\n",
              "      <td>-0.003320</td>\n",
              "      <td>-0.002022</td>\n",
              "      <td>0.000530</td>\n",
              "      <td>-0.002781</td>\n",
              "      <td>0.009897</td>\n",
              "      <td>-0.012774</td>\n",
              "      <td>-0.019469</td>\n",
              "      <td>0.002999</td>\n",
              "      <td>0.001688</td>\n",
              "      <td>0.010386</td>\n",
              "      <td>0.015798</td>\n",
              "      <td>-0.003131</td>\n",
              "      <td>0.000191</td>\n",
              "      <td>1.000000</td>\n",
              "      <td>-0.002317</td>\n",
              "      <td>-0.119782</td>\n",
              "      <td>-0.009962</td>\n",
              "      <td>0.025024</td>\n",
              "      <td>-0.002332</td>\n",
              "      <td>0.004654</td>\n",
              "      <td>-0.000909</td>\n",
              "      <td>-0.005482</td>\n",
              "      <td>0.006557</td>\n",
              "    </tr>\n",
              "    <tr>\n",
              "      <th>f16</th>\n",
              "      <td>-0.003856</td>\n",
              "      <td>0.002596</td>\n",
              "      <td>0.029470</td>\n",
              "      <td>-0.004262</td>\n",
              "      <td>-0.000046</td>\n",
              "      <td>0.005781</td>\n",
              "      <td>-0.001335</td>\n",
              "      <td>0.007094</td>\n",
              "      <td>0.000034</td>\n",
              "      <td>-0.008580</td>\n",
              "      <td>0.011958</td>\n",
              "      <td>-0.006509</td>\n",
              "      <td>0.002799</td>\n",
              "      <td>-0.001241</td>\n",
              "      <td>0.010655</td>\n",
              "      <td>0.006389</td>\n",
              "      <td>-0.002317</td>\n",
              "      <td>1.000000</td>\n",
              "      <td>0.035102</td>\n",
              "      <td>-0.001086</td>\n",
              "      <td>-0.004557</td>\n",
              "      <td>0.010950</td>\n",
              "      <td>-0.002447</td>\n",
              "      <td>-0.006266</td>\n",
              "      <td>0.003021</td>\n",
              "      <td>0.002618</td>\n",
              "    </tr>\n",
              "    <tr>\n",
              "      <th>f17</th>\n",
              "      <td>-0.002918</td>\n",
              "      <td>-0.006608</td>\n",
              "      <td>0.031858</td>\n",
              "      <td>0.010071</td>\n",
              "      <td>-0.008306</td>\n",
              "      <td>0.066988</td>\n",
              "      <td>0.004467</td>\n",
              "      <td>0.001291</td>\n",
              "      <td>0.019590</td>\n",
              "      <td>-0.184269</td>\n",
              "      <td>-0.000545</td>\n",
              "      <td>0.006255</td>\n",
              "      <td>0.008112</td>\n",
              "      <td>0.010549</td>\n",
              "      <td>-0.153325</td>\n",
              "      <td>0.005140</td>\n",
              "      <td>-0.119782</td>\n",
              "      <td>0.035102</td>\n",
              "      <td>1.000000</td>\n",
              "      <td>0.005611</td>\n",
              "      <td>-0.007941</td>\n",
              "      <td>-0.007229</td>\n",
              "      <td>-0.000305</td>\n",
              "      <td>0.009929</td>\n",
              "      <td>-0.004470</td>\n",
              "      <td>0.007165</td>\n",
              "    </tr>\n",
              "    <tr>\n",
              "      <th>f18</th>\n",
              "      <td>0.000793</td>\n",
              "      <td>0.001575</td>\n",
              "      <td>-0.000300</td>\n",
              "      <td>0.011750</td>\n",
              "      <td>-0.001172</td>\n",
              "      <td>-0.001787</td>\n",
              "      <td>0.000422</td>\n",
              "      <td>0.015064</td>\n",
              "      <td>-0.005491</td>\n",
              "      <td>0.003078</td>\n",
              "      <td>-0.017294</td>\n",
              "      <td>-0.004871</td>\n",
              "      <td>-0.008551</td>\n",
              "      <td>-0.003646</td>\n",
              "      <td>0.011311</td>\n",
              "      <td>-0.005906</td>\n",
              "      <td>-0.009962</td>\n",
              "      <td>-0.001086</td>\n",
              "      <td>0.005611</td>\n",
              "      <td>1.000000</td>\n",
              "      <td>0.001969</td>\n",
              "      <td>0.001873</td>\n",
              "      <td>0.011628</td>\n",
              "      <td>0.000405</td>\n",
              "      <td>0.023746</td>\n",
              "      <td>-0.010794</td>\n",
              "    </tr>\n",
              "    <tr>\n",
              "      <th>f19</th>\n",
              "      <td>0.003276</td>\n",
              "      <td>0.000933</td>\n",
              "      <td>-0.001946</td>\n",
              "      <td>-0.003790</td>\n",
              "      <td>-0.002480</td>\n",
              "      <td>0.007615</td>\n",
              "      <td>0.010716</td>\n",
              "      <td>-0.005578</td>\n",
              "      <td>0.015218</td>\n",
              "      <td>0.166054</td>\n",
              "      <td>-0.000429</td>\n",
              "      <td>-0.006443</td>\n",
              "      <td>0.001052</td>\n",
              "      <td>-0.004741</td>\n",
              "      <td>0.149742</td>\n",
              "      <td>0.014349</td>\n",
              "      <td>0.025024</td>\n",
              "      <td>-0.004557</td>\n",
              "      <td>-0.007941</td>\n",
              "      <td>0.001969</td>\n",
              "      <td>1.000000</td>\n",
              "      <td>0.003784</td>\n",
              "      <td>-0.009134</td>\n",
              "      <td>-0.005799</td>\n",
              "      <td>-0.002440</td>\n",
              "      <td>-0.010936</td>\n",
              "    </tr>\n",
              "    <tr>\n",
              "      <th>f20</th>\n",
              "      <td>0.006720</td>\n",
              "      <td>0.011192</td>\n",
              "      <td>0.002467</td>\n",
              "      <td>0.006677</td>\n",
              "      <td>0.000133</td>\n",
              "      <td>0.006043</td>\n",
              "      <td>-0.008261</td>\n",
              "      <td>-0.002008</td>\n",
              "      <td>0.017307</td>\n",
              "      <td>-0.000723</td>\n",
              "      <td>0.005832</td>\n",
              "      <td>-0.005890</td>\n",
              "      <td>-0.001837</td>\n",
              "      <td>0.002017</td>\n",
              "      <td>-0.003837</td>\n",
              "      <td>0.006008</td>\n",
              "      <td>-0.002332</td>\n",
              "      <td>0.010950</td>\n",
              "      <td>-0.007229</td>\n",
              "      <td>0.001873</td>\n",
              "      <td>0.003784</td>\n",
              "      <td>1.000000</td>\n",
              "      <td>-0.005553</td>\n",
              "      <td>0.008851</td>\n",
              "      <td>-0.001702</td>\n",
              "      <td>-0.001864</td>\n",
              "    </tr>\n",
              "    <tr>\n",
              "      <th>f21</th>\n",
              "      <td>0.002348</td>\n",
              "      <td>0.004252</td>\n",
              "      <td>-0.008155</td>\n",
              "      <td>0.018798</td>\n",
              "      <td>0.003409</td>\n",
              "      <td>-0.005255</td>\n",
              "      <td>-0.004549</td>\n",
              "      <td>-0.002715</td>\n",
              "      <td>0.002906</td>\n",
              "      <td>-0.015716</td>\n",
              "      <td>-0.009139</td>\n",
              "      <td>-0.006236</td>\n",
              "      <td>-0.001635</td>\n",
              "      <td>-0.005353</td>\n",
              "      <td>-0.005747</td>\n",
              "      <td>0.013998</td>\n",
              "      <td>0.004654</td>\n",
              "      <td>-0.002447</td>\n",
              "      <td>-0.000305</td>\n",
              "      <td>0.011628</td>\n",
              "      <td>-0.009134</td>\n",
              "      <td>-0.005553</td>\n",
              "      <td>1.000000</td>\n",
              "      <td>0.009824</td>\n",
              "      <td>-0.001115</td>\n",
              "      <td>-0.005213</td>\n",
              "    </tr>\n",
              "    <tr>\n",
              "      <th>f22</th>\n",
              "      <td>0.004592</td>\n",
              "      <td>0.001859</td>\n",
              "      <td>-0.009366</td>\n",
              "      <td>-0.008867</td>\n",
              "      <td>-0.000812</td>\n",
              "      <td>0.008059</td>\n",
              "      <td>-0.007948</td>\n",
              "      <td>0.006413</td>\n",
              "      <td>-0.007056</td>\n",
              "      <td>0.006589</td>\n",
              "      <td>0.000264</td>\n",
              "      <td>-0.005660</td>\n",
              "      <td>-0.006013</td>\n",
              "      <td>-0.005680</td>\n",
              "      <td>-0.000905</td>\n",
              "      <td>-0.007585</td>\n",
              "      <td>-0.000909</td>\n",
              "      <td>-0.006266</td>\n",
              "      <td>0.009929</td>\n",
              "      <td>0.000405</td>\n",
              "      <td>-0.005799</td>\n",
              "      <td>0.008851</td>\n",
              "      <td>0.009824</td>\n",
              "      <td>1.000000</td>\n",
              "      <td>-0.000342</td>\n",
              "      <td>0.016978</td>\n",
              "    </tr>\n",
              "    <tr>\n",
              "      <th>f23</th>\n",
              "      <td>-0.007201</td>\n",
              "      <td>0.002507</td>\n",
              "      <td>0.006847</td>\n",
              "      <td>-0.001677</td>\n",
              "      <td>-0.000196</td>\n",
              "      <td>0.000067</td>\n",
              "      <td>-0.001700</td>\n",
              "      <td>-0.001689</td>\n",
              "      <td>0.001074</td>\n",
              "      <td>-0.005096</td>\n",
              "      <td>-0.001326</td>\n",
              "      <td>-0.000736</td>\n",
              "      <td>-0.001692</td>\n",
              "      <td>-0.000480</td>\n",
              "      <td>-0.002714</td>\n",
              "      <td>-0.009547</td>\n",
              "      <td>-0.005482</td>\n",
              "      <td>0.003021</td>\n",
              "      <td>-0.004470</td>\n",
              "      <td>0.023746</td>\n",
              "      <td>-0.002440</td>\n",
              "      <td>-0.001702</td>\n",
              "      <td>-0.001115</td>\n",
              "      <td>-0.000342</td>\n",
              "      <td>1.000000</td>\n",
              "      <td>-0.001168</td>\n",
              "    </tr>\n",
              "    <tr>\n",
              "      <th>f24</th>\n",
              "      <td>0.004073</td>\n",
              "      <td>0.016778</td>\n",
              "      <td>-0.002102</td>\n",
              "      <td>0.011586</td>\n",
              "      <td>-0.002820</td>\n",
              "      <td>-0.003628</td>\n",
              "      <td>-0.004421</td>\n",
              "      <td>-0.006430</td>\n",
              "      <td>0.000610</td>\n",
              "      <td>-0.004944</td>\n",
              "      <td>-0.001005</td>\n",
              "      <td>0.012982</td>\n",
              "      <td>0.004997</td>\n",
              "      <td>-0.000572</td>\n",
              "      <td>0.004196</td>\n",
              "      <td>-0.001239</td>\n",
              "      <td>0.006557</td>\n",
              "      <td>0.002618</td>\n",
              "      <td>0.007165</td>\n",
              "      <td>-0.010794</td>\n",
              "      <td>-0.010936</td>\n",
              "      <td>-0.001864</td>\n",
              "      <td>-0.005213</td>\n",
              "      <td>0.016978</td>\n",
              "      <td>-0.001168</td>\n",
              "      <td>1.000000</td>\n",
              "    </tr>\n",
              "  </tbody>\n",
              "</table>\n",
              "</div>"
            ],
            "text/plain": [
              "           Id         Y        f1  ...       f22       f23       f24\n",
              "Id   1.000000 -0.009178 -0.013025  ...  0.004592 -0.007201  0.004073\n",
              "Y   -0.009178  1.000000 -0.000444  ...  0.001859  0.002507  0.016778\n",
              "f1  -0.013025 -0.000444  1.000000  ... -0.009366  0.006847 -0.002102\n",
              "f2  -0.003911 -0.000920 -0.003391  ... -0.008867 -0.001677  0.011586\n",
              "f3   0.005126  0.002483 -0.004638  ... -0.000812 -0.000196 -0.002820\n",
              "f4  -0.001688 -0.000037  0.014199  ...  0.008059  0.000067 -0.003628\n",
              "f5  -0.000059  0.003077 -0.004121  ... -0.007948 -0.001700 -0.004421\n",
              "f6  -0.004092  0.015522 -0.003148  ...  0.006413 -0.001689 -0.006430\n",
              "f7  -0.005665 -0.006114  0.001298  ... -0.007056  0.001074  0.000610\n",
              "f8  -0.005902  0.005902  0.021653  ...  0.006589 -0.005096 -0.004944\n",
              "f9   0.002643 -0.000367 -0.000203  ...  0.000264 -0.001326 -0.001005\n",
              "f10 -0.010400  0.003834 -0.012698  ... -0.005660 -0.000736  0.012982\n",
              "f11 -0.003847  0.008494  0.006446  ... -0.006013 -0.001692  0.004997\n",
              "f12  0.010560  0.005068  0.003792  ... -0.005680 -0.000480 -0.000572\n",
              "f13  0.012772  0.017812  0.008371  ... -0.000905 -0.002714  0.004196\n",
              "f14  0.000435  0.031292  0.003478  ... -0.007585 -0.009547 -0.001239\n",
              "f15 -0.006564 -0.003840  0.004943  ... -0.000909 -0.005482  0.006557\n",
              "f16 -0.003856  0.002596  0.029470  ... -0.006266  0.003021  0.002618\n",
              "f17 -0.002918 -0.006608  0.031858  ...  0.009929 -0.004470  0.007165\n",
              "f18  0.000793  0.001575 -0.000300  ...  0.000405  0.023746 -0.010794\n",
              "f19  0.003276  0.000933 -0.001946  ... -0.005799 -0.002440 -0.010936\n",
              "f20  0.006720  0.011192  0.002467  ...  0.008851 -0.001702 -0.001864\n",
              "f21  0.002348  0.004252 -0.008155  ...  0.009824 -0.001115 -0.005213\n",
              "f22  0.004592  0.001859 -0.009366  ...  1.000000 -0.000342  0.016978\n",
              "f23 -0.007201  0.002507  0.006847  ... -0.000342  1.000000 -0.001168\n",
              "f24  0.004073  0.016778 -0.002102  ...  0.016978 -0.001168  1.000000\n",
              "\n",
              "[26 rows x 26 columns]"
            ]
          },
          "metadata": {},
          "execution_count": 4
        }
      ]
    },
    {
      "cell_type": "code",
      "metadata": {
        "colab": {
          "base_uri": "https://localhost:8080/"
        },
        "id": "K2T8HlnPvRzj",
        "outputId": "8fbe0d60-5379-407f-fb47-634efc294c6a"
      },
      "source": [
        "corr_matrix['Y'].sort_values(ascending=False)"
      ],
      "execution_count": null,
      "outputs": [
        {
          "output_type": "execute_result",
          "data": {
            "text/plain": [
              "Y      1.000000\n",
              "f14    0.031292\n",
              "f13    0.017812\n",
              "f24    0.016778\n",
              "f6     0.015522\n",
              "f20    0.011192\n",
              "f11    0.008494\n",
              "f8     0.005902\n",
              "f12    0.005068\n",
              "f21    0.004252\n",
              "f10    0.003834\n",
              "f5     0.003077\n",
              "f16    0.002596\n",
              "f23    0.002507\n",
              "f3     0.002483\n",
              "f22    0.001859\n",
              "f18    0.001575\n",
              "f19    0.000933\n",
              "f4    -0.000037\n",
              "f9    -0.000367\n",
              "f1    -0.000444\n",
              "f2    -0.000920\n",
              "f15   -0.003840\n",
              "f7    -0.006114\n",
              "f17   -0.006608\n",
              "Id    -0.009178\n",
              "Name: Y, dtype: float64"
            ]
          },
          "metadata": {},
          "execution_count": 6
        }
      ]
    },
    {
      "cell_type": "code",
      "metadata": {
        "id": "vxtFv9NyzuB5"
      },
      "source": [
        "X_train"
      ],
      "execution_count": null,
      "outputs": []
    },
    {
      "cell_type": "code",
      "metadata": {
        "id": "3nwLZ__LyeW4"
      },
      "source": [
        "# Multilayer Perceptron\n",
        "from keras.utils.vis_utils import plot_model\n",
        "from keras.models import Model\n",
        "from keras.layers import Input\n",
        "from keras.layers import Dense\n",
        "visible = Input(shape=(25,))\n",
        "hidden1 = Dense(25, activation='relu')(visible)\n",
        "hidden2 = Dense(20, activation='relu')(hidden1)\n",
        "hidden3 = Dense(10, activation='relu')(hidden2)\n",
        "output = Dense(1, activation='sigmoid')(hidden3)\n",
        "model = Model(inputs=visible, outputs=output)\n",
        "# summarize layers\n",
        "print(model.summary())\n",
        "# plot graph\n",
        "plot_model(model, to_file='multilayer_perceptron_graph.png')"
      ],
      "execution_count": null,
      "outputs": []
    },
    {
      "cell_type": "code",
      "metadata": {
        "id": "7Kr9wpOqzKNa"
      },
      "source": [
        "#X_train, X_test, y_train, y_test\n",
        "import tensorflow as tf\n",
        "with tf.device('/device:GPU:0'):\n",
        "\n",
        "  model.compile(loss='binary_crossentropy', optimizer='adam')\n",
        "  model.fit(X_train, y_train, epochs=100, verbose=1)\n",
        "  \n",
        "  "
      ],
      "execution_count": null,
      "outputs": []
    },
    {
      "cell_type": "code",
      "metadata": {
        "id": "bCXd-Qpg30qJ"
      },
      "source": [
        "train_final\n",
        "\n",
        "## Don't standardize categorical variables,  only standardize non categorical\n",
        "# drop Id\n",
        "# Identify unique values and check how many distinct values are there.\n",
        "# cross validation.\n",
        "#y_train.value_counts()\n",
        "#y_train.value_counts()\n",
        "# Highly skewed data : \n",
        "\n",
        "from sklearn.model_selection import train_test_split\n",
        "X = train_final.drop(columns = ['Y'])\n",
        "Y = train_final['Y']\n",
        "X_train, X_test, y_train, y_test = train_test_split( X, Y, test_size=0.25)\n"
      ],
      "execution_count": null,
      "outputs": []
    },
    {
      "cell_type": "code",
      "metadata": {
        "colab": {
          "base_uri": "https://localhost:8080/"
        },
        "id": "3TZ39udZ2lgo",
        "outputId": "3dda10e2-243f-402a-ff30-2bcd0f7b8e02"
      },
      "source": [
        "# import the class\n",
        "from sklearn.linear_model import LogisticRegression\n",
        "\n",
        "# instantiate the model (using the default parameters)\n",
        "logreg = LogisticRegression()\n",
        "\n",
        "# fit the model with data\n",
        "logreg.fit(X_train,y_train)\n",
        "\n",
        "#\n",
        "y_pred=logreg.predict(X_test)\n",
        "logreg.score(X_test, y_test)\n"
      ],
      "execution_count": null,
      "outputs": [
        {
          "output_type": "execute_result",
          "data": {
            "text/plain": [
              "0.93505859375"
            ]
          },
          "metadata": {},
          "execution_count": 41
        }
      ]
    },
    {
      "cell_type": "code",
      "metadata": {
        "colab": {
          "base_uri": "https://localhost:8080/",
          "height": 419
        },
        "id": "N_o9T0Al41pl",
        "outputId": "0455aa99-cf5f-48a8-c144-ad2b72329eb0"
      },
      "source": [
        "submission = pd.read_csv('sample-submission.csv')  \n",
        "submission"
      ],
      "execution_count": null,
      "outputs": [
        {
          "output_type": "execute_result",
          "data": {
            "text/html": [
              "<div>\n",
              "<style scoped>\n",
              "    .dataframe tbody tr th:only-of-type {\n",
              "        vertical-align: middle;\n",
              "    }\n",
              "\n",
              "    .dataframe tbody tr th {\n",
              "        vertical-align: top;\n",
              "    }\n",
              "\n",
              "    .dataframe thead th {\n",
              "        text-align: right;\n",
              "    }\n",
              "</style>\n",
              "<table border=\"1\" class=\"dataframe\">\n",
              "  <thead>\n",
              "    <tr style=\"text-align: right;\">\n",
              "      <th></th>\n",
              "      <th>Id</th>\n",
              "      <th>Y</th>\n",
              "    </tr>\n",
              "  </thead>\n",
              "  <tbody>\n",
              "    <tr>\n",
              "      <th>0</th>\n",
              "      <td>16384</td>\n",
              "      <td>0.931992</td>\n",
              "    </tr>\n",
              "    <tr>\n",
              "      <th>1</th>\n",
              "      <td>16385</td>\n",
              "      <td>0.698093</td>\n",
              "    </tr>\n",
              "    <tr>\n",
              "      <th>2</th>\n",
              "      <td>16386</td>\n",
              "      <td>0.994123</td>\n",
              "    </tr>\n",
              "    <tr>\n",
              "      <th>3</th>\n",
              "      <td>16387</td>\n",
              "      <td>0.100000</td>\n",
              "    </tr>\n",
              "    <tr>\n",
              "      <th>4</th>\n",
              "      <td>16388</td>\n",
              "      <td>0.100000</td>\n",
              "    </tr>\n",
              "    <tr>\n",
              "      <th>...</th>\n",
              "      <td>...</td>\n",
              "      <td>...</td>\n",
              "    </tr>\n",
              "    <tr>\n",
              "      <th>16380</th>\n",
              "      <td>32764</td>\n",
              "      <td>0.900000</td>\n",
              "    </tr>\n",
              "    <tr>\n",
              "      <th>16381</th>\n",
              "      <td>32765</td>\n",
              "      <td>0.900000</td>\n",
              "    </tr>\n",
              "    <tr>\n",
              "      <th>16382</th>\n",
              "      <td>32766</td>\n",
              "      <td>0.900000</td>\n",
              "    </tr>\n",
              "    <tr>\n",
              "      <th>16383</th>\n",
              "      <td>32767</td>\n",
              "      <td>0.900000</td>\n",
              "    </tr>\n",
              "    <tr>\n",
              "      <th>16384</th>\n",
              "      <td>32768</td>\n",
              "      <td>0.900000</td>\n",
              "    </tr>\n",
              "  </tbody>\n",
              "</table>\n",
              "<p>16385 rows × 2 columns</p>\n",
              "</div>"
            ],
            "text/plain": [
              "          Id         Y\n",
              "0      16384  0.931992\n",
              "1      16385  0.698093\n",
              "2      16386  0.994123\n",
              "3      16387  0.100000\n",
              "4      16388  0.100000\n",
              "...      ...       ...\n",
              "16380  32764  0.900000\n",
              "16381  32765  0.900000\n",
              "16382  32766  0.900000\n",
              "16383  32767  0.900000\n",
              "16384  32768  0.900000\n",
              "\n",
              "[16385 rows x 2 columns]"
            ]
          },
          "metadata": {},
          "execution_count": 11
        }
      ]
    },
    {
      "cell_type": "code",
      "metadata": {
        "id": "yrT8VqST3sVj"
      },
      "source": [
        "train_final\n",
        "\n",
        "## Don't standardize categorical variables,  only standardize non categorical\n",
        "# drop Id\n",
        "# Identify unique values and check how many distinct values are there.\n",
        "# cross validation.\n",
        "#y_train.value_counts()\n",
        "#y_train.value_counts()\n",
        "# Highly skewed data : \n",
        "\n",
        "from sklearn.model_selection import train_test_split\n",
        "X = train_final.drop(columns = ['Y'])\n",
        "Y = train_final['Y']\n",
        "X_train, X_test, y_train, y_test = train_test_split( X, Y, test_size=0.25)\n"
      ],
      "execution_count": null,
      "outputs": []
    },
    {
      "cell_type": "code",
      "metadata": {
        "colab": {
          "base_uri": "https://localhost:8080/"
        },
        "id": "TVYFhh3k493C",
        "outputId": "967545b6-d834-4bc5-838e-e866d728f1ce"
      },
      "source": [
        "test_final = scaler.transform(test_final)\n",
        "\n",
        "y_pred=logreg.predict_proba(test_final)\n",
        "#X_test, y_test\n",
        "roc_auc_score(y_test, logreg.predict_proba(X_test)[:, 1])"
      ],
      "execution_count": null,
      "outputs": [
        {
          "output_type": "execute_result",
          "data": {
            "text/plain": [
              "0.516811284084886"
            ]
          },
          "metadata": {},
          "execution_count": 42
        }
      ]
    },
    {
      "cell_type": "code",
      "metadata": {
        "id": "cdjRM0FV3rlP"
      },
      "source": [
        ""
      ],
      "execution_count": null,
      "outputs": []
    },
    {
      "cell_type": "code",
      "metadata": {
        "colab": {
          "base_uri": "https://localhost:8080/"
        },
        "id": "6Sy7FZ105W6r",
        "outputId": "a987164b-9823-4a5a-df31-8f175d232cb1"
      },
      "source": [
        "y_pred.shape"
      ],
      "execution_count": null,
      "outputs": [
        {
          "output_type": "execute_result",
          "data": {
            "text/plain": [
              "(16385, 2)"
            ]
          },
          "metadata": {},
          "execution_count": 13
        }
      ]
    },
    {
      "cell_type": "code",
      "metadata": {
        "colab": {
          "base_uri": "https://localhost:8080/"
        },
        "id": "ZU1s9dEr5bL4",
        "outputId": "9a9d8fc8-ec1f-4154-efd9-ffb9687c0792"
      },
      "source": [
        "submission.shape"
      ],
      "execution_count": null,
      "outputs": [
        {
          "output_type": "execute_result",
          "data": {
            "text/plain": [
              "(16385, 2)"
            ]
          },
          "metadata": {},
          "execution_count": 14
        }
      ]
    },
    {
      "cell_type": "code",
      "metadata": {
        "id": "4gTCBSE05dKs"
      },
      "source": [
        "submission['Y'] = y_pred"
      ],
      "execution_count": null,
      "outputs": []
    },
    {
      "cell_type": "code",
      "metadata": {
        "colab": {
          "base_uri": "https://localhost:8080/",
          "height": 419
        },
        "id": "7TDV9PUQ5gsj",
        "outputId": "45afe1fc-5fa8-487f-cb08-6ee99507a43a"
      },
      "source": [
        "submission"
      ],
      "execution_count": null,
      "outputs": [
        {
          "output_type": "execute_result",
          "data": {
            "text/html": [
              "<div>\n",
              "<style scoped>\n",
              "    .dataframe tbody tr th:only-of-type {\n",
              "        vertical-align: middle;\n",
              "    }\n",
              "\n",
              "    .dataframe tbody tr th {\n",
              "        vertical-align: top;\n",
              "    }\n",
              "\n",
              "    .dataframe thead th {\n",
              "        text-align: right;\n",
              "    }\n",
              "</style>\n",
              "<table border=\"1\" class=\"dataframe\">\n",
              "  <thead>\n",
              "    <tr style=\"text-align: right;\">\n",
              "      <th></th>\n",
              "      <th>Id</th>\n",
              "      <th>Y</th>\n",
              "    </tr>\n",
              "  </thead>\n",
              "  <tbody>\n",
              "    <tr>\n",
              "      <th>0</th>\n",
              "      <td>16384</td>\n",
              "      <td>0.062109</td>\n",
              "    </tr>\n",
              "    <tr>\n",
              "      <th>1</th>\n",
              "      <td>16385</td>\n",
              "      <td>0.068180</td>\n",
              "    </tr>\n",
              "    <tr>\n",
              "      <th>2</th>\n",
              "      <td>16386</td>\n",
              "      <td>0.047140</td>\n",
              "    </tr>\n",
              "    <tr>\n",
              "      <th>3</th>\n",
              "      <td>16387</td>\n",
              "      <td>0.061915</td>\n",
              "    </tr>\n",
              "    <tr>\n",
              "      <th>4</th>\n",
              "      <td>16388</td>\n",
              "      <td>0.069426</td>\n",
              "    </tr>\n",
              "    <tr>\n",
              "      <th>...</th>\n",
              "      <td>...</td>\n",
              "      <td>...</td>\n",
              "    </tr>\n",
              "    <tr>\n",
              "      <th>16380</th>\n",
              "      <td>32764</td>\n",
              "      <td>0.069225</td>\n",
              "    </tr>\n",
              "    <tr>\n",
              "      <th>16381</th>\n",
              "      <td>32765</td>\n",
              "      <td>0.080236</td>\n",
              "    </tr>\n",
              "    <tr>\n",
              "      <th>16382</th>\n",
              "      <td>32766</td>\n",
              "      <td>0.077679</td>\n",
              "    </tr>\n",
              "    <tr>\n",
              "      <th>16383</th>\n",
              "      <td>32767</td>\n",
              "      <td>0.058696</td>\n",
              "    </tr>\n",
              "    <tr>\n",
              "      <th>16384</th>\n",
              "      <td>32768</td>\n",
              "      <td>0.068942</td>\n",
              "    </tr>\n",
              "  </tbody>\n",
              "</table>\n",
              "<p>16385 rows × 2 columns</p>\n",
              "</div>"
            ],
            "text/plain": [
              "          Id         Y\n",
              "0      16384  0.062109\n",
              "1      16385  0.068180\n",
              "2      16386  0.047140\n",
              "3      16387  0.061915\n",
              "4      16388  0.069426\n",
              "...      ...       ...\n",
              "16380  32764  0.069225\n",
              "16381  32765  0.080236\n",
              "16382  32766  0.077679\n",
              "16383  32767  0.058696\n",
              "16384  32768  0.068942\n",
              "\n",
              "[16385 rows x 2 columns]"
            ]
          },
          "metadata": {},
          "execution_count": 16
        }
      ]
    },
    {
      "cell_type": "code",
      "metadata": {
        "id": "a2tuHfSXhXRW"
      },
      "source": [
        "submission.to_csv('submission-1-18-Oct.csv')"
      ],
      "execution_count": null,
      "outputs": []
    },
    {
      "cell_type": "markdown",
      "metadata": {
        "id": "Q7Id-XhYxnNc"
      },
      "source": [
        "X_train, X_test, y_train, y_test \n",
        "test_final"
      ]
    }
  ]
}