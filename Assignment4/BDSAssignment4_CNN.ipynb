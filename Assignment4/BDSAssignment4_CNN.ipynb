{
  "nbformat": 4,
  "nbformat_minor": 0,
  "metadata": {
    "colab": {
      "name": "BDSAssignment4-CNN.ipynb",
      "provenance": [],
      "collapsed_sections": []
    },
    "kernelspec": {
      "name": "python3",
      "display_name": "Python 3"
    },
    "language_info": {
      "name": "python"
    },
    "accelerator": "GPU"
  },
  "cells": [
    {
      "cell_type": "markdown",
      "metadata": {
        "id": "R7o9Foi3_oLs"
      },
      "source": [
        "# **Problem 1**: Logistic Regression and CIFAR-10.\n",
        "\n",
        "In this problem you will explore the dataset CIFAR-10 and you will use multi-label (multinomial) Logistic Regression to try to classify it. You will also explore visualizing the solution."
      ]
    },
    {
      "cell_type": "code",
      "metadata": {
        "id": "pV_sDZJCmpNB",
        "colab": {
          "base_uri": "https://localhost:8080/"
        },
        "outputId": "c68e8e17-c74c-45cb-ab6f-8978d48a7477"
      },
      "source": [
        "#Using GPU \n",
        "%tensorflow_version 2.x\n",
        "import tensorflow as tf\n",
        "device_name = tf.test.gpu_device_name()\n",
        "if device_name != '/device:GPU:0':\n",
        "  raise SystemError('GPU device not found')\n",
        "print('Found GPU at: {}'.format(device_name))"
      ],
      "execution_count": null,
      "outputs": [
        {
          "output_type": "stream",
          "name": "stdout",
          "text": [
            "Found GPU at: /device:GPU:0\n"
          ]
        }
      ]
    },
    {
      "cell_type": "markdown",
      "metadata": {
        "id": "GUVVs_P1_yso"
      },
      "source": [
        "# 1.1 \n",
        "Use the fetch_openml command from sklearn.datasets to import the CIFAR-10-Small data set\n"
      ]
    },
    {
      "cell_type": "code",
      "metadata": {
        "id": "jd3t8xPZ4Zfo"
      },
      "source": [
        "\n",
        "%matplotlib inline\n",
        "from sklearn.datasets import fetch_openml\n",
        "# Change data_home to wherever to where you want to download your data\n",
        "mnist = fetch_openml('mnist_784')"
      ],
      "execution_count": null,
      "outputs": []
    },
    {
      "cell_type": "code",
      "metadata": {
        "id": "XX2FlFO85XHB"
      },
      "source": [
        "cifar = fetch_openml('CIFAR_10_small')"
      ],
      "execution_count": null,
      "outputs": []
    },
    {
      "cell_type": "code",
      "metadata": {
        "id": "rL-jOaRrLR__"
      },
      "source": [
        "import numpy as np\n",
        "import numpy as np\n",
        "from matplotlib.pyplot import figure\n",
        "import matplotlib.pyplot as plt"
      ],
      "execution_count": null,
      "outputs": []
    },
    {
      "cell_type": "markdown",
      "metadata": {
        "id": "v2zF6jki_2a_"
      },
      "source": [
        "# 1.2 \n",
        "Figure out how to display some of the images in this data set, and display a couple. While not high resolution, these should be recognizable if you're doing it correctly. "
      ]
    },
    {
      "cell_type": "code",
      "metadata": {
        "id": "NNffuyyWHAID",
        "colab": {
          "base_uri": "https://localhost:8080/"
        },
        "outputId": "d4e558da-3765-4c89-93a1-f21e92c6990a"
      },
      "source": [
        "print(\"\\033[1m\" + \"About the dataset:\\n\" + \"\\033[0m\")\n",
        "print(cifar['DESCR'])\n",
        "print(\"\\n--------\\n\")\n",
        "print(\"\\033[1m\" +\"FEATURES / COLUMNS:\" + \"\\033[0m\")\n",
        "print(cifar['feature_names'][:10], \"...\", cifar['feature_names'][-1])"
      ],
      "execution_count": null,
      "outputs": [
        {
          "output_type": "stream",
          "name": "stdout",
          "text": [
            "\u001b[1mAbout the dataset:\n",
            "\u001b[0m\n",
            "**Author**: Alex Krizhevsky, Vinod Nair, and Geoffrey Hinton    \n",
            "**Source**: [University of Toronto](https://www.cs.toronto.edu/~kriz/cifar.html) - 2009  \n",
            "**Please cite**: Alex Krizhevsky (2009) Learning Multiple Layers of Features from Tiny Images, Tech Report.\n",
            "\n",
            "**CIFAR-10 small**  \n",
            "This is a 20,000 instance sample of the original CIFAR-10 dataset. Sampled randomly and stratified, with 2000 examples per class. Training and test set are merged. Find the corresponding task for the original train-test splits.\n",
            "\n",
            "CIFAR-10 is a labeled subset of the [80 million tiny images dataset](http://groups.csail.mit.edu/vision/TinyImages/). It (originally) consists 32x32 color images representing 10 classes of objects:  \n",
            "0. airplane  \n",
            "1. automobile          \n",
            "2. bird          \n",
            "3. cat          \n",
            "4. deer          \n",
            "5. dog          \n",
            "6. frog          \n",
            "7. horse          \n",
            "8. ship          \n",
            "9. truck          \n",
            "\n",
            "The classes are completely mutually exclusive. There is no overlap between automobiles and trucks. \"Automobile\" includes sedans, SUVs, things of that sort. \"Truck\" includes only big trucks. Neither includes pickup trucks.\n",
            "\n",
            "The original CIFAR-10 dataset contains 6000 images per class. The original train-test split randomly divided these into 5000 train and 1000 test images per class.\n",
            "\n",
            "### Attribute description  \n",
            "\n",
            "Each instance represents a 32x32 colour image as a 3072-value array. The first 1024 entries contain the red channel values, the next 1024 the green, and the final 1024 the blue. The image is stored in row-major order, so that the first 32 entries of the array are the red channel values of the first row of the image.\n",
            "\n",
            "The labels are encoded as integers in the range 0-9, corresponding to the numbered classes listed above\n",
            "\n",
            "Downloaded from openml.org.\n",
            "\n",
            "--------\n",
            "\n",
            "\u001b[1mFEATURES / COLUMNS:\u001b[0m\n",
            "['a0', 'a1', 'a2', 'a3', 'a4', 'a5', 'a6', 'a7', 'a8', 'a9'] ... a3071\n"
          ]
        }
      ]
    },
    {
      "cell_type": "code",
      "metadata": {
        "colab": {
          "base_uri": "https://localhost:8080/"
        },
        "id": "Pf4xKjsTItmh",
        "outputId": "013a9df7-73ab-42d9-ff8c-61f5fff83d91"
      },
      "source": [
        "print(\"Image Data Shape\" , cifar.data.shape)\n",
        "\n",
        "# Print to show there are 1797 labels (integers from 0-9)\n",
        "print(\"Label Data Shape\", cifar.target.shape)"
      ],
      "execution_count": null,
      "outputs": [
        {
          "output_type": "stream",
          "name": "stdout",
          "text": [
            "Image Data Shape (20000, 3072)\n",
            "Label Data Shape (20000,)\n"
          ]
        }
      ]
    },
    {
      "cell_type": "code",
      "metadata": {
        "id": "SW6GB04oWAnS"
      },
      "source": [
        "X = np.reshape(cifar.data, (20000, 3, 32, 32)).transpose(0,2,3,1).astype(\"uint8\")\n"
      ],
      "execution_count": null,
      "outputs": []
    },
    {
      "cell_type": "code",
      "metadata": {
        "colab": {
          "base_uri": "https://localhost:8080/",
          "height": 194
        },
        "id": "-bBptD6SXjlf",
        "outputId": "0d8e4b6a-0c72-4d69-a550-e755bb3ffdb7"
      },
      "source": [
        "fig, axes1 = plt.subplots(5,5,figsize=(3,3))\n",
        "for j in range(5):\n",
        "    for k in range(5):\n",
        "        i = np.random.choice(range(len(X)))\n",
        "        axes1[j][k].set_axis_off()\n",
        "        axes1[j][k].imshow(X[i:i+1][0])\n"
      ],
      "execution_count": null,
      "outputs": [
        {
          "output_type": "display_data",
          "data": {
            "image/png": "[encoded data removed]",
            "text/plain": [
              "<Figure size 216x216 with 25 Axes>"
            ]
          },
          "metadata": {
            "needs_background": "light"
          }
        }
      ]
    },
    {
      "cell_type": "markdown",
      "metadata": {
        "id": "coykme926LlO"
      },
      "source": [
        "1.3\n",
        "There are 20,000 data points. Do a train test split on 3/4 - 1/4"
      ]
    },
    {
      "cell_type": "code",
      "metadata": {
        "id": "SmQjfKht3Md0"
      },
      "source": [
        "from sklearn.model_selection import train_test_split\n",
        "train_cifar_img, test_cifar_img, train_cifar_lbl, test_cifar_lbl = train_test_split(\n",
        "    X, cifar.target, test_size=1/4.0, random_state=0)"
      ],
      "execution_count": null,
      "outputs": []
    },
    {
      "cell_type": "code",
      "metadata": {
        "id": "O5KVNA5e4cJb"
      },
      "source": [
        "from sklearn.linear_model import LogisticRegression\n",
        "lr_cifar=LogisticRegression(C=10.0,solver='saga',multi_class='multinomial',max_iter=100,penalty='l1',tol=0.1,verbose=1)"
      ],
      "execution_count": null,
      "outputs": []
    },
    {
      "cell_type": "code",
      "metadata": {
        "id": "Mm2JBbJlc9Ih"
      },
      "source": [
        "lr_cifar_10=LogisticRegression(C=10.0,solver='saga',multi_class='multinomial',max_iter=100,penalty='l2',tol=0.1,verbose=1)"
      ],
      "execution_count": null,
      "outputs": []
    },
    {
      "cell_type": "code",
      "metadata": {
        "colab": {
          "base_uri": "https://localhost:8080/"
        },
        "id": "GWnAw1f3fmI6",
        "outputId": "bf987def-6a1f-471d-be6f-9f9f01ba1158"
      },
      "source": [
        "print(train_cifar_img.shape)\n",
        "train_cifar_lbl.shape"
      ],
      "execution_count": null,
      "outputs": [
        {
          "output_type": "stream",
          "name": "stdout",
          "text": [
            "(15000, 32, 32, 3)\n"
          ]
        },
        {
          "output_type": "execute_result",
          "data": {
            "text/plain": [
              "(15000,)"
            ]
          },
          "metadata": {},
          "execution_count": 12
        }
      ]
    },
    {
      "cell_type": "code",
      "metadata": {
        "id": "DaTcgNGvMVJc"
      },
      "source": [
        "nsamples, nx, ny, nz = train_cifar_img.shape\n",
        "cifar_train_dataset = train_cifar_img.reshape((nsamples,nx*ny*nz))\n",
        "cifar_train_dataset=cifar_train_dataset/255.0\n",
        "\n",
        "nsamples, nx, ny, nz = test_cifar_img.shape\n",
        "cifar_test_dataset = test_cifar_img.reshape((nsamples,nx*ny*nz))\n",
        "cifar_test_dataset=cifar_test_dataset/255.0\n",
        "\n"
      ],
      "execution_count": null,
      "outputs": []
    },
    {
      "cell_type": "markdown",
      "metadata": {
        "id": "FmnyUpdk6hwK"
      },
      "source": [
        "You will run multi-class logistic regression on these using the cross entropy loss. You have to specify this specifically (multi_class='multinomial')\n",
        "\n",
        "Use cross validation to see how good your accuracy can be. In this case, cross validate to find as good regularization coefficients as you can, for l1 and l2 regularization (called penalties), which are naturally supported in sklearn.linear_model.LogisticRegression. I recommend you use the solve saga."
      ]
    },
    {
      "cell_type": "code",
      "metadata": {
        "colab": {
          "base_uri": "https://localhost:8080/"
        },
        "id": "sMD1Qt49dCu6",
        "outputId": "4af361d4-d06a-4e9c-97b4-a53426c60687"
      },
      "source": [
        "lr_cifar_10.fit(cifar_train_dataset,train_cifar_lbl)"
      ],
      "execution_count": null,
      "outputs": [
        {
          "output_type": "stream",
          "name": "stderr",
          "text": [
            "[Parallel(n_jobs=1)]: Using backend SequentialBackend with 1 concurrent workers.\n"
          ]
        },
        {
          "output_type": "stream",
          "name": "stdout",
          "text": [
            "convergence after 6 epochs took 18 seconds\n"
          ]
        },
        {
          "output_type": "stream",
          "name": "stderr",
          "text": [
            "[Parallel(n_jobs=1)]: Done   1 out of   1 | elapsed:   18.2s finished\n"
          ]
        },
        {
          "output_type": "execute_result",
          "data": {
            "text/plain": [
              "LogisticRegression(C=10.0, class_weight=None, dual=False, fit_intercept=True,\n",
              "                   intercept_scaling=1, l1_ratio=None, max_iter=100,\n",
              "                   multi_class='multinomial', n_jobs=None, penalty='l2',\n",
              "                   random_state=None, solver='saga', tol=0.1, verbose=1,\n",
              "                   warm_start=False)"
            ]
          },
          "metadata": {},
          "execution_count": 14
        }
      ]
    },
    {
      "cell_type": "code",
      "metadata": {
        "colab": {
          "base_uri": "https://localhost:8080/"
        },
        "id": "2RvbRPN36uFz",
        "outputId": "6a820e7c-8aaf-4457-9780-926392899028"
      },
      "source": [
        "lr_cifar.fit(cifar_train_dataset,train_cifar_lbl)"
      ],
      "execution_count": null,
      "outputs": [
        {
          "output_type": "stream",
          "name": "stderr",
          "text": [
            "[Parallel(n_jobs=1)]: Using backend SequentialBackend with 1 concurrent workers.\n"
          ]
        },
        {
          "output_type": "stream",
          "name": "stdout",
          "text": [
            "convergence after 6 epochs took 27 seconds\n"
          ]
        },
        {
          "output_type": "stream",
          "name": "stderr",
          "text": [
            "[Parallel(n_jobs=1)]: Done   1 out of   1 | elapsed:   27.3s finished\n"
          ]
        },
        {
          "output_type": "execute_result",
          "data": {
            "text/plain": [
              "LogisticRegression(C=10.0, class_weight=None, dual=False, fit_intercept=True,\n",
              "                   intercept_scaling=1, l1_ratio=None, max_iter=100,\n",
              "                   multi_class='multinomial', n_jobs=None, penalty='l1',\n",
              "                   random_state=None, solver='saga', tol=0.1, verbose=1,\n",
              "                   warm_start=False)"
            ]
          },
          "metadata": {},
          "execution_count": 15
        }
      ]
    },
    {
      "cell_type": "code",
      "metadata": {
        "id": "32SuhtNjBhIy"
      },
      "source": [
        "predictions_l1=lr_cifar.predict_proba(cifar_test_dataset)"
      ],
      "execution_count": null,
      "outputs": []
    },
    {
      "cell_type": "code",
      "metadata": {
        "id": "Ac4snNKMQFJ9",
        "colab": {
          "base_uri": "https://localhost:8080/"
        },
        "outputId": "76520e35-931a-4af4-f2cf-667e0afc1992"
      },
      "source": [
        "from sklearn.metrics import log_loss\n",
        "cLoss=log_loss(test_cifar_lbl,predictions_l1,normalize=True)\n",
        "\n",
        "print (\"The cross entropy test data loss for l1 regularization is \"+str(cLoss)+\" bits\")"
      ],
      "execution_count": null,
      "outputs": [
        {
          "output_type": "stream",
          "name": "stdout",
          "text": [
            "The cross entropy test data loss for l1 regularization is 1.7280289057479077 bits\n"
          ]
        }
      ]
    },
    {
      "cell_type": "code",
      "metadata": {
        "id": "HH_p1rshYgNf",
        "colab": {
          "base_uri": "https://localhost:8080/"
        },
        "outputId": "449c4f8e-0649-46f1-fc4c-d000bbfd70bb"
      },
      "source": [
        "train_pred_l1=lr_cifar.predict_proba(cifar_train_dataset)\n",
        "cLoss=log_loss(train_cifar_lbl,train_pred_l1,normalize=True)\n",
        "\n",
        "print (\"The cross entropy train data loss for l1 regularization is \"+str(cLoss)+\" bits\")"
      ],
      "execution_count": null,
      "outputs": [
        {
          "output_type": "stream",
          "name": "stdout",
          "text": [
            "The cross entropy train data loss for l1 regularization is 1.6455308485253335 bits\n"
          ]
        }
      ]
    },
    {
      "cell_type": "code",
      "metadata": {
        "id": "sFXfowbyYzEL",
        "colab": {
          "base_uri": "https://localhost:8080/"
        },
        "outputId": "f1f65ad3-df4f-452e-acf7-1d3ba69bf8c7"
      },
      "source": [
        "train_pred_l2=lr_cifar_10.predict_proba(cifar_train_dataset)\n",
        "cLoss=log_loss(train_cifar_lbl,train_pred_l2,normalize=True)\n",
        "print (\"The cross entropy train data loss for l2 regularization is \"+str(cLoss)+\" bits\")"
      ],
      "execution_count": null,
      "outputs": [
        {
          "output_type": "stream",
          "name": "stdout",
          "text": [
            "The cross entropy train data loss for l2 regularization is 1.644723889274205 bits\n"
          ]
        }
      ]
    },
    {
      "cell_type": "code",
      "metadata": {
        "id": "ls4pdg5KZA-p",
        "colab": {
          "base_uri": "https://localhost:8080/"
        },
        "outputId": "c8baa1b3-a3ef-4cf2-8b85-e096f92eb36f"
      },
      "source": [
        "test_pred_l2=lr_cifar_10.predict_proba(cifar_test_dataset)\n",
        "cLoss=log_loss(test_cifar_lbl,test_pred_l2,normalize=True)\n",
        "print (\"The cross entropy test data loss for l2 regularization is \"+str(cLoss)+\" bits\")"
      ],
      "execution_count": null,
      "outputs": [
        {
          "output_type": "stream",
          "name": "stdout",
          "text": [
            "The cross entropy test data loss for l2 regularization is 1.7281320943939704 bits\n"
          ]
        }
      ]
    },
    {
      "cell_type": "code",
      "metadata": {
        "id": "c5hulUCjdr82"
      },
      "source": [
        "nsamples, nx, ny, nz = test_cifar_img.shape\n",
        "cifar_test_dataset = test_cifar_img.reshape((nsamples,nx*ny*nz))\n",
        "predictions=lr_cifar_10.predict(cifar_test_dataset)"
      ],
      "execution_count": null,
      "outputs": []
    },
    {
      "cell_type": "code",
      "metadata": {
        "id": "oUWJrQUfNVwI"
      },
      "source": [
        "nsamples, nx, ny, nz = X.shape\n",
        "cifar_dataset = X.reshape((nsamples,nx*ny*nz))\n",
        "cifar_dataset = cifar_dataset/255.0"
      ],
      "execution_count": null,
      "outputs": []
    },
    {
      "cell_type": "markdown",
      "metadata": {
        "id": "QbgewVO67IDl"
      },
      "source": [
        "cross validation scores with l1 regularization"
      ]
    },
    {
      "cell_type": "code",
      "metadata": {
        "id": "uCHlOTVs8AwW",
        "colab": {
          "base_uri": "https://localhost:8080/"
        },
        "outputId": "dd33ccf7-a11f-45c0-dfac-7e1ef260bb5a"
      },
      "source": [
        "from sklearn.model_selection import cross_val_score\n",
        "scores = cross_val_score(lr_cifar_10,cifar_dataset, cifar.target, cv=5)"
      ],
      "execution_count": null,
      "outputs": [
        {
          "output_type": "stream",
          "name": "stderr",
          "text": [
            "[Parallel(n_jobs=1)]: Using backend SequentialBackend with 1 concurrent workers.\n"
          ]
        },
        {
          "output_type": "stream",
          "name": "stdout",
          "text": [
            "convergence after 6 epochs took 20 seconds\n"
          ]
        },
        {
          "output_type": "stream",
          "name": "stderr",
          "text": [
            "[Parallel(n_jobs=1)]: Done   1 out of   1 | elapsed:   19.5s finished\n",
            "[Parallel(n_jobs=1)]: Using backend SequentialBackend with 1 concurrent workers.\n"
          ]
        },
        {
          "output_type": "stream",
          "name": "stdout",
          "text": [
            "convergence after 6 epochs took 20 seconds\n"
          ]
        },
        {
          "output_type": "stream",
          "name": "stderr",
          "text": [
            "[Parallel(n_jobs=1)]: Done   1 out of   1 | elapsed:   19.7s finished\n",
            "[Parallel(n_jobs=1)]: Using backend SequentialBackend with 1 concurrent workers.\n"
          ]
        },
        {
          "output_type": "stream",
          "name": "stdout",
          "text": [
            "convergence after 6 epochs took 20 seconds\n"
          ]
        },
        {
          "output_type": "stream",
          "name": "stderr",
          "text": [
            "[Parallel(n_jobs=1)]: Done   1 out of   1 | elapsed:   19.5s finished\n",
            "[Parallel(n_jobs=1)]: Using backend SequentialBackend with 1 concurrent workers.\n"
          ]
        },
        {
          "output_type": "stream",
          "name": "stdout",
          "text": [
            "convergence after 6 epochs took 20 seconds\n"
          ]
        },
        {
          "output_type": "stream",
          "name": "stderr",
          "text": [
            "[Parallel(n_jobs=1)]: Done   1 out of   1 | elapsed:   19.7s finished\n",
            "[Parallel(n_jobs=1)]: Using backend SequentialBackend with 1 concurrent workers.\n"
          ]
        },
        {
          "output_type": "stream",
          "name": "stdout",
          "text": [
            "convergence after 6 epochs took 19 seconds\n"
          ]
        },
        {
          "output_type": "stream",
          "name": "stderr",
          "text": [
            "[Parallel(n_jobs=1)]: Done   1 out of   1 | elapsed:   19.4s finished\n"
          ]
        }
      ]
    },
    {
      "cell_type": "code",
      "metadata": {
        "id": "tZ8alCWNtbno",
        "colab": {
          "base_uri": "https://localhost:8080/"
        },
        "outputId": "965852d1-4de1-4b78-8d21-56a4c666f4bc"
      },
      "source": [
        "print(scores)"
      ],
      "execution_count": null,
      "outputs": [
        {
          "output_type": "stream",
          "name": "stdout",
          "text": [
            "[0.395   0.405   0.401   0.41075 0.39325]\n"
          ]
        }
      ]
    },
    {
      "cell_type": "markdown",
      "metadata": {
        "id": "5SJcNr4u7Ndr"
      },
      "source": [
        "cross validation scores with l2 regularization"
      ]
    },
    {
      "cell_type": "code",
      "metadata": {
        "id": "u65_iVlFdx4k",
        "colab": {
          "base_uri": "https://localhost:8080/"
        },
        "outputId": "eee7a1f9-d41a-4538-db5e-643d402bf0d2"
      },
      "source": [
        "scores_cif = cross_val_score(lr_cifar, cifar_dataset, cifar.target, cv=5)"
      ],
      "execution_count": null,
      "outputs": [
        {
          "output_type": "stream",
          "name": "stderr",
          "text": [
            "[Parallel(n_jobs=1)]: Using backend SequentialBackend with 1 concurrent workers.\n"
          ]
        },
        {
          "output_type": "stream",
          "name": "stdout",
          "text": [
            "convergence after 6 epochs took 29 seconds\n"
          ]
        },
        {
          "output_type": "stream",
          "name": "stderr",
          "text": [
            "[Parallel(n_jobs=1)]: Done   1 out of   1 | elapsed:   29.4s finished\n",
            "[Parallel(n_jobs=1)]: Using backend SequentialBackend with 1 concurrent workers.\n"
          ]
        },
        {
          "output_type": "stream",
          "name": "stdout",
          "text": [
            "convergence after 6 epochs took 29 seconds\n"
          ]
        },
        {
          "output_type": "stream",
          "name": "stderr",
          "text": [
            "[Parallel(n_jobs=1)]: Done   1 out of   1 | elapsed:   29.0s finished\n",
            "[Parallel(n_jobs=1)]: Using backend SequentialBackend with 1 concurrent workers.\n"
          ]
        },
        {
          "output_type": "stream",
          "name": "stdout",
          "text": [
            "convergence after 7 epochs took 34 seconds\n"
          ]
        },
        {
          "output_type": "stream",
          "name": "stderr",
          "text": [
            "[Parallel(n_jobs=1)]: Done   1 out of   1 | elapsed:   34.3s finished\n",
            "[Parallel(n_jobs=1)]: Using backend SequentialBackend with 1 concurrent workers.\n"
          ]
        },
        {
          "output_type": "stream",
          "name": "stdout",
          "text": [
            "convergence after 6 epochs took 29 seconds\n"
          ]
        },
        {
          "output_type": "stream",
          "name": "stderr",
          "text": [
            "[Parallel(n_jobs=1)]: Done   1 out of   1 | elapsed:   29.2s finished\n",
            "[Parallel(n_jobs=1)]: Using backend SequentialBackend with 1 concurrent workers.\n"
          ]
        },
        {
          "output_type": "stream",
          "name": "stdout",
          "text": [
            "convergence after 6 epochs took 29 seconds\n"
          ]
        },
        {
          "output_type": "stream",
          "name": "stderr",
          "text": [
            "[Parallel(n_jobs=1)]: Done   1 out of   1 | elapsed:   29.4s finished\n"
          ]
        }
      ]
    },
    {
      "cell_type": "code",
      "metadata": {
        "id": "PsMu1yVH8v8-",
        "colab": {
          "base_uri": "https://localhost:8080/"
        },
        "outputId": "38b3f827-372b-4446-f69a-804a7e2f7cd3"
      },
      "source": [
        "print(scores_cif)"
      ],
      "execution_count": null,
      "outputs": [
        {
          "output_type": "stream",
          "name": "stdout",
          "text": [
            "[0.39575 0.40525 0.3985  0.4105  0.391  ]\n"
          ]
        }
      ]
    },
    {
      "cell_type": "code",
      "metadata": {
        "id": "qI-cbtfB_xdf",
        "colab": {
          "base_uri": "https://localhost:8080/"
        },
        "outputId": "5e11e166-0979-4408-de18-7b7d5bb402b0"
      },
      "source": [
        "score = lr_cifar.score(cifar_train_dataset, train_cifar_lbl)\n",
        "print(\"The train score is\" +str(score))\n",
        "score = lr_cifar.score(cifar_test_dataset, test_cifar_lbl)\n",
        "print(\"The test score is\" +str(score))"
      ],
      "execution_count": null,
      "outputs": [
        {
          "output_type": "stream",
          "name": "stdout",
          "text": [
            "The train score is0.44506666666666667\n",
            "The test score is0.3834\n"
          ]
        }
      ]
    },
    {
      "cell_type": "code",
      "metadata": {
        "colab": {
          "base_uri": "https://localhost:8080/"
        },
        "id": "etogrk_A7n_l",
        "outputId": "f8c8cba7-91a0-4dfa-e69b-cacf315d3ae7"
      },
      "source": [
        "score = lr_cifar_10.score(cifar_train_dataset, train_cifar_lbl)\n",
        "print(\"The train score is\" +str(score))\n",
        "score = lr_cifar_10.score(cifar_test_dataset, test_cifar_lbl)\n",
        "print(\"The test score is\" +str(score))"
      ],
      "execution_count": null,
      "outputs": [
        {
          "output_type": "stream",
          "name": "stdout",
          "text": [
            "The train score is0.44426666666666664\n",
            "The test score is0.3832\n"
          ]
        }
      ]
    },
    {
      "cell_type": "code",
      "metadata": {
        "id": "SH75BiG6amFm"
      },
      "source": [
        "lr_cifar_coef = np.reshape(lr_cifar_10.coef_, (10, 3, 32, 32)).transpose(0,2,3,1).astype(\"uint8\")"
      ],
      "execution_count": null,
      "outputs": []
    },
    {
      "cell_type": "code",
      "metadata": {
        "id": "dY7l7SuicFr9",
        "colab": {
          "base_uri": "https://localhost:8080/"
        },
        "outputId": "ecad6fe0-21b5-4b9a-a8a9-ba849ce889be"
      },
      "source": [
        "\n",
        "for i in range (0,10):\n",
        "  lr_cifar=LogisticRegression(C=10.0-i,solver='saga',multi_class='multinomial',max_iter=100,penalty='l1',tol=0.1,verbose=0)\n",
        "  lr_cifar.fit(cifar_train_dataset,train_cifar_lbl)\n",
        "  score = lr_cifar.score(cifar_test_dataset, test_cifar_lbl)\n",
        "  print(\"The train score for c equlas \" + str(10-i)+\" is \" +str(score))\n",
        "\n"
      ],
      "execution_count": null,
      "outputs": [
        {
          "output_type": "stream",
          "name": "stdout",
          "text": [
            "The train score for c equlas 10 is 0.3836\n",
            "The train score for c equlas 9 is 0.382\n",
            "The train score for c equlas 8 is 0.387\n",
            "The train score for c equlas 7 is 0.3848\n",
            "The train score for c equlas 6 is 0.3844\n",
            "The train score for c equlas 5 is 0.3846\n",
            "The train score for c equlas 4 is 0.3812\n",
            "The train score for c equlas 3 is 0.3828\n",
            "The train score for c equlas 2 is 0.384\n",
            "The train score for c equlas 1 is 0.383\n"
          ]
        }
      ]
    },
    {
      "cell_type": "code",
      "metadata": {
        "id": "ZDEWq4ZhsfF5"
      },
      "source": [
        "cifar=LogisticRegression(C=0.001,solver='saga',multi_class='multinomial',max_iter=100,penalty='l1',tol=0.1,verbose=0)\n",
        "lr_cifar.fit(cifar_train_dataset,train_cifar_lbl)\n",
        "score = lr_cifar.score(cifar_test_dataset, test_cifar_lbl)\n",
        "print(\"The train score for c equlas 0.01\" is \" +str(score))"
      ],
      "execution_count": null,
      "outputs": []
    },
    {
      "cell_type": "code",
      "metadata": {
        "id": "Kva_DkADgdT_",
        "colab": {
          "base_uri": "https://localhost:8080/"
        },
        "outputId": "ff567339-6824-466e-dc4f-42b6ffb7488f"
      },
      "source": [
        "# c=1 \n",
        "lr_cifar.coef_[lr_cifar.coef_< 2.2204460492503131e-16]=0.0\n",
        "sparsity_l1 = np.mean(lr_cifar.coef_ == 0) * 100\n",
        "print(sparsity_l1)"
      ],
      "execution_count": null,
      "outputs": [
        {
          "output_type": "stream",
          "name": "stdout",
          "text": [
            "49.8828125\n"
          ]
        }
      ]
    },
    {
      "cell_type": "code",
      "metadata": {
        "id": "CRzH1LpWgxFU"
      },
      "source": [
        ""
      ],
      "execution_count": null,
      "outputs": []
    },
    {
      "cell_type": "markdown",
      "metadata": {
        "id": "8IagdX0ib0AT"
      },
      "source": [
        "question 2 starts here"
      ]
    },
    {
      "cell_type": "code",
      "metadata": {
        "id": "zqTqvBSE75l9",
        "colab": {
          "base_uri": "https://localhost:8080/"
        },
        "outputId": "1b31e0fd-1120-4a2c-abec-9509857ad6fc"
      },
      "source": [
        "# Print to show there are 1797 images (8 by 8 images for a dimensionality of 64)\n",
        "print(\"Image Data Shape\" , mnist.data.shape)\n",
        "\n",
        "# Print to show there are 1797 labels (integers from 0-9)\n",
        "print(\"Label Data Shape\", mnist.target.shape)"
      ],
      "execution_count": null,
      "outputs": [
        {
          "output_type": "stream",
          "name": "stdout",
          "text": [
            "Image Data Shape (70000, 784)\n",
            "Label Data Shape (70000,)\n"
          ]
        }
      ]
    },
    {
      "cell_type": "code",
      "metadata": {
        "id": "fa3hcWzA8O4u"
      },
      "source": [
        "from sklearn.model_selection import train_test_split\n",
        "train_img, test_img, train_lbl, test_lbl = train_test_split(\n",
        "    mnist.data, mnist.target, test_size=1/7.0, random_state=0)"
      ],
      "execution_count": null,
      "outputs": []
    },
    {
      "cell_type": "code",
      "metadata": {
        "id": "lWVp2ip38T1o",
        "colab": {
          "base_uri": "https://localhost:8080/"
        },
        "outputId": "cd88fe33-2eea-4bab-f5ef-06423d84ae00"
      },
      "source": [
        "print(train_img.shape)\n"
      ],
      "execution_count": null,
      "outputs": [
        {
          "output_type": "stream",
          "name": "stdout",
          "text": [
            "(60000, 784)\n"
          ]
        }
      ]
    },
    {
      "cell_type": "code",
      "metadata": {
        "id": "kNee4JJh8Zao",
        "colab": {
          "base_uri": "https://localhost:8080/"
        },
        "outputId": "91f491bd-8ae2-4a0e-bec0-9427d7dcfa12"
      },
      "source": [
        "print(test_img.shape)\n"
      ],
      "execution_count": null,
      "outputs": [
        {
          "output_type": "stream",
          "name": "stdout",
          "text": [
            "(10000, 784)\n"
          ]
        }
      ]
    },
    {
      "cell_type": "code",
      "metadata": {
        "id": "WwFBfGtX8bdx",
        "colab": {
          "base_uri": "https://localhost:8080/"
        },
        "outputId": "b6f4a166-08d9-4520-fe92-8df752f10306"
      },
      "source": [
        "print(train_lbl.shape)\n"
      ],
      "execution_count": null,
      "outputs": [
        {
          "output_type": "stream",
          "name": "stdout",
          "text": [
            "(60000,)\n"
          ]
        }
      ]
    },
    {
      "cell_type": "code",
      "metadata": {
        "id": "bu5--20T8iQr",
        "colab": {
          "base_uri": "https://localhost:8080/",
          "height": 241
        },
        "outputId": "efa35752-ec0d-49a7-a19b-046873014f10"
      },
      "source": [
        "import numpy as np\n",
        "import matplotlib.pyplot as plt\n",
        "\n",
        "\n",
        "plt.figure(figsize=(20,4))\n",
        "for index, (image, label) in enumerate(zip(train_img[0:5], train_lbl[0:5])):\n",
        "    plt.subplot(1, 5, index + 1)\n",
        "    plt.imshow(np.reshape(image, (28,28)), cmap=plt.cm.gray)\n",
        "    "
      ],
      "execution_count": null,
      "outputs": [
        {
          "output_type": "display_data",
          "data": {
            "image/png": "[encoded data removed]",
            "text/plain": [
              "<Figure size 1440x288 with 5 Axes>"
            ]
          },
          "metadata": {
            "needs_background": "light"
          }
        }
      ]
    },
    {
      "cell_type": "code",
      "metadata": {
        "id": "TUn_FtvS8snK"
      },
      "source": [
        "from sklearn.linear_model import LogisticRegression\n",
        "lr_l1=LogisticRegression(C=1.0,solver='saga',multi_class='multinomial',penalty='l1',tol=0.1,verbose=1)\n",
        "lr_l2=LogisticRegression(C=1.0,solver='saga',multi_class='multinomial',penalty='l2',tol=0.1,verbose=1)\n"
      ],
      "execution_count": null,
      "outputs": []
    },
    {
      "cell_type": "code",
      "metadata": {
        "id": "ABwlSsdj9Pqq",
        "colab": {
          "base_uri": "https://localhost:8080/"
        },
        "outputId": "54f37a86-d5da-4f72-e43d-a66381fe750d"
      },
      "source": [
        "lr_l1.fit(train_img,train_lbl)\n",
        "lr_l2.fit(train_img,train_lbl)"
      ],
      "execution_count": null,
      "outputs": [
        {
          "output_type": "stream",
          "name": "stderr",
          "text": [
            "[Parallel(n_jobs=1)]: Using backend SequentialBackend with 1 concurrent workers.\n"
          ]
        },
        {
          "output_type": "stream",
          "name": "stdout",
          "text": [
            "convergence after 5 epochs took 23 seconds\n"
          ]
        },
        {
          "output_type": "stream",
          "name": "stderr",
          "text": [
            "[Parallel(n_jobs=1)]: Done   1 out of   1 | elapsed:   22.8s finished\n",
            "[Parallel(n_jobs=1)]: Using backend SequentialBackend with 1 concurrent workers.\n"
          ]
        },
        {
          "output_type": "stream",
          "name": "stdout",
          "text": [
            "convergence after 5 epochs took 13 seconds\n"
          ]
        },
        {
          "output_type": "stream",
          "name": "stderr",
          "text": [
            "[Parallel(n_jobs=1)]: Done   1 out of   1 | elapsed:   13.3s finished\n"
          ]
        },
        {
          "output_type": "execute_result",
          "data": {
            "text/plain": [
              "LogisticRegression(C=1.0, class_weight=None, dual=False, fit_intercept=True,\n",
              "                   intercept_scaling=1, l1_ratio=None, max_iter=100,\n",
              "                   multi_class='multinomial', n_jobs=None, penalty='l2',\n",
              "                   random_state=None, solver='saga', tol=0.1, verbose=1,\n",
              "                   warm_start=False)"
            ]
          },
          "metadata": {},
          "execution_count": 39
        }
      ]
    },
    {
      "cell_type": "code",
      "metadata": {
        "id": "3enhah1H9o_t"
      },
      "source": [
        "predictions=lr_l1.predict(test_img)\n",
        "prediction_l2=lr_l2.predict(test_img)\n"
      ],
      "execution_count": null,
      "outputs": []
    },
    {
      "cell_type": "code",
      "metadata": {
        "id": "J8MU58HdZZ1x",
        "colab": {
          "base_uri": "https://localhost:8080/"
        },
        "outputId": "ab3d967c-52f2-444d-e28d-fef2265580c6"
      },
      "source": [
        "test_l1_pred=lr_l1.predict_proba(test_img)\n",
        "cLoss=log_loss(test_lbl,test_l1_pred,normalize=True)\n",
        "print (\"The cross entropy test data loss for l1 regularization is \"+str(cLoss)+\" bits\")"
      ],
      "execution_count": null,
      "outputs": [
        {
          "output_type": "stream",
          "name": "stdout",
          "text": [
            "The cross entropy test data loss for l1 regularization is 0.2970929464085143 bits\n"
          ]
        }
      ]
    },
    {
      "cell_type": "code",
      "metadata": {
        "id": "QdGQGDluafKc",
        "colab": {
          "base_uri": "https://localhost:8080/"
        },
        "outputId": "c8f95db0-ec5f-4003-f3cf-72e694f6e8b7"
      },
      "source": [
        "train_l1_pred=lr_l1.predict_proba(train_img)\n",
        "cLoss=log_loss(train_lbl,train_l1_pred,normalize=True)\n",
        "print (\"The cross entropy train data loss for l1 regularization is \"+str(cLoss)+\" bits\")"
      ],
      "execution_count": null,
      "outputs": [
        {
          "output_type": "stream",
          "name": "stdout",
          "text": [
            "The cross entropy train data loss for l1 regularization is 0.25563436372491577 bits\n"
          ]
        }
      ]
    },
    {
      "cell_type": "code",
      "metadata": {
        "id": "5jUj4v-0an2w",
        "colab": {
          "base_uri": "https://localhost:8080/"
        },
        "outputId": "734d7410-2508-44a8-aa44-48ffe25fa167"
      },
      "source": [
        "test_l2_pred=lr_l2.predict_proba(test_img)\n",
        "cLoss=log_loss(test_lbl,test_l2_pred,normalize=True)\n",
        "print (\"The cross entropy test data loss for l2 regularization is \"+str(cLoss)+\" bits\")"
      ],
      "execution_count": null,
      "outputs": [
        {
          "output_type": "stream",
          "name": "stdout",
          "text": [
            "The cross entropy test data loss for l2 regularization is 0.29722855210210236 bits\n"
          ]
        }
      ]
    },
    {
      "cell_type": "code",
      "metadata": {
        "id": "GRGLrflWatqH",
        "colab": {
          "base_uri": "https://localhost:8080/"
        },
        "outputId": "0218af1c-9a2c-4d6e-9c6f-e2a3695f0ff5"
      },
      "source": [
        "train_l2_pred=lr_l2.predict_proba(train_img)\n",
        "cLoss=log_loss(train_lbl,train_l2_pred,normalize=True)\n",
        "print (\"The cross entropy train data loss for l1 regularization is \"+str(cLoss)+\" bits\")"
      ],
      "execution_count": null,
      "outputs": [
        {
          "output_type": "stream",
          "name": "stdout",
          "text": [
            "The cross entropy train data loss for l1 regularization is 0.2556875740698382 bits\n"
          ]
        }
      ]
    },
    {
      "cell_type": "code",
      "metadata": {
        "id": "O_HL3E1nkL3X",
        "colab": {
          "base_uri": "https://localhost:8080/"
        },
        "outputId": "b3c8413a-66ea-4b21-8797-a9d953e967be"
      },
      "source": [
        "score = lr_l2.score(test_img, test_lbl)\n",
        "print(score)"
      ],
      "execution_count": null,
      "outputs": [
        {
          "output_type": "stream",
          "name": "stdout",
          "text": [
            "0.918\n"
          ]
        }
      ]
    },
    {
      "cell_type": "code",
      "metadata": {
        "id": "CD8xtKbN909f",
        "colab": {
          "base_uri": "https://localhost:8080/"
        },
        "outputId": "3591bd31-ba92-4ef6-a579-2c405fa549a2"
      },
      "source": [
        "score = lr_l1.score(test_img, test_lbl)\n",
        "print(score)"
      ],
      "execution_count": null,
      "outputs": [
        {
          "output_type": "stream",
          "name": "stdout",
          "text": [
            "0.9186\n"
          ]
        }
      ]
    },
    {
      "cell_type": "markdown",
      "metadata": {
        "id": "82EDYWrs-Kao"
      },
      "source": [
        "Sparse vector coefficients with l1 penality"
      ]
    },
    {
      "cell_type": "code",
      "metadata": {
        "id": "0Dg-_495-DXg"
      },
      "source": [
        "coef=lr_l1.coef_"
      ],
      "execution_count": null,
      "outputs": []
    },
    {
      "cell_type": "code",
      "metadata": {
        "id": "DMiAI-J9-Tjc"
      },
      "source": [
        "#This is our matrix of weights"
      ],
      "execution_count": null,
      "outputs": []
    },
    {
      "cell_type": "code",
      "metadata": {
        "id": "gNOq4Y8p-PbY",
        "colab": {
          "base_uri": "https://localhost:8080/"
        },
        "outputId": "9abaa0e0-af51-4bc0-9d6a-729bdda0df44"
      },
      "source": [
        "lr_l1.coef_.shape"
      ],
      "execution_count": null,
      "outputs": [
        {
          "output_type": "execute_result",
          "data": {
            "text/plain": [
              "(10, 784)"
            ]
          },
          "metadata": {},
          "execution_count": 49
        }
      ]
    },
    {
      "cell_type": "code",
      "metadata": {
        "id": "MT_R80lm_GgD",
        "colab": {
          "base_uri": "https://localhost:8080/"
        },
        "outputId": "781f0772-d1bd-4ece-8913-fdc222052bf2"
      },
      "source": [
        "coef[0].reshape(28,28)"
      ],
      "execution_count": null,
      "outputs": [
        {
          "output_type": "execute_result",
          "data": {
            "text/plain": [
              "array([[ 0.00000000e+00,  0.00000000e+00,  0.00000000e+00,\n",
              "         0.00000000e+00,  0.00000000e+00,  0.00000000e+00,\n",
              "         0.00000000e+00,  0.00000000e+00,  0.00000000e+00,\n",
              "         0.00000000e+00,  0.00000000e+00,  0.00000000e+00,\n",
              "         0.00000000e+00,  0.00000000e+00,  0.00000000e+00,\n",
              "         0.00000000e+00,  0.00000000e+00,  0.00000000e+00,\n",
              "         0.00000000e+00,  0.00000000e+00,  0.00000000e+00,\n",
              "         0.00000000e+00,  0.00000000e+00,  0.00000000e+00,\n",
              "         0.00000000e+00,  0.00000000e+00,  0.00000000e+00,\n",
              "         0.00000000e+00],\n",
              "       [ 0.00000000e+00,  0.00000000e+00,  0.00000000e+00,\n",
              "         0.00000000e+00,  0.00000000e+00,  0.00000000e+00,\n",
              "         0.00000000e+00, -1.01376967e-06, -7.91427795e-06,\n",
              "        -4.29535590e-06, -9.76523032e-07,  5.88265933e-05,\n",
              "         1.34233676e-04,  5.08465027e-05, -7.79105135e-06,\n",
              "         3.09725279e-05,  1.01847639e-04,  4.83885180e-05,\n",
              "        -5.83771102e-06, -2.92362002e-06, -3.99192558e-07,\n",
              "         0.00000000e+00,  0.00000000e+00,  0.00000000e+00,\n",
              "         0.00000000e+00,  0.00000000e+00,  0.00000000e+00,\n",
              "         0.00000000e+00],\n",
              "       [ 0.00000000e+00,  0.00000000e+00,  0.00000000e+00,\n",
              "        -8.78606647e-07,  0.00000000e+00, -4.60365658e-07,\n",
              "        -5.26896672e-05, -5.96583986e-05, -7.35919761e-05,\n",
              "        -4.20092234e-05, -4.04664846e-05, -1.29392942e-04,\n",
              "        -1.42951014e-04, -1.66565733e-04, -4.19771329e-04,\n",
              "        -3.95772656e-04, -2.96453624e-04, -2.58281061e-04,\n",
              "        -1.79584264e-04, -1.15498495e-04, -1.00881058e-04,\n",
              "        -4.59054755e-05, -2.07071735e-05, -1.08054393e-05,\n",
              "        -3.06448850e-06, -1.17641111e-08,  0.00000000e+00,\n",
              "         0.00000000e+00],\n",
              "       [ 0.00000000e+00,  0.00000000e+00,  0.00000000e+00,\n",
              "        -1.08204722e-05, -3.52080381e-05, -1.70848361e-04,\n",
              "        -2.15866493e-04, -2.34252988e-04, -1.16893289e-04,\n",
              "        -1.07869841e-04, -1.01046678e-04, -1.21814867e-04,\n",
              "        -1.43228384e-04,  2.82300138e-04,  1.92075279e-04,\n",
              "         7.86835272e-05, -2.48902578e-05, -2.27850680e-04,\n",
              "        -6.97553846e-04, -5.56157882e-04, -3.21374783e-04,\n",
              "        -3.41999520e-04, -2.66770461e-04, -1.92118951e-04,\n",
              "        -1.17970174e-04, -5.55896937e-05, -1.24108136e-05,\n",
              "         0.00000000e+00],\n",
              "       [ 0.00000000e+00,  0.00000000e+00,  0.00000000e+00,\n",
              "        -3.26341568e-07, -3.83853255e-05, -2.28985486e-04,\n",
              "        -1.81433214e-04, -9.66084484e-05, -2.01997647e-04,\n",
              "        -3.72303769e-05,  8.23670103e-05,  2.59026373e-04,\n",
              "        -5.74254522e-05,  1.75050061e-04, -1.00276286e-04,\n",
              "         1.02236626e-04, -1.29429070e-05,  2.92158723e-04,\n",
              "         1.95319574e-04, -3.32831271e-04, -3.25366514e-04,\n",
              "        -2.65659723e-04, -2.56297975e-04, -3.12886432e-04,\n",
              "        -3.63988713e-04, -1.22104961e-04, -1.84798520e-05,\n",
              "         0.00000000e+00],\n",
              "       [ 0.00000000e+00,  0.00000000e+00, -7.58345526e-08,\n",
              "        -7.94974274e-06, -1.15250938e-04, -3.21550834e-04,\n",
              "         1.03838172e-04, -6.17644540e-05, -1.34396121e-04,\n",
              "         3.93355914e-05,  4.84370246e-04,  5.21046361e-04,\n",
              "        -2.41071396e-04,  8.39144100e-04,  9.78614931e-04,\n",
              "         4.66524042e-04,  6.02945716e-04,  7.15037309e-04,\n",
              "         1.10260367e-03,  2.44211924e-04, -1.88905413e-05,\n",
              "         9.66493195e-05,  6.25718309e-06, -5.44536502e-04,\n",
              "        -7.37354006e-04, -3.25672324e-04, -1.14701796e-04,\n",
              "        -4.48238466e-05],\n",
              "       [ 0.00000000e+00,  0.00000000e+00, -3.29214996e-06,\n",
              "        -8.30537130e-06, -1.23917321e-04,  2.52732998e-05,\n",
              "         1.68444194e-04, -9.83577258e-05, -2.46522501e-04,\n",
              "        -5.59188192e-04,  2.71552815e-04, -1.83247753e-04,\n",
              "        -3.09738752e-04,  6.15813027e-04,  6.69823965e-04,\n",
              "        -1.45016058e-04,  5.72182387e-04,  9.45057379e-04,\n",
              "         8.46800983e-04,  5.33665405e-04,  1.65340437e-04,\n",
              "         8.05375401e-04,  1.13332381e-03,  6.80981560e-05,\n",
              "        -1.22499259e-03, -9.36327737e-04, -4.20836894e-04,\n",
              "        -1.16252740e-04],\n",
              "       [ 0.00000000e+00, -5.61545320e-08, -4.64227638e-06,\n",
              "        -1.19065086e-05, -1.90880924e-04,  2.46797201e-05,\n",
              "         1.92888036e-04, -4.58044506e-04, -5.12124073e-04,\n",
              "         1.56130475e-04,  6.47461452e-05,  4.35644725e-04,\n",
              "         2.35381190e-04,  7.40724900e-04,  2.25318896e-04,\n",
              "        -4.62686399e-05, -1.20834283e-04,  1.04035960e-03,\n",
              "         1.03380254e-03,  5.33582100e-04, -8.38682598e-05,\n",
              "         1.29210437e-05,  1.90950674e-04,  8.46455402e-04,\n",
              "        -6.16971123e-04, -1.05849527e-03, -5.36344182e-04,\n",
              "        -2.40508125e-06],\n",
              "       [ 2.67055064e-05, -2.09022026e-07, -3.94703428e-06,\n",
              "        -2.36051818e-05, -2.83537963e-04, -3.63856029e-05,\n",
              "        -6.66668840e-05, -2.21440454e-04, -2.20633517e-04,\n",
              "         2.08665719e-04, -1.48853753e-04,  2.46767419e-04,\n",
              "         5.91727990e-04,  2.21820236e-05,  7.44540337e-04,\n",
              "         1.20658181e-03,  2.11443626e-03,  1.28049384e-03,\n",
              "         3.79370417e-04,  2.39858139e-04,  2.90127669e-04,\n",
              "         1.60564217e-04,  7.56735591e-04,  1.35709060e-03,\n",
              "        -8.49160050e-05, -1.21946483e-03, -5.15321053e-04,\n",
              "        -4.51593935e-05],\n",
              "       [ 0.00000000e+00, -8.89553093e-06, -1.01767241e-07,\n",
              "         3.46738183e-06, -1.01605592e-04,  1.06629272e-04,\n",
              "        -4.32944716e-04, -2.98090857e-04, -4.78823744e-04,\n",
              "         7.45506483e-05,  3.09535876e-04,  2.76187457e-04,\n",
              "         2.81102439e-04,  5.60082688e-04,  2.42490661e-04,\n",
              "        -1.03471346e-04,  6.18329622e-04,  7.85806862e-04,\n",
              "         1.04220217e-03,  9.52172718e-04,  6.45711274e-04,\n",
              "        -2.53707744e-04,  3.48363831e-04,  1.62329676e-03,\n",
              "         6.05944586e-04, -1.24079035e-03, -3.76289007e-04,\n",
              "        -1.70326004e-05],\n",
              "       [ 0.00000000e+00, -4.08520488e-05,  4.20157430e-05,\n",
              "        -3.83006019e-05, -1.09074314e-04,  2.18057980e-04,\n",
              "        -7.15784699e-04, -5.28740458e-04, -2.32749168e-04,\n",
              "         9.20360954e-05, -5.82120254e-04,  1.01551846e-04,\n",
              "        -6.70754629e-05,  2.12621094e-04,  2.42036451e-04,\n",
              "        -4.75986990e-04, -3.55936251e-04,  5.29026205e-04,\n",
              "         9.89883588e-04,  2.27794232e-04,  5.78075862e-04,\n",
              "         2.42546473e-04,  1.04628633e-03,  1.81747417e-03,\n",
              "         8.12755507e-04, -1.35081000e-03, -4.38368620e-04,\n",
              "        -1.78279656e-06],\n",
              "       [ 0.00000000e+00, -6.35412992e-06, -4.42783163e-05,\n",
              "        -5.17942505e-05, -4.93159813e-04, -3.88885894e-04,\n",
              "        -3.35475220e-04, -1.99198226e-05, -1.01655729e-04,\n",
              "        -7.40957058e-04, -4.70724142e-04, -5.32123575e-07,\n",
              "        -4.87922280e-04, -5.17045010e-05, -1.24750832e-03,\n",
              "        -2.55039426e-03, -2.19734138e-03, -5.93795385e-04,\n",
              "        -3.62299745e-04,  1.59037540e-04,  6.70377594e-04,\n",
              "         1.08166329e-03,  8.13979511e-04,  1.12039897e-03,\n",
              "         1.35084178e-03, -8.24130042e-04, -3.81857670e-04,\n",
              "        -2.78664059e-08],\n",
              "       [ 0.00000000e+00, -5.33200344e-07, -4.19526554e-06,\n",
              "         5.64788755e-05, -2.15910921e-04, -1.42634004e-04,\n",
              "         3.35570763e-04,  1.38909274e-04, -2.68000629e-04,\n",
              "        -2.42600613e-04, -7.20647589e-04, -2.36216327e-04,\n",
              "         2.27020498e-04, -1.29595126e-04, -1.79541293e-03,\n",
              "        -2.80400460e-03, -2.21625952e-03, -4.14839615e-04,\n",
              "         2.97985358e-04,  3.49549736e-04,  1.32693622e-04,\n",
              "         8.22188294e-04,  9.67719459e-04,  1.51714212e-03,\n",
              "         2.01718129e-03, -1.27957114e-04, -1.58995795e-04,\n",
              "        -9.52292126e-07],\n",
              "       [ 0.00000000e+00,  4.45254720e-08, -9.73291616e-07,\n",
              "         2.11746610e-06,  9.58428798e-05, -1.17541919e-04,\n",
              "         9.74821370e-04,  1.14560714e-03,  3.20787423e-04,\n",
              "         5.58067932e-04,  4.54435721e-04,  3.36626315e-04,\n",
              "         8.77997724e-05, -1.63947478e-03, -2.71139823e-03,\n",
              "        -3.23571963e-03, -2.47454467e-03, -6.64842611e-04,\n",
              "        -2.15877790e-04, -2.38098505e-04, -9.04970358e-04,\n",
              "         2.20261184e-05,  9.74772740e-04,  1.75318523e-03,\n",
              "         1.75436033e-03,  4.02366767e-05, -3.73108177e-05,\n",
              "        -1.34847993e-05],\n",
              "       [ 0.00000000e+00,  0.00000000e+00, -3.78773317e-07,\n",
              "        -2.69970917e-04, -1.99019138e-05,  1.06490707e-03,\n",
              "         8.07669525e-04,  1.47706245e-03,  1.11341837e-03,\n",
              "         1.28728397e-03,  3.40038138e-04,  7.74570392e-04,\n",
              "         7.77508290e-04, -1.07157987e-03, -2.94737914e-03,\n",
              "        -3.09509161e-03, -2.78032186e-03, -3.02761696e-04,\n",
              "        -4.93651664e-04, -3.86064788e-04,  5.63779143e-04,\n",
              "         6.58839589e-04,  4.77076221e-04,  1.59705405e-03,\n",
              "         1.59908084e-03,  2.46375988e-05, -3.75746847e-05,\n",
              "        -1.12204559e-06],\n",
              "       [ 0.00000000e+00,  0.00000000e+00, -3.34853387e-06,\n",
              "        -2.46399074e-04,  3.19652234e-04,  1.29860758e-03,\n",
              "         2.70673585e-04,  9.44792233e-04,  8.54351056e-04,\n",
              "         9.98370518e-04,  6.41096641e-04,  5.29582546e-04,\n",
              "         2.89968207e-04, -1.89277674e-03, -3.34826837e-03,\n",
              "        -2.90607607e-03, -1.62533938e-03, -9.86486922e-04,\n",
              "        -4.28758869e-04, -4.96956977e-05,  8.03250711e-04,\n",
              "         4.38224775e-04,  7.70931480e-04,  1.54352539e-03,\n",
              "         1.15799173e-03,  8.04963173e-05, -5.95133982e-05,\n",
              "        -4.73105567e-06],\n",
              "       [ 0.00000000e+00,  0.00000000e+00, -1.62008540e-05,\n",
              "        -1.74844243e-04,  4.64968433e-04,  1.18338787e-03,\n",
              "         1.01251403e-03,  9.42253240e-04,  7.46241935e-04,\n",
              "         5.63597949e-04,  7.63880934e-04,  6.54429041e-04,\n",
              "        -8.74818006e-04, -3.09888575e-03, -3.26713649e-03,\n",
              "        -1.62643598e-03, -8.87617433e-04, -1.70927019e-04,\n",
              "        -1.45663801e-05,  3.59249332e-04,  6.58573283e-04,\n",
              "         1.45682317e-04,  5.89386865e-04,  6.22072977e-04,\n",
              "         2.50973950e-04, -8.07757837e-05, -8.68210460e-05,\n",
              "        -5.66285524e-06],\n",
              "       [ 0.00000000e+00,  0.00000000e+00, -3.30145038e-05,\n",
              "        -2.20142160e-04,  4.67623087e-04,  1.04952267e-03,\n",
              "         1.12585271e-03,  7.46091453e-04,  6.55375959e-04,\n",
              "         1.35464106e-03,  1.38777572e-03,  1.60995642e-04,\n",
              "        -9.86944703e-04, -2.70186271e-03, -2.59998113e-03,\n",
              "        -1.17842650e-03, -2.74069527e-04,  4.14774817e-04,\n",
              "        -1.72662534e-04, -4.16464493e-04,  1.83431103e-04,\n",
              "        -2.70809504e-04,  9.34557192e-04,  4.61036768e-04,\n",
              "        -2.38272831e-05, -6.12906105e-05, -6.71423635e-05,\n",
              "         3.92561446e-05],\n",
              "       [-4.30613560e-09,  0.00000000e+00, -1.60197228e-05,\n",
              "        -3.37700409e-04,  1.46464528e-04, -2.65244860e-05,\n",
              "         6.81638486e-04,  7.28308942e-04,  7.02391648e-04,\n",
              "         1.43527823e-03,  1.75707828e-03,  1.50350590e-05,\n",
              "        -1.39545445e-03, -2.19158624e-03, -1.75726952e-03,\n",
              "        -6.79390266e-04, -5.38794079e-04, -1.16674396e-05,\n",
              "        -3.08948240e-04, -3.55884071e-04, -4.49432719e-04,\n",
              "         9.48992773e-05,  7.67167669e-04,  1.80505664e-04,\n",
              "        -1.73556107e-04, -2.22204263e-04, -2.97449269e-05,\n",
              "        -1.83765417e-05],\n",
              "       [ 0.00000000e+00,  1.06554366e-05,  8.09820795e-07,\n",
              "        -2.86763320e-04, -1.72788749e-04,  2.26966514e-04,\n",
              "         9.75347827e-04,  5.38011168e-04,  5.74092066e-04,\n",
              "         6.00453590e-04,  1.48350907e-03,  1.23179211e-03,\n",
              "         5.02889899e-04, -3.06988649e-04, -6.87800624e-04,\n",
              "        -4.41535048e-04, -4.84380491e-04,  2.37883309e-04,\n",
              "         3.06202854e-04, -2.50929275e-04, -6.42417228e-06,\n",
              "         5.24771727e-04,  4.40795611e-04, -2.57559026e-04,\n",
              "        -2.48006808e-04, -2.12896465e-04, -4.49041771e-05,\n",
              "        -2.73505312e-06],\n",
              "       [ 0.00000000e+00,  2.77203818e-05, -6.54533501e-06,\n",
              "        -2.31669365e-04,  9.27279579e-05,  8.33473266e-04,\n",
              "         6.07537280e-04,  1.86887007e-04,  6.21371820e-04,\n",
              "         5.66488111e-04,  1.15411536e-03,  1.58762853e-03,\n",
              "         1.37476066e-03,  9.49244976e-04,  2.91098696e-06,\n",
              "        -5.07305591e-04, -6.11847329e-04, -2.21208053e-04,\n",
              "        -5.01982284e-04, -5.21614656e-04, -1.51410819e-04,\n",
              "         1.37695448e-04,  2.78081851e-04, -3.33884129e-04,\n",
              "        -3.42813213e-04, -1.41832937e-04, -8.46080368e-06,\n",
              "         0.00000000e+00],\n",
              "       [ 0.00000000e+00,  0.00000000e+00, -3.23770124e-05,\n",
              "        -1.72809547e-04, -4.23754970e-04,  4.70357708e-04,\n",
              "         6.69344541e-04,  3.58604189e-04,  1.41653647e-04,\n",
              "         2.33983313e-04,  6.37812363e-04,  1.02534431e-03,\n",
              "         8.40700612e-04,  1.57553430e-05, -4.09535983e-05,\n",
              "         1.44688729e-04, -1.43146809e-04, -8.17930748e-04,\n",
              "        -1.03850470e-03, -8.84384387e-04, -3.45076544e-04,\n",
              "         2.16043458e-04,  6.41087154e-05, -3.05258107e-04,\n",
              "        -5.47603605e-04, -1.12504442e-04,  1.87886300e-05,\n",
              "         7.95626739e-09],\n",
              "       [ 0.00000000e+00,  0.00000000e+00, -9.01525700e-06,\n",
              "        -1.79729139e-04, -9.40338276e-04, -3.19449161e-04,\n",
              "         4.51843996e-04,  6.25145694e-04,  5.22104836e-04,\n",
              "         4.96596688e-04,  5.51462073e-04,  6.95444706e-04,\n",
              "         6.97959256e-04,  1.81305072e-03,  4.37602962e-04,\n",
              "         2.75710667e-04,  2.83916534e-04, -2.55868579e-04,\n",
              "        -4.55838947e-04, -4.34970932e-04, -5.13758855e-04,\n",
              "        -2.87138192e-04,  5.77862925e-06, -1.71945650e-04,\n",
              "        -5.18444551e-04, -1.97907554e-04,  2.24827259e-06,\n",
              "         4.52863917e-07],\n",
              "       [ 0.00000000e+00,  0.00000000e+00, -8.57232415e-06,\n",
              "        -8.90088315e-05, -7.15946534e-04, -7.08980816e-04,\n",
              "        -4.28066258e-04,  4.40624233e-05,  7.56072341e-04,\n",
              "         7.21234285e-04,  9.15083231e-04,  1.20955025e-03,\n",
              "         9.77245575e-04,  1.07726352e-03,  9.47609246e-04,\n",
              "         7.81862837e-04,  1.86196876e-04,  2.28078469e-05,\n",
              "        -7.15066718e-04, -1.12275567e-03, -1.10166666e-03,\n",
              "        -6.64782593e-04, -2.24743400e-04, -1.62606289e-04,\n",
              "        -2.41758234e-04, -1.28823159e-04, -1.57905076e-07,\n",
              "         0.00000000e+00],\n",
              "       [ 0.00000000e+00,  0.00000000e+00, -2.30035743e-06,\n",
              "        -3.95522988e-06, -1.35276474e-04, -3.45305889e-04,\n",
              "        -6.95245272e-04, -7.14674929e-04, -3.37548241e-04,\n",
              "        -4.22372114e-05, -2.92835377e-06, -9.47136368e-05,\n",
              "         6.41250411e-04,  9.90812867e-04,  4.57196070e-04,\n",
              "        -8.27153100e-05, -5.70457274e-04, -7.28116001e-04,\n",
              "        -9.59122136e-04, -1.13800547e-03, -8.89690680e-04,\n",
              "        -6.60268738e-04, -2.93306174e-04, -5.98098336e-05,\n",
              "        -7.85877283e-06, -3.29339328e-07,  0.00000000e+00,\n",
              "         0.00000000e+00],\n",
              "       [ 0.00000000e+00,  0.00000000e+00,  0.00000000e+00,\n",
              "         0.00000000e+00, -8.06691439e-06, -8.39141479e-05,\n",
              "        -2.61095304e-04, -3.89560863e-04, -5.02135437e-04,\n",
              "        -7.99745974e-04, -1.30528465e-03, -1.31653333e-03,\n",
              "        -1.49142254e-03, -1.11025499e-03, -1.31121258e-03,\n",
              "        -1.30315804e-03, -9.70611343e-04, -9.45959626e-04,\n",
              "        -7.48349089e-04, -4.79136140e-04, -4.18930709e-04,\n",
              "        -3.37052547e-04, -1.86631410e-04, -1.66907452e-05,\n",
              "        -5.77463945e-06,  0.00000000e+00,  0.00000000e+00,\n",
              "         0.00000000e+00],\n",
              "       [ 0.00000000e+00,  0.00000000e+00,  0.00000000e+00,\n",
              "         0.00000000e+00,  1.81904926e-09, -5.74110530e-05,\n",
              "        -1.01073534e-04, -1.47208911e-04, -1.93201714e-04,\n",
              "        -2.92137507e-04, -2.39617379e-04, -2.10546198e-04,\n",
              "        -2.48756450e-04, -4.21496093e-04, -5.35656600e-04,\n",
              "        -3.48317265e-04, -1.88289890e-04, -2.81561302e-04,\n",
              "        -2.04719759e-04, -7.50606056e-05, -6.67290504e-05,\n",
              "        -6.86852598e-05, -6.78493610e-05, -4.54417305e-06,\n",
              "         0.00000000e+00,  0.00000000e+00,  0.00000000e+00,\n",
              "         0.00000000e+00],\n",
              "       [ 0.00000000e+00,  0.00000000e+00,  0.00000000e+00,\n",
              "         0.00000000e+00,  0.00000000e+00,  0.00000000e+00,\n",
              "         0.00000000e+00, -5.00394477e-07, -3.43191560e-06,\n",
              "        -5.59971218e-06, -5.05856328e-06, -4.64553511e-06,\n",
              "        -1.03733994e-05, -9.52263903e-06, -2.80601425e-05,\n",
              "        -3.04404550e-05, -5.53753975e-06, -8.22992356e-06,\n",
              "        -1.44422487e-05, -4.78774691e-06, -1.02582941e-07,\n",
              "        -2.18942728e-05, -6.85422192e-05, -1.50468575e-05,\n",
              "         0.00000000e+00,  0.00000000e+00,  0.00000000e+00,\n",
              "         0.00000000e+00]])"
            ]
          },
          "metadata": {},
          "execution_count": 50
        }
      ]
    },
    {
      "cell_type": "code",
      "metadata": {
        "id": "4LKWbTMMip6g",
        "colab": {
          "base_uri": "https://localhost:8080/"
        },
        "outputId": "d2cf8218-96dd-40ea-b436-4af413fba5d7"
      },
      "source": [
        "# coef[coef< 2.2204460492503131e-16]=0.0\n",
        "sparsity_l1 = np.mean(lr_l1.coef_ == 0) * 100\n",
        "print(sparsity_l1)\n",
        "sparsity_l2=np.mean(lr_l2.coef_==0)*100\n",
        "print(sparsity_l2)"
      ],
      "execution_count": null,
      "outputs": [
        {
          "output_type": "stream",
          "name": "stdout",
          "text": [
            "14.426020408163264\n",
            "8.928571428571429\n"
          ]
        }
      ]
    },
    {
      "cell_type": "code",
      "metadata": {
        "id": "6vnZJcBs-m-a"
      },
      "source": [
        "index = 0\n",
        "misclassifiedIndexes = []\n",
        "for label, predict in zip(test_lbl, predictions):\n",
        "    if label != predict: \n",
        "        misclassifiedIndexes.append(index)\n",
        "    index +=1\n",
        "\n"
      ],
      "execution_count": null,
      "outputs": []
    },
    {
      "cell_type": "code",
      "metadata": {
        "id": "uta3hEuVAmnh",
        "colab": {
          "base_uri": "https://localhost:8080/",
          "height": 145
        },
        "outputId": "a701aa7b-ff59-46ad-932f-1d1f352c0fa9"
      },
      "source": [
        "plt.figure(figsize=(20,16))\n",
        "for i in range(0,10):\n",
        "    plt.subplot(1, 10, i + 1)\n",
        "    plt.imshow(np.reshape(coef[i], (28,28)))\n",
        "    #plt.title('Predicted: {}, Actual: {}'.format(predictions[badIndex], test_lbl[badIndex]), fontsize = 15)"
      ],
      "execution_count": null,
      "outputs": [
        {
          "output_type": "display_data",
          "data": {
            "image/png": "[encoded data removed]",
            "text/plain": [
              "<Figure size 1440x1152 with 10 Axes>"
            ]
          },
          "metadata": {
            "needs_background": "light"
          }
        }
      ]
    },
    {
      "cell_type": "markdown",
      "metadata": {
        "id": "8i1A_sEiWaSb"
      },
      "source": [
        "Problem 3: Revisiting Logistic Regression and MNIST.\n",
        "Here we throw the kitchen sink of classical ML (i.e. pre-deep learning) on MNIST.\n",
        "• Use Random Forests to try to get the best possible test accuracy on MNIST. Use Cross\n",
        "Validation to find the best settings. How well can you do? You should use the accuracy\n",
        "metric to compare to logistic regression. What are the hyperparameters of your best model?\n",
        "\n",
        "\n",
        "• Use Gradient Boosting to do the same. Try your best to tune your hyper parameters. What\n",
        "are the hyperparameters of your best model?"
      ]
    },
    {
      "cell_type": "code",
      "metadata": {
        "id": "SFyhUmkXfDd-",
        "colab": {
          "base_uri": "https://localhost:8080/"
        },
        "outputId": "595f4bc4-275c-4797-c3fb-7530105a3356"
      },
      "source": [
        "#training random Forest\n",
        "from sklearn.ensemble import RandomForestClassifier\n",
        "rf=RandomForestClassifier(n_estimators=100)\n",
        "rf.fit(train_img,train_lbl)"
      ],
      "execution_count": null,
      "outputs": [
        {
          "output_type": "execute_result",
          "data": {
            "text/plain": [
              "RandomForestClassifier(bootstrap=True, ccp_alpha=0.0, class_weight=None,\n",
              "                       criterion='gini', max_depth=None, max_features='auto',\n",
              "                       max_leaf_nodes=None, max_samples=None,\n",
              "                       min_impurity_decrease=0.0, min_impurity_split=None,\n",
              "                       min_samples_leaf=1, min_samples_split=2,\n",
              "                       min_weight_fraction_leaf=0.0, n_estimators=100,\n",
              "                       n_jobs=None, oob_score=False, random_state=None,\n",
              "                       verbose=0, warm_start=False)"
            ]
          },
          "metadata": {},
          "execution_count": 54
        }
      ]
    },
    {
      "cell_type": "code",
      "metadata": {
        "id": "zgb7RLxFWefW",
        "colab": {
          "base_uri": "https://localhost:8080/"
        },
        "outputId": "a5ecfaaf-1cde-4851-811b-4f1909a9830e"
      },
      "source": [
        "train_img"
      ],
      "execution_count": null,
      "outputs": [
        {
          "output_type": "execute_result",
          "data": {
            "text/plain": [
              "array([[0., 0., 0., ..., 0., 0., 0.],\n",
              "       [0., 0., 0., ..., 0., 0., 0.],\n",
              "       [0., 0., 0., ..., 0., 0., 0.],\n",
              "       ...,\n",
              "       [0., 0., 0., ..., 0., 0., 0.],\n",
              "       [0., 0., 0., ..., 0., 0., 0.],\n",
              "       [0., 0., 0., ..., 0., 0., 0.]])"
            ]
          },
          "metadata": {},
          "execution_count": 55
        }
      ]
    },
    {
      "cell_type": "code",
      "metadata": {
        "id": "ogrI-SawhFK9",
        "colab": {
          "base_uri": "https://localhost:8080/"
        },
        "outputId": "5ed90dac-0956-41d6-9c1d-3c2784f3d871"
      },
      "source": [
        "from sklearn.metrics import classification_report, confusion_matrix\n",
        "pred=rf.predict(test_img)\n",
        "print (\"Classification Report\")\n",
        "print(classification_report(test_lbl, pred))\n"
      ],
      "execution_count": null,
      "outputs": [
        {
          "output_type": "stream",
          "name": "stdout",
          "text": [
            "Classification Report\n",
            "              precision    recall  f1-score   support\n",
            "\n",
            "           0       0.98      0.99      0.99       996\n",
            "           1       0.99      0.99      0.99      1141\n",
            "           2       0.94      0.97      0.96      1040\n",
            "           3       0.96      0.94      0.95      1013\n",
            "           4       0.97      0.98      0.97       962\n",
            "           5       0.97      0.96      0.96       863\n",
            "           6       0.97      0.98      0.98       989\n",
            "           7       0.97      0.96      0.97      1064\n",
            "           8       0.96      0.96      0.96       963\n",
            "           9       0.94      0.94      0.94       969\n",
            "\n",
            "    accuracy                           0.97     10000\n",
            "   macro avg       0.97      0.97      0.97     10000\n",
            "weighted avg       0.97      0.97      0.97     10000\n",
            "\n"
          ]
        }
      ]
    },
    {
      "cell_type": "code",
      "metadata": {
        "colab": {
          "base_uri": "https://localhost:8080/",
          "height": 346
        },
        "id": "0WWZc1szpFI4",
        "outputId": "51c1a1a7-cc0d-482f-e5cb-d8bc05057d9b"
      },
      "source": [
        "scores_rf = cross_val_score(rf, mnist.data, mnist.target, cv=5)"
      ],
      "execution_count": null,
      "outputs": [
        {
          "output_type": "error",
          "ename": "KeyboardInterrupt",
          "evalue": "ignored",
          "traceback": [
            "\u001b[0;31m---------------------------------------------------------------------------\u001b[0m",
            "\u001b[0;31mKeyboardInterrupt\u001b[0m                         Traceback (most recent call last)",
            "\u001b[0;32m<ipython-input-73-0d3a313c351a>\u001b[0m in \u001b[0;36m<module>\u001b[0;34m()\u001b[0m\n\u001b[0;32m----> 1\u001b[0;31m \u001b[0mscores_rf\u001b[0m \u001b[0;34m=\u001b[0m \u001b[0mcross_val_score\u001b[0m\u001b[0;34m(\u001b[0m\u001b[0mrf\u001b[0m\u001b[0;34m,\u001b[0m \u001b[0mmnist\u001b[0m\u001b[0;34m.\u001b[0m\u001b[0mdata\u001b[0m\u001b[0;34m,\u001b[0m \u001b[0mmnist\u001b[0m\u001b[0;34m.\u001b[0m\u001b[0mtarget\u001b[0m\u001b[0;34m,\u001b[0m \u001b[0mcv\u001b[0m\u001b[0;34m=\u001b[0m\u001b[0;36m5\u001b[0m\u001b[0;34m)\u001b[0m\u001b[0;34m\u001b[0m\u001b[0;34m\u001b[0m\u001b[0m\n\u001b[0m",
            "\u001b[0;32m/usr/local/lib/python3.7/dist-packages/sklearn/model_selection/_validation.py\u001b[0m in \u001b[0;36mcross_val_score\u001b[0;34m(estimator, X, y, groups, scoring, cv, n_jobs, verbose, fit_params, pre_dispatch, error_score)\u001b[0m\n\u001b[1;32m    388\u001b[0m                                 \u001b[0mfit_params\u001b[0m\u001b[0;34m=\u001b[0m\u001b[0mfit_params\u001b[0m\u001b[0;34m,\u001b[0m\u001b[0;34m\u001b[0m\u001b[0;34m\u001b[0m\u001b[0m\n\u001b[1;32m    389\u001b[0m                                 \u001b[0mpre_dispatch\u001b[0m\u001b[0;34m=\u001b[0m\u001b[0mpre_dispatch\u001b[0m\u001b[0;34m,\u001b[0m\u001b[0;34m\u001b[0m\u001b[0;34m\u001b[0m\u001b[0m\n\u001b[0;32m--> 390\u001b[0;31m                                 error_score=error_score)\n\u001b[0m\u001b[1;32m    391\u001b[0m     \u001b[0;32mreturn\u001b[0m \u001b[0mcv_results\u001b[0m\u001b[0;34m[\u001b[0m\u001b[0;34m'test_score'\u001b[0m\u001b[0;34m]\u001b[0m\u001b[0;34m\u001b[0m\u001b[0;34m\u001b[0m\u001b[0m\n\u001b[1;32m    392\u001b[0m \u001b[0;34m\u001b[0m\u001b[0m\n",
            "\u001b[0;32m/usr/local/lib/python3.7/dist-packages/sklearn/model_selection/_validation.py\u001b[0m in \u001b[0;36mcross_validate\u001b[0;34m(estimator, X, y, groups, scoring, cv, n_jobs, verbose, fit_params, pre_dispatch, return_train_score, return_estimator, error_score)\u001b[0m\n\u001b[1;32m    234\u001b[0m             \u001b[0mreturn_times\u001b[0m\u001b[0;34m=\u001b[0m\u001b[0;32mTrue\u001b[0m\u001b[0;34m,\u001b[0m \u001b[0mreturn_estimator\u001b[0m\u001b[0;34m=\u001b[0m\u001b[0mreturn_estimator\u001b[0m\u001b[0;34m,\u001b[0m\u001b[0;34m\u001b[0m\u001b[0;34m\u001b[0m\u001b[0m\n\u001b[1;32m    235\u001b[0m             error_score=error_score)\n\u001b[0;32m--> 236\u001b[0;31m         for train, test in cv.split(X, y, groups))\n\u001b[0m\u001b[1;32m    237\u001b[0m \u001b[0;34m\u001b[0m\u001b[0m\n\u001b[1;32m    238\u001b[0m     \u001b[0mzipped_scores\u001b[0m \u001b[0;34m=\u001b[0m \u001b[0mlist\u001b[0m\u001b[0;34m(\u001b[0m\u001b[0mzip\u001b[0m\u001b[0;34m(\u001b[0m\u001b[0;34m*\u001b[0m\u001b[0mscores\u001b[0m\u001b[0;34m)\u001b[0m\u001b[0;34m)\u001b[0m\u001b[0;34m\u001b[0m\u001b[0;34m\u001b[0m\u001b[0m\n",
            "\u001b[0;32m/usr/local/lib/python3.7/dist-packages/joblib/parallel.py\u001b[0m in \u001b[0;36m__call__\u001b[0;34m(self, iterable)\u001b[0m\n\u001b[1;32m   1042\u001b[0m                 \u001b[0mself\u001b[0m\u001b[0;34m.\u001b[0m\u001b[0m_iterating\u001b[0m \u001b[0;34m=\u001b[0m \u001b[0mself\u001b[0m\u001b[0;34m.\u001b[0m\u001b[0m_original_iterator\u001b[0m \u001b[0;32mis\u001b[0m \u001b[0;32mnot\u001b[0m \u001b[0;32mNone\u001b[0m\u001b[0;34m\u001b[0m\u001b[0;34m\u001b[0m\u001b[0m\n\u001b[1;32m   1043\u001b[0m \u001b[0;34m\u001b[0m\u001b[0m\n\u001b[0;32m-> 1044\u001b[0;31m             \u001b[0;32mwhile\u001b[0m \u001b[0mself\u001b[0m\u001b[0;34m.\u001b[0m\u001b[0mdispatch_one_batch\u001b[0m\u001b[0;34m(\u001b[0m\u001b[0miterator\u001b[0m\u001b[0;34m)\u001b[0m\u001b[0;34m:\u001b[0m\u001b[0;34m\u001b[0m\u001b[0;34m\u001b[0m\u001b[0m\n\u001b[0m\u001b[1;32m   1045\u001b[0m                 \u001b[0;32mpass\u001b[0m\u001b[0;34m\u001b[0m\u001b[0;34m\u001b[0m\u001b[0m\n\u001b[1;32m   1046\u001b[0m \u001b[0;34m\u001b[0m\u001b[0m\n",
            "\u001b[0;32m/usr/local/lib/python3.7/dist-packages/joblib/parallel.py\u001b[0m in \u001b[0;36mdispatch_one_batch\u001b[0;34m(self, iterator)\u001b[0m\n\u001b[1;32m    857\u001b[0m                 \u001b[0;32mreturn\u001b[0m \u001b[0;32mFalse\u001b[0m\u001b[0;34m\u001b[0m\u001b[0;34m\u001b[0m\u001b[0m\n\u001b[1;32m    858\u001b[0m             \u001b[0;32melse\u001b[0m\u001b[0;34m:\u001b[0m\u001b[0;34m\u001b[0m\u001b[0;34m\u001b[0m\u001b[0m\n\u001b[0;32m--> 859\u001b[0;31m                 \u001b[0mself\u001b[0m\u001b[0;34m.\u001b[0m\u001b[0m_dispatch\u001b[0m\u001b[0;34m(\u001b[0m\u001b[0mtasks\u001b[0m\u001b[0;34m)\u001b[0m\u001b[0;34m\u001b[0m\u001b[0;34m\u001b[0m\u001b[0m\n\u001b[0m\u001b[1;32m    860\u001b[0m                 \u001b[0;32mreturn\u001b[0m \u001b[0;32mTrue\u001b[0m\u001b[0;34m\u001b[0m\u001b[0;34m\u001b[0m\u001b[0m\n\u001b[1;32m    861\u001b[0m \u001b[0;34m\u001b[0m\u001b[0m\n",
            "\u001b[0;32m/usr/local/lib/python3.7/dist-packages/joblib/parallel.py\u001b[0m in \u001b[0;36m_dispatch\u001b[0;34m(self, batch)\u001b[0m\n\u001b[1;32m    775\u001b[0m         \u001b[0;32mwith\u001b[0m \u001b[0mself\u001b[0m\u001b[0;34m.\u001b[0m\u001b[0m_lock\u001b[0m\u001b[0;34m:\u001b[0m\u001b[0;34m\u001b[0m\u001b[0;34m\u001b[0m\u001b[0m\n\u001b[1;32m    776\u001b[0m             \u001b[0mjob_idx\u001b[0m \u001b[0;34m=\u001b[0m \u001b[0mlen\u001b[0m\u001b[0;34m(\u001b[0m\u001b[0mself\u001b[0m\u001b[0;34m.\u001b[0m\u001b[0m_jobs\u001b[0m\u001b[0;34m)\u001b[0m\u001b[0;34m\u001b[0m\u001b[0;34m\u001b[0m\u001b[0m\n\u001b[0;32m--> 777\u001b[0;31m             \u001b[0mjob\u001b[0m \u001b[0;34m=\u001b[0m \u001b[0mself\u001b[0m\u001b[0;34m.\u001b[0m\u001b[0m_backend\u001b[0m\u001b[0;34m.\u001b[0m\u001b[0mapply_async\u001b[0m\u001b[0;34m(\u001b[0m\u001b[0mbatch\u001b[0m\u001b[0;34m,\u001b[0m \u001b[0mcallback\u001b[0m\u001b[0;34m=\u001b[0m\u001b[0mcb\u001b[0m\u001b[0;34m)\u001b[0m\u001b[0;34m\u001b[0m\u001b[0;34m\u001b[0m\u001b[0m\n\u001b[0m\u001b[1;32m    778\u001b[0m             \u001b[0;31m# A job can complete so quickly than its callback is\u001b[0m\u001b[0;34m\u001b[0m\u001b[0;34m\u001b[0m\u001b[0;34m\u001b[0m\u001b[0m\n\u001b[1;32m    779\u001b[0m             \u001b[0;31m# called before we get here, causing self._jobs to\u001b[0m\u001b[0;34m\u001b[0m\u001b[0;34m\u001b[0m\u001b[0;34m\u001b[0m\u001b[0m\n",
            "\u001b[0;32m/usr/local/lib/python3.7/dist-packages/joblib/_parallel_backends.py\u001b[0m in \u001b[0;36mapply_async\u001b[0;34m(self, func, callback)\u001b[0m\n\u001b[1;32m    206\u001b[0m     \u001b[0;32mdef\u001b[0m \u001b[0mapply_async\u001b[0m\u001b[0;34m(\u001b[0m\u001b[0mself\u001b[0m\u001b[0;34m,\u001b[0m \u001b[0mfunc\u001b[0m\u001b[0;34m,\u001b[0m \u001b[0mcallback\u001b[0m\u001b[0;34m=\u001b[0m\u001b[0;32mNone\u001b[0m\u001b[0;34m)\u001b[0m\u001b[0;34m:\u001b[0m\u001b[0;34m\u001b[0m\u001b[0;34m\u001b[0m\u001b[0m\n\u001b[1;32m    207\u001b[0m         \u001b[0;34m\"\"\"Schedule a func to be run\"\"\"\u001b[0m\u001b[0;34m\u001b[0m\u001b[0;34m\u001b[0m\u001b[0m\n\u001b[0;32m--> 208\u001b[0;31m         \u001b[0mresult\u001b[0m \u001b[0;34m=\u001b[0m \u001b[0mImmediateResult\u001b[0m\u001b[0;34m(\u001b[0m\u001b[0mfunc\u001b[0m\u001b[0;34m)\u001b[0m\u001b[0;34m\u001b[0m\u001b[0;34m\u001b[0m\u001b[0m\n\u001b[0m\u001b[1;32m    209\u001b[0m         \u001b[0;32mif\u001b[0m \u001b[0mcallback\u001b[0m\u001b[0;34m:\u001b[0m\u001b[0;34m\u001b[0m\u001b[0;34m\u001b[0m\u001b[0m\n\u001b[1;32m    210\u001b[0m             \u001b[0mcallback\u001b[0m\u001b[0;34m(\u001b[0m\u001b[0mresult\u001b[0m\u001b[0;34m)\u001b[0m\u001b[0;34m\u001b[0m\u001b[0;34m\u001b[0m\u001b[0m\n",
            "\u001b[0;32m/usr/local/lib/python3.7/dist-packages/joblib/_parallel_backends.py\u001b[0m in \u001b[0;36m__init__\u001b[0;34m(self, batch)\u001b[0m\n\u001b[1;32m    570\u001b[0m         \u001b[0;31m# Don't delay the application, to avoid keeping the input\u001b[0m\u001b[0;34m\u001b[0m\u001b[0;34m\u001b[0m\u001b[0;34m\u001b[0m\u001b[0m\n\u001b[1;32m    571\u001b[0m         \u001b[0;31m# arguments in memory\u001b[0m\u001b[0;34m\u001b[0m\u001b[0;34m\u001b[0m\u001b[0;34m\u001b[0m\u001b[0m\n\u001b[0;32m--> 572\u001b[0;31m         \u001b[0mself\u001b[0m\u001b[0;34m.\u001b[0m\u001b[0mresults\u001b[0m \u001b[0;34m=\u001b[0m \u001b[0mbatch\u001b[0m\u001b[0;34m(\u001b[0m\u001b[0;34m)\u001b[0m\u001b[0;34m\u001b[0m\u001b[0;34m\u001b[0m\u001b[0m\n\u001b[0m\u001b[1;32m    573\u001b[0m \u001b[0;34m\u001b[0m\u001b[0m\n\u001b[1;32m    574\u001b[0m     \u001b[0;32mdef\u001b[0m \u001b[0mget\u001b[0m\u001b[0;34m(\u001b[0m\u001b[0mself\u001b[0m\u001b[0;34m)\u001b[0m\u001b[0;34m:\u001b[0m\u001b[0;34m\u001b[0m\u001b[0;34m\u001b[0m\u001b[0m\n",
            "\u001b[0;32m/usr/local/lib/python3.7/dist-packages/joblib/parallel.py\u001b[0m in \u001b[0;36m__call__\u001b[0;34m(self)\u001b[0m\n\u001b[1;32m    261\u001b[0m         \u001b[0;32mwith\u001b[0m \u001b[0mparallel_backend\u001b[0m\u001b[0;34m(\u001b[0m\u001b[0mself\u001b[0m\u001b[0;34m.\u001b[0m\u001b[0m_backend\u001b[0m\u001b[0;34m,\u001b[0m \u001b[0mn_jobs\u001b[0m\u001b[0;34m=\u001b[0m\u001b[0mself\u001b[0m\u001b[0;34m.\u001b[0m\u001b[0m_n_jobs\u001b[0m\u001b[0;34m)\u001b[0m\u001b[0;34m:\u001b[0m\u001b[0;34m\u001b[0m\u001b[0;34m\u001b[0m\u001b[0m\n\u001b[1;32m    262\u001b[0m             return [func(*args, **kwargs)\n\u001b[0;32m--> 263\u001b[0;31m                     for func, args, kwargs in self.items]\n\u001b[0m\u001b[1;32m    264\u001b[0m \u001b[0;34m\u001b[0m\u001b[0m\n\u001b[1;32m    265\u001b[0m     \u001b[0;32mdef\u001b[0m \u001b[0m__reduce__\u001b[0m\u001b[0;34m(\u001b[0m\u001b[0mself\u001b[0m\u001b[0;34m)\u001b[0m\u001b[0;34m:\u001b[0m\u001b[0;34m\u001b[0m\u001b[0;34m\u001b[0m\u001b[0m\n",
            "\u001b[0;32m/usr/local/lib/python3.7/dist-packages/joblib/parallel.py\u001b[0m in \u001b[0;36m<listcomp>\u001b[0;34m(.0)\u001b[0m\n\u001b[1;32m    261\u001b[0m         \u001b[0;32mwith\u001b[0m \u001b[0mparallel_backend\u001b[0m\u001b[0;34m(\u001b[0m\u001b[0mself\u001b[0m\u001b[0;34m.\u001b[0m\u001b[0m_backend\u001b[0m\u001b[0;34m,\u001b[0m \u001b[0mn_jobs\u001b[0m\u001b[0;34m=\u001b[0m\u001b[0mself\u001b[0m\u001b[0;34m.\u001b[0m\u001b[0m_n_jobs\u001b[0m\u001b[0;34m)\u001b[0m\u001b[0;34m:\u001b[0m\u001b[0;34m\u001b[0m\u001b[0;34m\u001b[0m\u001b[0m\n\u001b[1;32m    262\u001b[0m             return [func(*args, **kwargs)\n\u001b[0;32m--> 263\u001b[0;31m                     for func, args, kwargs in self.items]\n\u001b[0m\u001b[1;32m    264\u001b[0m \u001b[0;34m\u001b[0m\u001b[0m\n\u001b[1;32m    265\u001b[0m     \u001b[0;32mdef\u001b[0m \u001b[0m__reduce__\u001b[0m\u001b[0;34m(\u001b[0m\u001b[0mself\u001b[0m\u001b[0;34m)\u001b[0m\u001b[0;34m:\u001b[0m\u001b[0;34m\u001b[0m\u001b[0;34m\u001b[0m\u001b[0m\n",
            "\u001b[0;32m/usr/local/lib/python3.7/dist-packages/sklearn/model_selection/_validation.py\u001b[0m in \u001b[0;36m_fit_and_score\u001b[0;34m(estimator, X, y, scorer, train, test, verbose, parameters, fit_params, return_train_score, return_parameters, return_n_test_samples, return_times, return_estimator, error_score)\u001b[0m\n\u001b[1;32m    513\u001b[0m             \u001b[0mestimator\u001b[0m\u001b[0;34m.\u001b[0m\u001b[0mfit\u001b[0m\u001b[0;34m(\u001b[0m\u001b[0mX_train\u001b[0m\u001b[0;34m,\u001b[0m \u001b[0;34m**\u001b[0m\u001b[0mfit_params\u001b[0m\u001b[0;34m)\u001b[0m\u001b[0;34m\u001b[0m\u001b[0;34m\u001b[0m\u001b[0m\n\u001b[1;32m    514\u001b[0m         \u001b[0;32melse\u001b[0m\u001b[0;34m:\u001b[0m\u001b[0;34m\u001b[0m\u001b[0;34m\u001b[0m\u001b[0m\n\u001b[0;32m--> 515\u001b[0;31m             \u001b[0mestimator\u001b[0m\u001b[0;34m.\u001b[0m\u001b[0mfit\u001b[0m\u001b[0;34m(\u001b[0m\u001b[0mX_train\u001b[0m\u001b[0;34m,\u001b[0m \u001b[0my_train\u001b[0m\u001b[0;34m,\u001b[0m \u001b[0;34m**\u001b[0m\u001b[0mfit_params\u001b[0m\u001b[0;34m)\u001b[0m\u001b[0;34m\u001b[0m\u001b[0;34m\u001b[0m\u001b[0m\n\u001b[0m\u001b[1;32m    516\u001b[0m \u001b[0;34m\u001b[0m\u001b[0m\n\u001b[1;32m    517\u001b[0m     \u001b[0;32mexcept\u001b[0m \u001b[0mException\u001b[0m \u001b[0;32mas\u001b[0m \u001b[0me\u001b[0m\u001b[0;34m:\u001b[0m\u001b[0;34m\u001b[0m\u001b[0;34m\u001b[0m\u001b[0m\n",
            "\u001b[0;32m/usr/local/lib/python3.7/dist-packages/sklearn/ensemble/_forest.py\u001b[0m in \u001b[0;36mfit\u001b[0;34m(self, X, y, sample_weight)\u001b[0m\n\u001b[1;32m    381\u001b[0m                     \u001b[0mverbose\u001b[0m\u001b[0;34m=\u001b[0m\u001b[0mself\u001b[0m\u001b[0;34m.\u001b[0m\u001b[0mverbose\u001b[0m\u001b[0;34m,\u001b[0m \u001b[0mclass_weight\u001b[0m\u001b[0;34m=\u001b[0m\u001b[0mself\u001b[0m\u001b[0;34m.\u001b[0m\u001b[0mclass_weight\u001b[0m\u001b[0;34m,\u001b[0m\u001b[0;34m\u001b[0m\u001b[0;34m\u001b[0m\u001b[0m\n\u001b[1;32m    382\u001b[0m                     n_samples_bootstrap=n_samples_bootstrap)\n\u001b[0;32m--> 383\u001b[0;31m                 for i, t in enumerate(trees))\n\u001b[0m\u001b[1;32m    384\u001b[0m \u001b[0;34m\u001b[0m\u001b[0m\n\u001b[1;32m    385\u001b[0m             \u001b[0;31m# Collect newly grown trees\u001b[0m\u001b[0;34m\u001b[0m\u001b[0;34m\u001b[0m\u001b[0;34m\u001b[0m\u001b[0m\n",
            "\u001b[0;32m/usr/local/lib/python3.7/dist-packages/joblib/parallel.py\u001b[0m in \u001b[0;36m__call__\u001b[0;34m(self, iterable)\u001b[0m\n\u001b[1;32m   1042\u001b[0m                 \u001b[0mself\u001b[0m\u001b[0;34m.\u001b[0m\u001b[0m_iterating\u001b[0m \u001b[0;34m=\u001b[0m \u001b[0mself\u001b[0m\u001b[0;34m.\u001b[0m\u001b[0m_original_iterator\u001b[0m \u001b[0;32mis\u001b[0m \u001b[0;32mnot\u001b[0m \u001b[0;32mNone\u001b[0m\u001b[0;34m\u001b[0m\u001b[0;34m\u001b[0m\u001b[0m\n\u001b[1;32m   1043\u001b[0m \u001b[0;34m\u001b[0m\u001b[0m\n\u001b[0;32m-> 1044\u001b[0;31m             \u001b[0;32mwhile\u001b[0m \u001b[0mself\u001b[0m\u001b[0;34m.\u001b[0m\u001b[0mdispatch_one_batch\u001b[0m\u001b[0;34m(\u001b[0m\u001b[0miterator\u001b[0m\u001b[0;34m)\u001b[0m\u001b[0;34m:\u001b[0m\u001b[0;34m\u001b[0m\u001b[0;34m\u001b[0m\u001b[0m\n\u001b[0m\u001b[1;32m   1045\u001b[0m                 \u001b[0;32mpass\u001b[0m\u001b[0;34m\u001b[0m\u001b[0;34m\u001b[0m\u001b[0m\n\u001b[1;32m   1046\u001b[0m \u001b[0;34m\u001b[0m\u001b[0m\n",
            "\u001b[0;32m/usr/local/lib/python3.7/dist-packages/joblib/parallel.py\u001b[0m in \u001b[0;36mdispatch_one_batch\u001b[0;34m(self, iterator)\u001b[0m\n\u001b[1;32m    857\u001b[0m                 \u001b[0;32mreturn\u001b[0m \u001b[0;32mFalse\u001b[0m\u001b[0;34m\u001b[0m\u001b[0;34m\u001b[0m\u001b[0m\n\u001b[1;32m    858\u001b[0m             \u001b[0;32melse\u001b[0m\u001b[0;34m:\u001b[0m\u001b[0;34m\u001b[0m\u001b[0;34m\u001b[0m\u001b[0m\n\u001b[0;32m--> 859\u001b[0;31m                 \u001b[0mself\u001b[0m\u001b[0;34m.\u001b[0m\u001b[0m_dispatch\u001b[0m\u001b[0;34m(\u001b[0m\u001b[0mtasks\u001b[0m\u001b[0;34m)\u001b[0m\u001b[0;34m\u001b[0m\u001b[0;34m\u001b[0m\u001b[0m\n\u001b[0m\u001b[1;32m    860\u001b[0m                 \u001b[0;32mreturn\u001b[0m \u001b[0;32mTrue\u001b[0m\u001b[0;34m\u001b[0m\u001b[0;34m\u001b[0m\u001b[0m\n\u001b[1;32m    861\u001b[0m \u001b[0;34m\u001b[0m\u001b[0m\n",
            "\u001b[0;32m/usr/local/lib/python3.7/dist-packages/joblib/parallel.py\u001b[0m in \u001b[0;36m_dispatch\u001b[0;34m(self, batch)\u001b[0m\n\u001b[1;32m    775\u001b[0m         \u001b[0;32mwith\u001b[0m \u001b[0mself\u001b[0m\u001b[0;34m.\u001b[0m\u001b[0m_lock\u001b[0m\u001b[0;34m:\u001b[0m\u001b[0;34m\u001b[0m\u001b[0;34m\u001b[0m\u001b[0m\n\u001b[1;32m    776\u001b[0m             \u001b[0mjob_idx\u001b[0m \u001b[0;34m=\u001b[0m \u001b[0mlen\u001b[0m\u001b[0;34m(\u001b[0m\u001b[0mself\u001b[0m\u001b[0;34m.\u001b[0m\u001b[0m_jobs\u001b[0m\u001b[0;34m)\u001b[0m\u001b[0;34m\u001b[0m\u001b[0;34m\u001b[0m\u001b[0m\n\u001b[0;32m--> 777\u001b[0;31m             \u001b[0mjob\u001b[0m \u001b[0;34m=\u001b[0m \u001b[0mself\u001b[0m\u001b[0;34m.\u001b[0m\u001b[0m_backend\u001b[0m\u001b[0;34m.\u001b[0m\u001b[0mapply_async\u001b[0m\u001b[0;34m(\u001b[0m\u001b[0mbatch\u001b[0m\u001b[0;34m,\u001b[0m \u001b[0mcallback\u001b[0m\u001b[0;34m=\u001b[0m\u001b[0mcb\u001b[0m\u001b[0;34m)\u001b[0m\u001b[0;34m\u001b[0m\u001b[0;34m\u001b[0m\u001b[0m\n\u001b[0m\u001b[1;32m    778\u001b[0m             \u001b[0;31m# A job can complete so quickly than its callback is\u001b[0m\u001b[0;34m\u001b[0m\u001b[0;34m\u001b[0m\u001b[0;34m\u001b[0m\u001b[0m\n\u001b[1;32m    779\u001b[0m             \u001b[0;31m# called before we get here, causing self._jobs to\u001b[0m\u001b[0;34m\u001b[0m\u001b[0;34m\u001b[0m\u001b[0;34m\u001b[0m\u001b[0m\n",
            "\u001b[0;32m/usr/local/lib/python3.7/dist-packages/joblib/_parallel_backends.py\u001b[0m in \u001b[0;36mapply_async\u001b[0;34m(self, func, callback)\u001b[0m\n\u001b[1;32m    206\u001b[0m     \u001b[0;32mdef\u001b[0m \u001b[0mapply_async\u001b[0m\u001b[0;34m(\u001b[0m\u001b[0mself\u001b[0m\u001b[0;34m,\u001b[0m \u001b[0mfunc\u001b[0m\u001b[0;34m,\u001b[0m \u001b[0mcallback\u001b[0m\u001b[0;34m=\u001b[0m\u001b[0;32mNone\u001b[0m\u001b[0;34m)\u001b[0m\u001b[0;34m:\u001b[0m\u001b[0;34m\u001b[0m\u001b[0;34m\u001b[0m\u001b[0m\n\u001b[1;32m    207\u001b[0m         \u001b[0;34m\"\"\"Schedule a func to be run\"\"\"\u001b[0m\u001b[0;34m\u001b[0m\u001b[0;34m\u001b[0m\u001b[0m\n\u001b[0;32m--> 208\u001b[0;31m         \u001b[0mresult\u001b[0m \u001b[0;34m=\u001b[0m \u001b[0mImmediateResult\u001b[0m\u001b[0;34m(\u001b[0m\u001b[0mfunc\u001b[0m\u001b[0;34m)\u001b[0m\u001b[0;34m\u001b[0m\u001b[0;34m\u001b[0m\u001b[0m\n\u001b[0m\u001b[1;32m    209\u001b[0m         \u001b[0;32mif\u001b[0m \u001b[0mcallback\u001b[0m\u001b[0;34m:\u001b[0m\u001b[0;34m\u001b[0m\u001b[0;34m\u001b[0m\u001b[0m\n\u001b[1;32m    210\u001b[0m             \u001b[0mcallback\u001b[0m\u001b[0;34m(\u001b[0m\u001b[0mresult\u001b[0m\u001b[0;34m)\u001b[0m\u001b[0;34m\u001b[0m\u001b[0;34m\u001b[0m\u001b[0m\n",
            "\u001b[0;32m/usr/local/lib/python3.7/dist-packages/joblib/_parallel_backends.py\u001b[0m in \u001b[0;36m__init__\u001b[0;34m(self, batch)\u001b[0m\n\u001b[1;32m    570\u001b[0m         \u001b[0;31m# Don't delay the application, to avoid keeping the input\u001b[0m\u001b[0;34m\u001b[0m\u001b[0;34m\u001b[0m\u001b[0;34m\u001b[0m\u001b[0m\n\u001b[1;32m    571\u001b[0m         \u001b[0;31m# arguments in memory\u001b[0m\u001b[0;34m\u001b[0m\u001b[0;34m\u001b[0m\u001b[0;34m\u001b[0m\u001b[0m\n\u001b[0;32m--> 572\u001b[0;31m         \u001b[0mself\u001b[0m\u001b[0;34m.\u001b[0m\u001b[0mresults\u001b[0m \u001b[0;34m=\u001b[0m \u001b[0mbatch\u001b[0m\u001b[0;34m(\u001b[0m\u001b[0;34m)\u001b[0m\u001b[0;34m\u001b[0m\u001b[0;34m\u001b[0m\u001b[0m\n\u001b[0m\u001b[1;32m    573\u001b[0m \u001b[0;34m\u001b[0m\u001b[0m\n\u001b[1;32m    574\u001b[0m     \u001b[0;32mdef\u001b[0m \u001b[0mget\u001b[0m\u001b[0;34m(\u001b[0m\u001b[0mself\u001b[0m\u001b[0;34m)\u001b[0m\u001b[0;34m:\u001b[0m\u001b[0;34m\u001b[0m\u001b[0;34m\u001b[0m\u001b[0m\n",
            "\u001b[0;32m/usr/local/lib/python3.7/dist-packages/joblib/parallel.py\u001b[0m in \u001b[0;36m__call__\u001b[0;34m(self)\u001b[0m\n\u001b[1;32m    261\u001b[0m         \u001b[0;32mwith\u001b[0m \u001b[0mparallel_backend\u001b[0m\u001b[0;34m(\u001b[0m\u001b[0mself\u001b[0m\u001b[0;34m.\u001b[0m\u001b[0m_backend\u001b[0m\u001b[0;34m,\u001b[0m \u001b[0mn_jobs\u001b[0m\u001b[0;34m=\u001b[0m\u001b[0mself\u001b[0m\u001b[0;34m.\u001b[0m\u001b[0m_n_jobs\u001b[0m\u001b[0;34m)\u001b[0m\u001b[0;34m:\u001b[0m\u001b[0;34m\u001b[0m\u001b[0;34m\u001b[0m\u001b[0m\n\u001b[1;32m    262\u001b[0m             return [func(*args, **kwargs)\n\u001b[0;32m--> 263\u001b[0;31m                     for func, args, kwargs in self.items]\n\u001b[0m\u001b[1;32m    264\u001b[0m \u001b[0;34m\u001b[0m\u001b[0m\n\u001b[1;32m    265\u001b[0m     \u001b[0;32mdef\u001b[0m \u001b[0m__reduce__\u001b[0m\u001b[0;34m(\u001b[0m\u001b[0mself\u001b[0m\u001b[0;34m)\u001b[0m\u001b[0;34m:\u001b[0m\u001b[0;34m\u001b[0m\u001b[0;34m\u001b[0m\u001b[0m\n",
            "\u001b[0;32m/usr/local/lib/python3.7/dist-packages/joblib/parallel.py\u001b[0m in \u001b[0;36m<listcomp>\u001b[0;34m(.0)\u001b[0m\n\u001b[1;32m    261\u001b[0m         \u001b[0;32mwith\u001b[0m \u001b[0mparallel_backend\u001b[0m\u001b[0;34m(\u001b[0m\u001b[0mself\u001b[0m\u001b[0;34m.\u001b[0m\u001b[0m_backend\u001b[0m\u001b[0;34m,\u001b[0m \u001b[0mn_jobs\u001b[0m\u001b[0;34m=\u001b[0m\u001b[0mself\u001b[0m\u001b[0;34m.\u001b[0m\u001b[0m_n_jobs\u001b[0m\u001b[0;34m)\u001b[0m\u001b[0;34m:\u001b[0m\u001b[0;34m\u001b[0m\u001b[0;34m\u001b[0m\u001b[0m\n\u001b[1;32m    262\u001b[0m             return [func(*args, **kwargs)\n\u001b[0;32m--> 263\u001b[0;31m                     for func, args, kwargs in self.items]\n\u001b[0m\u001b[1;32m    264\u001b[0m \u001b[0;34m\u001b[0m\u001b[0m\n\u001b[1;32m    265\u001b[0m     \u001b[0;32mdef\u001b[0m \u001b[0m__reduce__\u001b[0m\u001b[0;34m(\u001b[0m\u001b[0mself\u001b[0m\u001b[0;34m)\u001b[0m\u001b[0;34m:\u001b[0m\u001b[0;34m\u001b[0m\u001b[0;34m\u001b[0m\u001b[0m\n",
            "\u001b[0;32m/usr/local/lib/python3.7/dist-packages/sklearn/ensemble/_forest.py\u001b[0m in \u001b[0;36m_parallel_build_trees\u001b[0;34m(tree, forest, X, y, sample_weight, tree_idx, n_trees, verbose, class_weight, n_samples_bootstrap)\u001b[0m\n\u001b[1;32m    163\u001b[0m             \u001b[0mcurr_sample_weight\u001b[0m \u001b[0;34m*=\u001b[0m \u001b[0mcompute_sample_weight\u001b[0m\u001b[0;34m(\u001b[0m\u001b[0;34m'balanced'\u001b[0m\u001b[0;34m,\u001b[0m \u001b[0my\u001b[0m\u001b[0;34m,\u001b[0m \u001b[0mindices\u001b[0m\u001b[0;34m)\u001b[0m\u001b[0;34m\u001b[0m\u001b[0;34m\u001b[0m\u001b[0m\n\u001b[1;32m    164\u001b[0m \u001b[0;34m\u001b[0m\u001b[0m\n\u001b[0;32m--> 165\u001b[0;31m         \u001b[0mtree\u001b[0m\u001b[0;34m.\u001b[0m\u001b[0mfit\u001b[0m\u001b[0;34m(\u001b[0m\u001b[0mX\u001b[0m\u001b[0;34m,\u001b[0m \u001b[0my\u001b[0m\u001b[0;34m,\u001b[0m \u001b[0msample_weight\u001b[0m\u001b[0;34m=\u001b[0m\u001b[0mcurr_sample_weight\u001b[0m\u001b[0;34m,\u001b[0m \u001b[0mcheck_input\u001b[0m\u001b[0;34m=\u001b[0m\u001b[0;32mFalse\u001b[0m\u001b[0;34m)\u001b[0m\u001b[0;34m\u001b[0m\u001b[0;34m\u001b[0m\u001b[0m\n\u001b[0m\u001b[1;32m    166\u001b[0m     \u001b[0;32melse\u001b[0m\u001b[0;34m:\u001b[0m\u001b[0;34m\u001b[0m\u001b[0;34m\u001b[0m\u001b[0m\n\u001b[1;32m    167\u001b[0m         \u001b[0mtree\u001b[0m\u001b[0;34m.\u001b[0m\u001b[0mfit\u001b[0m\u001b[0;34m(\u001b[0m\u001b[0mX\u001b[0m\u001b[0;34m,\u001b[0m \u001b[0my\u001b[0m\u001b[0;34m,\u001b[0m \u001b[0msample_weight\u001b[0m\u001b[0;34m=\u001b[0m\u001b[0msample_weight\u001b[0m\u001b[0;34m,\u001b[0m \u001b[0mcheck_input\u001b[0m\u001b[0;34m=\u001b[0m\u001b[0;32mFalse\u001b[0m\u001b[0;34m)\u001b[0m\u001b[0;34m\u001b[0m\u001b[0;34m\u001b[0m\u001b[0m\n",
            "\u001b[0;32m/usr/local/lib/python3.7/dist-packages/sklearn/tree/_classes.py\u001b[0m in \u001b[0;36mfit\u001b[0;34m(self, X, y, sample_weight, check_input, X_idx_sorted)\u001b[0m\n\u001b[1;32m    875\u001b[0m             \u001b[0msample_weight\u001b[0m\u001b[0;34m=\u001b[0m\u001b[0msample_weight\u001b[0m\u001b[0;34m,\u001b[0m\u001b[0;34m\u001b[0m\u001b[0;34m\u001b[0m\u001b[0m\n\u001b[1;32m    876\u001b[0m             \u001b[0mcheck_input\u001b[0m\u001b[0;34m=\u001b[0m\u001b[0mcheck_input\u001b[0m\u001b[0;34m,\u001b[0m\u001b[0;34m\u001b[0m\u001b[0;34m\u001b[0m\u001b[0m\n\u001b[0;32m--> 877\u001b[0;31m             X_idx_sorted=X_idx_sorted)\n\u001b[0m\u001b[1;32m    878\u001b[0m         \u001b[0;32mreturn\u001b[0m \u001b[0mself\u001b[0m\u001b[0;34m\u001b[0m\u001b[0;34m\u001b[0m\u001b[0m\n\u001b[1;32m    879\u001b[0m \u001b[0;34m\u001b[0m\u001b[0m\n",
            "\u001b[0;32m/usr/local/lib/python3.7/dist-packages/sklearn/tree/_classes.py\u001b[0m in \u001b[0;36mfit\u001b[0;34m(self, X, y, sample_weight, check_input, X_idx_sorted)\u001b[0m\n\u001b[1;32m    171\u001b[0m \u001b[0;34m\u001b[0m\u001b[0m\n\u001b[1;32m    172\u001b[0m         \u001b[0;32mif\u001b[0m \u001b[0mis_classification\u001b[0m\u001b[0;34m:\u001b[0m\u001b[0;34m\u001b[0m\u001b[0;34m\u001b[0m\u001b[0m\n\u001b[0;32m--> 173\u001b[0;31m             \u001b[0mcheck_classification_targets\u001b[0m\u001b[0;34m(\u001b[0m\u001b[0my\u001b[0m\u001b[0;34m)\u001b[0m\u001b[0;34m\u001b[0m\u001b[0;34m\u001b[0m\u001b[0m\n\u001b[0m\u001b[1;32m    174\u001b[0m             \u001b[0my\u001b[0m \u001b[0;34m=\u001b[0m \u001b[0mnp\u001b[0m\u001b[0;34m.\u001b[0m\u001b[0mcopy\u001b[0m\u001b[0;34m(\u001b[0m\u001b[0my\u001b[0m\u001b[0;34m)\u001b[0m\u001b[0;34m\u001b[0m\u001b[0;34m\u001b[0m\u001b[0m\n\u001b[1;32m    175\u001b[0m \u001b[0;34m\u001b[0m\u001b[0m\n",
            "\u001b[0;32m/usr/local/lib/python3.7/dist-packages/sklearn/utils/multiclass.py\u001b[0m in \u001b[0;36mcheck_classification_targets\u001b[0;34m(y)\u001b[0m\n\u001b[1;32m    164\u001b[0m     \u001b[0my\u001b[0m \u001b[0;34m:\u001b[0m \u001b[0marray\u001b[0m\u001b[0;34m-\u001b[0m\u001b[0mlike\u001b[0m\u001b[0;34m\u001b[0m\u001b[0;34m\u001b[0m\u001b[0m\n\u001b[1;32m    165\u001b[0m     \"\"\"\n\u001b[0;32m--> 166\u001b[0;31m     \u001b[0my_type\u001b[0m \u001b[0;34m=\u001b[0m \u001b[0mtype_of_target\u001b[0m\u001b[0;34m(\u001b[0m\u001b[0my\u001b[0m\u001b[0;34m)\u001b[0m\u001b[0;34m\u001b[0m\u001b[0;34m\u001b[0m\u001b[0m\n\u001b[0m\u001b[1;32m    167\u001b[0m     if y_type not in ['binary', 'multiclass', 'multiclass-multioutput',\n\u001b[1;32m    168\u001b[0m                       'multilabel-indicator', 'multilabel-sequences']:\n",
            "\u001b[0;32m/usr/local/lib/python3.7/dist-packages/sklearn/utils/multiclass.py\u001b[0m in \u001b[0;36mtype_of_target\u001b[0;34m(y)\u001b[0m\n\u001b[1;32m    285\u001b[0m         \u001b[0;32mreturn\u001b[0m \u001b[0;34m'continuous'\u001b[0m \u001b[0;34m+\u001b[0m \u001b[0msuffix\u001b[0m\u001b[0;34m\u001b[0m\u001b[0;34m\u001b[0m\u001b[0m\n\u001b[1;32m    286\u001b[0m \u001b[0;34m\u001b[0m\u001b[0m\n\u001b[0;32m--> 287\u001b[0;31m     \u001b[0;32mif\u001b[0m \u001b[0;34m(\u001b[0m\u001b[0mlen\u001b[0m\u001b[0;34m(\u001b[0m\u001b[0mnp\u001b[0m\u001b[0;34m.\u001b[0m\u001b[0munique\u001b[0m\u001b[0;34m(\u001b[0m\u001b[0my\u001b[0m\u001b[0;34m)\u001b[0m\u001b[0;34m)\u001b[0m \u001b[0;34m>\u001b[0m \u001b[0;36m2\u001b[0m\u001b[0;34m)\u001b[0m \u001b[0;32mor\u001b[0m \u001b[0;34m(\u001b[0m\u001b[0my\u001b[0m\u001b[0;34m.\u001b[0m\u001b[0mndim\u001b[0m \u001b[0;34m>=\u001b[0m \u001b[0;36m2\u001b[0m \u001b[0;32mand\u001b[0m \u001b[0mlen\u001b[0m\u001b[0;34m(\u001b[0m\u001b[0my\u001b[0m\u001b[0;34m[\u001b[0m\u001b[0;36m0\u001b[0m\u001b[0;34m]\u001b[0m\u001b[0;34m)\u001b[0m \u001b[0;34m>\u001b[0m \u001b[0;36m1\u001b[0m\u001b[0;34m)\u001b[0m\u001b[0;34m:\u001b[0m\u001b[0;34m\u001b[0m\u001b[0;34m\u001b[0m\u001b[0m\n\u001b[0m\u001b[1;32m    288\u001b[0m         \u001b[0;32mreturn\u001b[0m \u001b[0;34m'multiclass'\u001b[0m \u001b[0;34m+\u001b[0m \u001b[0msuffix\u001b[0m  \u001b[0;31m# [1, 2, 3] or [[1., 2., 3]] or [[1, 2]]\u001b[0m\u001b[0;34m\u001b[0m\u001b[0;34m\u001b[0m\u001b[0m\n\u001b[1;32m    289\u001b[0m     \u001b[0;32melse\u001b[0m\u001b[0;34m:\u001b[0m\u001b[0;34m\u001b[0m\u001b[0;34m\u001b[0m\u001b[0m\n",
            "\u001b[0;32m<__array_function__ internals>\u001b[0m in \u001b[0;36munique\u001b[0;34m(*args, **kwargs)\u001b[0m\n",
            "\u001b[0;32m/usr/local/lib/python3.7/dist-packages/numpy/lib/arraysetops.py\u001b[0m in \u001b[0;36munique\u001b[0;34m(ar, return_index, return_inverse, return_counts, axis)\u001b[0m\n\u001b[1;32m    259\u001b[0m     \u001b[0mar\u001b[0m \u001b[0;34m=\u001b[0m \u001b[0mnp\u001b[0m\u001b[0;34m.\u001b[0m\u001b[0masanyarray\u001b[0m\u001b[0;34m(\u001b[0m\u001b[0mar\u001b[0m\u001b[0;34m)\u001b[0m\u001b[0;34m\u001b[0m\u001b[0;34m\u001b[0m\u001b[0m\n\u001b[1;32m    260\u001b[0m     \u001b[0;32mif\u001b[0m \u001b[0maxis\u001b[0m \u001b[0;32mis\u001b[0m \u001b[0;32mNone\u001b[0m\u001b[0;34m:\u001b[0m\u001b[0;34m\u001b[0m\u001b[0;34m\u001b[0m\u001b[0m\n\u001b[0;32m--> 261\u001b[0;31m         \u001b[0mret\u001b[0m \u001b[0;34m=\u001b[0m \u001b[0m_unique1d\u001b[0m\u001b[0;34m(\u001b[0m\u001b[0mar\u001b[0m\u001b[0;34m,\u001b[0m \u001b[0mreturn_index\u001b[0m\u001b[0;34m,\u001b[0m \u001b[0mreturn_inverse\u001b[0m\u001b[0;34m,\u001b[0m \u001b[0mreturn_counts\u001b[0m\u001b[0;34m)\u001b[0m\u001b[0;34m\u001b[0m\u001b[0;34m\u001b[0m\u001b[0m\n\u001b[0m\u001b[1;32m    262\u001b[0m         \u001b[0;32mreturn\u001b[0m \u001b[0m_unpack_tuple\u001b[0m\u001b[0;34m(\u001b[0m\u001b[0mret\u001b[0m\u001b[0;34m)\u001b[0m\u001b[0;34m\u001b[0m\u001b[0;34m\u001b[0m\u001b[0m\n\u001b[1;32m    263\u001b[0m \u001b[0;34m\u001b[0m\u001b[0m\n",
            "\u001b[0;32m/usr/local/lib/python3.7/dist-packages/numpy/lib/arraysetops.py\u001b[0m in \u001b[0;36m_unique1d\u001b[0;34m(ar, return_index, return_inverse, return_counts)\u001b[0m\n\u001b[1;32m    320\u001b[0m         \u001b[0maux\u001b[0m \u001b[0;34m=\u001b[0m \u001b[0mar\u001b[0m\u001b[0;34m[\u001b[0m\u001b[0mperm\u001b[0m\u001b[0;34m]\u001b[0m\u001b[0;34m\u001b[0m\u001b[0;34m\u001b[0m\u001b[0m\n\u001b[1;32m    321\u001b[0m     \u001b[0;32melse\u001b[0m\u001b[0;34m:\u001b[0m\u001b[0;34m\u001b[0m\u001b[0;34m\u001b[0m\u001b[0m\n\u001b[0;32m--> 322\u001b[0;31m         \u001b[0mar\u001b[0m\u001b[0;34m.\u001b[0m\u001b[0msort\u001b[0m\u001b[0;34m(\u001b[0m\u001b[0;34m)\u001b[0m\u001b[0;34m\u001b[0m\u001b[0;34m\u001b[0m\u001b[0m\n\u001b[0m\u001b[1;32m    323\u001b[0m         \u001b[0maux\u001b[0m \u001b[0;34m=\u001b[0m \u001b[0mar\u001b[0m\u001b[0;34m\u001b[0m\u001b[0;34m\u001b[0m\u001b[0m\n\u001b[1;32m    324\u001b[0m     \u001b[0mmask\u001b[0m \u001b[0;34m=\u001b[0m \u001b[0mnp\u001b[0m\u001b[0;34m.\u001b[0m\u001b[0mempty\u001b[0m\u001b[0;34m(\u001b[0m\u001b[0maux\u001b[0m\u001b[0;34m.\u001b[0m\u001b[0mshape\u001b[0m\u001b[0;34m,\u001b[0m \u001b[0mdtype\u001b[0m\u001b[0;34m=\u001b[0m\u001b[0mnp\u001b[0m\u001b[0;34m.\u001b[0m\u001b[0mbool_\u001b[0m\u001b[0;34m)\u001b[0m\u001b[0;34m\u001b[0m\u001b[0;34m\u001b[0m\u001b[0m\n",
            "\u001b[0;31mKeyboardInterrupt\u001b[0m: "
          ]
        }
      ]
    },
    {
      "cell_type": "markdown",
      "metadata": {
        "id": "C3I5K-dDm30I"
      },
      "source": [
        "Best Accuracy with randome forest: 0.97\n",
        "best Hyperparameters : criterion='gini', n_estimators=100\n"
      ]
    },
    {
      "cell_type": "code",
      "metadata": {
        "id": "ct1V-qpH8UUw"
      },
      "source": [
        "#Standardize the data\n",
        "x = train_img\n",
        "x-=np.mean(train_img) # the -= means can be read as x = x- np.mean(x)\n",
        "\n",
        " # this calcualtes the standard deviation of the array\n",
        "x/=np.std(x) # the /= means can be read as x = x/np.std(x)\n",
        "\n",
        "# apply on test data\n",
        "y = test_img\n",
        "y-=np.mean(train_img) # the -= means can be read as x = x- np.mean(x)\n",
        "\n",
        " # this calcualtes the standard deviation of the array\n",
        "y/=np.std(x) "
      ],
      "execution_count": null,
      "outputs": []
    },
    {
      "cell_type": "code",
      "metadata": {
        "id": "I6Qbi60rg0bg",
        "colab": {
          "base_uri": "https://localhost:8080/"
        },
        "outputId": "0bc02179-685d-4247-ba14-bf29a6cddb80"
      },
      "source": [
        "# Best hyperparamters\n",
        "param_list = [(\"eta\", 0.08), (\"max_depth\", 10), (\"subsample\", 0.8), (\"colsample_bytree\", 0.8), (\"objective\", \"multi:softmax\"), (\"eval_metric\", \"mlogloss\"), (\"alpha\", 8), (\"lambda\", 2), (\"num_class\", 10)]\n",
        "n_rounds = 25\n",
        "early_stopping = 10\n",
        "import xgboost as xgb\n",
        "xgb_classif = xgb.XGBClassifier()\n",
        "d_train = xgb.DMatrix(x, label=train_lbl)\n",
        "d_val = xgb.DMatrix(test_img, label=test_lbl)\n",
        "eval_list = [(d_train, \"train\"), (d_val, \"validation\")]\n",
        "bst = xgb.train(param_list, d_train, n_rounds, evals=eval_list, early_stopping_rounds=early_stopping, verbose_eval=True)"
      ],
      "execution_count": null,
      "outputs": [
        {
          "output_type": "stream",
          "name": "stdout",
          "text": [
            "[0]\ttrain-mlogloss:1.99918\tvalidation-mlogloss:2.28492\n",
            "Multiple eval metrics have been passed: 'validation-mlogloss' will be used for early stopping.\n",
            "\n",
            "Will train until validation-mlogloss hasn't improved in 10 rounds.\n",
            "[1]\ttrain-mlogloss:1.7816\tvalidation-mlogloss:2.27173\n",
            "[2]\ttrain-mlogloss:1.61054\tvalidation-mlogloss:2.25427\n",
            "[3]\ttrain-mlogloss:1.469\tvalidation-mlogloss:2.24896\n",
            "[4]\ttrain-mlogloss:1.34872\tvalidation-mlogloss:2.24393\n",
            "[5]\ttrain-mlogloss:1.2447\tvalidation-mlogloss:2.23388\n",
            "[6]\ttrain-mlogloss:1.15397\tvalidation-mlogloss:2.22756\n",
            "[7]\ttrain-mlogloss:1.07317\tvalidation-mlogloss:2.22201\n",
            "[8]\ttrain-mlogloss:1.00138\tvalidation-mlogloss:2.21937\n",
            "[9]\ttrain-mlogloss:0.936609\tvalidation-mlogloss:2.21443\n",
            "[10]\ttrain-mlogloss:0.876838\tvalidation-mlogloss:2.21349\n",
            "[11]\ttrain-mlogloss:0.822955\tvalidation-mlogloss:2.2041\n",
            "[12]\ttrain-mlogloss:0.77379\tvalidation-mlogloss:2.19349\n",
            "[13]\ttrain-mlogloss:0.728176\tvalidation-mlogloss:2.19078\n",
            "[14]\ttrain-mlogloss:0.686619\tvalidation-mlogloss:2.1849\n",
            "[15]\ttrain-mlogloss:0.647936\tvalidation-mlogloss:2.18194\n",
            "[16]\ttrain-mlogloss:0.612776\tvalidation-mlogloss:2.17811\n",
            "[17]\ttrain-mlogloss:0.579984\tvalidation-mlogloss:2.17538\n",
            "[18]\ttrain-mlogloss:0.549701\tvalidation-mlogloss:2.17575\n",
            "[19]\ttrain-mlogloss:0.521127\tvalidation-mlogloss:2.16893\n",
            "[20]\ttrain-mlogloss:0.494987\tvalidation-mlogloss:2.16842\n",
            "[21]\ttrain-mlogloss:0.470489\tvalidation-mlogloss:2.16825\n",
            "[22]\ttrain-mlogloss:0.447974\tvalidation-mlogloss:2.16797\n",
            "[23]\ttrain-mlogloss:0.426971\tvalidation-mlogloss:2.16682\n",
            "[24]\ttrain-mlogloss:0.407017\tvalidation-mlogloss:2.16462\n"
          ]
        }
      ]
    },
    {
      "cell_type": "code",
      "metadata": {
        "id": "j2qLW_YTCQbk",
        "colab": {
          "base_uri": "https://localhost:8080/"
        },
        "outputId": "15ad91fe-c4fa-4863-8f48-16387dcc6a91"
      },
      "source": [
        "from sklearn.metrics import accuracy_score\n",
        "d_test = xgb.DMatrix(data=y)\n",
        "y_pred = bst.predict(d_test)\n",
        "x.astype(int)\n",
        "xg_score = accuracy_score(y_pred, np.array(test_lbl).astype(int))\n",
        "print(\"xg_score {}\".format(xg_score))"
      ],
      "execution_count": null,
      "outputs": [
        {
          "output_type": "stream",
          "name": "stdout",
          "text": [
            "xg_score 0.2399\n"
          ]
        }
      ]
    },
    {
      "cell_type": "code",
      "metadata": {
        "id": "it7Q8VkmBNj6"
      },
      "source": [
        "'''Gradient Boosting '''\n",
        "'''we also played around with gradient bbosting for this question'''\n",
        "from sklearn.ensemble import GradientBoostingClassifier\n",
        "\n",
        "gr_boost_minst = GradientBoostingClassifier(n_estimators=1, learning_rate=1.0, max_depth=10, random_state=0, verbose = 1).fit(x,train_lbl)\n",
        "gr_boost_minst_score = gr_boost_minst.score(y, test_lbl)\n",
        "print(\"gradient boosting mnist score\")\n",
        "gr_boost_minst_score"
      ],
      "execution_count": null,
      "outputs": []
    },
    {
      "cell_type": "markdown",
      "metadata": {
        "id": "GXSUGSC8mqZO"
      },
      "source": [
        "Problem 4: Revisiting Logistic Regression and CIFAR-10.As before, we’ll throw the kitchen sink of classical ML (i.e.  pre-deep learning) on CIFAR-10.  Keepin mind that CIFAR-10 is a few times larger.•What is the best accuracy you can get on the test data, by tuning Random Forests?  Whatare the hyperparameters of your best model?•What  is  the  best  accuracy  you  can  get  on  the  test  data,  by  tuning  any  model  includingGradient boosting?  What are the hyperparameters of your best model?"
      ]
    },
    {
      "cell_type": "code",
      "metadata": {
        "id": "sGCxvX7SmtNo",
        "colab": {
          "base_uri": "https://localhost:8080/"
        },
        "outputId": "52218015-a37e-4f90-a8e8-77a6937bb642"
      },
      "source": [
        "'''train_cifar_img, test_cifar_img, train_cifar_lbl, test_cifar_lbl = train_test_split(\n",
        "    X, cifar.target, test_size=1/4.0, random_state=0)'''\n",
        "\n",
        "#training random Forest\n",
        "from sklearn.ensemble import RandomForestClassifier\n",
        "\n",
        "\n",
        "rf_cifar=RandomForestClassifier(n_estimators=100)\n",
        "rf_cifar.fit(cifar_train_dataset,train_cifar_lbl)"
      ],
      "execution_count": null,
      "outputs": [
        {
          "output_type": "execute_result",
          "data": {
            "text/plain": [
              "RandomForestClassifier(bootstrap=True, ccp_alpha=0.0, class_weight=None,\n",
              "                       criterion='gini', max_depth=None, max_features='auto',\n",
              "                       max_leaf_nodes=None, max_samples=None,\n",
              "                       min_impurity_decrease=0.0, min_impurity_split=None,\n",
              "                       min_samples_leaf=1, min_samples_split=2,\n",
              "                       min_weight_fraction_leaf=0.0, n_estimators=100,\n",
              "                       n_jobs=None, oob_score=False, random_state=None,\n",
              "                       verbose=0, warm_start=False)"
            ]
          },
          "metadata": {},
          "execution_count": 75
        }
      ]
    },
    {
      "cell_type": "code",
      "metadata": {
        "id": "M1kDb26c3Bpj",
        "colab": {
          "base_uri": "https://localhost:8080/"
        },
        "outputId": "f7bb6a78-d95d-4317-d350-910eef7fdc86"
      },
      "source": [
        "n_estimators_list = list(range(10,220,50))\n",
        "criterion_list = ['gini', 'entropy']\n",
        "max_depth_list = list(range(5,41,10))\n",
        "max_depth_list.append(None)\n",
        "min_samples_split_list = [x/1000 for x in list(range(5, 41, 10))]\n",
        "min_samples_leaf_list = [x/1000 for x in list(range(5, 41, 10))]\n",
        "max_features_list = ['sqrt', 'log2']\n",
        "\n",
        "params_grid = {\n",
        "    'n_estimators': n_estimators_list,\n",
        "    'criterion': criterion_list,\n",
        "    'max_depth': max_depth_list,\n",
        "    'min_samples_split': min_samples_split_list,\n",
        "    'min_samples_leaf': min_samples_leaf_list,\n",
        "    'max_features': max_features_list\n",
        "}\n",
        "\n",
        "num_combinations = 1\n",
        "for k in params_grid.keys(): num_combinations *= len(params_grid[k])\n",
        "\n",
        "print('Number of combinations = ', num_combinations)\n",
        "params_grid\n"
      ],
      "execution_count": null,
      "outputs": [
        {
          "output_type": "stream",
          "name": "stdout",
          "text": [
            "Number of combinations =  1600\n"
          ]
        },
        {
          "output_type": "execute_result",
          "data": {
            "text/plain": [
              "{'criterion': ['gini', 'entropy'],\n",
              " 'max_depth': [5, 15, 25, 35, None],\n",
              " 'max_features': ['sqrt', 'log2'],\n",
              " 'min_samples_leaf': [0.005, 0.015, 0.025, 0.035],\n",
              " 'min_samples_split': [0.005, 0.015, 0.025, 0.035],\n",
              " 'n_estimators': [10, 60, 110, 160, 210]}"
            ]
          },
          "metadata": {},
          "execution_count": 76
        }
      ]
    },
    {
      "cell_type": "code",
      "metadata": {
        "id": "GC45Ana730tE",
        "colab": {
          "base_uri": "https://localhost:8080/"
        },
        "outputId": "96712dd5-4830-4acf-eec0-90feafec1674"
      },
      "source": [
        "from sklearn.model_selection import RandomizedSearchCV\n",
        "## Hyperparameter tuning with randomizedSearchCV\n",
        "model_rf = RandomizedSearchCV(estimator=RandomForestClassifier(class_weight='balanced'),\n",
        "                              param_distributions=params_grid,\n",
        "                              n_iter=50,\n",
        "                              cv=3,\n",
        "                              scoring='f1_micro',\n",
        "                              return_train_score=True,\n",
        "                              verbose=2)\n",
        "#rf_cifar.fit(cifar_train_dataset,train_cifar_lbl)\n",
        "#cifar_dataset, cifar.target\n",
        "model_rf.fit(cifar_dataset, cifar.target)"
      ],
      "execution_count": null,
      "outputs": [
        {
          "output_type": "stream",
          "name": "stdout",
          "text": [
            "Fitting 3 folds for each of 50 candidates, totalling 150 fits\n",
            "[CV] n_estimators=110, min_samples_split=0.035, min_samples_leaf=0.035, max_features=log2, max_depth=5, criterion=entropy \n"
          ]
        },
        {
          "output_type": "stream",
          "name": "stderr",
          "text": [
            "[Parallel(n_jobs=1)]: Using backend SequentialBackend with 1 concurrent workers.\n"
          ]
        },
        {
          "output_type": "stream",
          "name": "stdout",
          "text": [
            "[CV]  n_estimators=110, min_samples_split=0.035, min_samples_leaf=0.035, max_features=log2, max_depth=5, criterion=entropy, total=   4.7s\n",
            "[CV] n_estimators=110, min_samples_split=0.035, min_samples_leaf=0.035, max_features=log2, max_depth=5, criterion=entropy \n"
          ]
        },
        {
          "output_type": "stream",
          "name": "stderr",
          "text": [
            "[Parallel(n_jobs=1)]: Done   1 out of   1 | elapsed:    5.2s remaining:    0.0s\n"
          ]
        },
        {
          "output_type": "stream",
          "name": "stdout",
          "text": [
            "[CV]  n_estimators=110, min_samples_split=0.035, min_samples_leaf=0.035, max_features=log2, max_depth=5, criterion=entropy, total=   4.4s\n",
            "[CV] n_estimators=110, min_samples_split=0.035, min_samples_leaf=0.035, max_features=log2, max_depth=5, criterion=entropy \n",
            "[CV]  n_estimators=110, min_samples_split=0.035, min_samples_leaf=0.035, max_features=log2, max_depth=5, criterion=entropy, total=   4.4s\n",
            "[CV] n_estimators=110, min_samples_split=0.035, min_samples_leaf=0.005, max_features=log2, max_depth=None, criterion=entropy \n",
            "[CV]  n_estimators=110, min_samples_split=0.035, min_samples_leaf=0.005, max_features=log2, max_depth=None, criterion=entropy, total=   8.6s\n",
            "[CV] n_estimators=110, min_samples_split=0.035, min_samples_leaf=0.005, max_features=log2, max_depth=None, criterion=entropy \n",
            "[CV]  n_estimators=110, min_samples_split=0.035, min_samples_leaf=0.005, max_features=log2, max_depth=None, criterion=entropy, total=   8.6s\n",
            "[CV] n_estimators=110, min_samples_split=0.035, min_samples_leaf=0.005, max_features=log2, max_depth=None, criterion=entropy \n",
            "[CV]  n_estimators=110, min_samples_split=0.035, min_samples_leaf=0.005, max_features=log2, max_depth=None, criterion=entropy, total=   8.6s\n",
            "[CV] n_estimators=10, min_samples_split=0.025, min_samples_leaf=0.015, max_features=log2, max_depth=35, criterion=entropy \n",
            "[CV]  n_estimators=10, min_samples_split=0.025, min_samples_leaf=0.015, max_features=log2, max_depth=35, criterion=entropy, total=   1.0s\n",
            "[CV] n_estimators=10, min_samples_split=0.025, min_samples_leaf=0.015, max_features=log2, max_depth=35, criterion=entropy \n",
            "[CV]  n_estimators=10, min_samples_split=0.025, min_samples_leaf=0.015, max_features=log2, max_depth=35, criterion=entropy, total=   1.0s\n",
            "[CV] n_estimators=10, min_samples_split=0.025, min_samples_leaf=0.015, max_features=log2, max_depth=35, criterion=entropy \n",
            "[CV]  n_estimators=10, min_samples_split=0.025, min_samples_leaf=0.015, max_features=log2, max_depth=35, criterion=entropy, total=   1.0s\n",
            "[CV] n_estimators=160, min_samples_split=0.025, min_samples_leaf=0.025, max_features=log2, max_depth=35, criterion=gini \n",
            "[CV]  n_estimators=160, min_samples_split=0.025, min_samples_leaf=0.025, max_features=log2, max_depth=35, criterion=gini, total=   6.2s\n",
            "[CV] n_estimators=160, min_samples_split=0.025, min_samples_leaf=0.025, max_features=log2, max_depth=35, criterion=gini \n",
            "[CV]  n_estimators=160, min_samples_split=0.025, min_samples_leaf=0.025, max_features=log2, max_depth=35, criterion=gini, total=   6.2s\n",
            "[CV] n_estimators=160, min_samples_split=0.025, min_samples_leaf=0.025, max_features=log2, max_depth=35, criterion=gini \n",
            "[CV]  n_estimators=160, min_samples_split=0.025, min_samples_leaf=0.025, max_features=log2, max_depth=35, criterion=gini, total=   6.1s\n",
            "[CV] n_estimators=60, min_samples_split=0.005, min_samples_leaf=0.005, max_features=log2, max_depth=25, criterion=entropy \n",
            "[CV]  n_estimators=60, min_samples_split=0.005, min_samples_leaf=0.005, max_features=log2, max_depth=25, criterion=entropy, total=   6.8s\n",
            "[CV] n_estimators=60, min_samples_split=0.005, min_samples_leaf=0.005, max_features=log2, max_depth=25, criterion=entropy \n",
            "[CV]  n_estimators=60, min_samples_split=0.005, min_samples_leaf=0.005, max_features=log2, max_depth=25, criterion=entropy, total=   6.8s\n",
            "[CV] n_estimators=60, min_samples_split=0.005, min_samples_leaf=0.005, max_features=log2, max_depth=25, criterion=entropy \n",
            "[CV]  n_estimators=60, min_samples_split=0.005, min_samples_leaf=0.005, max_features=log2, max_depth=25, criterion=entropy, total=   6.8s\n",
            "[CV] n_estimators=160, min_samples_split=0.015, min_samples_leaf=0.015, max_features=log2, max_depth=35, criterion=entropy \n",
            "[CV]  n_estimators=160, min_samples_split=0.015, min_samples_leaf=0.015, max_features=log2, max_depth=35, criterion=entropy, total=   9.9s\n",
            "[CV] n_estimators=160, min_samples_split=0.015, min_samples_leaf=0.015, max_features=log2, max_depth=35, criterion=entropy \n",
            "[CV]  n_estimators=160, min_samples_split=0.015, min_samples_leaf=0.015, max_features=log2, max_depth=35, criterion=entropy, total=  10.0s\n",
            "[CV] n_estimators=160, min_samples_split=0.015, min_samples_leaf=0.015, max_features=log2, max_depth=35, criterion=entropy \n",
            "[CV]  n_estimators=160, min_samples_split=0.015, min_samples_leaf=0.015, max_features=log2, max_depth=35, criterion=entropy, total=   9.9s\n",
            "[CV] n_estimators=60, min_samples_split=0.035, min_samples_leaf=0.005, max_features=sqrt, max_depth=15, criterion=entropy \n",
            "[CV]  n_estimators=60, min_samples_split=0.035, min_samples_leaf=0.005, max_features=sqrt, max_depth=15, criterion=entropy, total=  20.6s\n",
            "[CV] n_estimators=60, min_samples_split=0.035, min_samples_leaf=0.005, max_features=sqrt, max_depth=15, criterion=entropy \n",
            "[CV]  n_estimators=60, min_samples_split=0.035, min_samples_leaf=0.005, max_features=sqrt, max_depth=15, criterion=entropy, total=  20.7s\n",
            "[CV] n_estimators=60, min_samples_split=0.035, min_samples_leaf=0.005, max_features=sqrt, max_depth=15, criterion=entropy \n",
            "[CV]  n_estimators=60, min_samples_split=0.035, min_samples_leaf=0.005, max_features=sqrt, max_depth=15, criterion=entropy, total=  20.7s\n",
            "[CV] n_estimators=160, min_samples_split=0.025, min_samples_leaf=0.025, max_features=log2, max_depth=None, criterion=gini \n",
            "[CV]  n_estimators=160, min_samples_split=0.025, min_samples_leaf=0.025, max_features=log2, max_depth=None, criterion=gini, total=   6.1s\n",
            "[CV] n_estimators=160, min_samples_split=0.025, min_samples_leaf=0.025, max_features=log2, max_depth=None, criterion=gini \n",
            "[CV]  n_estimators=160, min_samples_split=0.025, min_samples_leaf=0.025, max_features=log2, max_depth=None, criterion=gini, total=   6.2s\n",
            "[CV] n_estimators=160, min_samples_split=0.025, min_samples_leaf=0.025, max_features=log2, max_depth=None, criterion=gini \n",
            "[CV]  n_estimators=160, min_samples_split=0.025, min_samples_leaf=0.025, max_features=log2, max_depth=None, criterion=gini, total=   6.2s\n",
            "[CV] n_estimators=160, min_samples_split=0.035, min_samples_leaf=0.005, max_features=sqrt, max_depth=None, criterion=entropy \n",
            "[CV]  n_estimators=160, min_samples_split=0.035, min_samples_leaf=0.005, max_features=sqrt, max_depth=None, criterion=entropy, total=  55.5s\n",
            "[CV] n_estimators=160, min_samples_split=0.035, min_samples_leaf=0.005, max_features=sqrt, max_depth=None, criterion=entropy \n",
            "[CV]  n_estimators=160, min_samples_split=0.035, min_samples_leaf=0.005, max_features=sqrt, max_depth=None, criterion=entropy, total=  54.9s\n",
            "[CV] n_estimators=160, min_samples_split=0.035, min_samples_leaf=0.005, max_features=sqrt, max_depth=None, criterion=entropy \n",
            "[CV]  n_estimators=160, min_samples_split=0.035, min_samples_leaf=0.005, max_features=sqrt, max_depth=None, criterion=entropy, total=  54.7s\n",
            "[CV] n_estimators=10, min_samples_split=0.035, min_samples_leaf=0.015, max_features=sqrt, max_depth=15, criterion=entropy \n",
            "[CV]  n_estimators=10, min_samples_split=0.035, min_samples_leaf=0.015, max_features=sqrt, max_depth=15, criterion=entropy, total=   3.0s\n",
            "[CV] n_estimators=10, min_samples_split=0.035, min_samples_leaf=0.015, max_features=sqrt, max_depth=15, criterion=entropy \n",
            "[CV]  n_estimators=10, min_samples_split=0.035, min_samples_leaf=0.015, max_features=sqrt, max_depth=15, criterion=entropy, total=   3.0s\n",
            "[CV] n_estimators=10, min_samples_split=0.035, min_samples_leaf=0.015, max_features=sqrt, max_depth=15, criterion=entropy \n",
            "[CV]  n_estimators=10, min_samples_split=0.035, min_samples_leaf=0.015, max_features=sqrt, max_depth=15, criterion=entropy, total=   3.0s\n",
            "[CV] n_estimators=210, min_samples_split=0.015, min_samples_leaf=0.025, max_features=log2, max_depth=25, criterion=gini \n",
            "[CV]  n_estimators=210, min_samples_split=0.015, min_samples_leaf=0.025, max_features=log2, max_depth=25, criterion=gini, total=   8.0s\n",
            "[CV] n_estimators=210, min_samples_split=0.015, min_samples_leaf=0.025, max_features=log2, max_depth=25, criterion=gini \n",
            "[CV]  n_estimators=210, min_samples_split=0.015, min_samples_leaf=0.025, max_features=log2, max_depth=25, criterion=gini, total=   7.9s\n",
            "[CV] n_estimators=210, min_samples_split=0.015, min_samples_leaf=0.025, max_features=log2, max_depth=25, criterion=gini \n",
            "[CV]  n_estimators=210, min_samples_split=0.015, min_samples_leaf=0.025, max_features=log2, max_depth=25, criterion=gini, total=   7.9s\n",
            "[CV] n_estimators=10, min_samples_split=0.035, min_samples_leaf=0.005, max_features=sqrt, max_depth=25, criterion=entropy \n",
            "[CV]  n_estimators=10, min_samples_split=0.035, min_samples_leaf=0.005, max_features=sqrt, max_depth=25, criterion=entropy, total=   3.8s\n",
            "[CV] n_estimators=10, min_samples_split=0.035, min_samples_leaf=0.005, max_features=sqrt, max_depth=25, criterion=entropy \n",
            "[CV]  n_estimators=10, min_samples_split=0.035, min_samples_leaf=0.005, max_features=sqrt, max_depth=25, criterion=entropy, total=   3.8s\n",
            "[CV] n_estimators=10, min_samples_split=0.035, min_samples_leaf=0.005, max_features=sqrt, max_depth=25, criterion=entropy \n",
            "[CV]  n_estimators=10, min_samples_split=0.035, min_samples_leaf=0.005, max_features=sqrt, max_depth=25, criterion=entropy, total=   3.8s\n",
            "[CV] n_estimators=60, min_samples_split=0.015, min_samples_leaf=0.005, max_features=sqrt, max_depth=None, criterion=gini \n",
            "[CV]  n_estimators=60, min_samples_split=0.015, min_samples_leaf=0.005, max_features=sqrt, max_depth=None, criterion=gini, total=  14.7s\n",
            "[CV] n_estimators=60, min_samples_split=0.015, min_samples_leaf=0.005, max_features=sqrt, max_depth=None, criterion=gini \n",
            "[CV]  n_estimators=60, min_samples_split=0.015, min_samples_leaf=0.005, max_features=sqrt, max_depth=None, criterion=gini, total=  14.7s\n",
            "[CV] n_estimators=60, min_samples_split=0.015, min_samples_leaf=0.005, max_features=sqrt, max_depth=None, criterion=gini \n",
            "[CV]  n_estimators=60, min_samples_split=0.015, min_samples_leaf=0.005, max_features=sqrt, max_depth=None, criterion=gini, total=  14.6s\n",
            "[CV] n_estimators=210, min_samples_split=0.035, min_samples_leaf=0.025, max_features=sqrt, max_depth=15, criterion=gini \n",
            "[CV]  n_estimators=210, min_samples_split=0.035, min_samples_leaf=0.025, max_features=sqrt, max_depth=15, criterion=gini, total=  32.7s\n",
            "[CV] n_estimators=210, min_samples_split=0.035, min_samples_leaf=0.025, max_features=sqrt, max_depth=15, criterion=gini \n",
            "[CV]  n_estimators=210, min_samples_split=0.035, min_samples_leaf=0.025, max_features=sqrt, max_depth=15, criterion=gini, total=  32.5s\n",
            "[CV] n_estimators=210, min_samples_split=0.035, min_samples_leaf=0.025, max_features=sqrt, max_depth=15, criterion=gini \n",
            "[CV]  n_estimators=210, min_samples_split=0.035, min_samples_leaf=0.025, max_features=sqrt, max_depth=15, criterion=gini, total=  32.8s\n",
            "[CV] n_estimators=110, min_samples_split=0.005, min_samples_leaf=0.025, max_features=sqrt, max_depth=None, criterion=gini \n",
            "[CV]  n_estimators=110, min_samples_split=0.005, min_samples_leaf=0.025, max_features=sqrt, max_depth=None, criterion=gini, total=  17.3s\n",
            "[CV] n_estimators=110, min_samples_split=0.005, min_samples_leaf=0.025, max_features=sqrt, max_depth=None, criterion=gini \n",
            "[CV]  n_estimators=110, min_samples_split=0.005, min_samples_leaf=0.025, max_features=sqrt, max_depth=None, criterion=gini, total=  17.4s\n",
            "[CV] n_estimators=110, min_samples_split=0.005, min_samples_leaf=0.025, max_features=sqrt, max_depth=None, criterion=gini \n",
            "[CV]  n_estimators=110, min_samples_split=0.005, min_samples_leaf=0.025, max_features=sqrt, max_depth=None, criterion=gini, total=  17.4s\n",
            "[CV] n_estimators=110, min_samples_split=0.015, min_samples_leaf=0.035, max_features=log2, max_depth=35, criterion=gini \n",
            "[CV]  n_estimators=110, min_samples_split=0.015, min_samples_leaf=0.035, max_features=log2, max_depth=35, criterion=gini, total=   3.9s\n",
            "[CV] n_estimators=110, min_samples_split=0.015, min_samples_leaf=0.035, max_features=log2, max_depth=35, criterion=gini \n",
            "[CV]  n_estimators=110, min_samples_split=0.015, min_samples_leaf=0.035, max_features=log2, max_depth=35, criterion=gini, total=   3.9s\n",
            "[CV] n_estimators=110, min_samples_split=0.015, min_samples_leaf=0.035, max_features=log2, max_depth=35, criterion=gini \n",
            "[CV]  n_estimators=110, min_samples_split=0.015, min_samples_leaf=0.035, max_features=log2, max_depth=35, criterion=gini, total=   3.9s\n",
            "[CV] n_estimators=10, min_samples_split=0.015, min_samples_leaf=0.025, max_features=log2, max_depth=25, criterion=entropy \n",
            "[CV]  n_estimators=10, min_samples_split=0.015, min_samples_leaf=0.025, max_features=log2, max_depth=25, criterion=entropy, total=   0.8s\n",
            "[CV] n_estimators=10, min_samples_split=0.015, min_samples_leaf=0.025, max_features=log2, max_depth=25, criterion=entropy \n",
            "[CV]  n_estimators=10, min_samples_split=0.015, min_samples_leaf=0.025, max_features=log2, max_depth=25, criterion=entropy, total=   0.8s\n",
            "[CV] n_estimators=10, min_samples_split=0.015, min_samples_leaf=0.025, max_features=log2, max_depth=25, criterion=entropy \n",
            "[CV]  n_estimators=10, min_samples_split=0.015, min_samples_leaf=0.025, max_features=log2, max_depth=25, criterion=entropy, total=   0.8s\n",
            "[CV] n_estimators=110, min_samples_split=0.005, min_samples_leaf=0.025, max_features=log2, max_depth=25, criterion=entropy \n",
            "[CV]  n_estimators=110, min_samples_split=0.005, min_samples_leaf=0.025, max_features=log2, max_depth=25, criterion=entropy, total=   5.5s\n",
            "[CV] n_estimators=110, min_samples_split=0.005, min_samples_leaf=0.025, max_features=log2, max_depth=25, criterion=entropy \n",
            "[CV]  n_estimators=110, min_samples_split=0.005, min_samples_leaf=0.025, max_features=log2, max_depth=25, criterion=entropy, total=   5.4s\n",
            "[CV] n_estimators=110, min_samples_split=0.005, min_samples_leaf=0.025, max_features=log2, max_depth=25, criterion=entropy \n",
            "[CV]  n_estimators=110, min_samples_split=0.005, min_samples_leaf=0.025, max_features=log2, max_depth=25, criterion=entropy, total=   5.4s\n",
            "[CV] n_estimators=10, min_samples_split=0.015, min_samples_leaf=0.015, max_features=sqrt, max_depth=15, criterion=gini \n",
            "[CV]  n_estimators=10, min_samples_split=0.015, min_samples_leaf=0.015, max_features=sqrt, max_depth=15, criterion=gini, total=   2.2s\n",
            "[CV] n_estimators=10, min_samples_split=0.015, min_samples_leaf=0.015, max_features=sqrt, max_depth=15, criterion=gini \n",
            "[CV]  n_estimators=10, min_samples_split=0.015, min_samples_leaf=0.015, max_features=sqrt, max_depth=15, criterion=gini, total=   2.2s\n",
            "[CV] n_estimators=10, min_samples_split=0.015, min_samples_leaf=0.015, max_features=sqrt, max_depth=15, criterion=gini \n",
            "[CV]  n_estimators=10, min_samples_split=0.015, min_samples_leaf=0.015, max_features=sqrt, max_depth=15, criterion=gini, total=   2.2s\n",
            "[CV] n_estimators=60, min_samples_split=0.025, min_samples_leaf=0.025, max_features=log2, max_depth=15, criterion=entropy \n",
            "[CV]  n_estimators=60, min_samples_split=0.025, min_samples_leaf=0.025, max_features=log2, max_depth=15, criterion=entropy, total=   3.2s\n",
            "[CV] n_estimators=60, min_samples_split=0.025, min_samples_leaf=0.025, max_features=log2, max_depth=15, criterion=entropy \n",
            "[CV]  n_estimators=60, min_samples_split=0.025, min_samples_leaf=0.025, max_features=log2, max_depth=15, criterion=entropy, total=   3.2s\n",
            "[CV] n_estimators=60, min_samples_split=0.025, min_samples_leaf=0.025, max_features=log2, max_depth=15, criterion=entropy \n",
            "[CV]  n_estimators=60, min_samples_split=0.025, min_samples_leaf=0.025, max_features=log2, max_depth=15, criterion=entropy, total=   3.2s\n",
            "[CV] n_estimators=60, min_samples_split=0.035, min_samples_leaf=0.035, max_features=sqrt, max_depth=35, criterion=entropy \n",
            "[CV]  n_estimators=60, min_samples_split=0.035, min_samples_leaf=0.035, max_features=sqrt, max_depth=35, criterion=entropy, total=  10.6s\n",
            "[CV] n_estimators=60, min_samples_split=0.035, min_samples_leaf=0.035, max_features=sqrt, max_depth=35, criterion=entropy \n",
            "[CV]  n_estimators=60, min_samples_split=0.035, min_samples_leaf=0.035, max_features=sqrt, max_depth=35, criterion=entropy, total=  10.6s\n",
            "[CV] n_estimators=60, min_samples_split=0.035, min_samples_leaf=0.035, max_features=sqrt, max_depth=35, criterion=entropy \n",
            "[CV]  n_estimators=60, min_samples_split=0.035, min_samples_leaf=0.035, max_features=sqrt, max_depth=35, criterion=entropy, total=  10.5s\n",
            "[CV] n_estimators=110, min_samples_split=0.035, min_samples_leaf=0.005, max_features=log2, max_depth=25, criterion=entropy \n",
            "[CV]  n_estimators=110, min_samples_split=0.035, min_samples_leaf=0.005, max_features=log2, max_depth=25, criterion=entropy, total=   8.7s\n",
            "[CV] n_estimators=110, min_samples_split=0.035, min_samples_leaf=0.005, max_features=log2, max_depth=25, criterion=entropy \n",
            "[CV]  n_estimators=110, min_samples_split=0.035, min_samples_leaf=0.005, max_features=log2, max_depth=25, criterion=entropy, total=   8.7s\n",
            "[CV] n_estimators=110, min_samples_split=0.035, min_samples_leaf=0.005, max_features=log2, max_depth=25, criterion=entropy \n",
            "[CV]  n_estimators=110, min_samples_split=0.035, min_samples_leaf=0.005, max_features=log2, max_depth=25, criterion=entropy, total=   8.7s\n",
            "[CV] n_estimators=60, min_samples_split=0.005, min_samples_leaf=0.015, max_features=sqrt, max_depth=35, criterion=gini \n",
            "[CV]  n_estimators=60, min_samples_split=0.005, min_samples_leaf=0.015, max_features=sqrt, max_depth=35, criterion=gini, total=  11.6s\n",
            "[CV] n_estimators=60, min_samples_split=0.005, min_samples_leaf=0.015, max_features=sqrt, max_depth=35, criterion=gini \n",
            "[CV]  n_estimators=60, min_samples_split=0.005, min_samples_leaf=0.015, max_features=sqrt, max_depth=35, criterion=gini, total=  11.4s\n",
            "[CV] n_estimators=60, min_samples_split=0.005, min_samples_leaf=0.015, max_features=sqrt, max_depth=35, criterion=gini \n",
            "[CV]  n_estimators=60, min_samples_split=0.005, min_samples_leaf=0.015, max_features=sqrt, max_depth=35, criterion=gini, total=  11.5s\n",
            "[CV] n_estimators=110, min_samples_split=0.005, min_samples_leaf=0.035, max_features=sqrt, max_depth=35, criterion=gini \n",
            "[CV]  n_estimators=110, min_samples_split=0.005, min_samples_leaf=0.035, max_features=sqrt, max_depth=35, criterion=gini, total=  15.3s\n",
            "[CV] n_estimators=110, min_samples_split=0.005, min_samples_leaf=0.035, max_features=sqrt, max_depth=35, criterion=gini \n",
            "[CV]  n_estimators=110, min_samples_split=0.005, min_samples_leaf=0.035, max_features=sqrt, max_depth=35, criterion=gini, total=  15.3s\n",
            "[CV] n_estimators=110, min_samples_split=0.005, min_samples_leaf=0.035, max_features=sqrt, max_depth=35, criterion=gini \n",
            "[CV]  n_estimators=110, min_samples_split=0.005, min_samples_leaf=0.035, max_features=sqrt, max_depth=35, criterion=gini, total=  15.4s\n",
            "[CV] n_estimators=210, min_samples_split=0.015, min_samples_leaf=0.035, max_features=log2, max_depth=None, criterion=entropy \n",
            "[CV]  n_estimators=210, min_samples_split=0.015, min_samples_leaf=0.035, max_features=log2, max_depth=None, criterion=entropy, total=   8.5s\n",
            "[CV] n_estimators=210, min_samples_split=0.015, min_samples_leaf=0.035, max_features=log2, max_depth=None, criterion=entropy \n",
            "[CV]  n_estimators=210, min_samples_split=0.015, min_samples_leaf=0.035, max_features=log2, max_depth=None, criterion=entropy, total=   8.5s\n",
            "[CV] n_estimators=210, min_samples_split=0.015, min_samples_leaf=0.035, max_features=log2, max_depth=None, criterion=entropy \n",
            "[CV]  n_estimators=210, min_samples_split=0.015, min_samples_leaf=0.035, max_features=log2, max_depth=None, criterion=entropy, total=   8.5s\n",
            "[CV] n_estimators=110, min_samples_split=0.015, min_samples_leaf=0.015, max_features=sqrt, max_depth=25, criterion=gini \n",
            "[CV]  n_estimators=110, min_samples_split=0.015, min_samples_leaf=0.015, max_features=sqrt, max_depth=25, criterion=gini, total=  20.6s\n",
            "[CV] n_estimators=110, min_samples_split=0.015, min_samples_leaf=0.015, max_features=sqrt, max_depth=25, criterion=gini \n",
            "[CV]  n_estimators=110, min_samples_split=0.015, min_samples_leaf=0.015, max_features=sqrt, max_depth=25, criterion=gini, total=  20.7s\n",
            "[CV] n_estimators=110, min_samples_split=0.015, min_samples_leaf=0.015, max_features=sqrt, max_depth=25, criterion=gini \n",
            "[CV]  n_estimators=110, min_samples_split=0.015, min_samples_leaf=0.015, max_features=sqrt, max_depth=25, criterion=gini, total=  20.8s\n",
            "[CV] n_estimators=10, min_samples_split=0.025, min_samples_leaf=0.025, max_features=log2, max_depth=15, criterion=gini \n",
            "[CV]  n_estimators=10, min_samples_split=0.025, min_samples_leaf=0.025, max_features=log2, max_depth=15, criterion=gini, total=   0.7s\n",
            "[CV] n_estimators=10, min_samples_split=0.025, min_samples_leaf=0.025, max_features=log2, max_depth=15, criterion=gini \n",
            "[CV]  n_estimators=10, min_samples_split=0.025, min_samples_leaf=0.025, max_features=log2, max_depth=15, criterion=gini, total=   0.7s\n",
            "[CV] n_estimators=10, min_samples_split=0.025, min_samples_leaf=0.025, max_features=log2, max_depth=15, criterion=gini \n",
            "[CV]  n_estimators=10, min_samples_split=0.025, min_samples_leaf=0.025, max_features=log2, max_depth=15, criterion=gini, total=   0.7s\n",
            "[CV] n_estimators=160, min_samples_split=0.035, min_samples_leaf=0.015, max_features=sqrt, max_depth=35, criterion=gini \n",
            "[CV]  n_estimators=160, min_samples_split=0.035, min_samples_leaf=0.015, max_features=sqrt, max_depth=35, criterion=gini, total=  29.0s\n",
            "[CV] n_estimators=160, min_samples_split=0.035, min_samples_leaf=0.015, max_features=sqrt, max_depth=35, criterion=gini \n",
            "[CV]  n_estimators=160, min_samples_split=0.035, min_samples_leaf=0.015, max_features=sqrt, max_depth=35, criterion=gini, total=  29.1s\n",
            "[CV] n_estimators=160, min_samples_split=0.035, min_samples_leaf=0.015, max_features=sqrt, max_depth=35, criterion=gini \n",
            "[CV]  n_estimators=160, min_samples_split=0.035, min_samples_leaf=0.015, max_features=sqrt, max_depth=35, criterion=gini, total=  29.2s\n",
            "[CV] n_estimators=10, min_samples_split=0.035, min_samples_leaf=0.035, max_features=sqrt, max_depth=25, criterion=gini \n",
            "[CV]  n_estimators=10, min_samples_split=0.035, min_samples_leaf=0.035, max_features=sqrt, max_depth=25, criterion=gini, total=   1.8s\n",
            "[CV] n_estimators=10, min_samples_split=0.035, min_samples_leaf=0.035, max_features=sqrt, max_depth=25, criterion=gini \n",
            "[CV]  n_estimators=10, min_samples_split=0.035, min_samples_leaf=0.035, max_features=sqrt, max_depth=25, criterion=gini, total=   1.7s\n",
            "[CV] n_estimators=10, min_samples_split=0.035, min_samples_leaf=0.035, max_features=sqrt, max_depth=25, criterion=gini \n",
            "[CV]  n_estimators=10, min_samples_split=0.035, min_samples_leaf=0.035, max_features=sqrt, max_depth=25, criterion=gini, total=   1.8s\n",
            "[CV] n_estimators=110, min_samples_split=0.005, min_samples_leaf=0.035, max_features=log2, max_depth=25, criterion=gini \n",
            "[CV]  n_estimators=110, min_samples_split=0.005, min_samples_leaf=0.035, max_features=log2, max_depth=25, criterion=gini, total=   3.9s\n",
            "[CV] n_estimators=110, min_samples_split=0.005, min_samples_leaf=0.035, max_features=log2, max_depth=25, criterion=gini \n",
            "[CV]  n_estimators=110, min_samples_split=0.005, min_samples_leaf=0.035, max_features=log2, max_depth=25, criterion=gini, total=   3.9s\n",
            "[CV] n_estimators=110, min_samples_split=0.005, min_samples_leaf=0.035, max_features=log2, max_depth=25, criterion=gini \n",
            "[CV]  n_estimators=110, min_samples_split=0.005, min_samples_leaf=0.035, max_features=log2, max_depth=25, criterion=gini, total=   3.9s\n",
            "[CV] n_estimators=160, min_samples_split=0.005, min_samples_leaf=0.025, max_features=log2, max_depth=5, criterion=gini \n",
            "[CV]  n_estimators=160, min_samples_split=0.005, min_samples_leaf=0.025, max_features=log2, max_depth=5, criterion=gini, total=   5.5s\n",
            "[CV] n_estimators=160, min_samples_split=0.005, min_samples_leaf=0.025, max_features=log2, max_depth=5, criterion=gini \n",
            "[CV]  n_estimators=160, min_samples_split=0.005, min_samples_leaf=0.025, max_features=log2, max_depth=5, criterion=gini, total=   5.6s\n",
            "[CV] n_estimators=160, min_samples_split=0.005, min_samples_leaf=0.025, max_features=log2, max_depth=5, criterion=gini \n",
            "[CV]  n_estimators=160, min_samples_split=0.005, min_samples_leaf=0.025, max_features=log2, max_depth=5, criterion=gini, total=   5.6s\n",
            "[CV] n_estimators=160, min_samples_split=0.035, min_samples_leaf=0.025, max_features=sqrt, max_depth=15, criterion=entropy \n",
            "[CV]  n_estimators=160, min_samples_split=0.035, min_samples_leaf=0.025, max_features=sqrt, max_depth=15, criterion=entropy, total=  33.1s\n",
            "[CV] n_estimators=160, min_samples_split=0.035, min_samples_leaf=0.025, max_features=sqrt, max_depth=15, criterion=entropy \n",
            "[CV]  n_estimators=160, min_samples_split=0.035, min_samples_leaf=0.025, max_features=sqrt, max_depth=15, criterion=entropy, total=  33.3s\n",
            "[CV] n_estimators=160, min_samples_split=0.035, min_samples_leaf=0.025, max_features=sqrt, max_depth=15, criterion=entropy \n",
            "[CV]  n_estimators=160, min_samples_split=0.035, min_samples_leaf=0.025, max_features=sqrt, max_depth=15, criterion=entropy, total=  33.3s\n",
            "[CV] n_estimators=60, min_samples_split=0.015, min_samples_leaf=0.005, max_features=sqrt, max_depth=15, criterion=gini \n",
            "[CV]  n_estimators=60, min_samples_split=0.015, min_samples_leaf=0.005, max_features=sqrt, max_depth=15, criterion=gini, total=  14.9s\n",
            "[CV] n_estimators=60, min_samples_split=0.015, min_samples_leaf=0.005, max_features=sqrt, max_depth=15, criterion=gini \n",
            "[CV]  n_estimators=60, min_samples_split=0.015, min_samples_leaf=0.005, max_features=sqrt, max_depth=15, criterion=gini, total=  14.8s\n",
            "[CV] n_estimators=60, min_samples_split=0.015, min_samples_leaf=0.005, max_features=sqrt, max_depth=15, criterion=gini \n",
            "[CV]  n_estimators=60, min_samples_split=0.015, min_samples_leaf=0.005, max_features=sqrt, max_depth=15, criterion=gini, total=  14.9s\n",
            "[CV] n_estimators=210, min_samples_split=0.015, min_samples_leaf=0.035, max_features=log2, max_depth=35, criterion=entropy \n",
            "[CV]  n_estimators=210, min_samples_split=0.015, min_samples_leaf=0.035, max_features=log2, max_depth=35, criterion=entropy, total=   8.7s\n",
            "[CV] n_estimators=210, min_samples_split=0.015, min_samples_leaf=0.035, max_features=log2, max_depth=35, criterion=entropy \n",
            "[CV]  n_estimators=210, min_samples_split=0.015, min_samples_leaf=0.035, max_features=log2, max_depth=35, criterion=entropy, total=   8.6s\n",
            "[CV] n_estimators=210, min_samples_split=0.015, min_samples_leaf=0.035, max_features=log2, max_depth=35, criterion=entropy \n",
            "[CV]  n_estimators=210, min_samples_split=0.015, min_samples_leaf=0.035, max_features=log2, max_depth=35, criterion=entropy, total=   8.6s\n",
            "[CV] n_estimators=60, min_samples_split=0.025, min_samples_leaf=0.015, max_features=sqrt, max_depth=35, criterion=entropy \n",
            "[CV]  n_estimators=60, min_samples_split=0.025, min_samples_leaf=0.015, max_features=sqrt, max_depth=35, criterion=entropy, total=  16.7s\n",
            "[CV] n_estimators=60, min_samples_split=0.025, min_samples_leaf=0.015, max_features=sqrt, max_depth=35, criterion=entropy \n",
            "[CV]  n_estimators=60, min_samples_split=0.025, min_samples_leaf=0.015, max_features=sqrt, max_depth=35, criterion=entropy, total=  16.7s\n",
            "[CV] n_estimators=60, min_samples_split=0.025, min_samples_leaf=0.015, max_features=sqrt, max_depth=35, criterion=entropy \n",
            "[CV]  n_estimators=60, min_samples_split=0.025, min_samples_leaf=0.015, max_features=sqrt, max_depth=35, criterion=entropy, total=  16.7s\n",
            "[CV] n_estimators=210, min_samples_split=0.015, min_samples_leaf=0.005, max_features=sqrt, max_depth=25, criterion=gini \n",
            "[CV]  n_estimators=210, min_samples_split=0.015, min_samples_leaf=0.005, max_features=sqrt, max_depth=25, criterion=gini, total=  51.0s\n",
            "[CV] n_estimators=210, min_samples_split=0.015, min_samples_leaf=0.005, max_features=sqrt, max_depth=25, criterion=gini \n",
            "[CV]  n_estimators=210, min_samples_split=0.015, min_samples_leaf=0.005, max_features=sqrt, max_depth=25, criterion=gini, total=  51.0s\n",
            "[CV] n_estimators=210, min_samples_split=0.015, min_samples_leaf=0.005, max_features=sqrt, max_depth=25, criterion=gini \n",
            "[CV]  n_estimators=210, min_samples_split=0.015, min_samples_leaf=0.005, max_features=sqrt, max_depth=25, criterion=gini, total=  51.0s\n",
            "[CV] n_estimators=60, min_samples_split=0.015, min_samples_leaf=0.015, max_features=sqrt, max_depth=5, criterion=gini \n",
            "[CV]  n_estimators=60, min_samples_split=0.015, min_samples_leaf=0.015, max_features=sqrt, max_depth=5, criterion=gini, total=   9.6s\n",
            "[CV] n_estimators=60, min_samples_split=0.015, min_samples_leaf=0.015, max_features=sqrt, max_depth=5, criterion=gini \n",
            "[CV]  n_estimators=60, min_samples_split=0.015, min_samples_leaf=0.015, max_features=sqrt, max_depth=5, criterion=gini, total=   9.7s\n",
            "[CV] n_estimators=60, min_samples_split=0.015, min_samples_leaf=0.015, max_features=sqrt, max_depth=5, criterion=gini \n",
            "[CV]  n_estimators=60, min_samples_split=0.015, min_samples_leaf=0.015, max_features=sqrt, max_depth=5, criterion=gini, total=   9.7s\n",
            "[CV] n_estimators=110, min_samples_split=0.015, min_samples_leaf=0.025, max_features=sqrt, max_depth=None, criterion=gini \n"
          ]
        }
      ]
    },
    {
      "cell_type": "code",
      "metadata": {
        "id": "M1P6ihpx4BnE"
      },
      "source": [
        "model_rf.best_params_\n"
      ],
      "execution_count": null,
      "outputs": []
    },
    {
      "cell_type": "markdown",
      "metadata": {
        "id": "6sm2UGjKjmso"
      },
      "source": [
        "What is the best accuracy you can get on the test data, by tuning Random Forests?  \n",
        "\n",
        "What are the hyperparameters of your best model?\n",
        "\n",
        "Ans : \n",
        "{'criterion': 'gini',\n",
        " 'max_depth': 15,\n",
        " 'max_features': 'sqrt',\n",
        " 'min_samples_leaf': 0.005,\n",
        " 'min_samples_split': 0.015,\n",
        " 'n_estimators': 160}\n"
      ]
    },
    {
      "cell_type": "code",
      "metadata": {
        "id": "VXN9P7S34OOk"
      },
      "source": [
        "\n",
        "\n",
        "\n",
        "'''\n",
        "{'criterion': 'gini',\n",
        " 'max_depth': 15,\n",
        " 'max_features': 'sqrt',\n",
        " 'min_samples_leaf': 0.005,\n",
        " 'min_samples_split': 0.015,\n",
        " 'n_estimators': 160}'''\n",
        "\n",
        "\n",
        "model_rf_fin = RandomForestClassifier(class_weight='balanced',\n",
        "                                      criterion='gini',\n",
        "                                      max_depth=10,\n",
        "                                      max_features='auto',\n",
        "                                      min_samples_leaf=0.005,\n",
        "                                      min_samples_split=10,\n",
        "                                      n_estimators=160, verbose=1)\n",
        "\n",
        "\n",
        "model_rf_fin.fit(cifar_train_dataset, train_cifar_lbl)\n",
        "\n",
        "\n",
        "\n",
        "\n"
      ],
      "execution_count": null,
      "outputs": []
    },
    {
      "cell_type": "code",
      "metadata": {
        "id": "xZaB8ZjwLaPM"
      },
      "source": [
        "prediction = model_rf_fin.predict(cifar_test_dataset)\n",
        "from sklearn.metrics import precision_score\n",
        "\n",
        "print(\"precision {}\".format(precision_score(test_cifar_lbl, prediction, average='micro')))\n",
        "from sklearn.metrics import recall_score\n",
        "\n",
        "\n",
        "print(\"recall {}\".format(recall_score(test_cifar_lbl, prediction, average='micro')))\n",
        "from sklearn.metrics import f1_score\n",
        "\n",
        "\n",
        "print(\"f1 score {}\".format(f1_score(test_cifar_lbl, prediction, average='micro')))\n",
        "from sklearn.metrics import accuracy_score\n",
        "\n",
        "print(\"accuracy_score {}\".format(accuracy_score(test_cifar_lbl, prediction)))\n",
        "\n",
        "prediction_train = model_rf_fin.predict(cifar_train_dataset)\n",
        "from sklearn.metrics import precision_score\n",
        "\n",
        "print(\"precision {}\".format(precision_score(train_cifar_lbl, prediction_train, average='micro')))\n",
        "from sklearn.metrics import recall_score\n",
        "\n",
        "\n",
        "print(\"recall {}\".format(recall_score(train_cifar_lbl, prediction_train, average='micro')))\n",
        "from sklearn.metrics import f1_score\n",
        "\n",
        "\n",
        "print(\"f1 score {}\".format(f1_score(train_cifar_lbl, prediction_train, average='micro')))\n",
        "from sklearn.metrics import accuracy_score\n",
        "\n",
        "print(\"accuracy_score {}\".format(accuracy_score(train_cifar_lbl, prediction_train)))\n",
        "\n"
      ],
      "execution_count": null,
      "outputs": []
    },
    {
      "cell_type": "code",
      "metadata": {
        "id": "Rli-bPh5uVZA"
      },
      "source": [
        "'''Gradient Boosting '''\n",
        "\n",
        "from sklearn.ensemble import GradientBoostingClassifier\n",
        "\n",
        "clf = GradientBoostingClassifier(n_estimators=100, learning_rate=1.0, max_depth=1, random_state=0).fit(cifar_train_dataset,train_cifar_lbl)\n",
        "clf.score(cifar_test_dataset, test_cifar_lbl)"
      ],
      "execution_count": null,
      "outputs": []
    },
    {
      "cell_type": "code",
      "metadata": {
        "id": "MT4k-6A_OHzU"
      },
      "source": [
        "%tensorflow_version 2.x\n",
        "import tensorflow as tf\n",
        "device_name = tf.test.gpu_device_name()\n",
        "if device_name != '/device:GPU:0':\n",
        "  raise SystemError('GPU device not found')\n",
        "print('Found GPU at: {}'.format(device_name))"
      ],
      "execution_count": null,
      "outputs": []
    },
    {
      "cell_type": "markdown",
      "metadata": {
        "id": "tX5UX5gURyyR"
      },
      "source": [
        "CNN Sequenctial method"
      ]
    },
    {
      "cell_type": "code",
      "metadata": {
        "id": "rUY3LT76R4oW",
        "colab": {
          "base_uri": "https://localhost:8080/"
        },
        "outputId": "739185bf-2f2f-4219-f950-bf096792a9de"
      },
      "source": [
        "!pip install tensorflow"
      ],
      "execution_count": null,
      "outputs": [
        {
          "output_type": "stream",
          "name": "stdout",
          "text": [
            "Requirement already satisfied: tensorflow in /usr/local/lib/python3.7/dist-packages (2.6.0)\n",
            "Requirement already satisfied: tensorboard~=2.6 in /usr/local/lib/python3.7/dist-packages (from tensorflow) (2.6.0)\n",
            "Requirement already satisfied: clang~=5.0 in /usr/local/lib/python3.7/dist-packages (from tensorflow) (5.0)\n",
            "Requirement already satisfied: flatbuffers~=1.12.0 in /usr/local/lib/python3.7/dist-packages (from tensorflow) (1.12)\n",
            "Requirement already satisfied: gast==0.4.0 in /usr/local/lib/python3.7/dist-packages (from tensorflow) (0.4.0)\n",
            "Requirement already satisfied: absl-py~=0.10 in /usr/local/lib/python3.7/dist-packages (from tensorflow) (0.12.0)\n",
            "Requirement already satisfied: astunparse~=1.6.3 in /usr/local/lib/python3.7/dist-packages (from tensorflow) (1.6.3)\n",
            "Requirement already satisfied: wheel~=0.35 in /usr/local/lib/python3.7/dist-packages (from tensorflow) (0.37.0)\n",
            "Requirement already satisfied: numpy~=1.19.2 in /usr/local/lib/python3.7/dist-packages (from tensorflow) (1.19.5)\n",
            "Requirement already satisfied: grpcio<2.0,>=1.37.0 in /usr/local/lib/python3.7/dist-packages (from tensorflow) (1.41.0)\n",
            "Requirement already satisfied: six~=1.15.0 in /usr/local/lib/python3.7/dist-packages (from tensorflow) (1.15.0)\n",
            "Requirement already satisfied: termcolor~=1.1.0 in /usr/local/lib/python3.7/dist-packages (from tensorflow) (1.1.0)\n",
            "Requirement already satisfied: tensorflow-estimator~=2.6 in /usr/local/lib/python3.7/dist-packages (from tensorflow) (2.6.0)\n",
            "Requirement already satisfied: google-pasta~=0.2 in /usr/local/lib/python3.7/dist-packages (from tensorflow) (0.2.0)\n",
            "Requirement already satisfied: wrapt~=1.12.1 in /usr/local/lib/python3.7/dist-packages (from tensorflow) (1.12.1)\n",
            "Requirement already satisfied: keras~=2.6 in /usr/local/lib/python3.7/dist-packages (from tensorflow) (2.6.0)\n",
            "Requirement already satisfied: opt-einsum~=3.3.0 in /usr/local/lib/python3.7/dist-packages (from tensorflow) (3.3.0)\n",
            "Requirement already satisfied: h5py~=3.1.0 in /usr/local/lib/python3.7/dist-packages (from tensorflow) (3.1.0)\n",
            "Requirement already satisfied: keras-preprocessing~=1.1.2 in /usr/local/lib/python3.7/dist-packages (from tensorflow) (1.1.2)\n",
            "Requirement already satisfied: typing-extensions~=3.7.4 in /usr/local/lib/python3.7/dist-packages (from tensorflow) (3.7.4.3)\n",
            "Requirement already satisfied: protobuf>=3.9.2 in /usr/local/lib/python3.7/dist-packages (from tensorflow) (3.17.3)\n",
            "Requirement already satisfied: cached-property in /usr/local/lib/python3.7/dist-packages (from h5py~=3.1.0->tensorflow) (1.5.2)\n",
            "Requirement already satisfied: markdown>=2.6.8 in /usr/local/lib/python3.7/dist-packages (from tensorboard~=2.6->tensorflow) (3.3.4)\n",
            "Requirement already satisfied: requests<3,>=2.21.0 in /usr/local/lib/python3.7/dist-packages (from tensorboard~=2.6->tensorflow) (2.23.0)\n",
            "Requirement already satisfied: tensorboard-data-server<0.7.0,>=0.6.0 in /usr/local/lib/python3.7/dist-packages (from tensorboard~=2.6->tensorflow) (0.6.1)\n",
            "Requirement already satisfied: google-auth<2,>=1.6.3 in /usr/local/lib/python3.7/dist-packages (from tensorboard~=2.6->tensorflow) (1.35.0)\n",
            "Requirement already satisfied: google-auth-oauthlib<0.5,>=0.4.1 in /usr/local/lib/python3.7/dist-packages (from tensorboard~=2.6->tensorflow) (0.4.6)\n",
            "Requirement already satisfied: werkzeug>=0.11.15 in /usr/local/lib/python3.7/dist-packages (from tensorboard~=2.6->tensorflow) (1.0.1)\n",
            "Requirement already satisfied: setuptools>=41.0.0 in /usr/local/lib/python3.7/dist-packages (from tensorboard~=2.6->tensorflow) (57.4.0)\n",
            "Requirement already satisfied: tensorboard-plugin-wit>=1.6.0 in /usr/local/lib/python3.7/dist-packages (from tensorboard~=2.6->tensorflow) (1.8.0)\n",
            "Requirement already satisfied: cachetools<5.0,>=2.0.0 in /usr/local/lib/python3.7/dist-packages (from google-auth<2,>=1.6.3->tensorboard~=2.6->tensorflow) (4.2.4)\n",
            "Requirement already satisfied: pyasn1-modules>=0.2.1 in /usr/local/lib/python3.7/dist-packages (from google-auth<2,>=1.6.3->tensorboard~=2.6->tensorflow) (0.2.8)\n",
            "Requirement already satisfied: rsa<5,>=3.1.4 in /usr/local/lib/python3.7/dist-packages (from google-auth<2,>=1.6.3->tensorboard~=2.6->tensorflow) (4.7.2)\n",
            "Requirement already satisfied: requests-oauthlib>=0.7.0 in /usr/local/lib/python3.7/dist-packages (from google-auth-oauthlib<0.5,>=0.4.1->tensorboard~=2.6->tensorflow) (1.3.0)\n",
            "Requirement already satisfied: importlib-metadata in /usr/local/lib/python3.7/dist-packages (from markdown>=2.6.8->tensorboard~=2.6->tensorflow) (4.8.1)\n",
            "Requirement already satisfied: pyasn1<0.5.0,>=0.4.6 in /usr/local/lib/python3.7/dist-packages (from pyasn1-modules>=0.2.1->google-auth<2,>=1.6.3->tensorboard~=2.6->tensorflow) (0.4.8)\n",
            "Requirement already satisfied: certifi>=2017.4.17 in /usr/local/lib/python3.7/dist-packages (from requests<3,>=2.21.0->tensorboard~=2.6->tensorflow) (2021.5.30)\n",
            "Requirement already satisfied: idna<3,>=2.5 in /usr/local/lib/python3.7/dist-packages (from requests<3,>=2.21.0->tensorboard~=2.6->tensorflow) (2.10)\n",
            "Requirement already satisfied: chardet<4,>=3.0.2 in /usr/local/lib/python3.7/dist-packages (from requests<3,>=2.21.0->tensorboard~=2.6->tensorflow) (3.0.4)\n",
            "Requirement already satisfied: urllib3!=1.25.0,!=1.25.1,<1.26,>=1.21.1 in /usr/local/lib/python3.7/dist-packages (from requests<3,>=2.21.0->tensorboard~=2.6->tensorflow) (1.24.3)\n",
            "Requirement already satisfied: oauthlib>=3.0.0 in /usr/local/lib/python3.7/dist-packages (from requests-oauthlib>=0.7.0->google-auth-oauthlib<0.5,>=0.4.1->tensorboard~=2.6->tensorflow) (3.1.1)\n",
            "Requirement already satisfied: zipp>=0.5 in /usr/local/lib/python3.7/dist-packages (from importlib-metadata->markdown>=2.6.8->tensorboard~=2.6->tensorflow) (3.6.0)\n"
          ]
        }
      ]
    },
    {
      "cell_type": "code",
      "metadata": {
        "id": "Kak3PxWNR2a8"
      },
      "source": [
        "import tensorflow as tf\n",
        "\n",
        "from tensorflow.keras import datasets, layers, models\n",
        "import matplotlib.pyplot as plt"
      ],
      "execution_count": null,
      "outputs": []
    },
    {
      "cell_type": "code",
      "metadata": {
        "id": "RRZMFU4kSJYl"
      },
      "source": [
        "model = models.Sequential()\n",
        "model.add(layers.Conv2D(32, (3, 3), activation='relu', input_shape=(32, 32, 3)))\n",
        "model.add(layers.MaxPooling2D((2, 2)))\n",
        "model.add(layers.Conv2D(64, (3, 3), activation='relu'))\n",
        "model.add(layers.MaxPooling2D((2, 2)))\n",
        "model.add(layers.Conv2D(64, (3, 3), activation='relu'))"
      ],
      "execution_count": null,
      "outputs": []
    },
    {
      "cell_type": "code",
      "metadata": {
        "id": "FfuLjBm0SMeT",
        "colab": {
          "base_uri": "https://localhost:8080/"
        },
        "outputId": "02c7c610-4ccf-4064-e62b-625cf93404b8"
      },
      "source": [
        "## Model Architecture :\n",
        "model.summary()"
      ],
      "execution_count": null,
      "outputs": [
        {
          "output_type": "stream",
          "name": "stdout",
          "text": [
            "Model: \"sequential\"\n",
            "_________________________________________________________________\n",
            "Layer (type)                 Output Shape              Param #   \n",
            "=================================================================\n",
            "conv2d (Conv2D)              (None, 30, 30, 32)        896       \n",
            "_________________________________________________________________\n",
            "max_pooling2d (MaxPooling2D) (None, 15, 15, 32)        0         \n",
            "_________________________________________________________________\n",
            "conv2d_1 (Conv2D)            (None, 13, 13, 64)        18496     \n",
            "_________________________________________________________________\n",
            "max_pooling2d_1 (MaxPooling2 (None, 6, 6, 64)          0         \n",
            "_________________________________________________________________\n",
            "conv2d_2 (Conv2D)            (None, 4, 4, 64)          36928     \n",
            "=================================================================\n",
            "Total params: 56,320\n",
            "Trainable params: 56,320\n",
            "Non-trainable params: 0\n",
            "_________________________________________________________________\n"
          ]
        }
      ]
    },
    {
      "cell_type": "code",
      "metadata": {
        "id": "_13ds5sTSTSL"
      },
      "source": [
        "model.add(layers.Flatten())\n",
        "model.add(layers.Dense(64, activation='relu'))\n",
        "model.add(layers.Dense(10))"
      ],
      "execution_count": null,
      "outputs": []
    },
    {
      "cell_type": "code",
      "metadata": {
        "id": "D42xjDt-SWVo",
        "colab": {
          "base_uri": "https://localhost:8080/"
        },
        "outputId": "41cbfb52-09f8-401a-94f9-36b53bb7e4be"
      },
      "source": [
        "model.summary()\n"
      ],
      "execution_count": null,
      "outputs": [
        {
          "output_type": "stream",
          "name": "stdout",
          "text": [
            "Model: \"sequential\"\n",
            "_________________________________________________________________\n",
            "Layer (type)                 Output Shape              Param #   \n",
            "=================================================================\n",
            "conv2d (Conv2D)              (None, 30, 30, 32)        896       \n",
            "_________________________________________________________________\n",
            "max_pooling2d (MaxPooling2D) (None, 15, 15, 32)        0         \n",
            "_________________________________________________________________\n",
            "conv2d_1 (Conv2D)            (None, 13, 13, 64)        18496     \n",
            "_________________________________________________________________\n",
            "max_pooling2d_1 (MaxPooling2 (None, 6, 6, 64)          0         \n",
            "_________________________________________________________________\n",
            "conv2d_2 (Conv2D)            (None, 4, 4, 64)          36928     \n",
            "_________________________________________________________________\n",
            "flatten (Flatten)            (None, 1024)              0         \n",
            "_________________________________________________________________\n",
            "dense (Dense)                (None, 64)                65600     \n",
            "_________________________________________________________________\n",
            "dense_1 (Dense)              (None, 10)                650       \n",
            "=================================================================\n",
            "Total params: 122,570\n",
            "Trainable params: 122,570\n",
            "Non-trainable params: 0\n",
            "_________________________________________________________________\n"
          ]
        }
      ]
    },
    {
      "cell_type": "markdown",
      "metadata": {
        "id": "H43hRBpvucts"
      },
      "source": [
        "CNN hyperparamters used :\n",
        "3 convolution layers with number of filters 32, 64 and 64 respectively. kernel size 3 by 3. activation 'relu', with dense layer of 64 neurons and final dense layer with 10 neurons."
      ]
    },
    {
      "cell_type": "code",
      "metadata": {
        "id": "wOKiiItjSbQQ"
      },
      "source": [
        "with tf.device('/device:GPU:0'):\n",
        "\n",
        "  model.compile(optimizer='adam',\n",
        "                loss=tf.keras.losses.SparseCategoricalCrossentropy(from_logits=True),\n",
        "                metrics=['accuracy'])\n",
        "  train_cifar_img_norm = train_cifar_img/255.0\n",
        "  test_cifar_img_norm = test_cifar_img/255.0\n",
        "  from keras.callbacks import EarlyStopping\n",
        "\n",
        "  es = EarlyStopping(monitor='val_loss', mode='min', verbose=1, patience=10)\n",
        "  history = model.fit(train_cifar_img_norm, train_cifar_lbl.astype(np.float), epochs=100, \n",
        "                      validation_data=(test_cifar_img_norm, test_cifar_lbl.astype(np.float)), callbacks=[es])\n"
      ],
      "execution_count": null,
      "outputs": []
    },
    {
      "cell_type": "code",
      "metadata": {
        "colab": {
          "base_uri": "https://localhost:8080/",
          "height": 317
        },
        "id": "YeKpPL8lzQUt",
        "outputId": "e27047f4-7f75-4f2e-d842-597ea48862bf"
      },
      "source": [
        "  plt.plot(history.history['accuracy'], label='train accuracy')\n",
        "  plt.plot(history.history['val_accuracy'], label = 'val_accuracy')\n",
        "  plt.xlabel('Epoch')\n",
        "  plt.ylabel('Accuracy')\n",
        "  plt.ylim([0.5, 1])\n",
        "  plt.legend(loc='lower right')\n",
        "\n",
        "  test_loss, test_acc = model.evaluate(test_cifar_img_norm,  test_cifar_lbl.astype(np.float), verbose=2)\n",
        "  print(test_acc)"
      ],
      "execution_count": null,
      "outputs": [
        {
          "output_type": "stream",
          "name": "stdout",
          "text": [
            "157/157 - 0s - loss: 1.3049 - accuracy: 0.6258\n",
            "0.6258000135421753\n"
          ]
        },
        {
          "output_type": "display_data",
          "data": {
            "image/png": "[encoded data removed]",
            "text/plain": [
              "<Figure size 432x288 with 1 Axes>"
            ]
          },
          "metadata": {
            "needs_background": "light"
          }
        }
      ]
    },
    {
      "cell_type": "code",
      "metadata": {
        "id": "QrWY6N3FgcCm"
      },
      "source": [
        "# import libraries\n",
        "# CNN with functional API\n",
        "import numpy as np\n",
        "import tensorflow as tf\n",
        "from tensorflow.keras.layers import Dense, Dropout, Input, Maximum, Lambda\n",
        "from tensorflow.keras.layers import Conv2D, MaxPooling2D, Flatten\n",
        "from tensorflow.keras.models import Model\n",
        "from tensorflow.keras.datasets import mnist\n",
        "from tensorflow.keras.callbacks import EarlyStopping, ModelCheckpoint\n"
      ],
      "execution_count": null,
      "outputs": []
    },
    {
      "cell_type": "code",
      "metadata": {
        "id": "5qM1XIkEgkmT"
      },
      "source": [
        "# parameters for the network\n",
        "image_size = 32\n",
        "input_shape = (image_size, image_size, 3)\n",
        "batch_size = 128\n",
        "kernel_size = 3\n",
        "filters = 48\n",
        "dropout = 0.25\n",
        "num_labels = 10\n",
        "\n",
        "\n",
        "\n"
      ],
      "execution_count": null,
      "outputs": []
    },
    {
      "cell_type": "markdown",
      "metadata": {
        "id": "Vc0EkMT8u-R1"
      },
      "source": [
        "CNN hyperparamters used :\n",
        "6 convolution layers with number of filters 48 which doubles after every 2 conv layers. kernel size 3 by 3. activation 'relu',dropout =0.25. batch_size = 128, with two consecutive dense layer of 512, 256 neurons respectively. and final dense layer with 10 neurons and softmax activation."
      ]
    },
    {
      "cell_type": "code",
      "metadata": {
        "id": "KzNaDNfemFP5"
      },
      "source": [
        "# utiliaing functional API to build cnn layers\n",
        "inputs = Input(shape=input_shape)\n",
        "y = Conv2D(filters=filters,\n",
        "            kernel_size=kernel_size,\n",
        "            activation='relu', padding=\"same\")(inputs)\n",
        "\n",
        "y = Conv2D(filters=filters,\n",
        "            kernel_size=kernel_size,\n",
        "            activation='relu')(y)\n",
        "\n",
        "y = MaxPooling2D()(y)\n",
        "y = Dropout(dropout)(y)\n",
        "\n",
        "y = Conv2D(filters=2*filters,\n",
        "            kernel_size=kernel_size,\n",
        "            activation='relu', padding=\"same\")(y)\n",
        "\n",
        "y = Conv2D(filters=2*filters,\n",
        "            kernel_size=kernel_size,\n",
        "            activation='relu')(y)\n",
        "\n",
        "y = MaxPooling2D()(y)\n",
        "y = Dropout(dropout)(y)\n",
        "\n",
        "y = Conv2D(filters=4*filters,\n",
        "            kernel_size=kernel_size,\n",
        "            activation='relu', padding=\"same\")(y)\n",
        "\n",
        "y = Conv2D(filters=4*filters,\n",
        "            kernel_size=kernel_size,\n",
        "            activation='relu')(y)\n",
        "\n",
        "y = MaxPooling2D()(y)\n",
        "y = Dropout(dropout)(y)\n",
        "\n",
        "# convert image to vector \n",
        "y = Flatten()(y)\n",
        "y = Dense(512, activation='relu')(y)\n",
        "y = Dropout(2*dropout)(y)\n",
        "y = Dense(256, activation='relu')(y)\n",
        "y = Dropout(2*dropout)(y)\n",
        "outputs = Dense(num_labels, activation='softmax')(y)\n",
        "\n",
        "# model building by supplying inputs/outputs\n",
        "model = Model(inputs=inputs, outputs=outputs)"
      ],
      "execution_count": null,
      "outputs": []
    },
    {
      "cell_type": "code",
      "metadata": {
        "id": "cHqUf1dxolwc",
        "colab": {
          "base_uri": "https://localhost:8080/"
        },
        "outputId": "53eb58a4-8bad-43ff-a845-89b0bfe2bf94"
      },
      "source": [
        "model.summary()\n"
      ],
      "execution_count": null,
      "outputs": [
        {
          "output_type": "stream",
          "name": "stdout",
          "text": [
            "Model: \"model\"\n",
            "_________________________________________________________________\n",
            "Layer (type)                 Output Shape              Param #   \n",
            "=================================================================\n",
            "input_1 (InputLayer)         [(None, 32, 32, 3)]       0         \n",
            "_________________________________________________________________\n",
            "conv2d_3 (Conv2D)            (None, 32, 32, 48)        1344      \n",
            "_________________________________________________________________\n",
            "conv2d_4 (Conv2D)            (None, 30, 30, 48)        20784     \n",
            "_________________________________________________________________\n",
            "max_pooling2d_2 (MaxPooling2 (None, 15, 15, 48)        0         \n",
            "_________________________________________________________________\n",
            "dropout (Dropout)            (None, 15, 15, 48)        0         \n",
            "_________________________________________________________________\n",
            "conv2d_5 (Conv2D)            (None, 15, 15, 96)        41568     \n",
            "_________________________________________________________________\n",
            "conv2d_6 (Conv2D)            (None, 13, 13, 96)        83040     \n",
            "_________________________________________________________________\n",
            "max_pooling2d_3 (MaxPooling2 (None, 6, 6, 96)          0         \n",
            "_________________________________________________________________\n",
            "dropout_1 (Dropout)          (None, 6, 6, 96)          0         \n",
            "_________________________________________________________________\n",
            "conv2d_7 (Conv2D)            (None, 6, 6, 192)         166080    \n",
            "_________________________________________________________________\n",
            "conv2d_8 (Conv2D)            (None, 4, 4, 192)         331968    \n",
            "_________________________________________________________________\n",
            "max_pooling2d_4 (MaxPooling2 (None, 2, 2, 192)         0         \n",
            "_________________________________________________________________\n",
            "dropout_2 (Dropout)          (None, 2, 2, 192)         0         \n",
            "_________________________________________________________________\n",
            "flatten_1 (Flatten)          (None, 768)               0         \n",
            "_________________________________________________________________\n",
            "dense_2 (Dense)              (None, 512)               393728    \n",
            "_________________________________________________________________\n",
            "dropout_3 (Dropout)          (None, 512)               0         \n",
            "_________________________________________________________________\n",
            "dense_3 (Dense)              (None, 256)               131328    \n",
            "_________________________________________________________________\n",
            "dropout_4 (Dropout)          (None, 256)               0         \n",
            "_________________________________________________________________\n",
            "dense_4 (Dense)              (None, 10)                2570      \n",
            "=================================================================\n",
            "Total params: 1,172,410\n",
            "Trainable params: 1,172,410\n",
            "Non-trainable params: 0\n",
            "_________________________________________________________________\n"
          ]
        }
      ]
    },
    {
      "cell_type": "code",
      "metadata": {
        "id": "yFzxa3KOs9Ph"
      },
      "source": [
        "a = test_cifar_lbl.astype(np.int)\n",
        "b = np.zeros((a.size, a.max()+1))\n",
        "b[np.arange(a.size),a] = 1\n",
        "\n",
        "\n",
        "\n",
        "temp = train_cifar_lbl.astype(np.int)\n",
        "train_lbls_one_hot = np.zeros((temp.size, temp.max()+1))\n",
        "train_lbls_one_hot[np.arange(temp.size),temp] = 1"
      ],
      "execution_count": null,
      "outputs": []
    },
    {
      "cell_type": "code",
      "metadata": {
        "id": "Vp_R67j00HuT",
        "colab": {
          "base_uri": "https://localhost:8080/"
        },
        "outputId": "d08b3f8d-d63e-4792-b3db-98fa5bb19b21"
      },
      "source": [
        "train_cifar_img_norm = train_cifar_img/255.0\n",
        "test_cifar_img_norm = test_cifar_img/255.0\n",
        "\n",
        "with tf.device('/device:GPU:0'):\n",
        "\n",
        " filepath = 'my_model_best.hdf5'\n",
        "\n",
        "\n",
        "\n",
        "  \n",
        "\n",
        " model = Model(inputs=inputs, outputs=outputs)\n",
        "\n",
        " model.compile(loss='categorical_crossentropy',\n",
        "\t\toptimizer='adam',\n",
        "\t\tmetrics=['accuracy'])\n",
        "\n",
        "\n",
        "  \n",
        "\n",
        " model.fit(train_cifar_img_norm, \n",
        "\t\t\t\t\t\ttrain_lbls_one_hot,\n",
        "\t\t\t\t\t\tvalidation_data=(test_cifar_img_norm, b),\n",
        "\t\t\t\t\t\tepochs=100,\n",
        "\t\t\t\t\t\tbatch_size=batch_size)\n",
        "\n",
        "\n",
        "\t# accuracy evaluation\n",
        " model.save('my_model.h5')\n",
        "\n",
        " score = model.evaluate(test_cifar_img_norm, b,\n",
        "\t\tbatch_size=batch_size,\n",
        "\t\tverbose=0)\n",
        "\n",
        " print(\"nTest accuracy: %.1f%%\" % (100.0 * score[1]))\n",
        " \n",
        "\n",
        "  \n",
        "\n",
        "  \n"
      ],
      "execution_count": null,
      "outputs": [
        {
          "output_type": "stream",
          "name": "stdout",
          "text": [
            "Epoch 1/100\n",
            "118/118 [==============================] - 7s 48ms/step - loss: 2.1360 - accuracy: 0.1824 - val_loss: 1.9484 - val_accuracy: 0.2170\n",
            "Epoch 2/100\n",
            "118/118 [==============================] - 5s 42ms/step - loss: 1.8859 - accuracy: 0.2629 - val_loss: 1.6781 - val_accuracy: 0.3540\n",
            "Epoch 3/100\n",
            "118/118 [==============================] - 5s 42ms/step - loss: 1.6726 - accuracy: 0.3691 - val_loss: 1.5821 - val_accuracy: 0.4274\n",
            "Epoch 4/100\n",
            "118/118 [==============================] - 5s 44ms/step - loss: 1.5184 - accuracy: 0.4382 - val_loss: 1.3444 - val_accuracy: 0.4886\n",
            "Epoch 5/100\n",
            "118/118 [==============================] - 5s 42ms/step - loss: 1.3854 - accuracy: 0.4921 - val_loss: 1.4202 - val_accuracy: 0.4814\n",
            "Epoch 6/100\n",
            "118/118 [==============================] - 5s 42ms/step - loss: 1.2881 - accuracy: 0.5321 - val_loss: 1.2255 - val_accuracy: 0.5520\n",
            "Epoch 7/100\n",
            "118/118 [==============================] - 5s 42ms/step - loss: 1.1846 - accuracy: 0.5713 - val_loss: 1.0850 - val_accuracy: 0.6056\n",
            "Epoch 8/100\n",
            "118/118 [==============================] - 5s 42ms/step - loss: 1.1061 - accuracy: 0.6070 - val_loss: 1.0545 - val_accuracy: 0.6196\n",
            "Epoch 9/100\n",
            "118/118 [==============================] - 5s 42ms/step - loss: 1.0683 - accuracy: 0.6195 - val_loss: 1.0273 - val_accuracy: 0.6262\n",
            "Epoch 10/100\n",
            "118/118 [==============================] - 5s 42ms/step - loss: 0.9800 - accuracy: 0.6499 - val_loss: 0.9804 - val_accuracy: 0.6466\n",
            "Epoch 11/100\n",
            "118/118 [==============================] - 5s 42ms/step - loss: 0.9467 - accuracy: 0.6682 - val_loss: 0.9566 - val_accuracy: 0.6596\n",
            "Epoch 12/100\n",
            "118/118 [==============================] - 5s 41ms/step - loss: 0.8765 - accuracy: 0.6913 - val_loss: 0.9944 - val_accuracy: 0.6456\n",
            "Epoch 13/100\n",
            "118/118 [==============================] - 5s 42ms/step - loss: 0.8368 - accuracy: 0.7045 - val_loss: 0.9036 - val_accuracy: 0.6790\n",
            "Epoch 14/100\n",
            "118/118 [==============================] - 5s 42ms/step - loss: 0.8067 - accuracy: 0.7213 - val_loss: 0.8737 - val_accuracy: 0.6952\n",
            "Epoch 15/100\n",
            "118/118 [==============================] - 5s 42ms/step - loss: 0.7496 - accuracy: 0.7363 - val_loss: 0.8876 - val_accuracy: 0.6982\n",
            "Epoch 16/100\n",
            "118/118 [==============================] - 5s 42ms/step - loss: 0.7208 - accuracy: 0.7484 - val_loss: 0.8355 - val_accuracy: 0.7118\n",
            "Epoch 17/100\n",
            "118/118 [==============================] - 5s 42ms/step - loss: 0.6771 - accuracy: 0.7620 - val_loss: 0.8434 - val_accuracy: 0.7220\n",
            "Epoch 18/100\n",
            "118/118 [==============================] - 5s 42ms/step - loss: 0.6355 - accuracy: 0.7817 - val_loss: 0.8776 - val_accuracy: 0.7120\n",
            "Epoch 19/100\n",
            "118/118 [==============================] - 5s 41ms/step - loss: 0.6144 - accuracy: 0.7835 - val_loss: 0.8450 - val_accuracy: 0.7176\n",
            "Epoch 20/100\n",
            "118/118 [==============================] - 5s 42ms/step - loss: 0.5954 - accuracy: 0.7905 - val_loss: 0.8809 - val_accuracy: 0.7114\n",
            "Epoch 21/100\n",
            "118/118 [==============================] - 5s 42ms/step - loss: 0.5582 - accuracy: 0.8033 - val_loss: 0.8715 - val_accuracy: 0.7244\n",
            "Epoch 22/100\n",
            "118/118 [==============================] - 5s 42ms/step - loss: 0.5285 - accuracy: 0.8157 - val_loss: 0.8497 - val_accuracy: 0.7312\n",
            "Epoch 23/100\n",
            "118/118 [==============================] - 5s 42ms/step - loss: 0.5290 - accuracy: 0.8166 - val_loss: 0.9299 - val_accuracy: 0.7152\n",
            "Epoch 24/100\n",
            "118/118 [==============================] - 5s 42ms/step - loss: 0.4976 - accuracy: 0.8311 - val_loss: 0.8558 - val_accuracy: 0.7316\n",
            "Epoch 25/100\n",
            "118/118 [==============================] - 5s 42ms/step - loss: 0.4747 - accuracy: 0.8331 - val_loss: 0.8979 - val_accuracy: 0.7168\n",
            "Epoch 26/100\n",
            "118/118 [==============================] - 5s 42ms/step - loss: 0.4637 - accuracy: 0.8417 - val_loss: 0.9302 - val_accuracy: 0.7196\n",
            "Epoch 27/100\n",
            "118/118 [==============================] - 5s 42ms/step - loss: 0.4398 - accuracy: 0.8493 - val_loss: 0.8955 - val_accuracy: 0.7278\n",
            "Epoch 28/100\n",
            "118/118 [==============================] - 5s 42ms/step - loss: 0.4383 - accuracy: 0.8485 - val_loss: 0.9230 - val_accuracy: 0.7260\n",
            "Epoch 29/100\n",
            "118/118 [==============================] - 5s 42ms/step - loss: 0.4244 - accuracy: 0.8535 - val_loss: 0.8840 - val_accuracy: 0.7336\n",
            "Epoch 30/100\n",
            "118/118 [==============================] - 5s 42ms/step - loss: 0.3921 - accuracy: 0.8669 - val_loss: 0.9126 - val_accuracy: 0.7270\n",
            "Epoch 31/100\n",
            "118/118 [==============================] - 5s 42ms/step - loss: 0.3762 - accuracy: 0.8692 - val_loss: 0.9493 - val_accuracy: 0.7350\n",
            "Epoch 32/100\n",
            "118/118 [==============================] - 5s 42ms/step - loss: 0.3648 - accuracy: 0.8740 - val_loss: 0.8666 - val_accuracy: 0.7420\n",
            "Epoch 33/100\n",
            "118/118 [==============================] - 5s 42ms/step - loss: 0.3439 - accuracy: 0.8811 - val_loss: 1.0580 - val_accuracy: 0.7258\n",
            "Epoch 34/100\n",
            "118/118 [==============================] - 5s 42ms/step - loss: 0.3425 - accuracy: 0.8808 - val_loss: 0.9197 - val_accuracy: 0.7328\n",
            "Epoch 35/100\n",
            "118/118 [==============================] - 5s 42ms/step - loss: 0.3293 - accuracy: 0.8853 - val_loss: 0.9372 - val_accuracy: 0.7408\n",
            "Epoch 36/100\n",
            "118/118 [==============================] - 5s 42ms/step - loss: 0.3375 - accuracy: 0.8843 - val_loss: 0.9607 - val_accuracy: 0.7292\n",
            "Epoch 37/100\n",
            "118/118 [==============================] - 5s 42ms/step - loss: 0.3148 - accuracy: 0.8903 - val_loss: 0.9614 - val_accuracy: 0.7408\n",
            "Epoch 38/100\n",
            "118/118 [==============================] - 5s 42ms/step - loss: 0.2982 - accuracy: 0.8990 - val_loss: 0.9594 - val_accuracy: 0.7456\n",
            "Epoch 39/100\n",
            "118/118 [==============================] - 5s 43ms/step - loss: 0.3011 - accuracy: 0.8994 - val_loss: 0.9405 - val_accuracy: 0.7366\n",
            "Epoch 40/100\n",
            "118/118 [==============================] - 5s 42ms/step - loss: 0.2940 - accuracy: 0.9021 - val_loss: 0.9933 - val_accuracy: 0.7366\n",
            "Epoch 41/100\n",
            "118/118 [==============================] - 5s 42ms/step - loss: 0.2764 - accuracy: 0.9061 - val_loss: 1.0334 - val_accuracy: 0.7422\n",
            "Epoch 42/100\n",
            "118/118 [==============================] - 5s 42ms/step - loss: 0.2772 - accuracy: 0.9059 - val_loss: 1.0518 - val_accuracy: 0.7216\n",
            "Epoch 43/100\n",
            "118/118 [==============================] - 5s 42ms/step - loss: 0.2633 - accuracy: 0.9115 - val_loss: 1.0507 - val_accuracy: 0.7386\n",
            "Epoch 44/100\n",
            "118/118 [==============================] - 5s 44ms/step - loss: 0.2548 - accuracy: 0.9135 - val_loss: 1.0448 - val_accuracy: 0.7436\n",
            "Epoch 45/100\n",
            "118/118 [==============================] - 5s 42ms/step - loss: 0.2574 - accuracy: 0.9107 - val_loss: 1.1207 - val_accuracy: 0.7292\n",
            "Epoch 46/100\n",
            "118/118 [==============================] - 5s 42ms/step - loss: 0.2617 - accuracy: 0.9136 - val_loss: 0.9984 - val_accuracy: 0.7388\n",
            "Epoch 47/100\n",
            "118/118 [==============================] - 5s 42ms/step - loss: 0.2542 - accuracy: 0.9162 - val_loss: 1.0180 - val_accuracy: 0.7412\n",
            "Epoch 48/100\n",
            "118/118 [==============================] - 5s 42ms/step - loss: 0.2319 - accuracy: 0.9253 - val_loss: 0.9921 - val_accuracy: 0.7422\n",
            "Epoch 49/100\n",
            "118/118 [==============================] - 5s 42ms/step - loss: 0.2294 - accuracy: 0.9261 - val_loss: 1.0592 - val_accuracy: 0.7422\n",
            "Epoch 50/100\n",
            "118/118 [==============================] - 5s 43ms/step - loss: 0.2272 - accuracy: 0.9230 - val_loss: 1.0051 - val_accuracy: 0.7490\n",
            "Epoch 51/100\n",
            "118/118 [==============================] - 5s 42ms/step - loss: 0.2132 - accuracy: 0.9280 - val_loss: 1.1257 - val_accuracy: 0.7384\n",
            "Epoch 52/100\n",
            "118/118 [==============================] - 5s 44ms/step - loss: 0.2158 - accuracy: 0.9285 - val_loss: 1.1292 - val_accuracy: 0.7394\n",
            "Epoch 53/100\n",
            "118/118 [==============================] - 5s 42ms/step - loss: 0.2166 - accuracy: 0.9258 - val_loss: 1.0624 - val_accuracy: 0.7480\n",
            "Epoch 54/100\n",
            "118/118 [==============================] - 5s 44ms/step - loss: 0.2016 - accuracy: 0.9315 - val_loss: 1.0725 - val_accuracy: 0.7530\n",
            "Epoch 55/100\n",
            "118/118 [==============================] - 5s 42ms/step - loss: 0.2029 - accuracy: 0.9324 - val_loss: 1.0852 - val_accuracy: 0.7442\n",
            "Epoch 56/100\n",
            "118/118 [==============================] - 5s 42ms/step - loss: 0.1954 - accuracy: 0.9348 - val_loss: 1.1349 - val_accuracy: 0.7424\n",
            "Epoch 57/100\n",
            "118/118 [==============================] - 5s 42ms/step - loss: 0.2101 - accuracy: 0.9333 - val_loss: 1.0957 - val_accuracy: 0.7418\n",
            "Epoch 58/100\n",
            "118/118 [==============================] - 5s 42ms/step - loss: 0.2002 - accuracy: 0.9343 - val_loss: 1.1262 - val_accuracy: 0.7430\n",
            "Epoch 59/100\n",
            "118/118 [==============================] - 5s 42ms/step - loss: 0.2050 - accuracy: 0.9331 - val_loss: 1.1008 - val_accuracy: 0.7502\n",
            "Epoch 60/100\n",
            "118/118 [==============================] - 5s 42ms/step - loss: 0.1691 - accuracy: 0.9442 - val_loss: 1.1766 - val_accuracy: 0.7450\n",
            "Epoch 61/100\n",
            "118/118 [==============================] - 5s 42ms/step - loss: 0.1853 - accuracy: 0.9406 - val_loss: 1.1670 - val_accuracy: 0.7400\n",
            "Epoch 62/100\n",
            "118/118 [==============================] - 5s 43ms/step - loss: 0.1841 - accuracy: 0.9367 - val_loss: 1.1893 - val_accuracy: 0.7424\n",
            "Epoch 63/100\n",
            "118/118 [==============================] - 5s 42ms/step - loss: 0.1865 - accuracy: 0.9383 - val_loss: 1.1869 - val_accuracy: 0.7432\n",
            "Epoch 64/100\n",
            "118/118 [==============================] - 5s 42ms/step - loss: 0.1871 - accuracy: 0.9397 - val_loss: 1.1963 - val_accuracy: 0.7414\n",
            "Epoch 65/100\n",
            "118/118 [==============================] - 5s 42ms/step - loss: 0.1873 - accuracy: 0.9397 - val_loss: 1.1317 - val_accuracy: 0.7536\n",
            "Epoch 66/100\n",
            "118/118 [==============================] - 5s 43ms/step - loss: 0.1762 - accuracy: 0.9434 - val_loss: 1.0581 - val_accuracy: 0.7526\n",
            "Epoch 67/100\n",
            "118/118 [==============================] - 5s 44ms/step - loss: 0.1814 - accuracy: 0.9403 - val_loss: 1.2045 - val_accuracy: 0.7420\n",
            "Epoch 68/100\n",
            "118/118 [==============================] - 5s 42ms/step - loss: 0.1713 - accuracy: 0.9454 - val_loss: 1.1285 - val_accuracy: 0.7584\n",
            "Epoch 69/100\n",
            "118/118 [==============================] - 5s 42ms/step - loss: 0.1737 - accuracy: 0.9446 - val_loss: 1.1336 - val_accuracy: 0.7538\n",
            "Epoch 70/100\n",
            "118/118 [==============================] - 5s 43ms/step - loss: 0.1741 - accuracy: 0.9449 - val_loss: 1.2253 - val_accuracy: 0.7524\n",
            "Epoch 71/100\n",
            "118/118 [==============================] - 5s 42ms/step - loss: 0.1735 - accuracy: 0.9442 - val_loss: 1.0991 - val_accuracy: 0.7580\n",
            "Epoch 72/100\n",
            "118/118 [==============================] - 5s 42ms/step - loss: 0.1778 - accuracy: 0.9431 - val_loss: 1.2006 - val_accuracy: 0.7352\n",
            "Epoch 73/100\n",
            "118/118 [==============================] - 5s 43ms/step - loss: 0.1751 - accuracy: 0.9418 - val_loss: 1.1630 - val_accuracy: 0.7416\n",
            "Epoch 74/100\n",
            "118/118 [==============================] - 5s 43ms/step - loss: 0.1628 - accuracy: 0.9481 - val_loss: 1.1486 - val_accuracy: 0.7502\n",
            "Epoch 75/100\n",
            "118/118 [==============================] - 5s 42ms/step - loss: 0.1609 - accuracy: 0.9460 - val_loss: 1.1343 - val_accuracy: 0.7462\n",
            "Epoch 76/100\n",
            "118/118 [==============================] - 5s 42ms/step - loss: 0.1530 - accuracy: 0.9515 - val_loss: 1.1796 - val_accuracy: 0.7528\n",
            "Epoch 77/100\n",
            "118/118 [==============================] - 5s 42ms/step - loss: 0.1665 - accuracy: 0.9479 - val_loss: 1.2333 - val_accuracy: 0.7376\n",
            "Epoch 78/100\n",
            "118/118 [==============================] - 5s 43ms/step - loss: 0.1472 - accuracy: 0.9523 - val_loss: 1.2024 - val_accuracy: 0.7486\n",
            "Epoch 79/100\n",
            "118/118 [==============================] - 5s 43ms/step - loss: 0.1504 - accuracy: 0.9515 - val_loss: 1.1946 - val_accuracy: 0.7478\n",
            "Epoch 80/100\n",
            "118/118 [==============================] - 5s 43ms/step - loss: 0.1576 - accuracy: 0.9505 - val_loss: 1.1334 - val_accuracy: 0.7548\n",
            "Epoch 81/100\n",
            "118/118 [==============================] - 5s 43ms/step - loss: 0.1536 - accuracy: 0.9516 - val_loss: 1.1893 - val_accuracy: 0.7516\n",
            "Epoch 82/100\n",
            "118/118 [==============================] - 5s 43ms/step - loss: 0.1377 - accuracy: 0.9557 - val_loss: 1.2371 - val_accuracy: 0.7450\n",
            "Epoch 83/100\n",
            "118/118 [==============================] - 5s 42ms/step - loss: 0.1480 - accuracy: 0.9529 - val_loss: 1.2232 - val_accuracy: 0.7478\n",
            "Epoch 84/100\n",
            "118/118 [==============================] - 5s 42ms/step - loss: 0.1663 - accuracy: 0.9468 - val_loss: 1.2153 - val_accuracy: 0.7440\n",
            "Epoch 85/100\n",
            "118/118 [==============================] - 5s 42ms/step - loss: 0.1391 - accuracy: 0.9548 - val_loss: 1.2735 - val_accuracy: 0.7496\n",
            "Epoch 86/100\n",
            "118/118 [==============================] - 5s 43ms/step - loss: 0.1573 - accuracy: 0.9497 - val_loss: 1.2867 - val_accuracy: 0.7400\n",
            "Epoch 87/100\n",
            "118/118 [==============================] - 5s 42ms/step - loss: 0.1456 - accuracy: 0.9565 - val_loss: 1.2198 - val_accuracy: 0.7414\n",
            "Epoch 88/100\n",
            "118/118 [==============================] - 5s 42ms/step - loss: 0.1319 - accuracy: 0.9569 - val_loss: 1.1782 - val_accuracy: 0.7550\n",
            "Epoch 89/100\n",
            "118/118 [==============================] - 5s 42ms/step - loss: 0.1570 - accuracy: 0.9494 - val_loss: 1.1283 - val_accuracy: 0.7478\n",
            "Epoch 90/100\n",
            "118/118 [==============================] - 5s 42ms/step - loss: 0.1394 - accuracy: 0.9573 - val_loss: 1.2260 - val_accuracy: 0.7406\n",
            "Epoch 91/100\n",
            "118/118 [==============================] - 5s 43ms/step - loss: 0.1299 - accuracy: 0.9585 - val_loss: 1.3304 - val_accuracy: 0.7518\n",
            "Epoch 92/100\n",
            "118/118 [==============================] - 5s 42ms/step - loss: 0.1460 - accuracy: 0.9549 - val_loss: 1.2061 - val_accuracy: 0.7460\n",
            "Epoch 93/100\n",
            "118/118 [==============================] - 5s 42ms/step - loss: 0.1263 - accuracy: 0.9575 - val_loss: 1.3386 - val_accuracy: 0.7410\n",
            "Epoch 94/100\n",
            "118/118 [==============================] - 5s 42ms/step - loss: 0.1483 - accuracy: 0.9526 - val_loss: 1.1902 - val_accuracy: 0.7510\n",
            "Epoch 95/100\n",
            "118/118 [==============================] - 5s 42ms/step - loss: 0.1396 - accuracy: 0.9549 - val_loss: 1.2894 - val_accuracy: 0.7388\n",
            "Epoch 96/100\n",
            "118/118 [==============================] - 5s 42ms/step - loss: 0.1425 - accuracy: 0.9539 - val_loss: 1.2599 - val_accuracy: 0.7468\n",
            "Epoch 97/100\n",
            "118/118 [==============================] - 5s 42ms/step - loss: 0.1233 - accuracy: 0.9619 - val_loss: 1.3502 - val_accuracy: 0.7392\n",
            "Epoch 98/100\n",
            "118/118 [==============================] - 5s 43ms/step - loss: 0.1504 - accuracy: 0.9515 - val_loss: 1.2619 - val_accuracy: 0.7480\n",
            "Epoch 99/100\n",
            "118/118 [==============================] - 5s 42ms/step - loss: 0.1444 - accuracy: 0.9546 - val_loss: 1.2446 - val_accuracy: 0.7388\n",
            "Epoch 100/100\n",
            "118/118 [==============================] - 5s 42ms/step - loss: 0.1218 - accuracy: 0.9595 - val_loss: 1.2563 - val_accuracy: 0.7474\n",
            "nTest accuracy: 74.7%\n"
          ]
        }
      ]
    }
  ]
}