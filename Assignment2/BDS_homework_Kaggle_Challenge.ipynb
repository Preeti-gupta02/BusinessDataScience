{
  "nbformat": 4,
  "nbformat_minor": 0,
  "metadata": {
    "kernelspec": {
      "language": "python",
      "display_name": "Python 3",
      "name": "python3"
    },
    "language_info": {
      "pygments_lexer": "ipython3",
      "nbconvert_exporter": "python",
      "version": "3.6.4",
      "file_extension": ".py",
      "codemirror_mode": {
        "name": "ipython",
        "version": 3
      },
      "name": "python",
      "mimetype": "text/x-python"
    },
    "colab": {
      "name": "BDS_homework_Kaggle_Challenge.ipynb",
      "provenance": []
    }
  },
  "cells": [
    {
      "cell_type": "code",
      "metadata": {
        "_cell_guid": "b1076dfc-b9ad-4769-8c92-a6c4dae69d19",
        "_uuid": "8f2839f25d086af736a60e9eeb907d3b93b6e0e5",
        "execution": {
          "iopub.status.busy": "2021-09-14T02:57:05.456806Z",
          "iopub.execute_input": "2021-09-14T02:57:05.457642Z",
          "iopub.status.idle": "2021-09-14T02:57:05.466827Z",
          "shell.execute_reply.started": "2021-09-14T02:57:05.457599Z",
          "shell.execute_reply": "2021-09-14T02:57:05.466288Z"
        },
        "trusted": true,
        "id": "CPTpPYR-k7Vq",
        "outputId": "19fae9c7-2c05-4ea6-c318-44a1b0038ef8"
      },
      "source": [
        "# This Python 3 environment comes with many helpful analytics libraries installed\n",
        "# It is defined by the kaggle/python Docker image: https://github.com/kaggle/docker-python\n",
        "# For example, here's several helpful packages to load\n",
        "\n",
        "import numpy as np # linear algebra\n",
        "import pandas as pd # data processing, CSV file I/O (e.g. pd.read_csv)\n",
        "\n",
        "# Input data files are available in the read-only \"../input/\" directory\n",
        "# For example, running this (by clicking run or pressing Shift+Enter) will list all files under the input directory\n",
        "\n",
        "import os\n",
        "for dirname, _, filenames in os.walk('/kaggle/input'):\n",
        "    for filename in filenames:\n",
        "        print(os.path.join(dirname, filename))\n",
        "\n",
        "# You can write up to 20GB to the current directory (/kaggle/working/) that gets preserved as output when you create a version using \"Save & Run All\" \n",
        "# You can also write temporary files to /kaggle/temp/, but they won't be saved outside of the current session"
      ],
      "execution_count": null,
      "outputs": [
        {
          "name": "stdout",
          "text": "/kaggle/input/house-prices-advanced-regression-techniques/sample_submission.csv\n/kaggle/input/house-prices-advanced-regression-techniques/data_description.txt\n/kaggle/input/house-prices-advanced-regression-techniques/train.csv\n/kaggle/input/house-prices-advanced-regression-techniques/test.csv\n",
          "output_type": "stream"
        }
      ]
    },
    {
      "cell_type": "code",
      "metadata": {
        "execution": {
          "iopub.status.busy": "2021-09-14T02:57:05.468193Z",
          "iopub.execute_input": "2021-09-14T02:57:05.468991Z",
          "iopub.status.idle": "2021-09-14T02:57:05.493165Z",
          "shell.execute_reply.started": "2021-09-14T02:57:05.468959Z",
          "shell.execute_reply": "2021-09-14T02:57:05.492337Z"
        },
        "trusted": true,
        "id": "iBpcPbDzk7Vs"
      },
      "source": [
        "import pandas as pd\n",
        "import numpy as np\n",
        "import seaborn as sns\n",
        "import matplotlib\n",
        "\n",
        "import matplotlib.pyplot as plt\n",
        "from scipy.stats import skew\n",
        "from scipy.stats.stats import pearsonr\n",
        "from sklearn.model_selection import train_test_split\n",
        "from sklearn.pipeline import make_pipeline\n",
        "from sklearn.preprocessing import RobustScaler\n",
        "from sklearn.linear_model import LinearRegression, Lasso, ElasticNet\n",
        "from sklearn.kernel_ridge import KernelRidge\n",
        "\n",
        "from sklearn.ensemble import BaggingRegressor\n",
        "\n",
        "from sklearn.ensemble import GradientBoostingRegressor\n",
        "import xgboost as xgb\n",
        "import lightgbm as lgb\n",
        "from sklearn.ensemble import StackingRegressor\n",
        "\n",
        "from sklearn.model_selection import cross_val_score\n",
        "from sklearn.model_selection import cross_val_predict\n",
        "from sklearn.metrics import mean_squared_error\n",
        "\n",
        "\n",
        "%config InlineBackend.figure_format = 'png' #set 'png' here when working on notebook\n",
        "%matplotlib inline"
      ],
      "execution_count": null,
      "outputs": []
    },
    {
      "cell_type": "code",
      "metadata": {
        "execution": {
          "iopub.status.busy": "2021-09-14T02:57:05.494278Z",
          "iopub.execute_input": "2021-09-14T02:57:05.494506Z",
          "iopub.status.idle": "2021-09-14T02:57:05.548790Z",
          "shell.execute_reply.started": "2021-09-14T02:57:05.494479Z",
          "shell.execute_reply": "2021-09-14T02:57:05.548135Z"
        },
        "trusted": true,
        "id": "uDa3Z3mIk7Vt"
      },
      "source": [
        "train = pd.read_csv(\"../input/house-prices-advanced-regression-techniques/train.csv\")\n",
        "test = pd.read_csv(\"../input/house-prices-advanced-regression-techniques/test.csv\")"
      ],
      "execution_count": null,
      "outputs": []
    },
    {
      "cell_type": "code",
      "metadata": {
        "execution": {
          "iopub.status.busy": "2021-09-14T02:57:05.550921Z",
          "iopub.execute_input": "2021-09-14T02:57:05.551348Z",
          "iopub.status.idle": "2021-09-14T02:57:05.579971Z",
          "shell.execute_reply.started": "2021-09-14T02:57:05.551306Z",
          "shell.execute_reply": "2021-09-14T02:57:05.579153Z"
        },
        "trusted": true,
        "id": "CXi5BpLTk7Vt",
        "outputId": "3ae1fa43-25fb-4c88-beed-05501fee4f0b"
      },
      "source": [
        "train.head()"
      ],
      "execution_count": null,
      "outputs": [
        {
          "execution_count": 127,
          "output_type": "execute_result",
          "data": {
            "text/plain": "   Id  MSSubClass MSZoning  LotFrontage  LotArea Street Alley LotShape  \\\n0   1          60       RL         65.0     8450   Pave   NaN      Reg   \n1   2          20       RL         80.0     9600   Pave   NaN      Reg   \n2   3          60       RL         68.0    11250   Pave   NaN      IR1   \n3   4          70       RL         60.0     9550   Pave   NaN      IR1   \n4   5          60       RL         84.0    14260   Pave   NaN      IR1   \n\n  LandContour Utilities  ... PoolArea PoolQC Fence MiscFeature MiscVal MoSold  \\\n0         Lvl    AllPub  ...        0    NaN   NaN         NaN       0      2   \n1         Lvl    AllPub  ...        0    NaN   NaN         NaN       0      5   \n2         Lvl    AllPub  ...        0    NaN   NaN         NaN       0      9   \n3         Lvl    AllPub  ...        0    NaN   NaN         NaN       0      2   \n4         Lvl    AllPub  ...        0    NaN   NaN         NaN       0     12   \n\n  YrSold  SaleType  SaleCondition  SalePrice  \n0   2008        WD         Normal     208500  \n1   2007        WD         Normal     181500  \n2   2008        WD         Normal     223500  \n3   2006        WD        Abnorml     140000  \n4   2008        WD         Normal     250000  \n\n[5 rows x 81 columns]",
            "text/html": "<div>\n<style scoped>\n    .dataframe tbody tr th:only-of-type {\n        vertical-align: middle;\n    }\n\n    .dataframe tbody tr th {\n        vertical-align: top;\n    }\n\n    .dataframe thead th {\n        text-align: right;\n    }\n</style>\n<table border=\"1\" class=\"dataframe\">\n  <thead>\n    <tr style=\"text-align: right;\">\n      <th></th>\n      <th>Id</th>\n      <th>MSSubClass</th>\n      <th>MSZoning</th>\n      <th>LotFrontage</th>\n      <th>LotArea</th>\n      <th>Street</th>\n      <th>Alley</th>\n      <th>LotShape</th>\n      <th>LandContour</th>\n      <th>Utilities</th>\n      <th>...</th>\n      <th>PoolArea</th>\n      <th>PoolQC</th>\n      <th>Fence</th>\n      <th>MiscFeature</th>\n      <th>MiscVal</th>\n      <th>MoSold</th>\n      <th>YrSold</th>\n      <th>SaleType</th>\n      <th>SaleCondition</th>\n      <th>SalePrice</th>\n    </tr>\n  </thead>\n  <tbody>\n    <tr>\n      <th>0</th>\n      <td>1</td>\n      <td>60</td>\n      <td>RL</td>\n      <td>65.0</td>\n      <td>8450</td>\n      <td>Pave</td>\n      <td>NaN</td>\n      <td>Reg</td>\n      <td>Lvl</td>\n      <td>AllPub</td>\n      <td>...</td>\n      <td>0</td>\n      <td>NaN</td>\n      <td>NaN</td>\n      <td>NaN</td>\n      <td>0</td>\n      <td>2</td>\n      <td>2008</td>\n      <td>WD</td>\n      <td>Normal</td>\n      <td>208500</td>\n    </tr>\n    <tr>\n      <th>1</th>\n      <td>2</td>\n      <td>20</td>\n      <td>RL</td>\n      <td>80.0</td>\n      <td>9600</td>\n      <td>Pave</td>\n      <td>NaN</td>\n      <td>Reg</td>\n      <td>Lvl</td>\n      <td>AllPub</td>\n      <td>...</td>\n      <td>0</td>\n      <td>NaN</td>\n      <td>NaN</td>\n      <td>NaN</td>\n      <td>0</td>\n      <td>5</td>\n      <td>2007</td>\n      <td>WD</td>\n      <td>Normal</td>\n      <td>181500</td>\n    </tr>\n    <tr>\n      <th>2</th>\n      <td>3</td>\n      <td>60</td>\n      <td>RL</td>\n      <td>68.0</td>\n      <td>11250</td>\n      <td>Pave</td>\n      <td>NaN</td>\n      <td>IR1</td>\n      <td>Lvl</td>\n      <td>AllPub</td>\n      <td>...</td>\n      <td>0</td>\n      <td>NaN</td>\n      <td>NaN</td>\n      <td>NaN</td>\n      <td>0</td>\n      <td>9</td>\n      <td>2008</td>\n      <td>WD</td>\n      <td>Normal</td>\n      <td>223500</td>\n    </tr>\n    <tr>\n      <th>3</th>\n      <td>4</td>\n      <td>70</td>\n      <td>RL</td>\n      <td>60.0</td>\n      <td>9550</td>\n      <td>Pave</td>\n      <td>NaN</td>\n      <td>IR1</td>\n      <td>Lvl</td>\n      <td>AllPub</td>\n      <td>...</td>\n      <td>0</td>\n      <td>NaN</td>\n      <td>NaN</td>\n      <td>NaN</td>\n      <td>0</td>\n      <td>2</td>\n      <td>2006</td>\n      <td>WD</td>\n      <td>Abnorml</td>\n      <td>140000</td>\n    </tr>\n    <tr>\n      <th>4</th>\n      <td>5</td>\n      <td>60</td>\n      <td>RL</td>\n      <td>84.0</td>\n      <td>14260</td>\n      <td>Pave</td>\n      <td>NaN</td>\n      <td>IR1</td>\n      <td>Lvl</td>\n      <td>AllPub</td>\n      <td>...</td>\n      <td>0</td>\n      <td>NaN</td>\n      <td>NaN</td>\n      <td>NaN</td>\n      <td>0</td>\n      <td>12</td>\n      <td>2008</td>\n      <td>WD</td>\n      <td>Normal</td>\n      <td>250000</td>\n    </tr>\n  </tbody>\n</table>\n<p>5 rows × 81 columns</p>\n</div>"
          },
          "metadata": {}
        }
      ]
    },
    {
      "cell_type": "code",
      "metadata": {
        "execution": {
          "iopub.status.busy": "2021-09-14T02:57:05.581128Z",
          "iopub.execute_input": "2021-09-14T02:57:05.581328Z",
          "iopub.status.idle": "2021-09-14T02:57:05.604551Z",
          "shell.execute_reply.started": "2021-09-14T02:57:05.581305Z",
          "shell.execute_reply": "2021-09-14T02:57:05.603829Z"
        },
        "trusted": true,
        "id": "YswfS1suk7Vu"
      },
      "source": [
        "all_data = pd.concat((train.loc[:,'MSSubClass':'SaleCondition'],\n",
        "                      test.loc[:,'MSSubClass':'SaleCondition']))"
      ],
      "execution_count": null,
      "outputs": []
    },
    {
      "cell_type": "code",
      "metadata": {
        "execution": {
          "iopub.status.busy": "2021-09-14T02:57:05.605816Z",
          "iopub.execute_input": "2021-09-14T02:57:05.606011Z",
          "iopub.status.idle": "2021-09-14T02:57:05.640786Z",
          "shell.execute_reply.started": "2021-09-14T02:57:05.605988Z",
          "shell.execute_reply": "2021-09-14T02:57:05.640010Z"
        },
        "trusted": true,
        "id": "FL2OHSFdk7Vu"
      },
      "source": [
        "#log transform the target:\n",
        "train[\"SalePrice\"] = np.log1p(train[\"SalePrice\"])\n",
        "\n",
        "#log transform skewed numeric features:\n",
        "numeric_feats = all_data.dtypes[all_data.dtypes != \"object\"].index\n",
        "\n",
        "skewed_feats = train[numeric_feats].apply(lambda x: skew(x.dropna())) #compute skewness\n",
        "skewed_feats = skewed_feats[skewed_feats > 0.75]\n",
        "skewed_feats = skewed_feats.index\n",
        "\n",
        "all_data[skewed_feats] = np.log1p(all_data[skewed_feats])"
      ],
      "execution_count": null,
      "outputs": []
    },
    {
      "cell_type": "code",
      "metadata": {
        "execution": {
          "iopub.status.busy": "2021-09-14T02:57:05.641893Z",
          "iopub.execute_input": "2021-09-14T02:57:05.642127Z",
          "iopub.status.idle": "2021-09-14T02:57:05.754778Z",
          "shell.execute_reply.started": "2021-09-14T02:57:05.642099Z",
          "shell.execute_reply": "2021-09-14T02:57:05.753875Z"
        },
        "trusted": true,
        "id": "hvZTZerCk7Vu"
      },
      "source": [
        "all_data = pd.get_dummies(all_data)\n",
        "all_data = all_data.fillna(all_data.mean())"
      ],
      "execution_count": null,
      "outputs": []
    },
    {
      "cell_type": "code",
      "metadata": {
        "execution": {
          "iopub.status.busy": "2021-09-14T02:57:05.755866Z",
          "iopub.execute_input": "2021-09-14T02:57:05.756122Z",
          "iopub.status.idle": "2021-09-14T02:57:05.771364Z",
          "shell.execute_reply.started": "2021-09-14T02:57:05.756092Z",
          "shell.execute_reply": "2021-09-14T02:57:05.770408Z"
        },
        "trusted": true,
        "id": "qrNA50TDk7Vv",
        "outputId": "25258f70-af20-4a2c-c748-de77e5223d6f"
      },
      "source": [
        "X_train = all_data[:train.shape[0]]\n",
        "print(X_train)\n"
      ],
      "execution_count": null,
      "outputs": [
        {
          "name": "stdout",
          "text": "      MSSubClass  LotFrontage   LotArea  OverallQual  OverallCond  YearBuilt  \\\n0       4.110874     4.189655  9.042040            7            5       2003   \n1       3.044522     4.394449  9.169623            6            8       1976   \n2       4.110874     4.234107  9.328212            7            5       2001   \n3       4.262680     4.110874  9.164401            7            5       1915   \n4       4.110874     4.442651  9.565284            8            5       2000   \n...          ...          ...       ...          ...          ...        ...   \n1455    4.110874     4.143135  8.976894            6            5       1999   \n1456    3.044522     4.454347  9.486152            6            6       1978   \n1457    4.262680     4.204693  9.109746            7            9       1941   \n1458    3.044522     4.234107  9.181735            5            6       1950   \n1459    3.044522     4.330733  9.204121            5            6       1965   \n\n      YearRemodAdd  MasVnrArea  BsmtFinSF1  BsmtFinSF2  ...  SaleType_ConLw  \\\n0             2003    5.283204    6.561031    0.000000  ...               0   \n1             1976    0.000000    6.886532    0.000000  ...               0   \n2             2002    5.093750    6.188264    0.000000  ...               0   \n3             1970    0.000000    5.379897    0.000000  ...               0   \n4             2000    5.860786    6.486161    0.000000  ...               0   \n...            ...         ...         ...         ...  ...             ...   \n1455          2000    0.000000    0.000000    0.000000  ...               0   \n1456          1988    4.787492    6.673298    5.099866  ...               0   \n1457          2006    0.000000    5.620401    0.000000  ...               0   \n1458          1996    0.000000    3.912023    6.937314  ...               0   \n1459          1965    0.000000    6.722630    5.673323  ...               0   \n\n      SaleType_New  SaleType_Oth  SaleType_WD  SaleCondition_Abnorml  \\\n0                0             0            1                      0   \n1                0             0            1                      0   \n2                0             0            1                      0   \n3                0             0            1                      1   \n4                0             0            1                      0   \n...            ...           ...          ...                    ...   \n1455             0             0            1                      0   \n1456             0             0            1                      0   \n1457             0             0            1                      0   \n1458             0             0            1                      0   \n1459             0             0            1                      0   \n\n      SaleCondition_AdjLand  SaleCondition_Alloca  SaleCondition_Family  \\\n0                         0                     0                     0   \n1                         0                     0                     0   \n2                         0                     0                     0   \n3                         0                     0                     0   \n4                         0                     0                     0   \n...                     ...                   ...                   ...   \n1455                      0                     0                     0   \n1456                      0                     0                     0   \n1457                      0                     0                     0   \n1458                      0                     0                     0   \n1459                      0                     0                     0   \n\n      SaleCondition_Normal  SaleCondition_Partial  \n0                        1                      0  \n1                        1                      0  \n2                        1                      0  \n3                        0                      0  \n4                        1                      0  \n...                    ...                    ...  \n1455                     1                      0  \n1456                     1                      0  \n1457                     1                      0  \n1458                     1                      0  \n1459                     1                      0  \n\n[1460 rows x 288 columns]\n",
          "output_type": "stream"
        }
      ]
    },
    {
      "cell_type": "code",
      "metadata": {
        "execution": {
          "iopub.status.busy": "2021-09-14T02:57:05.774571Z",
          "iopub.execute_input": "2021-09-14T02:57:05.774863Z",
          "iopub.status.idle": "2021-09-14T02:57:05.783064Z",
          "shell.execute_reply.started": "2021-09-14T02:57:05.774827Z",
          "shell.execute_reply": "2021-09-14T02:57:05.782524Z"
        },
        "trusted": true,
        "id": "qHLYgUWhk7Vv",
        "outputId": "aa7853a0-a57e-4c9e-8849-1bb4a5ad7462"
      },
      "source": [
        "print(train.shape[0])"
      ],
      "execution_count": null,
      "outputs": [
        {
          "name": "stdout",
          "text": "1460\n",
          "output_type": "stream"
        }
      ]
    },
    {
      "cell_type": "code",
      "metadata": {
        "execution": {
          "iopub.status.busy": "2021-09-14T02:57:05.783899Z",
          "iopub.execute_input": "2021-09-14T02:57:05.784109Z",
          "iopub.status.idle": "2021-09-14T02:57:05.807016Z",
          "shell.execute_reply.started": "2021-09-14T02:57:05.784086Z",
          "shell.execute_reply": "2021-09-14T02:57:05.806003Z"
        },
        "trusted": true,
        "id": "iAD4HC0Nk7Vw",
        "outputId": "5a218647-e6eb-4078-f262-d0ffd26bf8ca"
      },
      "source": [
        "X_test = all_data[train.shape[0]:]\n",
        "print(X_test)"
      ],
      "execution_count": null,
      "outputs": [
        {
          "name": "stdout",
          "text": "      MSSubClass  LotFrontage   LotArea  OverallQual  OverallCond  YearBuilt  \\\n0       3.044522     4.394449  9.360741            5            6       1961   \n1       3.044522     4.406719  9.565775            6            6       1958   \n2       4.110874     4.317488  9.534668            5            5       1997   \n3       4.110874     4.369448  9.208238            6            6       1998   \n4       4.795791     3.784190  8.518392            8            5       1992   \n...          ...          ...       ...          ...          ...        ...   \n1454    5.081404     3.091042  7.568896            4            7       1970   \n1455    5.081404     3.091042  7.546974            4            5       1970   \n1456    3.044522     5.081404  9.903538            5            7       1960   \n1457    4.454347     4.143135  9.253591            5            5       1992   \n1458    4.110874     4.317488  9.172431            7            5       1993   \n\n      YearRemodAdd  MasVnrArea  BsmtFinSF1  BsmtFinSF2  ...  SaleType_ConLw  \\\n0             1961    0.000000    6.150603    4.976734  ...               0   \n1             1958    4.691348    6.828712    0.000000  ...               0   \n2             1998    0.000000    6.674561    0.000000  ...               0   \n3             1998    3.044522    6.401917    0.000000  ...               0   \n4             1992    0.000000    5.575949    0.000000  ...               0   \n...            ...         ...         ...         ...  ...             ...   \n1454          1970    0.000000    0.000000    0.000000  ...               0   \n1455          1970    0.000000    5.533389    0.000000  ...               0   \n1456          1996    0.000000    7.110696    0.000000  ...               0   \n1457          1992    0.000000    5.823046    0.000000  ...               0   \n1458          1994    4.553877    6.632002    0.000000  ...               0   \n\n      SaleType_New  SaleType_Oth  SaleType_WD  SaleCondition_Abnorml  \\\n0                0             0            1                      0   \n1                0             0            1                      0   \n2                0             0            1                      0   \n3                0             0            1                      0   \n4                0             0            1                      0   \n...            ...           ...          ...                    ...   \n1454             0             0            1                      0   \n1455             0             0            1                      1   \n1456             0             0            1                      1   \n1457             0             0            1                      0   \n1458             0             0            1                      0   \n\n      SaleCondition_AdjLand  SaleCondition_Alloca  SaleCondition_Family  \\\n0                         0                     0                     0   \n1                         0                     0                     0   \n2                         0                     0                     0   \n3                         0                     0                     0   \n4                         0                     0                     0   \n...                     ...                   ...                   ...   \n1454                      0                     0                     0   \n1455                      0                     0                     0   \n1456                      0                     0                     0   \n1457                      0                     0                     0   \n1458                      0                     0                     0   \n\n      SaleCondition_Normal  SaleCondition_Partial  \n0                        1                      0  \n1                        1                      0  \n2                        1                      0  \n3                        1                      0  \n4                        1                      0  \n...                    ...                    ...  \n1454                     1                      0  \n1455                     0                      0  \n1456                     0                      0  \n1457                     1                      0  \n1458                     1                      0  \n\n[1459 rows x 288 columns]\n",
          "output_type": "stream"
        }
      ]
    },
    {
      "cell_type": "code",
      "metadata": {
        "execution": {
          "iopub.status.busy": "2021-09-14T02:57:05.808372Z",
          "iopub.execute_input": "2021-09-14T02:57:05.808681Z",
          "iopub.status.idle": "2021-09-14T02:57:05.813368Z",
          "shell.execute_reply.started": "2021-09-14T02:57:05.808644Z",
          "shell.execute_reply": "2021-09-14T02:57:05.812174Z"
        },
        "trusted": true,
        "id": "_imKyXrak7Vw"
      },
      "source": [
        "y=train.SalePrice"
      ],
      "execution_count": null,
      "outputs": []
    },
    {
      "cell_type": "code",
      "metadata": {
        "execution": {
          "iopub.status.busy": "2021-09-14T02:57:05.814370Z",
          "iopub.execute_input": "2021-09-14T02:57:05.814588Z",
          "iopub.status.idle": "2021-09-14T02:57:05.824355Z",
          "shell.execute_reply.started": "2021-09-14T02:57:05.814563Z",
          "shell.execute_reply": "2021-09-14T02:57:05.823705Z"
        },
        "trusted": true,
        "id": "cQow7ywrk7Vw"
      },
      "source": [
        "from sklearn.linear_model import Ridge, RidgeCV, ElasticNet, LassoCV, LassoLarsCV\n",
        "from sklearn.model_selection import cross_val_score\n",
        "models_scores = []\n",
        "def rmse_cv(model):\n",
        "    rmse= np.sqrt(-cross_val_score(model, X_train, y, scoring=\"neg_mean_squared_error\", cv = 5))\n",
        "    return(rmse)"
      ],
      "execution_count": null,
      "outputs": []
    },
    {
      "cell_type": "code",
      "metadata": {
        "execution": {
          "iopub.status.busy": "2021-09-14T02:57:05.825450Z",
          "iopub.execute_input": "2021-09-14T02:57:05.826225Z",
          "iopub.status.idle": "2021-09-14T02:57:05.884954Z",
          "shell.execute_reply.started": "2021-09-14T02:57:05.826157Z",
          "shell.execute_reply": "2021-09-14T02:57:05.884144Z"
        },
        "trusted": true,
        "id": "3LqqfTIEk7Vw",
        "outputId": "6e3544c4-29e5-4339-a39a-6e60b7785d61"
      },
      "source": [
        "model_ridge = Ridge(alpha=0.1)\n",
        "model_ridge.fit(X_train,y)\n",
        "\n",
        "y_pred=model_ridge.predict(X_test)\n",
        "\n",
        "d = {'Id': test.loc[:,'Id'],'SalePrice': y_pred}\n",
        "print(d)\n",
        "yprediction= pd.DataFrame(data=d)\n",
        "yprediction.to_csv(\"ypred_3.csv\")"
      ],
      "execution_count": null,
      "outputs": [
        {
          "name": "stdout",
          "text": "{'Id': 0       1461\n1       1462\n2       1463\n3       1464\n4       1465\n        ... \n1454    2915\n1455    2916\n1456    2917\n1457    2918\n1458    2919\nName: Id, Length: 1459, dtype: int64, 'SalePrice': array([11.70783814, 11.98066966, 12.14367438, ..., 12.08257596,\n       11.70858722, 12.29762649])}\n",
          "output_type": "stream"
        }
      ]
    },
    {
      "cell_type": "code",
      "metadata": {
        "execution": {
          "iopub.status.busy": "2021-09-14T02:57:05.886557Z",
          "iopub.execute_input": "2021-09-14T02:57:05.887036Z",
          "iopub.status.idle": "2021-09-14T02:57:07.523457Z",
          "shell.execute_reply.started": "2021-09-14T02:57:05.886992Z",
          "shell.execute_reply": "2021-09-14T02:57:07.522968Z"
        },
        "trusted": true,
        "id": "RO7xzGu9k7Vx",
        "outputId": "b4e5b5e5-3c5d-4931-d98e-4b2615a3966e"
      },
      "source": [
        "alphas = [0.05, 0.1, 0.3, 1, 3, 5, 10, 15, 30, 50, 75]\n",
        "cv_ridge = [rmse_cv(Ridge(alpha = alpha)).mean() \n",
        "            for alpha in alphas]\n",
        "cv_ridge = pd.Series(cv_ridge, index = alphas)\n",
        "cv_ridge.plot(title = \"Validation -for Ridge model\")\n",
        "plt.xlabel(\"alpha\")\n",
        "plt.ylabel(\"rmse\")\n",
        "cv_ridge.min()\n",
        "\n",
        "models_scores.append(['RidgeRegression', cv_ridge.min()])"
      ],
      "execution_count": null,
      "outputs": [
        {
          "output_type": "display_data",
          "data": {
            "text/plain": "<Figure size 432x288 with 1 Axes>",
            "image/png": "[encoded data removed]"
          },
          "metadata": {
            "needs_background": "light"
          }
        }
      ]
    },
    {
      "cell_type": "code",
      "metadata": {
        "execution": {
          "iopub.status.busy": "2021-09-14T02:57:07.524471Z",
          "iopub.execute_input": "2021-09-14T02:57:07.524749Z",
          "iopub.status.idle": "2021-09-14T02:57:07.527073Z",
          "shell.execute_reply.started": "2021-09-14T02:57:07.524725Z",
          "shell.execute_reply": "2021-09-14T02:57:07.526537Z"
        },
        "trusted": true,
        "id": "2T2H9Siqk7Vx"
      },
      "source": [
        "\n",
        "# score=rmse_cv(model_lasso).mean()\n",
        "# models_scores.append(['LassoRegression',score])"
      ],
      "execution_count": null,
      "outputs": []
    },
    {
      "cell_type": "code",
      "metadata": {
        "execution": {
          "iopub.status.busy": "2021-09-14T02:57:07.527941Z",
          "iopub.execute_input": "2021-09-14T02:57:07.528136Z",
          "iopub.status.idle": "2021-09-14T02:57:11.472835Z",
          "shell.execute_reply.started": "2021-09-14T02:57:07.528113Z",
          "shell.execute_reply": "2021-09-14T02:57:11.472171Z"
        },
        "trusted": true,
        "id": "eXKiFbCtk7Vx",
        "outputId": "ce4061d9-eab1-434b-b607-ec41504c154e"
      },
      "source": [
        "l0_array = []\n",
        "alphas = [1, 0.1, 0.001, 0.0005,0.0002]\n",
        "\n",
        "for alpha in alphas: \n",
        "    l0=0\n",
        "    print(alpha)\n",
        "    model_lasso = LassoCV(alphas = [alpha]).fit(X_train, y)\n",
        "\n",
        "\n",
        "    rmse_cv(model_lasso).mean()\n",
        "    coef = pd.Series(model_lasso.coef_, index = X_train.columns)\n",
        "    print(\"Lasso picked \" + str(sum(coef != 0)) + \" variables and eliminated the other \" +  str(sum(coef == 0)) + \" variables\")\n",
        "    #print(imp_coef)\n",
        "    print(str(sum(coef != 0)))\n",
        "    l0 = str(sum(coef != 0))\n",
        "    '''for value in coef:\n",
        "        #print(value)\n",
        "        if value>0.0:\n",
        "\n",
        "            l0= l0 + 1.0\n",
        "    print(\"l0 norm :\" + str(l0))'''\n",
        "    \n",
        "    l0_array.append(l0)\n",
        "print(l0_array)\n",
        "plt.plot(alphas, l0_array)"
      ],
      "execution_count": null,
      "outputs": [
        {
          "name": "stdout",
          "text": "1\nLasso picked 3 variables and eliminated the other 285 variables\n3\n0.1\nLasso picked 8 variables and eliminated the other 280 variables\n8\n0.001\nLasso picked 79 variables and eliminated the other 209 variables\n79\n0.0005\nLasso picked 110 variables and eliminated the other 178 variables\n110\n0.0002\nLasso picked 158 variables and eliminated the other 130 variables\n158\n['3', '8', '79', '110', '158']\n",
          "output_type": "stream"
        },
        {
          "execution_count": 139,
          "output_type": "execute_result",
          "data": {
            "text/plain": "[<matplotlib.lines.Line2D at 0x7f2d1d699d50>]"
          },
          "metadata": {}
        },
        {
          "output_type": "display_data",
          "data": {
            "text/plain": "<Figure size 432x288 with 1 Axes>",
            "image/png": "[encoded data removed]"
          },
          "metadata": {
            "needs_background": "light"
          }
        }
      ]
    },
    {
      "cell_type": "code",
      "metadata": {
        "execution": {
          "iopub.status.busy": "2021-09-14T02:57:11.474123Z",
          "iopub.execute_input": "2021-09-14T02:57:11.474567Z",
          "iopub.status.idle": "2021-09-14T02:57:11.817267Z",
          "shell.execute_reply.started": "2021-09-14T02:57:11.474528Z",
          "shell.execute_reply": "2021-09-14T02:57:11.816191Z"
        },
        "trusted": true,
        "id": "e40_jLm7k7Vy",
        "outputId": "96788170-c06d-45a4-d877-3c0d8ace0038"
      },
      "source": [
        "model_lasso = LassoCV(0.0005)\n",
        "\n",
        "model_lasso.fit(X_train,y)\n",
        "y_pred_lasso=model_lasso.predict(X_test)\n",
        "d = { 'Id': test.loc[:,'Id'],'SalePrice': y_pred_lasso}\n",
        "print(d)\n",
        "yprediction_1 = pd.DataFrame(data=d)\n",
        "print(yprediction_1)\n",
        "yprediction_1.to_csv(\"ypred_lasso_d2.csv\")"
      ],
      "execution_count": null,
      "outputs": [
        {
          "name": "stdout",
          "text": "{'Id': 0       1461\n1       1462\n2       1463\n3       1464\n4       1465\n        ... \n1454    2915\n1455    2916\n1456    2917\n1457    2918\n1458    2919\nName: Id, Length: 1459, dtype: int64, 'SalePrice': array([11.91535396, 11.88896185, 12.03278108, ..., 12.08521852,\n       11.77724315, 12.44541016])}\n        Id  SalePrice\n0     1461  11.915354\n1     1462  11.888962\n2     1463  12.032781\n3     1464  12.182499\n4     1465  12.228541\n...    ...        ...\n1454  2915  11.366780\n1455  2916  11.645279\n1456  2917  12.085219\n1457  2918  11.777243\n1458  2919  12.445410\n\n[1459 rows x 2 columns]\n",
          "output_type": "stream"
        }
      ]
    },
    {
      "cell_type": "code",
      "metadata": {
        "execution": {
          "iopub.status.busy": "2021-09-14T02:57:11.819172Z",
          "iopub.execute_input": "2021-09-14T02:57:11.820174Z",
          "iopub.status.idle": "2021-09-14T02:57:11.840891Z",
          "shell.execute_reply.started": "2021-09-14T02:57:11.820121Z",
          "shell.execute_reply": "2021-09-14T02:57:11.839910Z"
        },
        "trusted": true,
        "id": "2ds8K8HVk7Vz",
        "outputId": "94f0a359-a103-4644-cbeb-0cb6d48d7d46"
      },
      "source": [
        "from sklearn.metrics import r2_score\n",
        "\n",
        "y_pred_lasso=pd.DataFrame(model_lasso.predict(X_train))\n",
        "# print(y_pred_lasso)\n",
        "r2_score(y, y_pred_lasso)\n",
        "\n"
      ],
      "execution_count": null,
      "outputs": [
        {
          "execution_count": 141,
          "output_type": "execute_result",
          "data": {
            "text/plain": "0.8183875162214399"
          },
          "metadata": {}
        }
      ]
    },
    {
      "cell_type": "code",
      "metadata": {
        "execution": {
          "iopub.status.busy": "2021-09-14T02:57:11.842818Z",
          "iopub.execute_input": "2021-09-14T02:57:11.843499Z",
          "iopub.status.idle": "2021-09-14T02:57:11.877047Z",
          "shell.execute_reply.started": "2021-09-14T02:57:11.843449Z",
          "shell.execute_reply": "2021-09-14T02:57:11.876126Z"
        },
        "trusted": true,
        "id": "4vRW2662k7Vz",
        "outputId": "af5a2d8e-3a78-4824-850c-785e119ced6f"
      },
      "source": [
        "model_ridge.fit(X_train,y)\n",
        "\n",
        "y_pred_ridge=model_ridge.predict(X_train)\n",
        "# print(y_pred_ridge)\n",
        "r2_score(y, y_pred_ridge)"
      ],
      "execution_count": null,
      "outputs": [
        {
          "execution_count": 142,
          "output_type": "execute_result",
          "data": {
            "text/plain": "0.9467796208959164"
          },
          "metadata": {}
        }
      ]
    },
    {
      "cell_type": "code",
      "metadata": {
        "execution": {
          "iopub.status.busy": "2021-09-14T02:57:11.878964Z",
          "iopub.execute_input": "2021-09-14T02:57:11.879616Z",
          "iopub.status.idle": "2021-09-14T02:57:11.888136Z",
          "shell.execute_reply.started": "2021-09-14T02:57:11.879567Z",
          "shell.execute_reply": "2021-09-14T02:57:11.887259Z"
        },
        "trusted": true,
        "id": "vjp1m82ek7Vz"
      },
      "source": [
        "import pandas as pd\n",
        "Xtrain_modified=X_train.copy()\n",
        "\n",
        "Xtrain_modified['y_pred_l']=y_pred_lasso\n",
        "Xtrain_modified['y_lasso']=y_pred_lasso"
      ],
      "execution_count": null,
      "outputs": []
    },
    {
      "cell_type": "code",
      "metadata": {
        "execution": {
          "iopub.status.busy": "2021-09-14T02:57:11.889960Z",
          "iopub.execute_input": "2021-09-14T02:57:11.890574Z",
          "iopub.status.idle": "2021-09-14T02:57:11.925202Z",
          "shell.execute_reply.started": "2021-09-14T02:57:11.890529Z",
          "shell.execute_reply": "2021-09-14T02:57:11.924357Z"
        },
        "trusted": true,
        "id": "8OiCrZsXk7Vz",
        "outputId": "cfbbdc64-d7af-4a2f-a2e1-f153129d61ed"
      },
      "source": [
        "model_ridge = Ridge(alpha=0.1)\n",
        "model_ridge.fit(Xtrain_modified,y)\n",
        "y_pred_f=model_ridge.predict(Xtrain_modified)\n",
        "r2_score(y, y_pred_f)\n"
      ],
      "execution_count": null,
      "outputs": [
        {
          "execution_count": 144,
          "output_type": "execute_result",
          "data": {
            "text/plain": "0.9467796212943842"
          },
          "metadata": {}
        }
      ]
    },
    {
      "cell_type": "code",
      "metadata": {
        "execution": {
          "iopub.status.busy": "2021-09-14T02:57:11.927098Z",
          "iopub.execute_input": "2021-09-14T02:57:11.927726Z",
          "iopub.status.idle": "2021-09-14T02:57:11.932487Z",
          "shell.execute_reply.started": "2021-09-14T02:57:11.927676Z",
          "shell.execute_reply": "2021-09-14T02:57:11.931582Z"
        },
        "trusted": true,
        "id": "lBqEXS1Rk7Vz"
      },
      "source": [
        "random_state = 42\n",
        "n_jobs = -1"
      ],
      "execution_count": null,
      "outputs": []
    },
    {
      "cell_type": "code",
      "metadata": {
        "execution": {
          "iopub.status.busy": "2021-09-14T02:57:11.936995Z",
          "iopub.execute_input": "2021-09-14T02:57:11.937634Z",
          "iopub.status.idle": "2021-09-14T02:57:11.947821Z",
          "shell.execute_reply.started": "2021-09-14T02:57:11.937588Z",
          "shell.execute_reply": "2021-09-14T02:57:11.947013Z"
        },
        "trusted": true,
        "id": "USLGV38uk7V0"
      },
      "source": [
        "elastic_net = make_pipeline(RobustScaler(), ElasticNet(alpha=0.0005, l1_ratio= .9, random_state= random_state))\n",
        "kernel_ridge= KernelRidge(alpha=0.6, kernel='polynomial', degree=2, coef0=2.5)\n",
        "xgb_regressor= xgb.XGBRegressor(colsample_bytree=0.4603, gamma=0.0468, \n",
        "                             learning_rate=0.05, max_depth=3, \n",
        "                             min_child_weight=1.7817, n_estimators=2200,\n",
        "                             reg_alpha=0.4640, reg_lambda=0.8571,\n",
        "                             subsample=0.5213,verbosity=0, nthread = -1, random_state = random_state)\n",
        "lasso = make_pipeline(RobustScaler(), Lasso(alpha=0.0005, random_state= random_state))"
      ],
      "execution_count": null,
      "outputs": []
    },
    {
      "cell_type": "code",
      "metadata": {
        "execution": {
          "iopub.status.busy": "2021-09-14T02:57:55.211281Z",
          "iopub.execute_input": "2021-09-14T02:57:55.211903Z",
          "iopub.status.idle": "2021-09-14T02:58:03.902948Z",
          "shell.execute_reply.started": "2021-09-14T02:57:55.211856Z",
          "shell.execute_reply": "2021-09-14T02:58:03.902071Z"
        },
        "trusted": true,
        "id": "vAVCQPa6k7V0",
        "outputId": "c884608d-237e-42a1-f520-f968edcf3a3a"
      },
      "source": [
        "import xgboost as xgb\n",
        "dtrain = xgb.DMatrix(X_train, label = y)\n",
        "dtest = xgb.DMatrix(X_test)\n",
        "\n",
        "params = {\"max_depth\":2, \"eta\":0.1}\n",
        "model = xgb.cv(params, dtrain,  num_boost_round=500, early_stopping_rounds=100)\n",
        "model.loc[30:,[\"test-rmse-mean\", \"train-rmse-mean\"]].plot()\n",
        "\n",
        "model_xgb = xgb.XGBRegressor(n_estimators=360, max_depth=2, learning_rate=0.1) #the params were tuned using xgb.cv\n",
        "model_xgb.fit(X_train, y)"
      ],
      "execution_count": null,
      "outputs": [
        {
          "execution_count": 148,
          "output_type": "execute_result",
          "data": {
            "text/plain": "XGBRegressor(base_score=0.5, booster='gbtree', colsample_bylevel=1,\n             colsample_bynode=1, colsample_bytree=1, gamma=0, gpu_id=-1,\n             importance_type='gain', interaction_constraints='',\n             learning_rate=0.1, max_delta_step=0, max_depth=2,\n             min_child_weight=1, missing=nan, monotone_constraints='()',\n             n_estimators=360, n_jobs=4, num_parallel_tree=1, random_state=0,\n             reg_alpha=0, reg_lambda=1, scale_pos_weight=1, subsample=1,\n             tree_method='exact', validate_parameters=1, verbosity=None)"
          },
          "metadata": {}
        },
        {
          "output_type": "display_data",
          "data": {
            "text/plain": "<Figure size 432x288 with 1 Axes>",
            "image/png": "[encoded data removed]"
          },
          "metadata": {
            "needs_background": "light"
          }
        }
      ]
    },
    {
      "cell_type": "code",
      "metadata": {
        "execution": {
          "iopub.status.busy": "2021-09-14T02:58:03.904067Z",
          "iopub.execute_input": "2021-09-14T02:58:03.904278Z",
          "iopub.status.idle": "2021-09-14T02:58:03.918108Z",
          "shell.execute_reply.started": "2021-09-14T02:58:03.904252Z",
          "shell.execute_reply": "2021-09-14T02:58:03.917467Z"
        },
        "trusted": true,
        "id": "2OeB1kTik7V0"
      },
      "source": [
        "xgb_preds = np.expm1(model_xgb.predict(X_test))"
      ],
      "execution_count": null,
      "outputs": []
    },
    {
      "cell_type": "code",
      "metadata": {
        "execution": {
          "iopub.status.busy": "2021-09-14T02:58:16.491309Z",
          "iopub.execute_input": "2021-09-14T02:58:16.491624Z",
          "iopub.status.idle": "2021-09-14T02:58:16.503793Z",
          "shell.execute_reply.started": "2021-09-14T02:58:16.491598Z",
          "shell.execute_reply": "2021-09-14T02:58:16.503078Z"
        },
        "trusted": true,
        "id": "DuotKzLYk7V0"
      },
      "source": [
        "solution = pd.DataFrame({\"id\":test.Id, \"SalePrice\":xgb_preds})\n",
        "solution.to_csv(\"ridge_sol.csv\", index = False)"
      ],
      "execution_count": null,
      "outputs": []
    },
    {
      "cell_type": "code",
      "metadata": {
        "execution": {
          "iopub.status.busy": "2021-09-14T03:06:14.257313Z",
          "iopub.execute_input": "2021-09-14T03:06:14.257998Z",
          "iopub.status.idle": "2021-09-14T03:06:57.056836Z",
          "shell.execute_reply.started": "2021-09-14T03:06:14.257958Z",
          "shell.execute_reply": "2021-09-14T03:06:57.056148Z"
        },
        "trusted": true,
        "id": "j7K-lpCkk7V0"
      },
      "source": [
        "estimators = [ ('elastic_net', elastic_net), ('kernel_ridge', kernel_ridge),('xgb_regressor', xgb_regressor) ]\n",
        "\n",
        "stack = StackingRegressor(estimators=estimators, final_estimator= lasso, cv= 5, n_jobs= n_jobs, passthrough = True)\n",
        "\n",
        "stack.fit(X_train, y)\n",
        "\n",
        "pred_stack = np.expm1(stack.predict(X_test))\n",
        "                \n",
        "solution = pd.DataFrame({\"id\":test.Id, \"SalePrice\":pred_stack})\n",
        "solution.to_csv(\"stack_sol.csv\", index = False)\n"
      ],
      "execution_count": null,
      "outputs": []
    }
  ]
}